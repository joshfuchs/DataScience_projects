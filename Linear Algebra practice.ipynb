{
 "cells": [
  {
   "cell_type": "markdown",
   "id": "0c1a543c",
   "metadata": {},
   "source": [
    "# Linear Algebra practice\n",
    "\n",
    "Based on Intro to Linear Algebra for ML from ML Mastery"
   ]
  },
  {
   "cell_type": "code",
   "execution_count": 1,
   "id": "59ad773c",
   "metadata": {},
   "outputs": [],
   "source": [
    "import numpy as np"
   ]
  },
  {
   "cell_type": "code",
   "execution_count": 2,
   "id": "8078f198",
   "metadata": {},
   "outputs": [
    {
     "name": "stdout",
     "output_type": "stream",
     "text": [
      "[1 2 3]\n"
     ]
    }
   ],
   "source": [
    "v = np.array([1,2,3])\n",
    "print(v)"
   ]
  },
  {
   "cell_type": "code",
   "execution_count": 4,
   "id": "335f735f",
   "metadata": {},
   "outputs": [
    {
     "name": "stdout",
     "output_type": "stream",
     "text": [
      "[ 4 10 18]\n"
     ]
    }
   ],
   "source": [
    "b = np.array([4,5,6])\n",
    "print(v*b)"
   ]
  },
  {
   "cell_type": "code",
   "execution_count": 5,
   "id": "1554f4a7",
   "metadata": {},
   "outputs": [
    {
     "name": "stdout",
     "output_type": "stream",
     "text": [
      "[5 7 9]\n"
     ]
    }
   ],
   "source": [
    "print(v+b)"
   ]
  },
  {
   "cell_type": "code",
   "execution_count": 6,
   "id": "1b20b678",
   "metadata": {},
   "outputs": [
    {
     "name": "stdout",
     "output_type": "stream",
     "text": [
      "[-3 -3 -3]\n"
     ]
    }
   ],
   "source": [
    "print(v-b)"
   ]
  },
  {
   "cell_type": "code",
   "execution_count": 7,
   "id": "a8ec9aa5",
   "metadata": {},
   "outputs": [
    {
     "name": "stdout",
     "output_type": "stream",
     "text": [
      "[0.25 0.4  0.5 ]\n"
     ]
    }
   ],
   "source": [
    "print(v/b)"
   ]
  },
  {
   "cell_type": "code",
   "execution_count": 11,
   "id": "165c1fcc",
   "metadata": {},
   "outputs": [
    {
     "name": "stdout",
     "output_type": "stream",
     "text": [
      "[0 1 0]\n"
     ]
    }
   ],
   "source": [
    "print(b % v)"
   ]
  },
  {
   "cell_type": "code",
   "execution_count": 8,
   "id": "4b726698",
   "metadata": {},
   "outputs": [
    {
     "name": "stdout",
     "output_type": "stream",
     "text": [
      "32\n"
     ]
    }
   ],
   "source": [
    "print(np.dot(v,b))"
   ]
  },
  {
   "cell_type": "code",
   "execution_count": 10,
   "id": "1c0d2ca9",
   "metadata": {},
   "outputs": [
    {
     "name": "stdout",
     "output_type": "stream",
     "text": [
      "[-3  6 -3]\n"
     ]
    }
   ],
   "source": [
    "print(np.cross(v,b))"
   ]
  },
  {
   "cell_type": "code",
   "execution_count": null,
   "id": "3887a1f8",
   "metadata": {},
   "outputs": [],
   "source": []
  }
 ],
 "metadata": {
  "kernelspec": {
   "display_name": "Python 3",
   "language": "python",
   "name": "python3"
  },
  "language_info": {
   "codemirror_mode": {
    "name": "ipython",
    "version": 3
   },
   "file_extension": ".py",
   "mimetype": "text/x-python",
   "name": "python",
   "nbconvert_exporter": "python",
   "pygments_lexer": "ipython3",
   "version": "3.8.8"
  }
 },
 "nbformat": 4,
 "nbformat_minor": 5
}
