{
 "cells": [
  {
   "cell_type": "markdown",
   "metadata": {},
   "source": [
    "# Euro Daily Exchange Rates - 1999-2021\n",
    "\n",
    "We will explore the daily Euro exchange rates between 1999 and 2021. The dataset is available on [Kaggle](https://www.kaggle.com/lsind18/euro-exchange-daily-rates-19992020)."
   ]
  },
  {
   "cell_type": "code",
   "execution_count": 1,
   "metadata": {},
   "outputs": [],
   "source": [
    "import pandas as pd\n",
    "import datetime as dt\n",
    "import matplotlib.pyplot as plt\n",
    "from matplotlib.ticker import MaxNLocator\n",
    "\n",
    "import seaborn as sns\n",
    "\n",
    "%matplotlib inline"
   ]
  },
  {
   "cell_type": "code",
   "execution_count": 2,
   "metadata": {},
   "outputs": [],
   "source": [
    "exchange_rates = pd.read_csv('euro-daily-hist_1999_2020.csv')"
   ]
  },
  {
   "cell_type": "code",
   "execution_count": 3,
   "metadata": {},
   "outputs": [
    {
     "name": "stdout",
     "output_type": "stream",
     "text": [
      "<class 'pandas.core.frame.DataFrame'>\n",
      "RangeIndex: 5699 entries, 0 to 5698\n",
      "Data columns (total 41 columns):\n",
      " #   Column                    Non-Null Count  Dtype  \n",
      "---  ------                    --------------  -----  \n",
      " 0   Period\\Unit:              5699 non-null   object \n",
      " 1   [Australian dollar ]      5699 non-null   object \n",
      " 2   [Bulgarian lev ]          5297 non-null   object \n",
      " 3   [Brazilian real ]         5431 non-null   object \n",
      " 4   [Canadian dollar ]        5699 non-null   object \n",
      " 5   [Swiss franc ]            5699 non-null   object \n",
      " 6   [Chinese yuan renminbi ]  5431 non-null   object \n",
      " 7   [Cypriot pound ]          2346 non-null   object \n",
      " 8   [Czech koruna ]           5699 non-null   object \n",
      " 9   [Danish krone ]           5699 non-null   object \n",
      " 10  [Estonian kroon ]         3130 non-null   object \n",
      " 11  [UK pound sterling ]      5699 non-null   object \n",
      " 12  [Greek drachma ]          520 non-null    object \n",
      " 13  [Hong Kong dollar ]       5699 non-null   object \n",
      " 14  [Croatian kuna ]          5431 non-null   object \n",
      " 15  [Hungarian forint ]       5699 non-null   object \n",
      " 16  [Indonesian rupiah ]      5699 non-null   object \n",
      " 17  [Israeli shekel ]         5431 non-null   object \n",
      " 18  [Indian rupee ]           5431 non-null   object \n",
      " 19  [Iceland krona ]          3292 non-null   float64\n",
      " 20  [Japanese yen ]           5699 non-null   object \n",
      " 21  [Korean won ]             5699 non-null   object \n",
      " 22  [Lithuanian litas ]       4159 non-null   object \n",
      " 23  [Latvian lats ]           3904 non-null   object \n",
      " 24  [Maltese lira ]           2346 non-null   object \n",
      " 25  [Mexican peso ]           5699 non-null   object \n",
      " 26  [Malaysian ringgit ]      5699 non-null   object \n",
      " 27  [Norwegian krone ]        5699 non-null   object \n",
      " 28  [New Zealand dollar ]     5699 non-null   object \n",
      " 29  [Philippine peso ]        5699 non-null   object \n",
      " 30  [Polish zloty ]           5699 non-null   object \n",
      " 31  [Romanian leu ]           5637 non-null   float64\n",
      " 32  [Russian rouble ]         5699 non-null   object \n",
      " 33  [Swedish krona ]          5699 non-null   object \n",
      " 34  [Singapore dollar ]       5699 non-null   object \n",
      " 35  [Slovenian tolar ]        2085 non-null   object \n",
      " 36  [Slovak koruna ]          2608 non-null   object \n",
      " 37  [Thai baht ]              5699 non-null   object \n",
      " 38  [Turkish lira ]           5637 non-null   float64\n",
      " 39  [US dollar ]              5699 non-null   object \n",
      " 40  [South African rand ]     5699 non-null   object \n",
      "dtypes: float64(3), object(38)\n",
      "memory usage: 1.8+ MB\n"
     ]
    }
   ],
   "source": [
    "exchange_rates.info()"
   ]
  },
  {
   "cell_type": "code",
   "execution_count": null,
   "metadata": {},
   "outputs": [],
   "source": []
  },
  {
   "cell_type": "code",
   "execution_count": 4,
   "metadata": {},
   "outputs": [
    {
     "data": {
      "text/html": [
       "<div>\n",
       "<style scoped>\n",
       "    .dataframe tbody tr th:only-of-type {\n",
       "        vertical-align: middle;\n",
       "    }\n",
       "\n",
       "    .dataframe tbody tr th {\n",
       "        vertical-align: top;\n",
       "    }\n",
       "\n",
       "    .dataframe thead th {\n",
       "        text-align: right;\n",
       "    }\n",
       "</style>\n",
       "<table border=\"1\" class=\"dataframe\">\n",
       "  <thead>\n",
       "    <tr style=\"text-align: right;\">\n",
       "      <th></th>\n",
       "      <th>Period\\Unit:</th>\n",
       "      <th>[Australian dollar ]</th>\n",
       "      <th>[Bulgarian lev ]</th>\n",
       "      <th>[Brazilian real ]</th>\n",
       "      <th>[Canadian dollar ]</th>\n",
       "      <th>[Swiss franc ]</th>\n",
       "      <th>[Chinese yuan renminbi ]</th>\n",
       "      <th>[Cypriot pound ]</th>\n",
       "      <th>[Czech koruna ]</th>\n",
       "      <th>[Danish krone ]</th>\n",
       "      <th>...</th>\n",
       "      <th>[Romanian leu ]</th>\n",
       "      <th>[Russian rouble ]</th>\n",
       "      <th>[Swedish krona ]</th>\n",
       "      <th>[Singapore dollar ]</th>\n",
       "      <th>[Slovenian tolar ]</th>\n",
       "      <th>[Slovak koruna ]</th>\n",
       "      <th>[Thai baht ]</th>\n",
       "      <th>[Turkish lira ]</th>\n",
       "      <th>[US dollar ]</th>\n",
       "      <th>[South African rand ]</th>\n",
       "    </tr>\n",
       "  </thead>\n",
       "  <tbody>\n",
       "    <tr>\n",
       "      <th>0</th>\n",
       "      <td>2021-01-08</td>\n",
       "      <td>1.5758</td>\n",
       "      <td>1.9558</td>\n",
       "      <td>6.5748</td>\n",
       "      <td>1.5543</td>\n",
       "      <td>1.0827</td>\n",
       "      <td>7.9184</td>\n",
       "      <td>NaN</td>\n",
       "      <td>26.163</td>\n",
       "      <td>7.4369</td>\n",
       "      <td>...</td>\n",
       "      <td>4.8708</td>\n",
       "      <td>90.8000</td>\n",
       "      <td>10.0510</td>\n",
       "      <td>1.6228</td>\n",
       "      <td>NaN</td>\n",
       "      <td>NaN</td>\n",
       "      <td>36.8480</td>\n",
       "      <td>9.0146</td>\n",
       "      <td>1.2250</td>\n",
       "      <td>18.7212</td>\n",
       "    </tr>\n",
       "    <tr>\n",
       "      <th>1</th>\n",
       "      <td>2021-01-07</td>\n",
       "      <td>1.5836</td>\n",
       "      <td>1.9558</td>\n",
       "      <td>6.5172</td>\n",
       "      <td>1.5601</td>\n",
       "      <td>1.0833</td>\n",
       "      <td>7.9392</td>\n",
       "      <td>NaN</td>\n",
       "      <td>26.147</td>\n",
       "      <td>7.4392</td>\n",
       "      <td>...</td>\n",
       "      <td>4.8712</td>\n",
       "      <td>91.2000</td>\n",
       "      <td>10.0575</td>\n",
       "      <td>1.6253</td>\n",
       "      <td>NaN</td>\n",
       "      <td>NaN</td>\n",
       "      <td>36.8590</td>\n",
       "      <td>8.9987</td>\n",
       "      <td>1.2276</td>\n",
       "      <td>18.7919</td>\n",
       "    </tr>\n",
       "    <tr>\n",
       "      <th>2</th>\n",
       "      <td>2021-01-06</td>\n",
       "      <td>1.5824</td>\n",
       "      <td>1.9558</td>\n",
       "      <td>6.5119</td>\n",
       "      <td>1.5640</td>\n",
       "      <td>1.0821</td>\n",
       "      <td>7.9653</td>\n",
       "      <td>NaN</td>\n",
       "      <td>26.145</td>\n",
       "      <td>7.4393</td>\n",
       "      <td>...</td>\n",
       "      <td>4.8720</td>\n",
       "      <td>90.8175</td>\n",
       "      <td>10.0653</td>\n",
       "      <td>1.6246</td>\n",
       "      <td>NaN</td>\n",
       "      <td>NaN</td>\n",
       "      <td>36.9210</td>\n",
       "      <td>9.0554</td>\n",
       "      <td>1.2338</td>\n",
       "      <td>18.5123</td>\n",
       "    </tr>\n",
       "    <tr>\n",
       "      <th>3</th>\n",
       "      <td>2021-01-05</td>\n",
       "      <td>1.5927</td>\n",
       "      <td>1.9558</td>\n",
       "      <td>6.5517</td>\n",
       "      <td>1.5651</td>\n",
       "      <td>1.0803</td>\n",
       "      <td>7.9315</td>\n",
       "      <td>NaN</td>\n",
       "      <td>26.227</td>\n",
       "      <td>7.4387</td>\n",
       "      <td>...</td>\n",
       "      <td>4.8721</td>\n",
       "      <td>91.6715</td>\n",
       "      <td>10.0570</td>\n",
       "      <td>1.6180</td>\n",
       "      <td>NaN</td>\n",
       "      <td>NaN</td>\n",
       "      <td>36.7760</td>\n",
       "      <td>9.0694</td>\n",
       "      <td>1.2271</td>\n",
       "      <td>18.4194</td>\n",
       "    </tr>\n",
       "    <tr>\n",
       "      <th>4</th>\n",
       "      <td>2021-01-04</td>\n",
       "      <td>1.5928</td>\n",
       "      <td>1.9558</td>\n",
       "      <td>6.3241</td>\n",
       "      <td>1.5621</td>\n",
       "      <td>1.0811</td>\n",
       "      <td>7.9484</td>\n",
       "      <td>NaN</td>\n",
       "      <td>26.141</td>\n",
       "      <td>7.4379</td>\n",
       "      <td>...</td>\n",
       "      <td>4.8713</td>\n",
       "      <td>90.3420</td>\n",
       "      <td>10.0895</td>\n",
       "      <td>1.6198</td>\n",
       "      <td>NaN</td>\n",
       "      <td>NaN</td>\n",
       "      <td>36.7280</td>\n",
       "      <td>9.0579</td>\n",
       "      <td>1.2296</td>\n",
       "      <td>17.9214</td>\n",
       "    </tr>\n",
       "  </tbody>\n",
       "</table>\n",
       "<p>5 rows × 41 columns</p>\n",
       "</div>"
      ],
      "text/plain": [
       "  Period\\Unit: [Australian dollar ] [Bulgarian lev ] [Brazilian real ]  \\\n",
       "0   2021-01-08               1.5758           1.9558            6.5748   \n",
       "1   2021-01-07               1.5836           1.9558            6.5172   \n",
       "2   2021-01-06               1.5824           1.9558            6.5119   \n",
       "3   2021-01-05               1.5927           1.9558            6.5517   \n",
       "4   2021-01-04               1.5928           1.9558            6.3241   \n",
       "\n",
       "  [Canadian dollar ] [Swiss franc ] [Chinese yuan renminbi ] [Cypriot pound ]  \\\n",
       "0             1.5543         1.0827                   7.9184              NaN   \n",
       "1             1.5601         1.0833                   7.9392              NaN   \n",
       "2             1.5640         1.0821                   7.9653              NaN   \n",
       "3             1.5651         1.0803                   7.9315              NaN   \n",
       "4             1.5621         1.0811                   7.9484              NaN   \n",
       "\n",
       "  [Czech koruna ] [Danish krone ]  ... [Romanian leu ] [Russian rouble ]  \\\n",
       "0          26.163          7.4369  ...          4.8708           90.8000   \n",
       "1          26.147          7.4392  ...          4.8712           91.2000   \n",
       "2          26.145          7.4393  ...          4.8720           90.8175   \n",
       "3          26.227          7.4387  ...          4.8721           91.6715   \n",
       "4          26.141          7.4379  ...          4.8713           90.3420   \n",
       "\n",
       "  [Swedish krona ] [Singapore dollar ] [Slovenian tolar ] [Slovak koruna ]  \\\n",
       "0          10.0510              1.6228                NaN              NaN   \n",
       "1          10.0575              1.6253                NaN              NaN   \n",
       "2          10.0653              1.6246                NaN              NaN   \n",
       "3          10.0570              1.6180                NaN              NaN   \n",
       "4          10.0895              1.6198                NaN              NaN   \n",
       "\n",
       "  [Thai baht ] [Turkish lira ] [US dollar ]  [South African rand ]  \n",
       "0      36.8480          9.0146       1.2250                18.7212  \n",
       "1      36.8590          8.9987       1.2276                18.7919  \n",
       "2      36.9210          9.0554       1.2338                18.5123  \n",
       "3      36.7760          9.0694       1.2271                18.4194  \n",
       "4      36.7280          9.0579       1.2296                17.9214  \n",
       "\n",
       "[5 rows x 41 columns]"
      ]
     },
     "execution_count": 4,
     "metadata": {},
     "output_type": "execute_result"
    }
   ],
   "source": [
    "exchange_rates.head()"
   ]
  },
  {
   "cell_type": "markdown",
   "metadata": {},
   "source": [
    "This dataset contains 5699 rows and 41 columns. Most of the values are stored as objects. The first column (Period\\Unit) lists the date. Every other column gives the exchange rate for that day to 40 other currencies. Most of the exchanges rates have minimal missing data, with the exception of:\n",
    "\n",
    "- Cypriot pound\n",
    "- Estonian kroon\n",
    "- Greek drachma\n",
    "- Iceland krona\n",
    "- Lithuanian litas\n",
    "- Latvian lats\n",
    "- Maltese liras\n",
    "- Slovenian tolar\n",
    "- Slovak koruna\n",
    "\n",
    "The majority of these countries are currently in the EU and use the Euro, so we lose their exchange rate data when they switch."
   ]
  },
  {
   "cell_type": "markdown",
   "metadata": {},
   "source": [
    "## Clean Data"
   ]
  },
  {
   "cell_type": "markdown",
   "metadata": {},
   "source": [
    "To clean the data, we do the following:\n",
    "- We rename the ```US dollar``` and ```Period\\Unit:``` columns to something easier to type — ```US_dollar``` and ```Time```.\n",
    "- We change the Time column to a datetime data type.\n",
    "- We sort the values by Time in ascending order.\n",
    "- We reset the index (and drop the initial index)."
   ]
  },
  {
   "cell_type": "code",
   "execution_count": 5,
   "metadata": {},
   "outputs": [],
   "source": [
    "exchange_rates.rename(columns={'[US dollar ]': 'US_dollar',\n",
    "                               'Period\\\\Unit:': 'Time'},\n",
    "                      inplace=True)\n",
    "exchange_rates['Time'] = pd.to_datetime(exchange_rates['Time'])\n",
    "exchange_rates.sort_values('Time', inplace=True)\n",
    "exchange_rates.reset_index(drop=True, inplace=True)"
   ]
  },
  {
   "cell_type": "code",
   "execution_count": 7,
   "metadata": {},
   "outputs": [],
   "source": [
    "#exchange_rates['Estonia_kroon'].value_counts(dropna=False)"
   ]
  },
  {
   "cell_type": "code",
   "execution_count": 6,
   "metadata": {},
   "outputs": [],
   "source": [
    "euro_to_dollar = exchange_rates[['Time','US_dollar']]"
   ]
  },
  {
   "cell_type": "code",
   "execution_count": 7,
   "metadata": {},
   "outputs": [
    {
     "data": {
      "text/plain": [
       "-         62\n",
       "1.2276     9\n",
       "1.1215     8\n",
       "1.1305     7\n",
       "1.3373     6\n",
       "          ..\n",
       "1.1567     1\n",
       "1.0483     1\n",
       "1.2781     1\n",
       "1.3045     1\n",
       "1.5694     1\n",
       "Name: US_dollar, Length: 3528, dtype: int64"
      ]
     },
     "execution_count": 7,
     "metadata": {},
     "output_type": "execute_result"
    }
   ],
   "source": [
    "euro_to_dollar['US_dollar'].value_counts()"
   ]
  },
  {
   "cell_type": "code",
   "execution_count": 8,
   "metadata": {},
   "outputs": [
    {
     "data": {
      "text/plain": [
       "1.2276    9\n",
       "1.1215    8\n",
       "1.1305    7\n",
       "1.1218    6\n",
       "1.2713    6\n",
       "         ..\n",
       "1.1241    1\n",
       "1.4501    1\n",
       "1.1319    1\n",
       "1.0894    1\n",
       "0.8528    1\n",
       "Name: US_dollar, Length: 3527, dtype: int64"
      ]
     },
     "execution_count": 8,
     "metadata": {},
     "output_type": "execute_result"
    }
   ],
   "source": [
    "\n",
    "euro_to_dollar = euro_to_dollar[euro_to_dollar['US_dollar'] != '-']\n",
    "euro_to_dollar['US_dollar'] = euro_to_dollar['US_dollar'].astype(float)\n",
    "\n",
    "euro_to_dollar['US_dollar'].value_counts()\n"
   ]
  },
  {
   "cell_type": "code",
   "execution_count": 9,
   "metadata": {},
   "outputs": [
    {
     "data": {
      "text/html": [
       "<div>\n",
       "<style scoped>\n",
       "    .dataframe tbody tr th:only-of-type {\n",
       "        vertical-align: middle;\n",
       "    }\n",
       "\n",
       "    .dataframe tbody tr th {\n",
       "        vertical-align: top;\n",
       "    }\n",
       "\n",
       "    .dataframe thead th {\n",
       "        text-align: right;\n",
       "    }\n",
       "</style>\n",
       "<table border=\"1\" class=\"dataframe\">\n",
       "  <thead>\n",
       "    <tr style=\"text-align: right;\">\n",
       "      <th></th>\n",
       "      <th>Time</th>\n",
       "      <th>US_dollar</th>\n",
       "    </tr>\n",
       "  </thead>\n",
       "  <tbody>\n",
       "    <tr>\n",
       "      <th>0</th>\n",
       "      <td>1999-01-04</td>\n",
       "      <td>1.1789</td>\n",
       "    </tr>\n",
       "    <tr>\n",
       "      <th>1</th>\n",
       "      <td>1999-01-05</td>\n",
       "      <td>1.1790</td>\n",
       "    </tr>\n",
       "    <tr>\n",
       "      <th>2</th>\n",
       "      <td>1999-01-06</td>\n",
       "      <td>1.1743</td>\n",
       "    </tr>\n",
       "    <tr>\n",
       "      <th>3</th>\n",
       "      <td>1999-01-07</td>\n",
       "      <td>1.1632</td>\n",
       "    </tr>\n",
       "    <tr>\n",
       "      <th>4</th>\n",
       "      <td>1999-01-08</td>\n",
       "      <td>1.1659</td>\n",
       "    </tr>\n",
       "  </tbody>\n",
       "</table>\n",
       "</div>"
      ],
      "text/plain": [
       "        Time  US_dollar\n",
       "0 1999-01-04     1.1789\n",
       "1 1999-01-05     1.1790\n",
       "2 1999-01-06     1.1743\n",
       "3 1999-01-07     1.1632\n",
       "4 1999-01-08     1.1659"
      ]
     },
     "execution_count": 9,
     "metadata": {},
     "output_type": "execute_result"
    }
   ],
   "source": [
    "euro_to_dollar.head()"
   ]
  },
  {
   "cell_type": "markdown",
   "metadata": {},
   "source": [
    "### Rolling Mean"
   ]
  },
  {
   "cell_type": "code",
   "execution_count": 10,
   "metadata": {},
   "outputs": [
    {
     "data": {
      "text/html": [
       "<div>\n",
       "<style scoped>\n",
       "    .dataframe tbody tr th:only-of-type {\n",
       "        vertical-align: middle;\n",
       "    }\n",
       "\n",
       "    .dataframe tbody tr th {\n",
       "        vertical-align: top;\n",
       "    }\n",
       "\n",
       "    .dataframe thead th {\n",
       "        text-align: right;\n",
       "    }\n",
       "</style>\n",
       "<table border=\"1\" class=\"dataframe\">\n",
       "  <thead>\n",
       "    <tr style=\"text-align: right;\">\n",
       "      <th></th>\n",
       "      <th>Time</th>\n",
       "      <th>US_dollar</th>\n",
       "      <th>rolling_mean_30</th>\n",
       "    </tr>\n",
       "  </thead>\n",
       "  <tbody>\n",
       "    <tr>\n",
       "      <th>0</th>\n",
       "      <td>1999-01-04</td>\n",
       "      <td>1.1789</td>\n",
       "      <td>NaN</td>\n",
       "    </tr>\n",
       "    <tr>\n",
       "      <th>1</th>\n",
       "      <td>1999-01-05</td>\n",
       "      <td>1.1790</td>\n",
       "      <td>NaN</td>\n",
       "    </tr>\n",
       "    <tr>\n",
       "      <th>2</th>\n",
       "      <td>1999-01-06</td>\n",
       "      <td>1.1743</td>\n",
       "      <td>NaN</td>\n",
       "    </tr>\n",
       "    <tr>\n",
       "      <th>3</th>\n",
       "      <td>1999-01-07</td>\n",
       "      <td>1.1632</td>\n",
       "      <td>NaN</td>\n",
       "    </tr>\n",
       "    <tr>\n",
       "      <th>4</th>\n",
       "      <td>1999-01-08</td>\n",
       "      <td>1.1659</td>\n",
       "      <td>NaN</td>\n",
       "    </tr>\n",
       "  </tbody>\n",
       "</table>\n",
       "</div>"
      ],
      "text/plain": [
       "        Time  US_dollar  rolling_mean_30\n",
       "0 1999-01-04     1.1789              NaN\n",
       "1 1999-01-05     1.1790              NaN\n",
       "2 1999-01-06     1.1743              NaN\n",
       "3 1999-01-07     1.1632              NaN\n",
       "4 1999-01-08     1.1659              NaN"
      ]
     },
     "execution_count": 10,
     "metadata": {},
     "output_type": "execute_result"
    }
   ],
   "source": [
    "euro_to_dollar['rolling_mean_30'] = euro_to_dollar['US_dollar'].rolling(30).mean()\n",
    "\n",
    "euro_to_dollar.head(5)"
   ]
  },
  {
   "cell_type": "markdown",
   "metadata": {},
   "source": [
    "### Exchange Rate by US President and UK Prime Minister"
   ]
  },
  {
   "cell_type": "markdown",
   "metadata": {},
   "source": [
    "Storytelling idea: show how the Euro-US dollar rate changed over the three previous presidents and five previous UK prime ministers.\n",
    "\n",
    "- Bush (2001 - 2009)\n",
    "- Obama (2009 - 2017)\n",
    "- Trump (2017 - 2021)\n",
    "\n",
    "- Blair (1997 - 2007)\n",
    "- Brown (2007 - 2010)\n",
    "- Cameron (2010 - 2016)\n",
    "- May (2016 - 2019)\n",
    "- Johnson (2019 - present)\n",
    "\n"
   ]
  },
  {
   "cell_type": "code",
   "execution_count": 69,
   "metadata": {},
   "outputs": [
    {
     "data": {
      "image/png": "[encoded data removed]",
      "text/plain": [
       "<Figure size 432x288 with 1 Axes>"
      ]
     },
     "metadata": {
      "needs_background": "light"
     },
     "output_type": "display_data"
    }
   ],
   "source": [
    "# visualze whole data set\n",
    "\n",
    "plt.plot(euro_to_dollar['Time'],euro_to_dollar['rolling_mean_30'])\n",
    "plt.show()"
   ]
  },
  {
   "cell_type": "code",
   "execution_count": 12,
   "metadata": {},
   "outputs": [
    {
     "data": {
      "text/html": [
       "<div>\n",
       "<style scoped>\n",
       "    .dataframe tbody tr th:only-of-type {\n",
       "        vertical-align: middle;\n",
       "    }\n",
       "\n",
       "    .dataframe tbody tr th {\n",
       "        vertical-align: top;\n",
       "    }\n",
       "\n",
       "    .dataframe thead th {\n",
       "        text-align: right;\n",
       "    }\n",
       "</style>\n",
       "<table border=\"1\" class=\"dataframe\">\n",
       "  <thead>\n",
       "    <tr style=\"text-align: right;\">\n",
       "      <th></th>\n",
       "      <th>Time</th>\n",
       "      <th>US_dollar</th>\n",
       "      <th>rolling_mean_30</th>\n",
       "    </tr>\n",
       "  </thead>\n",
       "  <tbody>\n",
       "    <tr>\n",
       "      <th>2616</th>\n",
       "      <td>2009-01-13</td>\n",
       "      <td>1.3262</td>\n",
       "      <td>1.344990</td>\n",
       "    </tr>\n",
       "    <tr>\n",
       "      <th>2617</th>\n",
       "      <td>2009-01-14</td>\n",
       "      <td>1.3173</td>\n",
       "      <td>1.346477</td>\n",
       "    </tr>\n",
       "    <tr>\n",
       "      <th>2618</th>\n",
       "      <td>2009-01-15</td>\n",
       "      <td>1.3085</td>\n",
       "      <td>1.348067</td>\n",
       "    </tr>\n",
       "    <tr>\n",
       "      <th>2619</th>\n",
       "      <td>2009-01-16</td>\n",
       "      <td>1.3270</td>\n",
       "      <td>1.349977</td>\n",
       "    </tr>\n",
       "    <tr>\n",
       "      <th>2620</th>\n",
       "      <td>2009-01-19</td>\n",
       "      <td>1.3182</td>\n",
       "      <td>1.351840</td>\n",
       "    </tr>\n",
       "  </tbody>\n",
       "</table>\n",
       "</div>"
      ],
      "text/plain": [
       "           Time  US_dollar  rolling_mean_30\n",
       "2616 2009-01-13     1.3262         1.344990\n",
       "2617 2009-01-14     1.3173         1.346477\n",
       "2618 2009-01-15     1.3085         1.348067\n",
       "2619 2009-01-16     1.3270         1.349977\n",
       "2620 2009-01-19     1.3182         1.351840"
      ]
     },
     "execution_count": 12,
     "metadata": {},
     "output_type": "execute_result"
    }
   ],
   "source": [
    "# select only the data related to the time periods in question\n",
    "# Bush became president on Jan 20, 2000, so that will be our first date\n",
    "# the dataset ends on Jan 8 2021, which is ~12 days before Trump left office\n",
    "# we will let the dataset end their\n",
    "\n",
    "presidents = euro_to_dollar[euro_to_dollar['Time'] > dt.datetime(2001, 1, 20)]\n",
    "\n",
    "# create 3 separate dataframes for each president\n",
    "bush = presidents[(presidents['Time'] >= dt.datetime(2001, 1, 20)) \n",
    "                 & (presidents['Time'] < dt.datetime(2009, 1, 20))]\n",
    "obama = presidents[(presidents['Time'] >= dt.datetime(2009, 1, 20)) \n",
    "                 & (presidents['Time'] < dt.datetime(2017, 1, 20))]\n",
    "trump = presidents[(presidents['Time'] >= dt.datetime(2017, 1, 20)) \n",
    "                 & (presidents['Time'] < dt.datetime(2021, 1, 8))]\n",
    "\n",
    "bush.tail()"
   ]
  },
  {
   "cell_type": "code",
   "execution_count": 41,
   "metadata": {},
   "outputs": [
    {
     "data": {
      "text/html": [
       "<div>\n",
       "<style scoped>\n",
       "    .dataframe tbody tr th:only-of-type {\n",
       "        vertical-align: middle;\n",
       "    }\n",
       "\n",
       "    .dataframe tbody tr th {\n",
       "        vertical-align: top;\n",
       "    }\n",
       "\n",
       "    .dataframe thead th {\n",
       "        text-align: right;\n",
       "    }\n",
       "</style>\n",
       "<table border=\"1\" class=\"dataframe\">\n",
       "  <thead>\n",
       "    <tr style=\"text-align: right;\">\n",
       "      <th></th>\n",
       "      <th>Time</th>\n",
       "      <th>US_dollar</th>\n",
       "      <th>rolling_mean_30</th>\n",
       "    </tr>\n",
       "  </thead>\n",
       "  <tbody>\n",
       "    <tr>\n",
       "      <th>5693</th>\n",
       "      <td>2020-12-31</td>\n",
       "      <td>1.2271</td>\n",
       "      <td>1.209623</td>\n",
       "    </tr>\n",
       "    <tr>\n",
       "      <th>5694</th>\n",
       "      <td>2021-01-04</td>\n",
       "      <td>1.2296</td>\n",
       "      <td>1.211170</td>\n",
       "    </tr>\n",
       "    <tr>\n",
       "      <th>5695</th>\n",
       "      <td>2021-01-05</td>\n",
       "      <td>1.2271</td>\n",
       "      <td>1.212530</td>\n",
       "    </tr>\n",
       "    <tr>\n",
       "      <th>5696</th>\n",
       "      <td>2021-01-06</td>\n",
       "      <td>1.2338</td>\n",
       "      <td>1.213987</td>\n",
       "    </tr>\n",
       "    <tr>\n",
       "      <th>5697</th>\n",
       "      <td>2021-01-07</td>\n",
       "      <td>1.2276</td>\n",
       "      <td>1.215357</td>\n",
       "    </tr>\n",
       "  </tbody>\n",
       "</table>\n",
       "</div>"
      ],
      "text/plain": [
       "           Time  US_dollar  rolling_mean_30\n",
       "5693 2020-12-31     1.2271         1.209623\n",
       "5694 2021-01-04     1.2296         1.211170\n",
       "5695 2021-01-05     1.2271         1.212530\n",
       "5696 2021-01-06     1.2338         1.213987\n",
       "5697 2021-01-07     1.2276         1.215357"
      ]
     },
     "execution_count": 41,
     "metadata": {},
     "output_type": "execute_result"
    }
   ],
   "source": [
    "trump.tail()"
   ]
  },
  {
   "cell_type": "code",
   "execution_count": 107,
   "metadata": {},
   "outputs": [
    {
     "data": {
      "image/png": "[encoded data removed]",
      "text/plain": [
       "<Figure size 792x432 with 1 Axes>"
      ]
     },
     "metadata": {
      "needs_background": "light"
     },
     "output_type": "display_data"
    }
   ],
   "source": [
    "fig, ax = plt.subplots(figsize=(11,6))\n",
    "\n",
    "ax.plot(bush['Time'],bush['rolling_mean_30'], color = 'lightcoral',\n",
    "       linewidth=4)\n",
    "ax.plot(obama['Time'],obama['rolling_mean_30'], color = 'goldenrod',\n",
    "       linewidth=4)\n",
    "ax.plot(trump['Time'],trump['rolling_mean_30'], color = 'cornflowerblue',\n",
    "       linewidth=4)\n",
    "\n",
    "\n",
    "for location in ['left', 'right', 'top', 'bottom']:\n",
    "    ax.spines[location].set_visible(False)\n",
    "ax.tick_params(top=False, left=False, bottom=False)\n",
    "ax.grid(axis='y',color='lightgray')\n",
    "ax.set_xticklabels([])\n",
    "ax.tick_params(axis='y', which='major', labelsize=15)\n",
    "\n",
    "ax.text(11015, 1.85, 'Euro To US Dollar Exchange Rate', color='black', alpha=0.8,\n",
    "       fontsize='22', weight='bold')\n",
    "ax.text(11015, 1.77, 'By US President (color) and UK Prime Minister (shaded) ', color='black', alpha=0.8,\n",
    "       fontsize='16', weight='bold')\n",
    "ax.text(11015, 1.7, '2001-2021', color = 'black', alpha = 0.8, fontsize='14', weight='bold')\n",
    "\n",
    "plt.axvspan(dt.datetime(2001, 1, 15), dt.datetime(2007, 6, 27), color='grey', alpha=0.4) # tony blair\n",
    "plt.axvspan(dt.datetime(2007, 6, 27), dt.datetime(2010, 5, 11), color='grey', alpha=0.1) # gordon brown\n",
    "plt.axvspan(dt.datetime(2010, 5, 11), dt.datetime(2016, 7, 13), color='grey', alpha=0.4) # david cameron\n",
    "plt.axvspan(dt.datetime(2016, 7, 13), dt.datetime(2019, 7, 24), color='grey', alpha=0.1) # theresa may\n",
    "plt.axvspan(dt.datetime(2019, 7, 24), dt.datetime(2021, 1, 7), color='grey', alpha=0.4) # boris johnson\n",
    "\n",
    "ax.text(12215, 0.76, 'Blair', color = 'grey', alpha = 1, fontsize='16', weight='bold')\n",
    "ax.text(13815, 0.76, 'Brown', color = 'grey', alpha = 0.8, fontsize='16', weight='bold')\n",
    "ax.text(15415, 0.76, 'Cameron', color = 'grey', alpha = 1, fontsize='16', weight='bold')\n",
    "ax.text(17315, 0.76, 'May', color = 'grey', alpha = 0.8, fontsize='16', weight='bold')\n",
    "ax.text(18015, 0.76, 'Johnson', color = 'grey', alpha = 1, fontsize='16', weight='bold')\n",
    "\n",
    "ax.text(12615, 1.62, 'Bush', color = 'lightcoral', fontsize='16', weight='bold')\n",
    "ax.text(15415, 1.62, 'Obama', color = 'goldenrod', fontsize='16', weight='bold')\n",
    "ax.text(17515, 1.62, 'Trump', color = 'cornflowerblue', fontsize='16', weight='bold')\n",
    "\n",
    "\n",
    "plt.show()"
   ]
  },
  {
   "cell_type": "code",
   "execution_count": null,
   "metadata": {},
   "outputs": [],
   "source": []
  },
  {
   "cell_type": "markdown",
   "metadata": {},
   "source": [
    "### Year before joining EU\n",
    "\n",
    "Now, let's examine how the exchange rates changed in the last year for countries joining the EU. \n",
    "\n",
    "The dataset runs from January 1999 until January 2021. From the EU website, here is the timeline of countries joining:\n",
    "\n",
    "- January 5, 2004 - Czech Republic, Estonia, Cyprus, Latvia, Lithuania, Hungary, Malta, Poland, Slovakia, and Slovenia\n",
    "- January 1, 2007 - Romania and Bulgaria\n",
    "- January 7, 2013 - Croatia\n",
    "\n",
    "Not all of these countries have adopted the Euro. These are the Czech Republic, \n",
    "\n",
    "Here is the mapping of country to column name\n",
    "- Czech Republic : Czech koruna\n",
    "- Estonia : Estonian kroon\n",
    "- Cyprus : Cypriot pound\n",
    "- Latvia : Latvian lats\n",
    "- Lithuania : Lithuanian litas\n",
    "- Hungary : Hungarian forint\n",
    "- Malta : Maltese lira\n",
    "- Poland : Polish zloty\n",
    "- Slovakia : Slovak koruna\n",
    "- Slovenia : Slovenian tolar\n",
    "- Romania : Romanian leu\n",
    "- Bulgaria : Bulgarian lev\n",
    "- Croatia : Croatian kuna\n",
    "\n",
    "\n",
    "Estonia has incomplete data, indicated by having a single, constant value. Therefore, we will drop Estonia from this analysis.\n",
    "\n",
    "Poland, Bulgaria, and Lithuania are also missing data in the year before they joined, so we will exclude them as well.\n"
   ]
  },
  {
   "cell_type": "code",
   "execution_count": 14,
   "metadata": {},
   "outputs": [
    {
     "data": {
      "text/plain": [
       "Index(['Time', '[Australian dollar ]', '[Bulgarian lev ]', '[Brazilian real ]',\n",
       "       '[Canadian dollar ]', '[Swiss franc ]', '[Chinese yuan renminbi ]',\n",
       "       '[Cypriot pound ]', '[Czech koruna ]', '[Danish krone ]',\n",
       "       '[Estonian kroon ]', '[UK pound sterling ]', '[Greek drachma ]',\n",
       "       '[Hong Kong dollar ]', '[Croatian kuna ]', '[Hungarian forint ]',\n",
       "       '[Indonesian rupiah ]', '[Israeli shekel ]', '[Indian rupee ]',\n",
       "       '[Iceland krona ]', '[Japanese yen ]', '[Korean won ]',\n",
       "       '[Lithuanian litas ]', '[Latvian lats ]', '[Maltese lira ]',\n",
       "       '[Mexican peso ]', '[Malaysian ringgit ]', '[Norwegian krone ]',\n",
       "       '[New Zealand dollar ]', '[Philippine peso ]', '[Polish zloty ]',\n",
       "       '[Romanian leu ]', '[Russian rouble ]', '[Swedish krona ]',\n",
       "       '[Singapore dollar ]', '[Slovenian tolar ]', '[Slovak koruna ]',\n",
       "       '[Thai baht ]', '[Turkish lira ]', 'US_dollar',\n",
       "       '[South African rand ]'],\n",
       "      dtype='object')"
      ]
     },
     "execution_count": 14,
     "metadata": {},
     "output_type": "execute_result"
    }
   ],
   "source": [
    "exchange_rates.columns\n"
   ]
  },
  {
   "cell_type": "markdown",
   "metadata": {},
   "source": [
    "#### Clean Data"
   ]
  },
  {
   "cell_type": "markdown",
   "metadata": {},
   "source": [
    "To clean the data, we do the following:\n",
    "- We rename each colum to ```country_unit```.\n",
    "- We performa a rolling average of 15 to smooth out the data\n"
   ]
  },
  {
   "cell_type": "code",
   "execution_count": 15,
   "metadata": {},
   "outputs": [],
   "source": [
    "\n",
    "old_names = ['[Czech koruna ]', '[Cypriot pound ]',\n",
    "            '[Latvian lats ]', '[Hungarian forint ]',\n",
    "            '[Maltese lira ]', '[Slovak koruna ]',\n",
    "            '[Slovenian tolar ]', '[Romanian leu ]',\n",
    "            '[Croatian kuna ]']\n",
    "\n",
    "new_names = ['Czech_koruna', 'Cyprus_pound',\n",
    "            'Latvia_lats', 'Hungary_forint',\n",
    "            'Malta_lira', 'Slovakia_koruna',\n",
    "            'Slovenia_tolar', 'Romania_leu',\n",
    "            'Croatia_kuna']\n",
    "\n",
    "date_joined = [dt.datetime(2004,1,5),\n",
    "               dt.datetime(2004,1,5),\n",
    "               dt.datetime(2004,1,5),\n",
    "               dt.datetime(2004,1,5),\n",
    "               dt.datetime(2004,1,5),\n",
    "               dt.datetime(2004,1,5),\n",
    "               dt.datetime(2004,1,5),\n",
    "               dt.datetime(2007,1,1),\n",
    "               dt.datetime(2013,1,7)\n",
    "              ]\n",
    "\n",
    "\n",
    "#- January 5, 2004 - Czech Republic, , Cyprus, Latvia, , \n",
    "#                    Hungary, Malta, , Slovakia, and Slovenia\n",
    "#- January 1, 2007 - Romania and \n",
    "#- January 7, 2013 - Croatia\n",
    "\n",
    "\n",
    "for old, new in zip(old_names, new_names):\n",
    "    exchange_rates.rename(columns={old: new},\n",
    "                      inplace=True)\n",
    "    \n",
    "#exchange_rates[rolling] = exchange_rates[new].rolling(15).mean()\n",
    "\n",
    "    \n",
    "\n",
    "#exchange_rates.columns"
   ]
  },
  {
   "cell_type": "code",
   "execution_count": 68,
   "metadata": {},
   "outputs": [
    {
     "data": {
      "image/png": "[encoded data removed]",
      "text/plain": [
       "<Figure size 864x576 with 9 Axes>"
      ]
     },
     "metadata": {
      "needs_background": "light"
     },
     "output_type": "display_data"
    }
   ],
   "source": [
    "\n",
    "fig, axes = plt.subplots(ncols = 3, nrows = 3,\n",
    "                        figsize=(12,8))\n",
    "\n",
    "ax1, ax2, ax3, ax4, ax5, ax6, ax7, ax8, ax9 = axes.flatten() \n",
    "\n",
    "ax_list = [ax1, ax2, ax3, ax4, ax5, ax6, ax7,\n",
    "      ax8, ax9]\n",
    "\n",
    "\n",
    "for ax, country, join_date in zip(ax_list, new_names, date_joined):\n",
    "    \n",
    "    # create a new dataframe with just times and rolling weekly average\n",
    "    this_country = exchange_rates[['Time',country]]\n",
    "    this_country = this_country[this_country[country] != '-']\n",
    "    this_country[country] = this_country[country].astype(float)\n",
    "    this_country['rolling_mean'] = this_country[country].rolling(7).mean()\n",
    "\n",
    "    # use the date each country joined the EU to select only the data \n",
    "    # from the previous year\n",
    "    year_before_join = join_date - dt.timedelta(days=365)\n",
    "\n",
    "    this_country = this_country[(this_country['Time'] > year_before_join) & \n",
    "                                (this_country['Time'] < join_date)]\n",
    "    \n",
    "    #bush = presidents[(presidents['Time'] >= dt.datetime(2001, 1, 20)) \n",
    "    #             & (presidents['Time'] < dt.datetime(2009, 1, 20))]\n",
    "\n",
    "    \n",
    "    ax.plot(this_country['Time'],this_country[country],\n",
    "            color='lightcoral',linewidth=2.5)\n",
    "    ax.yaxis.set_major_locator(MaxNLocator(3)) \n",
    "\n",
    "    \n",
    "    plot_title = country.split('_')\n",
    "    if plot_title[0] == 'Czech':\n",
    "        plot_title[0] = 'Czech Republic'\n",
    "    ax.set_title(plot_title[0],fontsize=16)\n",
    "\n",
    "    for location in ['left', 'right', 'top', 'bottom']:\n",
    "        ax.spines[location].set_visible(False)\n",
    "    ax.tick_params(top=False, left=False, bottom=False)\n",
    "    #ax.grid(axis='y',color='lightgray')\n",
    "    ax.set_xticklabels([])\n",
    "    ax.tick_params(axis='y', which='major', labelsize=13)\n",
    "\n",
    "\n",
    "\n",
    "#plt.plot(exchange_rates['Time'],exchange_rates['Czech_koruna'])\n",
    "ax1.text(dt.datetime(2003,1,4),33.6,'Exchange rates 1 year prior to joining the EU',\n",
    "        fontsize=18,weight='bold')\n",
    "plt.show()"
   ]
  },
  {
   "cell_type": "code",
   "execution_count": null,
   "metadata": {},
   "outputs": [],
   "source": []
  },
  {
   "cell_type": "code",
   "execution_count": null,
   "metadata": {},
   "outputs": [],
   "source": []
  },
  {
   "cell_type": "code",
   "execution_count": null,
   "metadata": {},
   "outputs": [],
   "source": []
  }
 ],
 "metadata": {
  "kernelspec": {
   "display_name": "Python 3",
   "language": "python",
   "name": "python3"
  },
  "language_info": {
   "codemirror_mode": {
    "name": "ipython",
    "version": 3
   },
   "file_extension": ".py",
   "mimetype": "text/x-python",
   "name": "python",
   "nbconvert_exporter": "python",
   "pygments_lexer": "ipython3",
   "version": "3.8.8"
  }
 },
 "nbformat": 4,
 "nbformat_minor": 4
}
