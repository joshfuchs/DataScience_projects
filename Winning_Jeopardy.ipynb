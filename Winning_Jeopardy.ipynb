{
 "cells": [
  {
   "cell_type": "markdown",
   "metadata": {
    "collapsed": true
   },
   "source": [
    "# Winning Jeopardy\n",
    "\n",
    "Jeopardy is a popular TV show in the US where participants pose questions to the given answers to win money. For this project, let's imagine we want to compete on Jeopardy and we're looking for any way to win. We will work with a set of Jeopardy questions to determine some patterns in the questions that could help us wing. \n",
    "\n",
    "## Dataset\n",
    "\n",
    "The datasest contains 20000 rows and is available [here](https://www.reddit.com/r/datasets/comments/1uyd0t/200000_jeopardy_questions_in_a_json_file). Each row represents a single question on a single episode of Jeopardy. The columns are\n",
    "\n",
    "- ```Show Number``` - the Jeopardy episode number\n",
    "- ```Air Date``` - the date the episode aired\n",
    "- ```Round``` - the round of Jeopardy\n",
    "- ```Category``` - the category of the question\n",
    "- ```Value``` - the number of dollars the correct answer is worth\n",
    "- ```Question``` - the text of the question\n",
    "- ```Answer``` - the text of the answer\n"
   ]
  },
  {
   "cell_type": "code",
   "execution_count": 1,
   "metadata": {
    "collapsed": true
   },
   "outputs": [],
   "source": [
    "import pandas as pd\n",
    "import numpy as np\n",
    "import re\n",
    "from scipy.stats import chisquare\n",
    "import matplotlib.pyplot as plt\n",
    "import seaborn as sns\n",
    "\n",
    "plt.style.use('seaborn-whitegrid')\n",
    "plt.rc('figure', autolayout=True)\n",
    "plt.rc(\n",
    "    'axes',\n",
    "    labelweight='bold',\n",
    "    labelsize='large',\n",
    "    titleweight='bold',\n",
    "    titlesize=14\n",
    "    )\n",
    "\n",
    "\n",
    "% matplotlib inline"
   ]
  },
  {
   "cell_type": "code",
   "execution_count": 2,
   "metadata": {
    "collapsed": true
   },
   "outputs": [],
   "source": [
    "jeopardy = pd.read_csv('jeopardy.csv')"
   ]
  },
  {
   "cell_type": "code",
   "execution_count": 3,
   "metadata": {
    "collapsed": false
   },
   "outputs": [
    {
     "data": {
      "text/html": [
       "<div>\n",
       "<style scoped>\n",
       "    .dataframe tbody tr th:only-of-type {\n",
       "        vertical-align: middle;\n",
       "    }\n",
       "\n",
       "    .dataframe tbody tr th {\n",
       "        vertical-align: top;\n",
       "    }\n",
       "\n",
       "    .dataframe thead th {\n",
       "        text-align: right;\n",
       "    }\n",
       "</style>\n",
       "<table border=\"1\" class=\"dataframe\">\n",
       "  <thead>\n",
       "    <tr style=\"text-align: right;\">\n",
       "      <th></th>\n",
       "      <th>Show Number</th>\n",
       "      <th>Air Date</th>\n",
       "      <th>Round</th>\n",
       "      <th>Category</th>\n",
       "      <th>Value</th>\n",
       "      <th>Question</th>\n",
       "      <th>Answer</th>\n",
       "    </tr>\n",
       "  </thead>\n",
       "  <tbody>\n",
       "    <tr>\n",
       "      <th>0</th>\n",
       "      <td>4680</td>\n",
       "      <td>2004-12-31</td>\n",
       "      <td>Jeopardy!</td>\n",
       "      <td>HISTORY</td>\n",
       "      <td>$200</td>\n",
       "      <td>For the last 8 years of his life, Galileo was ...</td>\n",
       "      <td>Copernicus</td>\n",
       "    </tr>\n",
       "    <tr>\n",
       "      <th>1</th>\n",
       "      <td>4680</td>\n",
       "      <td>2004-12-31</td>\n",
       "      <td>Jeopardy!</td>\n",
       "      <td>ESPN's TOP 10 ALL-TIME ATHLETES</td>\n",
       "      <td>$200</td>\n",
       "      <td>No. 2: 1912 Olympian; football star at Carlisl...</td>\n",
       "      <td>Jim Thorpe</td>\n",
       "    </tr>\n",
       "    <tr>\n",
       "      <th>2</th>\n",
       "      <td>4680</td>\n",
       "      <td>2004-12-31</td>\n",
       "      <td>Jeopardy!</td>\n",
       "      <td>EVERYBODY TALKS ABOUT IT...</td>\n",
       "      <td>$200</td>\n",
       "      <td>The city of Yuma in this state has a record av...</td>\n",
       "      <td>Arizona</td>\n",
       "    </tr>\n",
       "    <tr>\n",
       "      <th>3</th>\n",
       "      <td>4680</td>\n",
       "      <td>2004-12-31</td>\n",
       "      <td>Jeopardy!</td>\n",
       "      <td>THE COMPANY LINE</td>\n",
       "      <td>$200</td>\n",
       "      <td>In 1963, live on \"The Art Linkletter Show\", th...</td>\n",
       "      <td>McDonald's</td>\n",
       "    </tr>\n",
       "    <tr>\n",
       "      <th>4</th>\n",
       "      <td>4680</td>\n",
       "      <td>2004-12-31</td>\n",
       "      <td>Jeopardy!</td>\n",
       "      <td>EPITAPHS &amp; TRIBUTES</td>\n",
       "      <td>$200</td>\n",
       "      <td>Signer of the Dec. of Indep., framer of the Co...</td>\n",
       "      <td>John Adams</td>\n",
       "    </tr>\n",
       "  </tbody>\n",
       "</table>\n",
       "</div>"
      ],
      "text/plain": [
       "   Show Number    Air Date      Round                         Category  Value  \\\n",
       "0         4680  2004-12-31  Jeopardy!                          HISTORY   $200   \n",
       "1         4680  2004-12-31  Jeopardy!  ESPN's TOP 10 ALL-TIME ATHLETES   $200   \n",
       "2         4680  2004-12-31  Jeopardy!      EVERYBODY TALKS ABOUT IT...   $200   \n",
       "3         4680  2004-12-31  Jeopardy!                 THE COMPANY LINE   $200   \n",
       "4         4680  2004-12-31  Jeopardy!              EPITAPHS & TRIBUTES   $200   \n",
       "\n",
       "                                            Question      Answer  \n",
       "0  For the last 8 years of his life, Galileo was ...  Copernicus  \n",
       "1  No. 2: 1912 Olympian; football star at Carlisl...  Jim Thorpe  \n",
       "2  The city of Yuma in this state has a record av...     Arizona  \n",
       "3  In 1963, live on \"The Art Linkletter Show\", th...  McDonald's  \n",
       "4  Signer of the Dec. of Indep., framer of the Co...  John Adams  "
      ]
     },
     "execution_count": 3,
     "metadata": {},
     "output_type": "execute_result"
    }
   ],
   "source": [
    "jeopardy.head()"
   ]
  },
  {
   "cell_type": "code",
   "execution_count": 4,
   "metadata": {
    "collapsed": false
   },
   "outputs": [
    {
     "data": {
      "text/plain": [
       "Index(['Show Number', ' Air Date', ' Round', ' Category', ' Value',\n",
       "       ' Question', ' Answer'],\n",
       "      dtype='object')"
      ]
     },
     "execution_count": 4,
     "metadata": {},
     "output_type": "execute_result"
    }
   ],
   "source": [
    "jeopardy.columns"
   ]
  },
  {
   "cell_type": "code",
   "execution_count": 5,
   "metadata": {
    "collapsed": false
   },
   "outputs": [
    {
     "data": {
      "text/plain": [
       "Index(['ShowNumber', 'AirDate', 'Round', 'Category', 'Value', 'Question',\n",
       "       'Answer'],\n",
       "      dtype='object')"
      ]
     },
     "execution_count": 5,
     "metadata": {},
     "output_type": "execute_result"
    }
   ],
   "source": [
    "# let's remove the spaces in the column names, including\n",
    "# some leading spaces\n",
    "\n",
    "jeopardy.rename(columns={'Show Number': 'ShowNumber',\n",
    "                       ' Air Date': 'AirDate',\n",
    "                        ' Round': 'Round',\n",
    "                        ' Category': 'Category',\n",
    "                        ' Value': 'Value',\n",
    "                        ' Question': 'Question',\n",
    "                        ' Answer': 'Answer'},inplace=True)\n",
    "\n",
    "jeopardy.columns"
   ]
  },
  {
   "cell_type": "code",
   "execution_count": 6,
   "metadata": {
    "collapsed": false
   },
   "outputs": [
    {
     "data": {
      "text/plain": [
       "ShowNumber     int64\n",
       "AirDate       object\n",
       "Round         object\n",
       "Category      object\n",
       "Value         object\n",
       "Question      object\n",
       "Answer        object\n",
       "dtype: object"
      ]
     },
     "execution_count": 6,
     "metadata": {},
     "output_type": "execute_result"
    }
   ],
   "source": [
    "jeopardy.dtypes"
   ]
  },
  {
   "cell_type": "code",
   "execution_count": 7,
   "metadata": {
    "collapsed": false
   },
   "outputs": [
    {
     "data": {
      "text/html": [
       "<div>\n",
       "<style scoped>\n",
       "    .dataframe tbody tr th:only-of-type {\n",
       "        vertical-align: middle;\n",
       "    }\n",
       "\n",
       "    .dataframe tbody tr th {\n",
       "        vertical-align: top;\n",
       "    }\n",
       "\n",
       "    .dataframe thead th {\n",
       "        text-align: right;\n",
       "    }\n",
       "</style>\n",
       "<table border=\"1\" class=\"dataframe\">\n",
       "  <thead>\n",
       "    <tr style=\"text-align: right;\">\n",
       "      <th></th>\n",
       "      <th>ShowNumber</th>\n",
       "    </tr>\n",
       "  </thead>\n",
       "  <tbody>\n",
       "    <tr>\n",
       "      <th>count</th>\n",
       "      <td>19999.000000</td>\n",
       "    </tr>\n",
       "    <tr>\n",
       "      <th>mean</th>\n",
       "      <td>4312.730537</td>\n",
       "    </tr>\n",
       "    <tr>\n",
       "      <th>std</th>\n",
       "      <td>1374.121672</td>\n",
       "    </tr>\n",
       "    <tr>\n",
       "      <th>min</th>\n",
       "      <td>10.000000</td>\n",
       "    </tr>\n",
       "    <tr>\n",
       "      <th>25%</th>\n",
       "      <td>3393.000000</td>\n",
       "    </tr>\n",
       "    <tr>\n",
       "      <th>50%</th>\n",
       "      <td>4582.000000</td>\n",
       "    </tr>\n",
       "    <tr>\n",
       "      <th>75%</th>\n",
       "      <td>5431.000000</td>\n",
       "    </tr>\n",
       "    <tr>\n",
       "      <th>max</th>\n",
       "      <td>6294.000000</td>\n",
       "    </tr>\n",
       "  </tbody>\n",
       "</table>\n",
       "</div>"
      ],
      "text/plain": [
       "         ShowNumber\n",
       "count  19999.000000\n",
       "mean    4312.730537\n",
       "std     1374.121672\n",
       "min       10.000000\n",
       "25%     3393.000000\n",
       "50%     4582.000000\n",
       "75%     5431.000000\n",
       "max     6294.000000"
      ]
     },
     "execution_count": 7,
     "metadata": {},
     "output_type": "execute_result"
    }
   ],
   "source": [
    "jeopardy.describe()"
   ]
  },
  {
   "cell_type": "code",
   "execution_count": 8,
   "metadata": {
    "collapsed": false
   },
   "outputs": [
    {
     "data": {
      "text/plain": [
       "$400       3892\n",
       "$800       2980\n",
       "$200       2784\n",
       "$600       1890\n",
       "$1000      1796\n",
       "$2000      1074\n",
       "$1200      1069\n",
       "$1600      1027\n",
       "$100        804\n",
       "$500        798\n",
       "$300        764\n",
       "None        336\n",
       "$1,000      184\n",
       "$2,000      149\n",
       "$3,000       70\n",
       "$1,500       50\n",
       "$1,200       42\n",
       "$4,000       32\n",
       "$5,000       23\n",
       "$1,800       22\n",
       "$1,400       20\n",
       "$1,600       19\n",
       "$2,500       18\n",
       "$700         15\n",
       "$2,200       11\n",
       "$3,600        8\n",
       "$2,400        8\n",
       "$7,000        7\n",
       "$6,000        7\n",
       "$1,300        6\n",
       "           ... \n",
       "$3,800        2\n",
       "$4,800        2\n",
       "$12,000       2\n",
       "$750          1\n",
       "$5,200        1\n",
       "$4,500        1\n",
       "$1,111        1\n",
       "$3,389        1\n",
       "$367          1\n",
       "$3,300        1\n",
       "$1,020        1\n",
       "$4,700        1\n",
       "$2,021        1\n",
       "$2,300        1\n",
       "$5,800        1\n",
       "$7,500        1\n",
       "$2,127        1\n",
       "$6,200        1\n",
       "$7,400        1\n",
       "$2,900        1\n",
       "$5,400        1\n",
       "$6,100        1\n",
       "$6,800        1\n",
       "$10,800       1\n",
       "$4,100        1\n",
       "$9,000        1\n",
       "$8,200        1\n",
       "$1,492        1\n",
       "$1,700        1\n",
       "$3,900        1\n",
       "Name: Value, Length: 76, dtype: int64"
      ]
     },
     "execution_count": 8,
     "metadata": {},
     "output_type": "execute_result"
    }
   ],
   "source": [
    "jeopardy['Value'].value_counts()"
   ]
  },
  {
   "cell_type": "markdown",
   "metadata": {},
   "source": [
    "## Normalizing Text\n",
    "\n",
    "Before we start our analysis, we need to normalize the text of the ```Question``` and ```Answer``` columns. In short, we want to put all words in lowercase and remove punctuation so that we don't consider words such as ```Don't``` and ```don't``` different words.\n",
    "\n",
    "To do this, we will write a function that takes a strings, converts to lowercase, removes punctuation, and returns the string. "
   ]
  },
  {
   "cell_type": "code",
   "execution_count": 40,
   "metadata": {
    "collapsed": false
   },
   "outputs": [],
   "source": [
    "def normalize_text(string):\n",
    "    '''\n",
    "    INPUT: string\n",
    "    OUTPUT: string converted to lowercase \n",
    "    with puncuation removed\n",
    "    '''\n",
    "    lower_string = string.lower()\n",
    "    \n",
    "    \n",
    "    new_string = re.sub(r'[^\\w\\s]', '', lower_string)\n",
    "\n",
    "    return(new_string)\n",
    "    \n"
   ]
  },
  {
   "cell_type": "code",
   "execution_count": 10,
   "metadata": {
    "collapsed": false
   },
   "outputs": [
    {
     "data": {
      "text/plain": [
       "'weaefasdrs'"
      ]
     },
     "execution_count": 10,
     "metadata": {},
     "output_type": "execute_result"
    }
   ],
   "source": [
    "# test the function\n",
    "\n",
    "normalize_text('WE\",aEFasd;.>RS')"
   ]
  },
  {
   "cell_type": "code",
   "execution_count": 11,
   "metadata": {
    "collapsed": true
   },
   "outputs": [],
   "source": [
    "# apply function to the Question and the Answer columns\n",
    "\n",
    "jeopardy['clean_question'] = jeopardy['Question'].apply(normalize_text)\n",
    "\n",
    "jeopardy['clean_answer'] = jeopardy['Answer'].apply(normalize_text)"
   ]
  },
  {
   "cell_type": "code",
   "execution_count": null,
   "metadata": {
    "collapsed": false
   },
   "outputs": [],
   "source": []
  },
  {
   "cell_type": "markdown",
   "metadata": {},
   "source": [
    "## Normalizing Columns\n",
    "\n",
    "There are a few other columns we need to normalize as well before we start the analysis. The ```Value``` column should be numeric, so we will remove the $ sign and convert to float. And the ```AirDate``` column should be a datetime. These will both be easier to work with after these changes."
   ]
  },
  {
   "cell_type": "code",
   "execution_count": 12,
   "metadata": {
    "collapsed": true
   },
   "outputs": [],
   "source": [
    "def normalize_dollar_values(string):\n",
    "    '''\n",
    "    INPUT: string with dollar sign\n",
    "    OUTPUT: integer\n",
    "    '''\n",
    "    # we will remove any punctuation to account for any\n",
    "    # data entry issues\n",
    "    new_string = re.sub(r'[^\\w\\s]', '', string)\n",
    "    \n",
    "    # convert to an integer\n",
    "    try:\n",
    "        now_an_int = int(new_string)\n",
    "    except:\n",
    "        now_an_int = 0\n",
    "        \n",
    "    return(now_an_int)"
   ]
  },
  {
   "cell_type": "code",
   "execution_count": 13,
   "metadata": {
    "collapsed": false
   },
   "outputs": [
    {
     "data": {
      "text/plain": [
       "3000"
      ]
     },
     "execution_count": 13,
     "metadata": {},
     "output_type": "execute_result"
    }
   ],
   "source": [
    "normalize_dollar_values('$3,000')"
   ]
  },
  {
   "cell_type": "code",
   "execution_count": 14,
   "metadata": {
    "collapsed": true
   },
   "outputs": [],
   "source": [
    "jeopardy['clean_value'] = jeopardy['Value'].apply(normalize_dollar_values)"
   ]
  },
  {
   "cell_type": "code",
   "execution_count": 15,
   "metadata": {
    "collapsed": false
   },
   "outputs": [],
   "source": [
    "# convert the AirDate column to a datetime\n",
    "\n",
    "jeopardy['AirDate'] = pd.to_datetime(jeopardy['AirDate'])"
   ]
  },
  {
   "cell_type": "code",
   "execution_count": 16,
   "metadata": {
    "collapsed": false
   },
   "outputs": [
    {
     "data": {
      "text/plain": [
       "ShowNumber                 int64\n",
       "AirDate           datetime64[ns]\n",
       "Round                     object\n",
       "Category                  object\n",
       "Value                     object\n",
       "Question                  object\n",
       "Answer                    object\n",
       "clean_question            object\n",
       "clean_answer              object\n",
       "clean_value                int64\n",
       "dtype: object"
      ]
     },
     "execution_count": 16,
     "metadata": {},
     "output_type": "execute_result"
    }
   ],
   "source": [
    "jeopardy.dtypes"
   ]
  },
  {
   "cell_type": "markdown",
   "metadata": {},
   "source": [
    "## Answers in Questions\n",
    "\n",
    "In order to determine whether to study past questions, study general knowledge, or not study at all, it would be helpful to figure out two things:\n",
    "\n",
    "- How often the answer can be used for a question\n",
    "- How often questions are repeated\n",
    "\n",
    "We can answer the first question by seeing how many times words in the answer also occur in the question. We can ansewr the second question by seeing how often complex words (>6 characters) reoccur.\n",
    "\n",
    "Let's focus on this first task. "
   ]
  },
  {
   "cell_type": "code",
   "execution_count": 17,
   "metadata": {
    "collapsed": false
   },
   "outputs": [],
   "source": [
    "def answer_in_question(row):\n",
    "    \n",
    "    # split the clean_answer column around spaces\n",
    "    split_answer = row[\"clean_answer\"].split()\n",
    "\n",
    "    # split the clean_question columns around spaces\n",
    "    split_question = row[\"clean_question\"].split()\n",
    "\n",
    "    match_count = 0\n",
    "    if 'the' in split_answer:\n",
    "        split_answer.remove('the')\n",
    "\n",
    "    if len(split_answer) == 0:\n",
    "        return(0)\n",
    "\n",
    "    for word in split_answer:\n",
    "        if word in split_question:\n",
    "            match_count += 1\n",
    "            \n",
    "    return(match_count/len(split_answer))\n",
    "    \n",
    "    "
   ]
  },
  {
   "cell_type": "code",
   "execution_count": 18,
   "metadata": {
    "collapsed": false
   },
   "outputs": [],
   "source": [
    "# test the above function\n",
    "#print(jeopardy.iloc[[3,5]])\n",
    "#answer_in_question(jeopardy.iloc[[5]])"
   ]
  },
  {
   "cell_type": "code",
   "execution_count": 19,
   "metadata": {
    "collapsed": false
   },
   "outputs": [],
   "source": [
    "jeopardy['answer_in_question'] = jeopardy.apply(answer_in_question,\n",
    "                                               axis=1)"
   ]
  },
  {
   "cell_type": "code",
   "execution_count": 20,
   "metadata": {
    "collapsed": false
   },
   "outputs": [
    {
     "data": {
      "text/plain": [
       "0.05900196524977763"
      ]
     },
     "execution_count": 20,
     "metadata": {},
     "output_type": "execute_result"
    }
   ],
   "source": [
    "# Find mean of \n",
    "jeopardy['answer_in_question'].mean()"
   ]
  },
  {
   "cell_type": "markdown",
   "metadata": {},
   "source": [
    "The answer only makes up about 6% of the question, on average. This means that just listening to the question will not give you a good clue to what the answer is going to be. We will need a different strategy to prepare for Jeopardy. "
   ]
  },
  {
   "cell_type": "markdown",
   "metadata": {},
   "source": [
    "## Recycled Questions\n",
    "\n",
    "Now let's answer the second question from above. How often are new questions repeats of older questions? We should not that we are only using about 10% of the full Jeopardy question dataset, but we can still get an idea if this might be fruitful. "
   ]
  },
  {
   "cell_type": "code",
   "execution_count": 21,
   "metadata": {
    "collapsed": true
   },
   "outputs": [],
   "source": [
    "question_overlap = []\n",
    "terms_used = set()\n",
    "\n",
    "# sort dataframe by ascending air date\n",
    "jeopardy.sort_values(by=['AirDate'],inplace=True)"
   ]
  },
  {
   "cell_type": "code",
   "execution_count": 22,
   "metadata": {
    "collapsed": false
   },
   "outputs": [
    {
     "data": {
      "text/html": [
       "<div>\n",
       "<style scoped>\n",
       "    .dataframe tbody tr th:only-of-type {\n",
       "        vertical-align: middle;\n",
       "    }\n",
       "\n",
       "    .dataframe tbody tr th {\n",
       "        vertical-align: top;\n",
       "    }\n",
       "\n",
       "    .dataframe thead th {\n",
       "        text-align: right;\n",
       "    }\n",
       "</style>\n",
       "<table border=\"1\" class=\"dataframe\">\n",
       "  <thead>\n",
       "    <tr style=\"text-align: right;\">\n",
       "      <th></th>\n",
       "      <th>ShowNumber</th>\n",
       "      <th>AirDate</th>\n",
       "      <th>Round</th>\n",
       "      <th>Category</th>\n",
       "      <th>Value</th>\n",
       "      <th>Question</th>\n",
       "      <th>Answer</th>\n",
       "      <th>clean_question</th>\n",
       "      <th>clean_answer</th>\n",
       "      <th>clean_value</th>\n",
       "      <th>answer_in_question</th>\n",
       "    </tr>\n",
       "  </thead>\n",
       "  <tbody>\n",
       "    <tr>\n",
       "      <th>1953</th>\n",
       "      <td>6294</td>\n",
       "      <td>2012-01-19</td>\n",
       "      <td>Double Jeopardy!</td>\n",
       "      <td>WEAPONS OF WORLD WAR II</td>\n",
       "      <td>$800</td>\n",
       "      <td>Ships in the U.S. Navy's Casablanca class of \"...</td>\n",
       "      <td>aircraft carriers</td>\n",
       "      <td>ships in the us navys casablanca class of esco...</td>\n",
       "      <td>aircraft carriers</td>\n",
       "      <td>800</td>\n",
       "      <td>0.0</td>\n",
       "    </tr>\n",
       "    <tr>\n",
       "      <th>1954</th>\n",
       "      <td>6294</td>\n",
       "      <td>2012-01-19</td>\n",
       "      <td>Double Jeopardy!</td>\n",
       "      <td>ACTING PRESIDENTS ON TV</td>\n",
       "      <td>$800</td>\n",
       "      <td>Dennis Haysbert &amp; D.B. Woodside as David &amp; Way...</td>\n",
       "      <td>24</td>\n",
       "      <td>dennis haysbert  db woodside as david  wayne p...</td>\n",
       "      <td>24</td>\n",
       "      <td>800</td>\n",
       "      <td>0.0</td>\n",
       "    </tr>\n",
       "    <tr>\n",
       "      <th>1955</th>\n",
       "      <td>6294</td>\n",
       "      <td>2012-01-19</td>\n",
       "      <td>Double Jeopardy!</td>\n",
       "      <td>4 N</td>\n",
       "      <td>$800</td>\n",
       "      <td>\"U\" know it means not deliberate; I'm sorry, t...</td>\n",
       "      <td>unintentional</td>\n",
       "      <td>u know it means not deliberate im sorry that s...</td>\n",
       "      <td>unintentional</td>\n",
       "      <td>800</td>\n",
       "      <td>0.0</td>\n",
       "    </tr>\n",
       "    <tr>\n",
       "      <th>1945</th>\n",
       "      <td>6294</td>\n",
       "      <td>2012-01-19</td>\n",
       "      <td>Double Jeopardy!</td>\n",
       "      <td>AMERICAN HISTORY</td>\n",
       "      <td>$400</td>\n",
       "      <td>In December 1974 this former New York governor...</td>\n",
       "      <td>Rockefeller</td>\n",
       "      <td>in december 1974 this former new york governor...</td>\n",
       "      <td>rockefeller</td>\n",
       "      <td>400</td>\n",
       "      <td>0.0</td>\n",
       "    </tr>\n",
       "    <tr>\n",
       "      <th>1922</th>\n",
       "      <td>6294</td>\n",
       "      <td>2012-01-19</td>\n",
       "      <td>Jeopardy!</td>\n",
       "      <td>THAT'S BUSINESS</td>\n",
       "      <td>$400</td>\n",
       "      <td>In 1997 Tyco International moved to this U.K. ...</td>\n",
       "      <td>Bermuda</td>\n",
       "      <td>in 1997 tyco international moved to this uk te...</td>\n",
       "      <td>bermuda</td>\n",
       "      <td>400</td>\n",
       "      <td>0.0</td>\n",
       "    </tr>\n",
       "  </tbody>\n",
       "</table>\n",
       "</div>"
      ],
      "text/plain": [
       "      ShowNumber    AirDate             Round                 Category Value  \\\n",
       "1953        6294 2012-01-19  Double Jeopardy!  WEAPONS OF WORLD WAR II  $800   \n",
       "1954        6294 2012-01-19  Double Jeopardy!  ACTING PRESIDENTS ON TV  $800   \n",
       "1955        6294 2012-01-19  Double Jeopardy!                      4 N  $800   \n",
       "1945        6294 2012-01-19  Double Jeopardy!         AMERICAN HISTORY  $400   \n",
       "1922        6294 2012-01-19         Jeopardy!          THAT'S BUSINESS  $400   \n",
       "\n",
       "                                               Question             Answer  \\\n",
       "1953  Ships in the U.S. Navy's Casablanca class of \"...  aircraft carriers   \n",
       "1954  Dennis Haysbert & D.B. Woodside as David & Way...                 24   \n",
       "1955  \"U\" know it means not deliberate; I'm sorry, t...      unintentional   \n",
       "1945  In December 1974 this former New York governor...        Rockefeller   \n",
       "1922  In 1997 Tyco International moved to this U.K. ...            Bermuda   \n",
       "\n",
       "                                         clean_question       clean_answer  \\\n",
       "1953  ships in the us navys casablanca class of esco...  aircraft carriers   \n",
       "1954  dennis haysbert  db woodside as david  wayne p...                 24   \n",
       "1955  u know it means not deliberate im sorry that s...      unintentional   \n",
       "1945  in december 1974 this former new york governor...        rockefeller   \n",
       "1922  in 1997 tyco international moved to this uk te...            bermuda   \n",
       "\n",
       "      clean_value  answer_in_question  \n",
       "1953          800                 0.0  \n",
       "1954          800                 0.0  \n",
       "1955          800                 0.0  \n",
       "1945          400                 0.0  \n",
       "1922          400                 0.0  "
      ]
     },
     "execution_count": 22,
     "metadata": {},
     "output_type": "execute_result"
    }
   ],
   "source": [
    "# we can use head and tail to confirm we sorted in \n",
    "# the correct direction\n",
    "jeopardy.tail()"
   ]
  },
  {
   "cell_type": "code",
   "execution_count": 23,
   "metadata": {
    "collapsed": false
   },
   "outputs": [
    {
     "data": {
      "text/plain": [
       "0.6894006357823182"
      ]
     },
     "execution_count": 23,
     "metadata": {},
     "output_type": "execute_result"
    }
   ],
   "source": [
    "# loop through each row\n",
    "\n",
    "for i, row in jeopardy.iterrows():\n",
    "    split_question = row['clean_question'].split(\" \")\n",
    "    split_question = [x for x in split_question if len(x) > 5]\n",
    "    \n",
    "    match_count = 0\n",
    "    \n",
    "    for word in split_question:\n",
    "        if word in terms_used:\n",
    "            match_count += 1\n",
    "        terms_used.add(word)\n",
    "    if len(split_question) > 0:\n",
    "        match_count /= len(split_question)\n",
    "    question_overlap.append(match_count)\n",
    "\n",
    "jeopardy[\"question_overlap\"] = question_overlap\n",
    "\n",
    "jeopardy[\"question_overlap\"].mean()\n",
    "\n",
    "    \n",
    "    "
   ]
  },
  {
   "cell_type": "markdown",
   "metadata": {},
   "source": [
    "Almost 70% of words have been reclycled from previous questions. While this only includes part of the whole Jeopardy dataset and does not include phrases, it could indicate that it is worth a closer look at the reclycling of questions. "
   ]
  },
  {
   "cell_type": "markdown",
   "metadata": {},
   "source": [
    "## Low Value vs High Value Questions\n",
    "\n",
    "One potential way to study questions would be to focus only on the high value (>800 pts) questions. This strategy could help us earn more money when on Jeopardy. We can use a chi-squared test to determine which terms correspond to high value questions.\n",
    "\n",
    "First, we need to break the questions into two categories:\n",
    "- Low value -- any row where ```Value``` is less than 800\n",
    "- High value -- any row where ```Value``` is greater than 800.\n",
    "\n",
    "We can loop through ```terms_used``` run a chi-squared test to find the words with the biggest differences in usage between high and low value questions. "
   ]
  },
  {
   "cell_type": "code",
   "execution_count": 24,
   "metadata": {
    "collapsed": true
   },
   "outputs": [],
   "source": [
    "def determine_value(row):\n",
    "    if row['clean_value'] > 800:\n",
    "        value = 1\n",
    "    else:\n",
    "        value = 0\n",
    "    return value"
   ]
  },
  {
   "cell_type": "code",
   "execution_count": 25,
   "metadata": {
    "collapsed": true
   },
   "outputs": [],
   "source": [
    "jeopardy['high_value'] = jeopardy.apply(determine_value,axis=1)"
   ]
  },
  {
   "cell_type": "code",
   "execution_count": 30,
   "metadata": {
    "collapsed": false
   },
   "outputs": [
    {
     "data": {
      "text/plain": [
       "0    14265\n",
       "1     5734\n",
       "Name: high_value, dtype: int64"
      ]
     },
     "execution_count": 30,
     "metadata": {},
     "output_type": "execute_result"
    }
   ],
   "source": [
    "jeopardy['high_value'].value_counts()"
   ]
  },
  {
   "cell_type": "code",
   "execution_count": 31,
   "metadata": {
    "collapsed": true
   },
   "outputs": [],
   "source": [
    "def count_usage(word):\n",
    "    low_count = 0\n",
    "    high_count = 0\n",
    "    for i,row in jeopardy.iterrows():\n",
    "        if word in row['clean_question'].split(' '):\n",
    "            if row['high_value'] == 1:\n",
    "                high_count += 1\n",
    "            else:\n",
    "                low_count += 1\n",
    "    return high_count, low_count"
   ]
  },
  {
   "cell_type": "code",
   "execution_count": 32,
   "metadata": {
    "collapsed": false
   },
   "outputs": [
    {
     "data": {
      "text/plain": [
       "24470"
      ]
     },
     "execution_count": 32,
     "metadata": {},
     "output_type": "execute_result"
    }
   ],
   "source": [
    "len(terms_used)"
   ]
  },
  {
   "cell_type": "code",
   "execution_count": 37,
   "metadata": {
    "collapsed": false
   },
   "outputs": [
    {
     "data": {
      "text/plain": [
       "[(1, 0),\n",
       " (1, 0),\n",
       " (0, 2),\n",
       " (0, 1),\n",
       " (0, 3),\n",
       " (2, 5),\n",
       " (1, 0),\n",
       " (1, 0),\n",
       " (1, 0),\n",
       " (0, 1),\n",
       " (0, 1),\n",
       " (0, 1),\n",
       " (3, 12),\n",
       " (0, 1),\n",
       " (0, 1),\n",
       " (11, 10),\n",
       " (27, 47),\n",
       " (0, 1),\n",
       " (0, 1),\n",
       " (0, 3),\n",
       " (1, 0),\n",
       " (0, 1),\n",
       " (0, 1),\n",
       " (1, 1),\n",
       " (1, 0),\n",
       " (1, 1),\n",
       " (0, 4),\n",
       " (1, 4),\n",
       " (0, 1),\n",
       " (0, 1),\n",
       " (0, 1),\n",
       " (1, 0),\n",
       " (0, 2),\n",
       " (1, 0),\n",
       " (0, 1),\n",
       " (0, 1),\n",
       " (1, 1),\n",
       " (0, 2),\n",
       " (0, 1),\n",
       " (1, 0),\n",
       " (1, 0),\n",
       " (4, 3),\n",
       " (0, 1),\n",
       " (0, 1),\n",
       " (0, 1),\n",
       " (0, 1),\n",
       " (0, 1),\n",
       " (1, 0),\n",
       " (1, 0),\n",
       " (0, 2),\n",
       " (7, 15),\n",
       " (1, 0),\n",
       " (1, 0),\n",
       " (0, 5),\n",
       " (1, 0),\n",
       " (0, 1),\n",
       " (4, 5),\n",
       " (0, 1),\n",
       " (0, 1),\n",
       " (36, 79),\n",
       " (0, 1),\n",
       " (1, 2),\n",
       " (3, 3),\n",
       " (0, 2),\n",
       " (1, 0),\n",
       " (0, 1),\n",
       " (1, 6),\n",
       " (0, 1),\n",
       " (1, 0),\n",
       " (2, 1),\n",
       " (0, 1),\n",
       " (0, 1),\n",
       " (1, 0),\n",
       " (8, 9),\n",
       " (1, 6),\n",
       " (0, 1),\n",
       " (1, 1),\n",
       " (0, 1),\n",
       " (0, 1),\n",
       " (1, 1),\n",
       " (0, 1),\n",
       " (0, 1),\n",
       " (1, 0),\n",
       " (1, 0),\n",
       " (0, 1),\n",
       " (1, 0),\n",
       " (1, 2),\n",
       " (2, 1),\n",
       " (0, 1),\n",
       " (1, 0),\n",
       " (0, 1),\n",
       " (0, 1),\n",
       " (1, 1),\n",
       " (0, 3),\n",
       " (0, 1),\n",
       " (0, 1),\n",
       " (1, 1),\n",
       " (0, 1),\n",
       " (0, 1),\n",
       " (0, 2),\n",
       " (61, 186),\n",
       " (0, 1),\n",
       " (1, 0),\n",
       " (0, 1),\n",
       " (0, 1),\n",
       " (0, 1),\n",
       " (4, 19),\n",
       " (0, 1),\n",
       " (1, 0),\n",
       " (0, 1),\n",
       " (0, 1),\n",
       " (0, 1),\n",
       " (2, 2),\n",
       " (25, 35),\n",
       " (0, 1),\n",
       " (3, 2),\n",
       " (0, 1),\n",
       " (1, 0),\n",
       " (0, 1),\n",
       " (0, 1),\n",
       " (0, 1),\n",
       " (1, 0),\n",
       " (1, 10),\n",
       " (0, 1),\n",
       " (0, 1),\n",
       " (3, 7),\n",
       " (1, 2),\n",
       " (0, 1),\n",
       " (0, 1),\n",
       " (0, 1),\n",
       " (0, 1),\n",
       " (0, 1),\n",
       " (1, 0),\n",
       " (2, 0),\n",
       " (0, 1),\n",
       " (1, 0),\n",
       " (1, 1),\n",
       " (0, 3),\n",
       " (0, 1),\n",
       " (0, 1),\n",
       " (0, 2),\n",
       " (1, 0),\n",
       " (0, 1),\n",
       " (1, 0),\n",
       " (2, 2),\n",
       " (0, 2),\n",
       " (0, 1),\n",
       " (1, 10),\n",
       " (3, 3),\n",
       " (0, 1),\n",
       " (1, 1),\n",
       " (0, 4),\n",
       " (0, 1),\n",
       " (0, 1),\n",
       " (0, 1),\n",
       " (1, 0),\n",
       " (0, 1),\n",
       " (1, 6),\n",
       " (0, 2),\n",
       " (4, 10),\n",
       " (0, 1),\n",
       " (0, 1),\n",
       " (0, 1),\n",
       " (1, 0),\n",
       " (0, 1),\n",
       " (1, 0),\n",
       " (1, 0),\n",
       " (1, 1),\n",
       " (1, 0),\n",
       " (4, 4),\n",
       " (1, 0),\n",
       " (1, 0),\n",
       " (0, 2),\n",
       " (0, 1),\n",
       " (0, 1),\n",
       " (0, 1),\n",
       " (3, 1),\n",
       " (1, 0),\n",
       " (0, 1),\n",
       " (4, 2),\n",
       " (1, 1),\n",
       " (0, 2),\n",
       " (2, 1),\n",
       " (0, 3),\n",
       " (0, 1),\n",
       " (0, 1),\n",
       " (1, 0),\n",
       " (0, 2),\n",
       " (1, 0),\n",
       " (1, 0),\n",
       " (0, 1),\n",
       " (6, 17),\n",
       " (1, 3),\n",
       " (1, 0),\n",
       " (0, 1),\n",
       " (1, 0),\n",
       " (0, 1),\n",
       " (1, 0),\n",
       " (0, 2),\n",
       " (0, 2)]"
      ]
     },
     "execution_count": 37,
     "metadata": {},
     "output_type": "execute_result"
    }
   ],
   "source": [
    "\n",
    "terms_used_list = list(terms_used)\n",
    "comparison_terms = [np.random.choice(terms_used_list) for _ in range(200)]\n",
    "\n",
    "observed_expected = []\n",
    "\n",
    "\n",
    "for term in comparison_terms:\n",
    "    observed_expected.append(count_usage(term))\n",
    "\n",
    "observed_expected\n"
   ]
  },
  {
   "cell_type": "code",
   "execution_count": 38,
   "metadata": {
    "collapsed": false
   },
   "outputs": [],
   "source": [
    "high_value_count = jeopardy[jeopardy['high_value'] == 1].shape[0]\n",
    "low_value_count = jeopardy[jeopardy['high_value'] == 0].shape[0]\n",
    "\n",
    "chi_squared = []\n",
    "p_value = []\n",
    "\n",
    "for pair in observed_expected:\n",
    "    total = pair[0] + pair[1]\n",
    "    total_prop = total / jeopardy.shape[0]\n",
    "    high_value_exp = total_prop * high_value_count\n",
    "    low_value_exp = total_prop * low_value_count\n",
    "    \n",
    "    observed = np.array([pair[0], pair[1]])\n",
    "    expected = np.array([high_value_exp, low_value_exp])\n",
    "     \n",
    "    #chi_squared.append(chisquare(observed, expected))\n",
    "    chi_sq,p_val = chisquare(observed,expected)\n",
    "    chi_squared.append(chi_sq)\n",
    "    p_value.append(p_val)\n",
    "\n",
    "    \n",
    "#chi_squared\n",
    "#p_value\n"
   ]
  },
  {
   "cell_type": "code",
   "execution_count": null,
   "metadata": {
    "collapsed": true
   },
   "outputs": [],
   "source": []
  },
  {
   "cell_type": "code",
   "execution_count": 39,
   "metadata": {
    "collapsed": false
   },
   "outputs": [
    {
     "name": "stderr",
     "output_type": "stream",
     "text": [
      "/dataquest/system/env/python3/lib/python3.4/site-packages/matplotlib/figure.py:1744: UserWarning:\n",
      "\n",
      "This figure includes Axes that are not compatible with tight_layout, so its results might be incorrect.\n",
      "\n"
     ]
    },
    {
     "data": {
      "image/png": "[encoded data removed]",
      "text/plain": [
       "<matplotlib.figure.Figure at 0x7f66b2412550>"
      ]
     },
     "metadata": {},
     "output_type": "display_data"
    }
   ],
   "source": [
    "bins = [0,0.05,0.1,0.15,0.2,0.25,0.3,0.35,0.4,0.45,0.5,\n",
    "       0.55,0.6,0.65,0.7,0.75,0.8,0.85,0.9,0.95,1]\n",
    "\n",
    "plt.figure(figsize=(9,6))\n",
    "\n",
    "plt.hist(p_value,bins=bins,color='lightcoral')\n",
    "plt.xticks(fontsize=16)\n",
    "plt.yticks(fontsize=16)\n",
    "plt.xlabel('P-value',fontsize=16)\n",
    "\n",
    "plt.axvline(x=0.05,color='k')\n",
    "plt.show()"
   ]
  },
  {
   "cell_type": "code",
   "execution_count": null,
   "metadata": {
    "collapsed": true
   },
   "outputs": [],
   "source": []
  }
 ],
 "metadata": {
  "kernelspec": {
   "display_name": "Python 3",
   "language": "python",
   "name": "python3"
  },
  "language_info": {
   "codemirror_mode": {
    "name": "ipython",
    "version": 3
   },
   "file_extension": ".py",
   "mimetype": "text/x-python",
   "name": "python",
   "nbconvert_exporter": "python",
   "pygments_lexer": "ipython3",
   "version": "3.4.3"
  }
 },
 "nbformat": 4,
 "nbformat_minor": 0
}
