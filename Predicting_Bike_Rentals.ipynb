{
 "cells": [
  {
   "cell_type": "markdown",
   "metadata": {
    "collapsed": true
   },
   "source": [
    "# Predicting Bike Rentals\n",
    "\n",
    "Many U.S. cities have communal bike sharing stations where you can rent bicycles by the hour or day. Washington, D.C. is one of those places, and collects detailed data on the number of bicyles people rent by the hour and the day.\n",
    "\n",
    "## Data Set\n",
    "This data contains 17380 rows, with each row representing the number of bike rentals for a single hour of a single day. The data can be downloaded from the [UCI Machine Learning Repository](http://archive.ics.uci.edu/ml/datasets/Bike+Sharing+Dataset). The relevant columns are:\n",
    "\n",
    "- ```instant``` - A unique sequential ID number for each row\n",
    "- ```dteday``` - The date of the rentals\n",
    "- ```season``` - The season in which the rentals occurred\n",
    "- ```yr``` - The year the rentals occurred\n",
    "- ```mnth``` - The month the rentals occurred\n",
    "- ```hr``` - The hour the rentals occurred\n",
    "- ```holiday``` - Whether or not the day was a holiday\n",
    "- ```weekday``` - The day of the week (as a number, 0 to 7)\n",
    "- ```workingday``` - Whether or not the day was a working day\n",
    "- ```weathersit``` - The weather (as a categorical variable)\n",
    "- ```temp``` - The temperature, on a 0-1 scale\n",
    "- ```atemp``` - The adjusted temperature\n",
    "- ```hum``` - The humidity, on a 0-1 scale\n",
    "- ```windspeed``` - The wind speed, on a 0-1 scale\n",
    "- ```casual``` - The number of casual riders (people who hadn't previously signed up with the bike sharing program)\n",
    "- ```registered``` - The number of registered riders (people who had already signed up)\n",
    "- ```cnt``` - The total number of bike rentals (casual + registered)\n",
    "\n",
    "## Goal\n",
    "Build a machine learning pipeline that will predict the total number of bikes people rented in a given hour. We will use the ```cnt``` column as our target column, and decide which columns to use except for ```casual``` and ```registered```."
   ]
  },
  {
   "cell_type": "code",
   "execution_count": 1,
   "metadata": {},
   "outputs": [],
   "source": [
    "import pandas as pd\n",
    "import numpy as np\n",
    "\n",
    "from sklearn.linear_model import LinearRegression\n",
    "from sklearn.tree import DecisionTreeRegressor\n",
    "from sklearn.ensemble import RandomForestRegressor\n",
    "from sklearn.metrics import mean_squared_error\n",
    "from sklearn.model_selection import cross_val_score, KFold, RandomizedSearchCV\n",
    "from sklearn.feature_selection import mutual_info_regression\n",
    "\n",
    "\n",
    "\n",
    "import matplotlib.pyplot as plt\n",
    "import seaborn as sns\n",
    "\n",
    "plt.style.use('seaborn-whitegrid')\n",
    "plt.rc('figure', autolayout=True)\n",
    "plt.rc(\n",
    "    'axes',\n",
    "    labelweight='bold',\n",
    "    labelsize='large',\n",
    "    titleweight='bold',\n",
    "    titlesize=14,\n",
    "    linewidth=4\n",
    "    )\n",
    "\n",
    "\n",
    "%matplotlib inline"
   ]
  },
  {
   "cell_type": "code",
   "execution_count": 2,
   "metadata": {},
   "outputs": [],
   "source": [
    "bike_rentals = pd.read_csv('bike_rental_hour.csv')\n",
    "\n"
   ]
  },
  {
   "cell_type": "code",
   "execution_count": 3,
   "metadata": {},
   "outputs": [
    {
     "data": {
      "text/html": [
       "<div>\n",
       "<style scoped>\n",
       "    .dataframe tbody tr th:only-of-type {\n",
       "        vertical-align: middle;\n",
       "    }\n",
       "\n",
       "    .dataframe tbody tr th {\n",
       "        vertical-align: top;\n",
       "    }\n",
       "\n",
       "    .dataframe thead th {\n",
       "        text-align: right;\n",
       "    }\n",
       "</style>\n",
       "<table border=\"1\" class=\"dataframe\">\n",
       "  <thead>\n",
       "    <tr style=\"text-align: right;\">\n",
       "      <th></th>\n",
       "      <th>instant</th>\n",
       "      <th>dteday</th>\n",
       "      <th>season</th>\n",
       "      <th>yr</th>\n",
       "      <th>mnth</th>\n",
       "      <th>hr</th>\n",
       "      <th>holiday</th>\n",
       "      <th>weekday</th>\n",
       "      <th>workingday</th>\n",
       "      <th>weathersit</th>\n",
       "      <th>temp</th>\n",
       "      <th>atemp</th>\n",
       "      <th>hum</th>\n",
       "      <th>windspeed</th>\n",
       "      <th>casual</th>\n",
       "      <th>registered</th>\n",
       "      <th>cnt</th>\n",
       "    </tr>\n",
       "  </thead>\n",
       "  <tbody>\n",
       "    <tr>\n",
       "      <th>0</th>\n",
       "      <td>1</td>\n",
       "      <td>2011-01-01</td>\n",
       "      <td>1</td>\n",
       "      <td>0</td>\n",
       "      <td>1</td>\n",
       "      <td>0</td>\n",
       "      <td>0</td>\n",
       "      <td>6</td>\n",
       "      <td>0</td>\n",
       "      <td>1</td>\n",
       "      <td>0.24</td>\n",
       "      <td>0.2879</td>\n",
       "      <td>0.81</td>\n",
       "      <td>0.0</td>\n",
       "      <td>3</td>\n",
       "      <td>13</td>\n",
       "      <td>16</td>\n",
       "    </tr>\n",
       "    <tr>\n",
       "      <th>1</th>\n",
       "      <td>2</td>\n",
       "      <td>2011-01-01</td>\n",
       "      <td>1</td>\n",
       "      <td>0</td>\n",
       "      <td>1</td>\n",
       "      <td>1</td>\n",
       "      <td>0</td>\n",
       "      <td>6</td>\n",
       "      <td>0</td>\n",
       "      <td>1</td>\n",
       "      <td>0.22</td>\n",
       "      <td>0.2727</td>\n",
       "      <td>0.80</td>\n",
       "      <td>0.0</td>\n",
       "      <td>8</td>\n",
       "      <td>32</td>\n",
       "      <td>40</td>\n",
       "    </tr>\n",
       "    <tr>\n",
       "      <th>2</th>\n",
       "      <td>3</td>\n",
       "      <td>2011-01-01</td>\n",
       "      <td>1</td>\n",
       "      <td>0</td>\n",
       "      <td>1</td>\n",
       "      <td>2</td>\n",
       "      <td>0</td>\n",
       "      <td>6</td>\n",
       "      <td>0</td>\n",
       "      <td>1</td>\n",
       "      <td>0.22</td>\n",
       "      <td>0.2727</td>\n",
       "      <td>0.80</td>\n",
       "      <td>0.0</td>\n",
       "      <td>5</td>\n",
       "      <td>27</td>\n",
       "      <td>32</td>\n",
       "    </tr>\n",
       "    <tr>\n",
       "      <th>3</th>\n",
       "      <td>4</td>\n",
       "      <td>2011-01-01</td>\n",
       "      <td>1</td>\n",
       "      <td>0</td>\n",
       "      <td>1</td>\n",
       "      <td>3</td>\n",
       "      <td>0</td>\n",
       "      <td>6</td>\n",
       "      <td>0</td>\n",
       "      <td>1</td>\n",
       "      <td>0.24</td>\n",
       "      <td>0.2879</td>\n",
       "      <td>0.75</td>\n",
       "      <td>0.0</td>\n",
       "      <td>3</td>\n",
       "      <td>10</td>\n",
       "      <td>13</td>\n",
       "    </tr>\n",
       "    <tr>\n",
       "      <th>4</th>\n",
       "      <td>5</td>\n",
       "      <td>2011-01-01</td>\n",
       "      <td>1</td>\n",
       "      <td>0</td>\n",
       "      <td>1</td>\n",
       "      <td>4</td>\n",
       "      <td>0</td>\n",
       "      <td>6</td>\n",
       "      <td>0</td>\n",
       "      <td>1</td>\n",
       "      <td>0.24</td>\n",
       "      <td>0.2879</td>\n",
       "      <td>0.75</td>\n",
       "      <td>0.0</td>\n",
       "      <td>0</td>\n",
       "      <td>1</td>\n",
       "      <td>1</td>\n",
       "    </tr>\n",
       "  </tbody>\n",
       "</table>\n",
       "</div>"
      ],
      "text/plain": [
       "   instant      dteday  season  yr  mnth  hr  holiday  weekday  workingday  \\\n",
       "0        1  2011-01-01       1   0     1   0        0        6           0   \n",
       "1        2  2011-01-01       1   0     1   1        0        6           0   \n",
       "2        3  2011-01-01       1   0     1   2        0        6           0   \n",
       "3        4  2011-01-01       1   0     1   3        0        6           0   \n",
       "4        5  2011-01-01       1   0     1   4        0        6           0   \n",
       "\n",
       "   weathersit  temp   atemp   hum  windspeed  casual  registered  cnt  \n",
       "0           1  0.24  0.2879  0.81        0.0       3          13   16  \n",
       "1           1  0.22  0.2727  0.80        0.0       8          32   40  \n",
       "2           1  0.22  0.2727  0.80        0.0       5          27   32  \n",
       "3           1  0.24  0.2879  0.75        0.0       3          10   13  \n",
       "4           1  0.24  0.2879  0.75        0.0       0           1    1  "
      ]
     },
     "execution_count": 3,
     "metadata": {},
     "output_type": "execute_result"
    }
   ],
   "source": [
    "bike_rentals.head()"
   ]
  },
  {
   "cell_type": "code",
   "execution_count": 4,
   "metadata": {},
   "outputs": [
    {
     "data": {
      "text/plain": [
       "(17379, 17)"
      ]
     },
     "execution_count": 4,
     "metadata": {},
     "output_type": "execute_result"
    }
   ],
   "source": [
    "bike_rentals.shape"
   ]
  },
  {
   "cell_type": "code",
   "execution_count": 12,
   "metadata": {},
   "outputs": [
    {
     "data": {
      "image/png": "[encoded data removed]",
      "text/plain": [
       "<Figure size 648x432 with 1 Axes>"
      ]
     },
     "metadata": {
      "needs_background": "light"
     },
     "output_type": "display_data"
    }
   ],
   "source": [
    "plt.figure(figsize=(9,6))\n",
    "\n",
    "\n",
    "sns.histplot(data=bike_rentals,x='cnt',color='lightcoral')\n",
    "plt.xlabel('Total Number of Bike Rentals',fontsize=16)\n",
    "plt.ylabel('Count',fontsize=16)\n",
    "plt.yticks(fontsize=16)\n",
    "plt.xticks(fontsize=16)\n",
    "plt.show()"
   ]
  },
  {
   "cell_type": "code",
   "execution_count": 6,
   "metadata": {},
   "outputs": [
    {
     "data": {
      "text/plain": [
       "instant       0.278379\n",
       "season        0.178056\n",
       "yr            0.250495\n",
       "mnth          0.120638\n",
       "hr            0.394071\n",
       "holiday      -0.030927\n",
       "weekday       0.026900\n",
       "workingday    0.030284\n",
       "weathersit   -0.142426\n",
       "temp          0.404772\n",
       "atemp         0.400929\n",
       "hum          -0.322911\n",
       "windspeed     0.093234\n",
       "casual        0.694564\n",
       "registered    0.972151\n",
       "cnt           1.000000\n",
       "Name: cnt, dtype: float64"
      ]
     },
     "execution_count": 6,
     "metadata": {},
     "output_type": "execute_result"
    }
   ],
   "source": [
    "bike_rentals.corr()['cnt']"
   ]
  },
  {
   "cell_type": "markdown",
   "metadata": {},
   "source": [
    "We see that the histogram of the total rentals is heavily right-skewed. The columns that have correlation constant of at least 0.25 include \n",
    "\n",
    "- ```instant```: 0.27\n",
    "- ```yr```: 0.25\n",
    "- ```hr```: 0.39\n",
    "- ```temp```: 0.40\n",
    "- ```atemp```: 0.40\n",
    "- ```hum```: 0.32"
   ]
  },
  {
   "cell_type": "markdown",
   "metadata": {},
   "source": [
    "##  Feature Engineering\n",
    "\n",
    "Let's engineer a few features that are more relevant and helpful for our pipeline.\n",
    "\n",
    "The ```hr``` column contains the hours bikes are rented, from 1 to 24. Let's create a new column, grouping these hours by morning, afternoon, evening, and night. \n",
    "\n"
   ]
  },
  {
   "cell_type": "code",
   "execution_count": 7,
   "metadata": {},
   "outputs": [],
   "source": [
    "def assign_label(value):\n",
    "    if value >= 6 and value < 12:\n",
    "        return 1\n",
    "    elif value >= 12 and value < 18:\n",
    "        return 2\n",
    "    elif value >= 18 and value < 24:\n",
    "        return 3\n",
    "    elif value >= 0 and value < 24:\n",
    "        return 4"
   ]
  },
  {
   "cell_type": "code",
   "execution_count": 8,
   "metadata": {},
   "outputs": [
    {
     "name": "stdout",
     "output_type": "stream",
     "text": [
      "None\n"
     ]
    }
   ],
   "source": [
    "print(assign_label(144))"
   ]
  },
  {
   "cell_type": "code",
   "execution_count": 9,
   "metadata": {},
   "outputs": [],
   "source": [
    "bike_rentals['time_label'] = bike_rentals['hr'].apply(assign_label)"
   ]
  },
  {
   "cell_type": "code",
   "execution_count": 10,
   "metadata": {},
   "outputs": [
    {
     "data": {
      "text/html": [
       "<div>\n",
       "<style scoped>\n",
       "    .dataframe tbody tr th:only-of-type {\n",
       "        vertical-align: middle;\n",
       "    }\n",
       "\n",
       "    .dataframe tbody tr th {\n",
       "        vertical-align: top;\n",
       "    }\n",
       "\n",
       "    .dataframe thead th {\n",
       "        text-align: right;\n",
       "    }\n",
       "</style>\n",
       "<table border=\"1\" class=\"dataframe\">\n",
       "  <thead>\n",
       "    <tr style=\"text-align: right;\">\n",
       "      <th></th>\n",
       "      <th>instant</th>\n",
       "      <th>dteday</th>\n",
       "      <th>season</th>\n",
       "      <th>yr</th>\n",
       "      <th>mnth</th>\n",
       "      <th>hr</th>\n",
       "      <th>holiday</th>\n",
       "      <th>weekday</th>\n",
       "      <th>workingday</th>\n",
       "      <th>weathersit</th>\n",
       "      <th>temp</th>\n",
       "      <th>atemp</th>\n",
       "      <th>hum</th>\n",
       "      <th>windspeed</th>\n",
       "      <th>casual</th>\n",
       "      <th>registered</th>\n",
       "      <th>cnt</th>\n",
       "      <th>time_label</th>\n",
       "    </tr>\n",
       "  </thead>\n",
       "  <tbody>\n",
       "    <tr>\n",
       "      <th>0</th>\n",
       "      <td>1</td>\n",
       "      <td>2011-01-01</td>\n",
       "      <td>1</td>\n",
       "      <td>0</td>\n",
       "      <td>1</td>\n",
       "      <td>0</td>\n",
       "      <td>0</td>\n",
       "      <td>6</td>\n",
       "      <td>0</td>\n",
       "      <td>1</td>\n",
       "      <td>0.24</td>\n",
       "      <td>0.2879</td>\n",
       "      <td>0.81</td>\n",
       "      <td>0.0</td>\n",
       "      <td>3</td>\n",
       "      <td>13</td>\n",
       "      <td>16</td>\n",
       "      <td>4</td>\n",
       "    </tr>\n",
       "    <tr>\n",
       "      <th>1</th>\n",
       "      <td>2</td>\n",
       "      <td>2011-01-01</td>\n",
       "      <td>1</td>\n",
       "      <td>0</td>\n",
       "      <td>1</td>\n",
       "      <td>1</td>\n",
       "      <td>0</td>\n",
       "      <td>6</td>\n",
       "      <td>0</td>\n",
       "      <td>1</td>\n",
       "      <td>0.22</td>\n",
       "      <td>0.2727</td>\n",
       "      <td>0.80</td>\n",
       "      <td>0.0</td>\n",
       "      <td>8</td>\n",
       "      <td>32</td>\n",
       "      <td>40</td>\n",
       "      <td>4</td>\n",
       "    </tr>\n",
       "    <tr>\n",
       "      <th>2</th>\n",
       "      <td>3</td>\n",
       "      <td>2011-01-01</td>\n",
       "      <td>1</td>\n",
       "      <td>0</td>\n",
       "      <td>1</td>\n",
       "      <td>2</td>\n",
       "      <td>0</td>\n",
       "      <td>6</td>\n",
       "      <td>0</td>\n",
       "      <td>1</td>\n",
       "      <td>0.22</td>\n",
       "      <td>0.2727</td>\n",
       "      <td>0.80</td>\n",
       "      <td>0.0</td>\n",
       "      <td>5</td>\n",
       "      <td>27</td>\n",
       "      <td>32</td>\n",
       "      <td>4</td>\n",
       "    </tr>\n",
       "    <tr>\n",
       "      <th>3</th>\n",
       "      <td>4</td>\n",
       "      <td>2011-01-01</td>\n",
       "      <td>1</td>\n",
       "      <td>0</td>\n",
       "      <td>1</td>\n",
       "      <td>3</td>\n",
       "      <td>0</td>\n",
       "      <td>6</td>\n",
       "      <td>0</td>\n",
       "      <td>1</td>\n",
       "      <td>0.24</td>\n",
       "      <td>0.2879</td>\n",
       "      <td>0.75</td>\n",
       "      <td>0.0</td>\n",
       "      <td>3</td>\n",
       "      <td>10</td>\n",
       "      <td>13</td>\n",
       "      <td>4</td>\n",
       "    </tr>\n",
       "    <tr>\n",
       "      <th>4</th>\n",
       "      <td>5</td>\n",
       "      <td>2011-01-01</td>\n",
       "      <td>1</td>\n",
       "      <td>0</td>\n",
       "      <td>1</td>\n",
       "      <td>4</td>\n",
       "      <td>0</td>\n",
       "      <td>6</td>\n",
       "      <td>0</td>\n",
       "      <td>1</td>\n",
       "      <td>0.24</td>\n",
       "      <td>0.2879</td>\n",
       "      <td>0.75</td>\n",
       "      <td>0.0</td>\n",
       "      <td>0</td>\n",
       "      <td>1</td>\n",
       "      <td>1</td>\n",
       "      <td>4</td>\n",
       "    </tr>\n",
       "  </tbody>\n",
       "</table>\n",
       "</div>"
      ],
      "text/plain": [
       "   instant      dteday  season  yr  mnth  hr  holiday  weekday  workingday  \\\n",
       "0        1  2011-01-01       1   0     1   0        0        6           0   \n",
       "1        2  2011-01-01       1   0     1   1        0        6           0   \n",
       "2        3  2011-01-01       1   0     1   2        0        6           0   \n",
       "3        4  2011-01-01       1   0     1   3        0        6           0   \n",
       "4        5  2011-01-01       1   0     1   4        0        6           0   \n",
       "\n",
       "   weathersit  temp   atemp   hum  windspeed  casual  registered  cnt  \\\n",
       "0           1  0.24  0.2879  0.81        0.0       3          13   16   \n",
       "1           1  0.22  0.2727  0.80        0.0       8          32   40   \n",
       "2           1  0.22  0.2727  0.80        0.0       5          27   32   \n",
       "3           1  0.24  0.2879  0.75        0.0       3          10   13   \n",
       "4           1  0.24  0.2879  0.75        0.0       0           1    1   \n",
       "\n",
       "   time_label  \n",
       "0           4  \n",
       "1           4  \n",
       "2           4  \n",
       "3           4  \n",
       "4           4  "
      ]
     },
     "execution_count": 10,
     "metadata": {},
     "output_type": "execute_result"
    }
   ],
   "source": [
    "bike_rentals.head()"
   ]
  },
  {
   "cell_type": "markdown",
   "metadata": {
    "collapsed": true
   },
   "source": [
    "## Split Data into Train and Test Sets\n",
    "\n",
    "We're ready now to split the data into train and test sets. We'll start with using 80% of the data to train. Later, we'll use cross-validation to improve our testing. We'll use the mean squared error metric makes the most sense to evaluate our error. MSE works on continuous numeric data, which fits our data quite well.\n"
   ]
  },
  {
   "cell_type": "code",
   "execution_count": 11,
   "metadata": {},
   "outputs": [],
   "source": [
    "train = bike_rentals.sample(frac=0.8)\n",
    "\n",
    "test = bike_rentals.loc[~bike_rentals.index.isin(train.index)]"
   ]
  },
  {
   "cell_type": "markdown",
   "metadata": {},
   "source": [
    "## Linear Regression\n",
    "\n",
    "We're now ready to start fitting models to the data. We will start with a linear regression model. Linear regression works best when features are linearly correlated with the target and independent. "
   ]
  },
  {
   "cell_type": "code",
   "execution_count": 12,
   "metadata": {},
   "outputs": [],
   "source": [
    "features = train.columns.tolist()\n",
    "features.remove('cnt')\n",
    "features.remove('casual')\n",
    "features.remove('dteday')\n",
    "features.remove('registered')"
   ]
  },
  {
   "cell_type": "code",
   "execution_count": 13,
   "metadata": {},
   "outputs": [
    {
     "name": "stdout",
     "output_type": "stream",
     "text": [
      "17154.50735933943\n"
     ]
    }
   ],
   "source": [
    "lr = LinearRegression()\n",
    "\n",
    "lr.fit(train[features],train['cnt'])\n",
    "\n",
    "lr_predictions = lr.predict(test[features])\n",
    "\n",
    "lr_mse = mean_squared_error(test['cnt'],lr_predictions)\n",
    "\n",
    "print(lr_mse)"
   ]
  },
  {
   "cell_type": "markdown",
   "metadata": {},
   "source": [
    "This is a very high MSE. This is likely a result of the fact that the ```cnt``` column has a large number of small rentals. Missing these values significantly would increase the MSE quickly. "
   ]
  },
  {
   "cell_type": "markdown",
   "metadata": {},
   "source": [
    "## Decision Tree\n",
    "\n",
    "Next, let's try a decision tree regressor. We can compare this to the linear regression model to decide on the best algorithm for this dataset. "
   ]
  },
  {
   "cell_type": "code",
   "execution_count": 14,
   "metadata": {},
   "outputs": [
    {
     "name": "stdout",
     "output_type": "stream",
     "text": [
      "2498.0731347900737\n"
     ]
    }
   ],
   "source": [
    "\n",
    "dtr = DecisionTreeRegressor(min_samples_leaf=5)\n",
    "\n",
    "dtr.fit(train[features],train['cnt'])\n",
    "\n",
    "dtr_predictions = dtr.predict(test[features])\n",
    "\n",
    "dtr_mse = mean_squared_error(test['cnt'],dtr_predictions)\n",
    "\n",
    "print(dtr_mse)\n"
   ]
  },
  {
   "cell_type": "markdown",
   "metadata": {},
   "source": [
    "Our error is significantly improved with the decision tree model. "
   ]
  },
  {
   "cell_type": "markdown",
   "metadata": {},
   "source": [
    "## Random Forest\n",
    "\n",
    "Finally, lets try a random forest algorithm. "
   ]
  },
  {
   "cell_type": "code",
   "execution_count": 15,
   "metadata": {},
   "outputs": [
    {
     "name": "stdout",
     "output_type": "stream",
     "text": [
      "1617.4444990218644\n"
     ]
    }
   ],
   "source": [
    "rfr = RandomForestRegressor(min_samples_leaf=1)\n",
    "\n",
    "rfr.fit(train[features],train['cnt'])\n",
    "\n",
    "rfr_predictions = rfr.predict(test[features])\n",
    "\n",
    "rfr_mse = mean_squared_error(test['cnt'],rfr_predictions)\n",
    "\n",
    "print(rfr_mse)\n",
    "\n"
   ]
  },
  {
   "cell_type": "markdown",
   "metadata": {},
   "source": [
    "Unsurprisingly, the random forest algorithm performs the best between the three models. Let's focus on this model to refine the features to use and hyperparameters."
   ]
  },
  {
   "cell_type": "markdown",
   "metadata": {},
   "source": [
    "## Feature Selection\n",
    "\n",
    "We briefly looked at correlations between features and the target. Now, let use those to see if dropping any features can improve our model. We will first build a test and train function to quickly test our selections, and include cross-validation. At this point, we will use the default setting on the ```RandomForestRegressor```. In the next step we will tune these parameters."
   ]
  },
  {
   "cell_type": "code",
   "execution_count": 16,
   "metadata": {},
   "outputs": [],
   "source": [
    "def test_and_train(df,training_col,target_col):\n",
    "    rfr = RandomForestRegressor()\n",
    "    kf = KFold(n_splits=5,shuffle=True)\n",
    "    \n",
    "    mses = cross_val_score(rfr,\n",
    "                          df[training_col],\n",
    "                          df[target_col],\n",
    "                          scoring='neg_mean_squared_error',\n",
    "                          cv=kf)\n",
    "    \n",
    "    final_mse = np.absolute(np.mean(mses))\n",
    "    return final_mse\n"
   ]
  },
  {
   "cell_type": "code",
   "execution_count": 17,
   "metadata": {},
   "outputs": [
    {
     "name": "stdout",
     "output_type": "stream",
     "text": [
      "                       0\n",
      "instant      1819.873002\n",
      "season       1680.205061\n",
      "yr           1688.439184\n",
      "mnth         1664.241653\n",
      "hr          11385.282090\n",
      "holiday      1700.697592\n",
      "weekday      1915.790999\n",
      "workingday   1829.035663\n",
      "weathersit   1846.299867\n",
      "temp         1648.601972\n",
      "atemp        1674.113163\n",
      "hum          1807.264020\n",
      "windspeed    1642.422051\n",
      "time_label   1705.228951\n"
     ]
    }
   ],
   "source": [
    "# drop a single column each time\n",
    "\n",
    "features = train.columns.tolist()\n",
    "features.remove('cnt')\n",
    "features.remove('casual')\n",
    "features.remove('dteday')\n",
    "features.remove('registered')\n",
    "\n",
    "mse_results = {}\n",
    "\n",
    "for x in features:\n",
    "    new_features = features.copy()\n",
    "    new_features.remove(x)\n",
    "    this_mse = test_and_train(bike_rentals,new_features,'cnt')\n",
    "    dict_key = 'no_' + x\n",
    "    mse_results[x] = this_mse\n",
    "    \n",
    "print(pd.DataFrame.from_dict(mse_results,orient='index'))"
   ]
  },
  {
   "cell_type": "code",
   "execution_count": 18,
   "metadata": {
    "scrolled": false
   },
   "outputs": [],
   "source": [
    "# look at mutual information\n",
    "\n",
    "importances = mutual_info_regression(bike_rentals[features],\n",
    "                               bike_rentals['cnt'])\n",
    "\n",
    "feat_importances = pd.Series(importances)\n",
    "feat_importances.index = bike_rentals[features].columns\n"
   ]
  },
  {
   "cell_type": "code",
   "execution_count": 19,
   "metadata": {},
   "outputs": [
    {
     "data": {
      "image/png": "[encoded data removed]",
      "text/plain": [
       "<Figure size 864x576 with 1 Axes>"
      ]
     },
     "metadata": {
      "needs_background": "light"
     },
     "output_type": "display_data"
    }
   ],
   "source": [
    "plt.figure(figsize=(12,8))\n",
    "feat_importances.plot(kind='barh',color='lightcoral')\n",
    "plt.show()"
   ]
  },
  {
   "cell_type": "markdown",
   "metadata": {
    "collapsed": true
   },
   "source": [
    "Windspeed, weathersit, workingday, weekday, and holiday have very little mutual information. Unsurprisingly, these columns also have limited correlation values with the target column. Let's try dropping these columns to see if it improves our results."
   ]
  },
  {
   "cell_type": "code",
   "execution_count": 20,
   "metadata": {},
   "outputs": [
    {
     "name": "stdout",
     "output_type": "stream",
     "text": [
      "6474.042784960095\n"
     ]
    }
   ],
   "source": [
    "limited_features = bike_rentals.columns.tolist()\n",
    "limited_features.remove('cnt')\n",
    "limited_features.remove('casual')\n",
    "limited_features.remove('dteday')\n",
    "limited_features.remove('registered')\n",
    "limited_features.remove('windspeed')\n",
    "limited_features.remove('weathersit')\n",
    "limited_features.remove('workingday')\n",
    "limited_features.remove('weekday')\n",
    "limited_features.remove('holiday')\n",
    "\n",
    "\n",
    "limited_mse = test_and_train(bike_rentals,limited_features,'cnt')\n",
    "\n",
    "print(limited_mse)\n"
   ]
  },
  {
   "cell_type": "markdown",
   "metadata": {
    "collapsed": true
   },
   "source": [
    "Dropping all of these features increased the error significantly. Though the mutual information on each individual feature is low, collectively they appear to provide important information we'll keep. "
   ]
  },
  {
   "cell_type": "markdown",
   "metadata": {},
   "source": [
    "## Hyperparameter Testing\n",
    "\n",
    "Now that we have selected our features, we can move to fine tuning our random forest parameters. For this, we'll conduct a randomized grid search across possible parameters before fine-tuning our choices."
   ]
  },
  {
   "cell_type": "code",
   "execution_count": 21,
   "metadata": {},
   "outputs": [],
   "source": [
    "# Set up grid of parameters\n",
    "\n",
    "# Number of trees in random forest\n",
    "n_estimators = [int(x) for x in np.linspace(start = 200, stop = 2000, num = 10)]\n",
    "\n",
    "# Number of features to consider at every split\n",
    "max_features = ['auto', 'sqrt']\n",
    "\n",
    "# Maximum number of levels in tree\n",
    "max_depth = [int(x) for x in np.linspace(10, 110, num = 11)]\n",
    "max_depth.append(None)\n",
    "\n",
    "# Minimum number of samples required to split a node\n",
    "min_samples_split = [2, 5, 10]\n",
    "\n",
    "# Minimum number of samples required at each leaf node\n",
    "min_samples_leaf = [1, 2, 4]\n",
    "\n",
    "# Method of selecting samples for training each tree\n",
    "bootstrap = [True, False]"
   ]
  },
  {
   "cell_type": "code",
   "execution_count": 22,
   "metadata": {},
   "outputs": [],
   "source": [
    "# Create the random grid\n",
    "random_grid = {'n_estimators': n_estimators,\n",
    "               'max_features': max_features,\n",
    "               'max_depth': max_depth,\n",
    "               'min_samples_split': min_samples_split,\n",
    "               'min_samples_leaf': min_samples_leaf,\n",
    "               'bootstrap': bootstrap}"
   ]
  },
  {
   "cell_type": "code",
   "execution_count": 26,
   "metadata": {},
   "outputs": [
    {
     "data": {
      "text/plain": [
       "dict_keys(['bootstrap', 'ccp_alpha', 'criterion', 'max_depth', 'max_features', 'max_leaf_nodes', 'max_samples', 'min_impurity_decrease', 'min_impurity_split', 'min_samples_leaf', 'min_samples_split', 'min_weight_fraction_leaf', 'n_estimators', 'n_jobs', 'oob_score', 'random_state', 'verbose', 'warm_start'])"
      ]
     },
     "execution_count": 26,
     "metadata": {},
     "output_type": "execute_result"
    }
   ],
   "source": [
    "rf.get_params().keys()"
   ]
  },
  {
   "cell_type": "code",
   "execution_count": 24,
   "metadata": {
    "scrolled": false
   },
   "outputs": [
    {
     "name": "stdout",
     "output_type": "stream",
     "text": [
      "Fitting 2 folds for each of 100 candidates, totalling 200 fits\n"
     ]
    },
    {
     "name": "stderr",
     "output_type": "stream",
     "text": [
      "/Users/josh.fuchs/opt/anaconda3/lib/python3.8/site-packages/joblib/externals/loky/process_executor.py:688: UserWarning: A worker stopped while some jobs were given to the executor. This can be caused by a too short worker timeout or by a memory leak.\n",
      "  warnings.warn(\n"
     ]
    },
    {
     "data": {
      "text/plain": [
       "RandomizedSearchCV(cv=2, estimator=RandomForestRegressor(), n_iter=100,\n",
       "                   n_jobs=-1,\n",
       "                   param_distributions={'bootstrap': [True, False],\n",
       "                                        'max_depth': [10, 20, 30, 40, 50, 60,\n",
       "                                                      70, 80, 90, 100, 110,\n",
       "                                                      None],\n",
       "                                        'max_features': ['auto', 'sqrt'],\n",
       "                                        'min_samples_leaf': [1, 2, 4],\n",
       "                                        'min_samples_split': [2, 5, 10],\n",
       "                                        'n_estimators': [200, 400, 600, 800,\n",
       "                                                         1000, 1200, 1400, 1600,\n",
       "                                                         1800, 2000]},\n",
       "                   verbose=1)"
      ]
     },
     "execution_count": 24,
     "metadata": {},
     "output_type": "execute_result"
    }
   ],
   "source": [
    "# Use the random grid to search for best hyperparameters\n",
    "# First create the base model to tune\n",
    "rf = RandomForestRegressor()\n",
    "\n",
    "\n",
    "search_grid = RandomizedSearchCV(rf,\n",
    "                                param_distributions = random_grid,\n",
    "                                n_iter = 100,\n",
    "                                cv = 2,\n",
    "                                verbose = 1,\n",
    "                                n_jobs = -1)\n",
    "\n",
    "search_grid.fit(train[features],train['cnt'])"
   ]
  },
  {
   "cell_type": "code",
   "execution_count": 25,
   "metadata": {},
   "outputs": [
    {
     "data": {
      "text/plain": [
       "{'n_estimators': 2000,\n",
       " 'min_samples_split': 2,\n",
       " 'min_samples_leaf': 1,\n",
       " 'max_features': 'auto',\n",
       " 'max_depth': None,\n",
       " 'bootstrap': True}"
      ]
     },
     "execution_count": 25,
     "metadata": {},
     "output_type": "execute_result"
    }
   ],
   "source": [
    "search_grid.best_params_"
   ]
  },
  {
   "cell_type": "code",
   "execution_count": 27,
   "metadata": {},
   "outputs": [
    {
     "data": {
      "text/html": [
       "<div>\n",
       "<style scoped>\n",
       "    .dataframe tbody tr th:only-of-type {\n",
       "        vertical-align: middle;\n",
       "    }\n",
       "\n",
       "    .dataframe tbody tr th {\n",
       "        vertical-align: top;\n",
       "    }\n",
       "\n",
       "    .dataframe thead th {\n",
       "        text-align: right;\n",
       "    }\n",
       "</style>\n",
       "<table border=\"1\" class=\"dataframe\">\n",
       "  <thead>\n",
       "    <tr style=\"text-align: right;\">\n",
       "      <th></th>\n",
       "      <th>mean_fit_time</th>\n",
       "      <th>std_fit_time</th>\n",
       "      <th>mean_score_time</th>\n",
       "      <th>std_score_time</th>\n",
       "      <th>param_n_estimators</th>\n",
       "      <th>param_min_samples_split</th>\n",
       "      <th>param_min_samples_leaf</th>\n",
       "      <th>param_max_features</th>\n",
       "      <th>param_max_depth</th>\n",
       "      <th>param_bootstrap</th>\n",
       "      <th>params</th>\n",
       "      <th>split0_test_score</th>\n",
       "      <th>split1_test_score</th>\n",
       "      <th>mean_test_score</th>\n",
       "      <th>std_test_score</th>\n",
       "      <th>rank_test_score</th>\n",
       "    </tr>\n",
       "  </thead>\n",
       "  <tbody>\n",
       "    <tr>\n",
       "      <th>0</th>\n",
       "      <td>10.305452</td>\n",
       "      <td>0.058350</td>\n",
       "      <td>1.814226</td>\n",
       "      <td>0.011407</td>\n",
       "      <td>800</td>\n",
       "      <td>5</td>\n",
       "      <td>1</td>\n",
       "      <td>sqrt</td>\n",
       "      <td>90</td>\n",
       "      <td>False</td>\n",
       "      <td>{'n_estimators': 800, 'min_samples_split': 5, ...</td>\n",
       "      <td>0.885008</td>\n",
       "      <td>0.880915</td>\n",
       "      <td>0.882962</td>\n",
       "      <td>0.002047</td>\n",
       "      <td>46</td>\n",
       "    </tr>\n",
       "    <tr>\n",
       "      <th>1</th>\n",
       "      <td>99.492102</td>\n",
       "      <td>0.653973</td>\n",
       "      <td>5.094592</td>\n",
       "      <td>0.165618</td>\n",
       "      <td>2000</td>\n",
       "      <td>2</td>\n",
       "      <td>2</td>\n",
       "      <td>auto</td>\n",
       "      <td>110</td>\n",
       "      <td>False</td>\n",
       "      <td>{'n_estimators': 2000, 'min_samples_split': 2,...</td>\n",
       "      <td>0.897304</td>\n",
       "      <td>0.897856</td>\n",
       "      <td>0.897580</td>\n",
       "      <td>0.000276</td>\n",
       "      <td>30</td>\n",
       "    </tr>\n",
       "    <tr>\n",
       "      <th>2</th>\n",
       "      <td>10.484933</td>\n",
       "      <td>0.126729</td>\n",
       "      <td>2.213811</td>\n",
       "      <td>0.051986</td>\n",
       "      <td>1200</td>\n",
       "      <td>5</td>\n",
       "      <td>1</td>\n",
       "      <td>sqrt</td>\n",
       "      <td>50</td>\n",
       "      <td>True</td>\n",
       "      <td>{'n_estimators': 1200, 'min_samples_split': 5,...</td>\n",
       "      <td>0.863343</td>\n",
       "      <td>0.859781</td>\n",
       "      <td>0.861562</td>\n",
       "      <td>0.001781</td>\n",
       "      <td>60</td>\n",
       "    </tr>\n",
       "    <tr>\n",
       "      <th>3</th>\n",
       "      <td>10.292024</td>\n",
       "      <td>0.015540</td>\n",
       "      <td>1.758998</td>\n",
       "      <td>0.031997</td>\n",
       "      <td>1000</td>\n",
       "      <td>2</td>\n",
       "      <td>4</td>\n",
       "      <td>sqrt</td>\n",
       "      <td>110</td>\n",
       "      <td>False</td>\n",
       "      <td>{'n_estimators': 1000, 'min_samples_split': 2,...</td>\n",
       "      <td>0.859235</td>\n",
       "      <td>0.856408</td>\n",
       "      <td>0.857822</td>\n",
       "      <td>0.001414</td>\n",
       "      <td>70</td>\n",
       "    </tr>\n",
       "    <tr>\n",
       "      <th>4</th>\n",
       "      <td>51.482949</td>\n",
       "      <td>0.200256</td>\n",
       "      <td>1.668186</td>\n",
       "      <td>0.016086</td>\n",
       "      <td>1600</td>\n",
       "      <td>10</td>\n",
       "      <td>4</td>\n",
       "      <td>auto</td>\n",
       "      <td>10</td>\n",
       "      <td>False</td>\n",
       "      <td>{'n_estimators': 1600, 'min_samples_split': 10...</td>\n",
       "      <td>0.891202</td>\n",
       "      <td>0.879219</td>\n",
       "      <td>0.885211</td>\n",
       "      <td>0.005991</td>\n",
       "      <td>42</td>\n",
       "    </tr>\n",
       "  </tbody>\n",
       "</table>\n",
       "</div>"
      ],
      "text/plain": [
       "   mean_fit_time  std_fit_time  mean_score_time  std_score_time  \\\n",
       "0      10.305452      0.058350         1.814226        0.011407   \n",
       "1      99.492102      0.653973         5.094592        0.165618   \n",
       "2      10.484933      0.126729         2.213811        0.051986   \n",
       "3      10.292024      0.015540         1.758998        0.031997   \n",
       "4      51.482949      0.200256         1.668186        0.016086   \n",
       "\n",
       "  param_n_estimators param_min_samples_split param_min_samples_leaf  \\\n",
       "0                800                       5                      1   \n",
       "1               2000                       2                      2   \n",
       "2               1200                       5                      1   \n",
       "3               1000                       2                      4   \n",
       "4               1600                      10                      4   \n",
       "\n",
       "  param_max_features param_max_depth param_bootstrap  \\\n",
       "0               sqrt              90           False   \n",
       "1               auto             110           False   \n",
       "2               sqrt              50            True   \n",
       "3               sqrt             110           False   \n",
       "4               auto              10           False   \n",
       "\n",
       "                                              params  split0_test_score  \\\n",
       "0  {'n_estimators': 800, 'min_samples_split': 5, ...           0.885008   \n",
       "1  {'n_estimators': 2000, 'min_samples_split': 2,...           0.897304   \n",
       "2  {'n_estimators': 1200, 'min_samples_split': 5,...           0.863343   \n",
       "3  {'n_estimators': 1000, 'min_samples_split': 2,...           0.859235   \n",
       "4  {'n_estimators': 1600, 'min_samples_split': 10...           0.891202   \n",
       "\n",
       "   split1_test_score  mean_test_score  std_test_score  rank_test_score  \n",
       "0           0.880915         0.882962        0.002047               46  \n",
       "1           0.897856         0.897580        0.000276               30  \n",
       "2           0.859781         0.861562        0.001781               60  \n",
       "3           0.856408         0.857822        0.001414               70  \n",
       "4           0.879219         0.885211        0.005991               42  "
      ]
     },
     "execution_count": 27,
     "metadata": {},
     "output_type": "execute_result"
    }
   ],
   "source": [
    "search_grid_results = pd.DataFrame.from_dict(search_grid.cv_results_)\n",
    "search_grid_results.head()"
   ]
  },
  {
   "cell_type": "code",
   "execution_count": 31,
   "metadata": {},
   "outputs": [
    {
     "data": {
      "text/html": [
       "<div>\n",
       "<style scoped>\n",
       "    .dataframe tbody tr th:only-of-type {\n",
       "        vertical-align: middle;\n",
       "    }\n",
       "\n",
       "    .dataframe tbody tr th {\n",
       "        vertical-align: top;\n",
       "    }\n",
       "\n",
       "    .dataframe thead th {\n",
       "        text-align: right;\n",
       "    }\n",
       "</style>\n",
       "<table border=\"1\" class=\"dataframe\">\n",
       "  <thead>\n",
       "    <tr style=\"text-align: right;\">\n",
       "      <th></th>\n",
       "      <th>mean_fit_time</th>\n",
       "      <th>std_fit_time</th>\n",
       "      <th>mean_score_time</th>\n",
       "      <th>std_score_time</th>\n",
       "      <th>param_n_estimators</th>\n",
       "      <th>param_min_samples_split</th>\n",
       "      <th>param_min_samples_leaf</th>\n",
       "      <th>param_max_features</th>\n",
       "      <th>param_max_depth</th>\n",
       "      <th>param_bootstrap</th>\n",
       "      <th>params</th>\n",
       "      <th>split0_test_score</th>\n",
       "      <th>split1_test_score</th>\n",
       "      <th>mean_test_score</th>\n",
       "      <th>std_test_score</th>\n",
       "      <th>rank_test_score</th>\n",
       "    </tr>\n",
       "  </thead>\n",
       "  <tbody>\n",
       "    <tr>\n",
       "      <th>18</th>\n",
       "      <td>84.214134</td>\n",
       "      <td>0.013595</td>\n",
       "      <td>6.145330</td>\n",
       "      <td>0.029057</td>\n",
       "      <td>2000</td>\n",
       "      <td>2</td>\n",
       "      <td>1</td>\n",
       "      <td>auto</td>\n",
       "      <td>None</td>\n",
       "      <td>True</td>\n",
       "      <td>{'n_estimators': 2000, 'min_samples_split': 2,...</td>\n",
       "      <td>0.939338</td>\n",
       "      <td>0.939646</td>\n",
       "      <td>0.939492</td>\n",
       "      <td>0.000154</td>\n",
       "      <td>1</td>\n",
       "    </tr>\n",
       "    <tr>\n",
       "      <th>77</th>\n",
       "      <td>28.254435</td>\n",
       "      <td>0.371365</td>\n",
       "      <td>1.647282</td>\n",
       "      <td>0.135813</td>\n",
       "      <td>600</td>\n",
       "      <td>2</td>\n",
       "      <td>1</td>\n",
       "      <td>auto</td>\n",
       "      <td>70</td>\n",
       "      <td>True</td>\n",
       "      <td>{'n_estimators': 600, 'min_samples_split': 2, ...</td>\n",
       "      <td>0.939210</td>\n",
       "      <td>0.939660</td>\n",
       "      <td>0.939435</td>\n",
       "      <td>0.000225</td>\n",
       "      <td>2</td>\n",
       "    </tr>\n",
       "    <tr>\n",
       "      <th>92</th>\n",
       "      <td>67.116131</td>\n",
       "      <td>0.138315</td>\n",
       "      <td>2.943558</td>\n",
       "      <td>0.311016</td>\n",
       "      <td>1800</td>\n",
       "      <td>2</td>\n",
       "      <td>2</td>\n",
       "      <td>auto</td>\n",
       "      <td>60</td>\n",
       "      <td>True</td>\n",
       "      <td>{'n_estimators': 1800, 'min_samples_split': 2,...</td>\n",
       "      <td>0.937919</td>\n",
       "      <td>0.939295</td>\n",
       "      <td>0.938607</td>\n",
       "      <td>0.000688</td>\n",
       "      <td>3</td>\n",
       "    </tr>\n",
       "    <tr>\n",
       "      <th>46</th>\n",
       "      <td>40.133485</td>\n",
       "      <td>0.251162</td>\n",
       "      <td>2.252275</td>\n",
       "      <td>0.019189</td>\n",
       "      <td>1200</td>\n",
       "      <td>5</td>\n",
       "      <td>1</td>\n",
       "      <td>auto</td>\n",
       "      <td>90</td>\n",
       "      <td>True</td>\n",
       "      <td>{'n_estimators': 1200, 'min_samples_split': 5,...</td>\n",
       "      <td>0.938061</td>\n",
       "      <td>0.938966</td>\n",
       "      <td>0.938514</td>\n",
       "      <td>0.000452</td>\n",
       "      <td>4</td>\n",
       "    </tr>\n",
       "    <tr>\n",
       "      <th>87</th>\n",
       "      <td>53.845454</td>\n",
       "      <td>0.441432</td>\n",
       "      <td>3.060728</td>\n",
       "      <td>0.089531</td>\n",
       "      <td>1400</td>\n",
       "      <td>5</td>\n",
       "      <td>2</td>\n",
       "      <td>auto</td>\n",
       "      <td>70</td>\n",
       "      <td>True</td>\n",
       "      <td>{'n_estimators': 1400, 'min_samples_split': 5,...</td>\n",
       "      <td>0.937297</td>\n",
       "      <td>0.938994</td>\n",
       "      <td>0.938145</td>\n",
       "      <td>0.000848</td>\n",
       "      <td>5</td>\n",
       "    </tr>\n",
       "    <tr>\n",
       "      <th>...</th>\n",
       "      <td>...</td>\n",
       "      <td>...</td>\n",
       "      <td>...</td>\n",
       "      <td>...</td>\n",
       "      <td>...</td>\n",
       "      <td>...</td>\n",
       "      <td>...</td>\n",
       "      <td>...</td>\n",
       "      <td>...</td>\n",
       "      <td>...</td>\n",
       "      <td>...</td>\n",
       "      <td>...</td>\n",
       "      <td>...</td>\n",
       "      <td>...</td>\n",
       "      <td>...</td>\n",
       "      <td>...</td>\n",
       "    </tr>\n",
       "    <tr>\n",
       "      <th>74</th>\n",
       "      <td>11.226081</td>\n",
       "      <td>0.257995</td>\n",
       "      <td>2.765963</td>\n",
       "      <td>0.138389</td>\n",
       "      <td>800</td>\n",
       "      <td>5</td>\n",
       "      <td>4</td>\n",
       "      <td>sqrt</td>\n",
       "      <td>90</td>\n",
       "      <td>True</td>\n",
       "      <td>{'n_estimators': 800, 'min_samples_split': 5, ...</td>\n",
       "      <td>0.831860</td>\n",
       "      <td>0.827608</td>\n",
       "      <td>0.829734</td>\n",
       "      <td>0.002126</td>\n",
       "      <td>96</td>\n",
       "    </tr>\n",
       "    <tr>\n",
       "      <th>27</th>\n",
       "      <td>10.365937</td>\n",
       "      <td>0.078619</td>\n",
       "      <td>1.693297</td>\n",
       "      <td>0.101758</td>\n",
       "      <td>1200</td>\n",
       "      <td>2</td>\n",
       "      <td>4</td>\n",
       "      <td>sqrt</td>\n",
       "      <td>20</td>\n",
       "      <td>True</td>\n",
       "      <td>{'n_estimators': 1200, 'min_samples_split': 2,...</td>\n",
       "      <td>0.834016</td>\n",
       "      <td>0.825109</td>\n",
       "      <td>0.829563</td>\n",
       "      <td>0.004453</td>\n",
       "      <td>97</td>\n",
       "    </tr>\n",
       "    <tr>\n",
       "      <th>29</th>\n",
       "      <td>14.528657</td>\n",
       "      <td>0.313112</td>\n",
       "      <td>2.552863</td>\n",
       "      <td>0.051156</td>\n",
       "      <td>1600</td>\n",
       "      <td>10</td>\n",
       "      <td>4</td>\n",
       "      <td>sqrt</td>\n",
       "      <td>80</td>\n",
       "      <td>True</td>\n",
       "      <td>{'n_estimators': 1600, 'min_samples_split': 10...</td>\n",
       "      <td>0.829880</td>\n",
       "      <td>0.827224</td>\n",
       "      <td>0.828552</td>\n",
       "      <td>0.001328</td>\n",
       "      <td>98</td>\n",
       "    </tr>\n",
       "    <tr>\n",
       "      <th>65</th>\n",
       "      <td>5.316931</td>\n",
       "      <td>0.081528</td>\n",
       "      <td>0.807979</td>\n",
       "      <td>0.038499</td>\n",
       "      <td>600</td>\n",
       "      <td>10</td>\n",
       "      <td>4</td>\n",
       "      <td>sqrt</td>\n",
       "      <td>50</td>\n",
       "      <td>True</td>\n",
       "      <td>{'n_estimators': 600, 'min_samples_split': 10,...</td>\n",
       "      <td>0.829693</td>\n",
       "      <td>0.826885</td>\n",
       "      <td>0.828289</td>\n",
       "      <td>0.001404</td>\n",
       "      <td>99</td>\n",
       "    </tr>\n",
       "    <tr>\n",
       "      <th>76</th>\n",
       "      <td>11.250530</td>\n",
       "      <td>0.395730</td>\n",
       "      <td>1.566181</td>\n",
       "      <td>0.167126</td>\n",
       "      <td>1000</td>\n",
       "      <td>5</td>\n",
       "      <td>4</td>\n",
       "      <td>sqrt</td>\n",
       "      <td>10</td>\n",
       "      <td>False</td>\n",
       "      <td>{'n_estimators': 1000, 'min_samples_split': 5,...</td>\n",
       "      <td>0.780632</td>\n",
       "      <td>0.771667</td>\n",
       "      <td>0.776149</td>\n",
       "      <td>0.004482</td>\n",
       "      <td>100</td>\n",
       "    </tr>\n",
       "  </tbody>\n",
       "</table>\n",
       "<p>100 rows × 16 columns</p>\n",
       "</div>"
      ],
      "text/plain": [
       "    mean_fit_time  std_fit_time  mean_score_time  std_score_time  \\\n",
       "18      84.214134      0.013595         6.145330        0.029057   \n",
       "77      28.254435      0.371365         1.647282        0.135813   \n",
       "92      67.116131      0.138315         2.943558        0.311016   \n",
       "46      40.133485      0.251162         2.252275        0.019189   \n",
       "87      53.845454      0.441432         3.060728        0.089531   \n",
       "..            ...           ...              ...             ...   \n",
       "74      11.226081      0.257995         2.765963        0.138389   \n",
       "27      10.365937      0.078619         1.693297        0.101758   \n",
       "29      14.528657      0.313112         2.552863        0.051156   \n",
       "65       5.316931      0.081528         0.807979        0.038499   \n",
       "76      11.250530      0.395730         1.566181        0.167126   \n",
       "\n",
       "   param_n_estimators param_min_samples_split param_min_samples_leaf  \\\n",
       "18               2000                       2                      1   \n",
       "77                600                       2                      1   \n",
       "92               1800                       2                      2   \n",
       "46               1200                       5                      1   \n",
       "87               1400                       5                      2   \n",
       "..                ...                     ...                    ...   \n",
       "74                800                       5                      4   \n",
       "27               1200                       2                      4   \n",
       "29               1600                      10                      4   \n",
       "65                600                      10                      4   \n",
       "76               1000                       5                      4   \n",
       "\n",
       "   param_max_features param_max_depth param_bootstrap  \\\n",
       "18               auto            None            True   \n",
       "77               auto              70            True   \n",
       "92               auto              60            True   \n",
       "46               auto              90            True   \n",
       "87               auto              70            True   \n",
       "..                ...             ...             ...   \n",
       "74               sqrt              90            True   \n",
       "27               sqrt              20            True   \n",
       "29               sqrt              80            True   \n",
       "65               sqrt              50            True   \n",
       "76               sqrt              10           False   \n",
       "\n",
       "                                               params  split0_test_score  \\\n",
       "18  {'n_estimators': 2000, 'min_samples_split': 2,...           0.939338   \n",
       "77  {'n_estimators': 600, 'min_samples_split': 2, ...           0.939210   \n",
       "92  {'n_estimators': 1800, 'min_samples_split': 2,...           0.937919   \n",
       "46  {'n_estimators': 1200, 'min_samples_split': 5,...           0.938061   \n",
       "87  {'n_estimators': 1400, 'min_samples_split': 5,...           0.937297   \n",
       "..                                                ...                ...   \n",
       "74  {'n_estimators': 800, 'min_samples_split': 5, ...           0.831860   \n",
       "27  {'n_estimators': 1200, 'min_samples_split': 2,...           0.834016   \n",
       "29  {'n_estimators': 1600, 'min_samples_split': 10...           0.829880   \n",
       "65  {'n_estimators': 600, 'min_samples_split': 10,...           0.829693   \n",
       "76  {'n_estimators': 1000, 'min_samples_split': 5,...           0.780632   \n",
       "\n",
       "    split1_test_score  mean_test_score  std_test_score  rank_test_score  \n",
       "18           0.939646         0.939492        0.000154                1  \n",
       "77           0.939660         0.939435        0.000225                2  \n",
       "92           0.939295         0.938607        0.000688                3  \n",
       "46           0.938966         0.938514        0.000452                4  \n",
       "87           0.938994         0.938145        0.000848                5  \n",
       "..                ...              ...             ...              ...  \n",
       "74           0.827608         0.829734        0.002126               96  \n",
       "27           0.825109         0.829563        0.004453               97  \n",
       "29           0.827224         0.828552        0.001328               98  \n",
       "65           0.826885         0.828289        0.001404               99  \n",
       "76           0.771667         0.776149        0.004482              100  \n",
       "\n",
       "[100 rows x 16 columns]"
      ]
     },
     "execution_count": 31,
     "metadata": {},
     "output_type": "execute_result"
    }
   ],
   "source": [
    "search_grid_results.sort_values(by='rank_test_score',ascending=True)"
   ]
  },
  {
   "cell_type": "code",
   "execution_count": 32,
   "metadata": {},
   "outputs": [
    {
     "data": {
      "text/plain": [
       "Index(['mean_fit_time', 'std_fit_time', 'mean_score_time', 'std_score_time',\n",
       "       'param_n_estimators', 'param_min_samples_split',\n",
       "       'param_min_samples_leaf', 'param_max_features', 'param_max_depth',\n",
       "       'param_bootstrap', 'params', 'split0_test_score', 'split1_test_score',\n",
       "       'mean_test_score', 'std_test_score', 'rank_test_score'],\n",
       "      dtype='object')"
      ]
     },
     "execution_count": 32,
     "metadata": {},
     "output_type": "execute_result"
    }
   ],
   "source": [
    "search_grid_results.columns"
   ]
  },
  {
   "cell_type": "markdown",
   "metadata": {},
   "source": [
    "###### heatmap_data = pd.pivot_table(search_grid_results, values='mean_test_score',\n",
    "                             index=['param_min_samples_split'],\n",
    "                             columns='param_n_estimators')\n",
    "\n",
    "sns.set(rc={'figure.figsize':(14,7)})\n",
    "sns.heatmap(heatmap_data, annot = True, cmap='viridis')\n"
   ]
  },
  {
   "cell_type": "markdown",
   "metadata": {},
   "source": [
    "Across a few different parameters, we see there is not a large difference in performance. This means that our dataset and model are relatively insensitive to changes in the hyperparameters. "
   ]
  },
  {
   "cell_type": "markdown",
   "metadata": {},
   "source": [
    "## Final Model\n",
    "\n",
    "To wrap up this project, we will run the final model using the features and hyperparameters we decided on above."
   ]
  },
  {
   "cell_type": "code",
   "execution_count": 36,
   "metadata": {},
   "outputs": [
    {
     "name": "stdout",
     "output_type": "stream",
     "text": [
      "1643.5554236568246\n"
     ]
    }
   ],
   "source": [
    "rfr = RandomForestRegressor(n_estimators= 2000,\n",
    "                            min_samples_split= 2,\n",
    "                            min_samples_leaf= 1,\n",
    "                            max_features= 'auto',\n",
    "                            max_depth= None,\n",
    "                            bootstrap= True)\n",
    "kf = KFold(n_splits=5,shuffle=True)\n",
    "\n",
    "training_col = bike_rentals.columns.tolist()\n",
    "training_col.remove('cnt')\n",
    "training_col.remove('casual')\n",
    "training_col.remove('dteday')\n",
    "training_col.remove('registered')\n",
    "\n",
    "target_col = 'cnt'\n",
    "    \n",
    "mses = cross_val_score(rfr,\n",
    "                      bike_rentals[training_col],\n",
    "                      bike_rentals[target_col],\n",
    "                      scoring='neg_mean_squared_error',\n",
    "                      cv=kf)\n",
    "    \n",
    "final_mse = np.absolute(np.mean(mses))\n",
    "print(final_mse)"
   ]
  },
  {
   "cell_type": "code",
   "execution_count": null,
   "metadata": {},
   "outputs": [],
   "source": []
  }
 ],
 "metadata": {
  "kernelspec": {
   "display_name": "Python 3",
   "language": "python",
   "name": "python3"
  },
  "language_info": {
   "codemirror_mode": {
    "name": "ipython",
    "version": 3
   },
   "file_extension": ".py",
   "mimetype": "text/x-python",
   "name": "python",
   "nbconvert_exporter": "python",
   "pygments_lexer": "ipython3",
   "version": "3.8.8"
  }
 },
 "nbformat": 4,
 "nbformat_minor": 1
}
