{
 "cells": [
  {
   "cell_type": "markdown",
   "metadata": {
    "collapsed": true
   },
   "source": [
    "# Clean and Analyze Employee Exit Surveys\n",
    "\n",
    "In this project, we will clean and analyze employee exit survey data from the Department of Education, Training, and Employment (DETE) as well as the Technical and Further Education Institute (TAFE) in Australia. The original DETE data can be found [here](https://data.gov.au/dataset/ds-qld-fe96ff30-d157-4a81-851d-215f2a0fe26d/details?q=exit%20survey). The TAFE data is no longer available. \n",
    "\n",
    "## Goals\n",
    "The stakeholders for this project want to know the following:\n",
    "- Are employees who only worked for the institutes for a short period of time resigning due to some kind of dissatisfaction? What about employees who have been there longer?\n",
    "- Are younger employees resigning due to some kind of dissatisfaction? What about older employees?\n",
    "\n",
    "## Data Dictionary\n",
    "Some columns we will use from the DETE data:\n",
    "- ```ID```: An id used to identify the participant of the survey\n",
    "- ```SeparationType```: The reason why the person's employment ended\n",
    "- ```Cease Date```: The year or month the person's employment ended\n",
    "- ```DETE Start Date```: The year the person began employment with the DETE\n",
    "\n",
    "Some columns we will use from the TAFE data:\n",
    "- ```Record ID```: An id used to identify the participant of the survey\n",
    "- ```Reason for ceasing employment```: The reason why the person's employment ended\n",
    "- ```LengthofServiceOverall. Overall Length of Service at Institute (in years)```: The length of the person's employment (in years)\n"
   ]
  },
  {
   "cell_type": "code",
   "execution_count": 1,
   "metadata": {},
   "outputs": [],
   "source": [
    "import numpy as np\n",
    "import pandas as pd\n",
    "import matplotlib.pyplot as plt\n",
    "import seaborn as sns\n",
    "\n",
    "plt.style.use('seaborn-whitegrid')\n",
    "\n",
    "\n",
    "%matplotlib inline"
   ]
  },
  {
   "cell_type": "code",
   "execution_count": 2,
   "metadata": {},
   "outputs": [],
   "source": [
    "dete_survey = pd.read_csv('dete_survey.csv',na_values='Not Stated')\n",
    "tafe_survey = pd.read_csv('tafe_survey.csv')"
   ]
  },
  {
   "cell_type": "code",
   "execution_count": 3,
   "metadata": {},
   "outputs": [
    {
     "data": {
      "text/plain": [
       "0    1984.0\n",
       "1       NaN\n",
       "2    2011.0\n",
       "3    2005.0\n",
       "4    1970.0\n",
       "Name: DETE Start Date, dtype: float64"
      ]
     },
     "execution_count": 3,
     "metadata": {},
     "output_type": "execute_result"
    }
   ],
   "source": [
    "dete_survey['DETE Start Date'].head()"
   ]
  },
  {
   "cell_type": "code",
   "execution_count": null,
   "metadata": {},
   "outputs": [],
   "source": []
  },
  {
   "cell_type": "code",
   "execution_count": 4,
   "metadata": {},
   "outputs": [
    {
     "name": "stdout",
     "output_type": "stream",
     "text": [
      "<class 'pandas.core.frame.DataFrame'>\n",
      "RangeIndex: 822 entries, 0 to 821\n",
      "Data columns (total 56 columns):\n",
      " #   Column                               Non-Null Count  Dtype  \n",
      "---  ------                               --------------  -----  \n",
      " 0   ID                                   822 non-null    int64  \n",
      " 1   SeparationType                       822 non-null    object \n",
      " 2   Cease Date                           788 non-null    object \n",
      " 3   DETE Start Date                      749 non-null    float64\n",
      " 4   Role Start Date                      724 non-null    float64\n",
      " 5   Position                             817 non-null    object \n",
      " 6   Classification                       455 non-null    object \n",
      " 7   Region                               717 non-null    object \n",
      " 8   Business Unit                        126 non-null    object \n",
      " 9   Employment Status                    817 non-null    object \n",
      " 10  Career move to public sector         822 non-null    bool   \n",
      " 11  Career move to private sector        822 non-null    bool   \n",
      " 12  Interpersonal conflicts              822 non-null    bool   \n",
      " 13  Job dissatisfaction                  822 non-null    bool   \n",
      " 14  Dissatisfaction with the department  822 non-null    bool   \n",
      " 15  Physical work environment            822 non-null    bool   \n",
      " 16  Lack of recognition                  822 non-null    bool   \n",
      " 17  Lack of job security                 822 non-null    bool   \n",
      " 18  Work location                        822 non-null    bool   \n",
      " 19  Employment conditions                822 non-null    bool   \n",
      " 20  Maternity/family                     822 non-null    bool   \n",
      " 21  Relocation                           822 non-null    bool   \n",
      " 22  Study/Travel                         822 non-null    bool   \n",
      " 23  Ill Health                           822 non-null    bool   \n",
      " 24  Traumatic incident                   822 non-null    bool   \n",
      " 25  Work life balance                    822 non-null    bool   \n",
      " 26  Workload                             822 non-null    bool   \n",
      " 27  None of the above                    822 non-null    bool   \n",
      " 28  Professional Development             808 non-null    object \n",
      " 29  Opportunities for promotion          735 non-null    object \n",
      " 30  Staff morale                         816 non-null    object \n",
      " 31  Workplace issue                      788 non-null    object \n",
      " 32  Physical environment                 817 non-null    object \n",
      " 33  Worklife balance                     815 non-null    object \n",
      " 34  Stress and pressure support          810 non-null    object \n",
      " 35  Performance of supervisor            813 non-null    object \n",
      " 36  Peer support                         812 non-null    object \n",
      " 37  Initiative                           813 non-null    object \n",
      " 38  Skills                               811 non-null    object \n",
      " 39  Coach                                767 non-null    object \n",
      " 40  Career Aspirations                   746 non-null    object \n",
      " 41  Feedback                             792 non-null    object \n",
      " 42  Further PD                           768 non-null    object \n",
      " 43  Communication                        814 non-null    object \n",
      " 44  My say                               812 non-null    object \n",
      " 45  Information                          816 non-null    object \n",
      " 46  Kept informed                        813 non-null    object \n",
      " 47  Wellness programs                    766 non-null    object \n",
      " 48  Health & Safety                      793 non-null    object \n",
      " 49  Gender                               798 non-null    object \n",
      " 50  Age                                  811 non-null    object \n",
      " 51  Aboriginal                           16 non-null     object \n",
      " 52  Torres Strait                        3 non-null      object \n",
      " 53  South Sea                            7 non-null      object \n",
      " 54  Disability                           23 non-null     object \n",
      " 55  NESB                                 32 non-null     object \n",
      "dtypes: bool(18), float64(2), int64(1), object(35)\n",
      "memory usage: 258.6+ KB\n"
     ]
    }
   ],
   "source": [
    "dete_survey.info()"
   ]
  },
  {
   "cell_type": "code",
   "execution_count": 5,
   "metadata": {},
   "outputs": [
    {
     "name": "stdout",
     "output_type": "stream",
     "text": [
      "<class 'pandas.core.frame.DataFrame'>\n",
      "RangeIndex: 702 entries, 0 to 701\n",
      "Data columns (total 72 columns):\n",
      " #   Column                                                                                                                                                         Non-Null Count  Dtype  \n",
      "---  ------                                                                                                                                                         --------------  -----  \n",
      " 0   Record ID                                                                                                                                                      702 non-null    float64\n",
      " 1   Institute                                                                                                                                                      702 non-null    object \n",
      " 2   WorkArea                                                                                                                                                       702 non-null    object \n",
      " 3   CESSATION YEAR                                                                                                                                                 695 non-null    float64\n",
      " 4   Reason for ceasing employment                                                                                                                                  701 non-null    object \n",
      " 5   Contributing Factors. Career Move - Public Sector                                                                                                              437 non-null    object \n",
      " 6   Contributing Factors. Career Move - Private Sector                                                                                                             437 non-null    object \n",
      " 7   Contributing Factors. Career Move - Self-employment                                                                                                            437 non-null    object \n",
      " 8   Contributing Factors. Ill Health                                                                                                                               437 non-null    object \n",
      " 9   Contributing Factors. Maternity/Family                                                                                                                         437 non-null    object \n",
      " 10  Contributing Factors. Dissatisfaction                                                                                                                          437 non-null    object \n",
      " 11  Contributing Factors. Job Dissatisfaction                                                                                                                      437 non-null    object \n",
      " 12  Contributing Factors. Interpersonal Conflict                                                                                                                   437 non-null    object \n",
      " 13  Contributing Factors. Study                                                                                                                                    437 non-null    object \n",
      " 14  Contributing Factors. Travel                                                                                                                                   437 non-null    object \n",
      " 15  Contributing Factors. Other                                                                                                                                    437 non-null    object \n",
      " 16  Contributing Factors. NONE                                                                                                                                     437 non-null    object \n",
      " 17  Main Factor. Which of these was the main factor for leaving?                                                                                                   113 non-null    object \n",
      " 18  InstituteViews. Topic:1. I feel the senior leadership had a clear vision and direction                                                                         608 non-null    object \n",
      " 19  InstituteViews. Topic:2. I was given access to skills training to help me do my job better                                                                     613 non-null    object \n",
      " 20  InstituteViews. Topic:3. I was given adequate opportunities for personal development                                                                           610 non-null    object \n",
      " 21  InstituteViews. Topic:4. I was given adequate opportunities for promotion within %Institute]Q25LBL%                                                            608 non-null    object \n",
      " 22  InstituteViews. Topic:5. I felt the salary for the job was right for the responsibilities I had                                                                615 non-null    object \n",
      " 23  InstituteViews. Topic:6. The organisation recognised when staff did good work                                                                                  607 non-null    object \n",
      " 24  InstituteViews. Topic:7. Management was generally supportive of me                                                                                             614 non-null    object \n",
      " 25  InstituteViews. Topic:8. Management was generally supportive of my team                                                                                        608 non-null    object \n",
      " 26  InstituteViews. Topic:9. I was kept informed of the changes in the organisation which would affect me                                                          610 non-null    object \n",
      " 27  InstituteViews. Topic:10. Staff morale was positive within the Institute                                                                                       602 non-null    object \n",
      " 28  InstituteViews. Topic:11. If I had a workplace issue it was dealt with quickly                                                                                 601 non-null    object \n",
      " 29  InstituteViews. Topic:12. If I had a workplace issue it was dealt with efficiently                                                                             597 non-null    object \n",
      " 30  InstituteViews. Topic:13. If I had a workplace issue it was dealt with discreetly                                                                              601 non-null    object \n",
      " 31  WorkUnitViews. Topic:14. I was satisfied with the quality of the management and supervision within my work unit                                                609 non-null    object \n",
      " 32  WorkUnitViews. Topic:15. I worked well with my colleagues                                                                                                      605 non-null    object \n",
      " 33  WorkUnitViews. Topic:16. My job was challenging and interesting                                                                                                607 non-null    object \n",
      " 34  WorkUnitViews. Topic:17. I was encouraged to use my initiative in the course of my work                                                                        610 non-null    object \n",
      " 35  WorkUnitViews. Topic:18. I had sufficient contact with other people in my job                                                                                  613 non-null    object \n",
      " 36  WorkUnitViews. Topic:19. I was given adequate support and co-operation by my peers to enable me to do my job                                                   609 non-null    object \n",
      " 37  WorkUnitViews. Topic:20. I was able to use the full range of my skills in my job                                                                               609 non-null    object \n",
      " 38  WorkUnitViews. Topic:21. I was able to use the full range of my abilities in my job. ; Category:Level of Agreement; Question:YOUR VIEWS ABOUT YOUR WORK UNIT]  608 non-null    object \n",
      " 39  WorkUnitViews. Topic:22. I was able to use the full range of my knowledge in my job                                                                            608 non-null    object \n",
      " 40  WorkUnitViews. Topic:23. My job provided sufficient variety                                                                                                    611 non-null    object \n",
      " 41  WorkUnitViews. Topic:24. I was able to cope with the level of stress and pressure in my job                                                                    610 non-null    object \n",
      " 42  WorkUnitViews. Topic:25. My job allowed me to balance the demands of work and family to my satisfaction                                                        611 non-null    object \n",
      " 43  WorkUnitViews. Topic:26. My supervisor gave me adequate personal recognition and feedback on my performance                                                    606 non-null    object \n",
      " 44  WorkUnitViews. Topic:27. My working environment was satisfactory e.g. sufficient space, good lighting, suitable seating and working area                       610 non-null    object \n",
      " 45  WorkUnitViews. Topic:28. I was given the opportunity to mentor and coach others in order for me to pass on my skills and knowledge prior to my cessation date  609 non-null    object \n",
      " 46  WorkUnitViews. Topic:29. There was adequate communication between staff in my unit                                                                             603 non-null    object \n",
      " 47  WorkUnitViews. Topic:30. Staff morale was positive within my work unit                                                                                         606 non-null    object \n",
      " 48  Induction. Did you undertake Workplace Induction?                                                                                                              619 non-null    object \n",
      " 49  InductionInfo. Topic:Did you undertake a Corporate Induction?                                                                                                  432 non-null    object \n",
      " 50  InductionInfo. Topic:Did you undertake a Institute Induction?                                                                                                  483 non-null    object \n",
      " 51  InductionInfo. Topic: Did you undertake Team Induction?                                                                                                        440 non-null    object \n",
      " 52  InductionInfo. Face to Face Topic:Did you undertake a Corporate Induction; Category:How it was conducted?                                                      555 non-null    object \n",
      " 53  InductionInfo. On-line Topic:Did you undertake a Corporate Induction; Category:How it was conducted?                                                           555 non-null    object \n",
      " 54  InductionInfo. Induction Manual Topic:Did you undertake a Corporate Induction?                                                                                 555 non-null    object \n",
      " 55  InductionInfo. Face to Face Topic:Did you undertake a Institute Induction?                                                                                     530 non-null    object \n",
      " 56  InductionInfo. On-line Topic:Did you undertake a Institute Induction?                                                                                          555 non-null    object \n",
      " 57  InductionInfo. Induction Manual Topic:Did you undertake a Institute Induction?                                                                                 553 non-null    object \n",
      " 58  InductionInfo. Face to Face Topic: Did you undertake Team Induction; Category?                                                                                 555 non-null    object \n",
      " 59  InductionInfo. On-line Topic: Did you undertake Team Induction?process you undertook and how it was conducted.]                                                555 non-null    object \n",
      " 60  InductionInfo. Induction Manual Topic: Did you undertake Team Induction?                                                                                       555 non-null    object \n",
      " 61  Workplace. Topic:Did you and your Manager develop a Performance and Professional Development Plan (PPDP)?                                                      608 non-null    object \n",
      " 62  Workplace. Topic:Does your workplace promote a work culture free from all forms of unlawful discrimination?                                                    594 non-null    object \n",
      " 63  Workplace. Topic:Does your workplace promote and practice the principles of employment equity?                                                                 587 non-null    object \n",
      " 64  Workplace. Topic:Does your workplace value the diversity of its employees?                                                                                     586 non-null    object \n",
      " 65  Workplace. Topic:Would you recommend the Institute as an employer to others?                                                                                   581 non-null    object \n",
      " 66  Gender. What is your Gender?                                                                                                                                   596 non-null    object \n",
      " 67  CurrentAge. Current Age                                                                                                                                        596 non-null    object \n",
      " 68  Employment Type. Employment Type                                                                                                                               596 non-null    object \n",
      " 69  Classification. Classification                                                                                                                                 596 non-null    object \n",
      " 70  LengthofServiceOverall. Overall Length of Service at Institute (in years)                                                                                      596 non-null    object \n",
      " 71  LengthofServiceCurrent. Length of Service at current workplace (in years)                                                                                      596 non-null    object \n",
      "dtypes: float64(2), object(70)\n",
      "memory usage: 395.0+ KB\n"
     ]
    }
   ],
   "source": [
    "tafe_survey.info()"
   ]
  },
  {
   "cell_type": "markdown",
   "metadata": {},
   "source": [
    "The DETE survey contains 56 columns and 822 rows. A number of columns has missing data we might need to clean. Most data types are objects or boolean, except ID which is an integer.\n",
    "\n",
    "The TAFE survey contains 72 columns and 702 rows. The majority of columns have some missing data. Most data types are objects."
   ]
  },
  {
   "cell_type": "code",
   "execution_count": 6,
   "metadata": {},
   "outputs": [
    {
     "data": {
      "text/plain": [
       "2011.0    40\n",
       "2007.0    34\n",
       "2008.0    31\n",
       "2010.0    27\n",
       "2012.0    27\n",
       "2009.0    24\n",
       "2006.0    23\n",
       "2013.0    21\n",
       "1970.0    21\n",
       "1975.0    21\n",
       "1990.0    20\n",
       "2005.0    20\n",
       "1999.0    19\n",
       "1996.0    19\n",
       "1992.0    18\n",
       "2004.0    18\n",
       "1991.0    18\n",
       "2000.0    18\n",
       "1989.0    17\n",
       "1976.0    15\n",
       "1988.0    15\n",
       "2002.0    15\n",
       "2003.0    15\n",
       "1978.0    15\n",
       "1995.0    14\n",
       "1979.0    14\n",
       "1974.0    14\n",
       "1980.0    14\n",
       "1998.0    14\n",
       "1997.0    14\n",
       "1993.0    13\n",
       "1986.0    12\n",
       "1972.0    12\n",
       "1977.0    11\n",
       "1971.0    10\n",
       "1994.0    10\n",
       "1969.0    10\n",
       "2001.0    10\n",
       "1984.0    10\n",
       "1981.0     9\n",
       "1983.0     9\n",
       "1973.0     8\n",
       "1985.0     8\n",
       "1987.0     7\n",
       "1982.0     4\n",
       "1963.0     4\n",
       "1968.0     3\n",
       "1967.0     2\n",
       "1965.0     1\n",
       "1966.0     1\n",
       "Name: DETE Start Date, dtype: int64"
      ]
     },
     "execution_count": 6,
     "metadata": {},
     "output_type": "execute_result"
    }
   ],
   "source": [
    "dete_survey['DETE Start Date'].isnull().sum()\n",
    "dete_survey['DETE Start Date'].value_counts()"
   ]
  },
  {
   "cell_type": "code",
   "execution_count": null,
   "metadata": {},
   "outputs": [],
   "source": []
  },
  {
   "cell_type": "markdown",
   "metadata": {},
   "source": [
    "The DETE survey has 0 missing IDs or Separation Types, which is good because those are directly related to our goals. \n",
    "\n",
    "Separation Type has 9 unique values. Both 'Resignation-Other reasons' and 'Other' might be able to be combined together. \n",
    "\n",
    "Missing data for DETE Start Date is listed as 'Not Stated.' Other dates are all four digit years.\n",
    "\n",
    "Missing data for DETE Cease Date is listed as 'Not Stated.' There are two ways dates are stored for this column, as 4 digit years and mm/yyyy."
   ]
  },
  {
   "cell_type": "code",
   "execution_count": 7,
   "metadata": {},
   "outputs": [
    {
     "data": {
      "text/plain": [
       "Less than 1 year      147\n",
       "1-2                   102\n",
       "3-4                    96\n",
       "11-20                  89\n",
       "More than 20 years     71\n",
       "5-6                    48\n",
       "7-10                   43\n",
       "Name: LengthofServiceOverall. Overall Length of Service at Institute (in years), dtype: int64"
      ]
     },
     "execution_count": 7,
     "metadata": {},
     "output_type": "execute_result"
    }
   ],
   "source": [
    "tafe_survey['LengthofServiceOverall. Overall Length of Service at Institute (in years)'].isnull().sum()\n",
    "tafe_survey['LengthofServiceOverall. Overall Length of Service at Institute (in years)'].value_counts()"
   ]
  },
  {
   "cell_type": "markdown",
   "metadata": {},
   "source": [
    "The TAFE survey:\n",
    "\n",
    "Record ID: no missing values\n",
    "\n",
    "Reason for ceasing employment: 1 null value, 6 other unique values\n",
    "\n",
    "Length of Service Overall: 106 null values. 7 other unique values, which are ranges of service"
   ]
  },
  {
   "cell_type": "markdown",
   "metadata": {},
   "source": [
    "### Identify Missing Values and Drop Unnecessary Columns"
   ]
  },
  {
   "cell_type": "markdown",
   "metadata": {},
   "source": [
    "We will go change what we did above to read 'Not Stated' as NANs in the DETE survey.\n",
    "\n",
    "Then we will drop some columns from each dataframe that we won't use in our analysis to make the dataframes easier to work with. "
   ]
  },
  {
   "cell_type": "code",
   "execution_count": 8,
   "metadata": {},
   "outputs": [],
   "source": [
    "dete_survey_updated = dete_survey.drop(dete_survey.columns[28:49],\n",
    "                                      axis=1)"
   ]
  },
  {
   "cell_type": "code",
   "execution_count": 9,
   "metadata": {},
   "outputs": [
    {
     "data": {
      "text/plain": [
       "(822, 56)"
      ]
     },
     "execution_count": 9,
     "metadata": {},
     "output_type": "execute_result"
    }
   ],
   "source": [
    "dete_survey_updated.shape\n",
    "dete_survey.shape"
   ]
  },
  {
   "cell_type": "code",
   "execution_count": 10,
   "metadata": {},
   "outputs": [],
   "source": [
    "tafe_survey_updated = tafe_survey.drop(tafe_survey.columns[17:66],\n",
    "                                      axis=1)"
   ]
  },
  {
   "cell_type": "code",
   "execution_count": 11,
   "metadata": {},
   "outputs": [
    {
     "data": {
      "text/plain": [
       "(702, 23)"
      ]
     },
     "execution_count": 11,
     "metadata": {},
     "output_type": "execute_result"
    }
   ],
   "source": [
    "tafe_survey.shape\n",
    "tafe_survey_updated.shape"
   ]
  },
  {
   "cell_type": "markdown",
   "metadata": {},
   "source": [
    "## Clean Column Names"
   ]
  },
  {
   "cell_type": "markdown",
   "metadata": {},
   "source": [
    "Each dataframe contain many of the same columns but the column names are different. We will want to combine columns later, so we first need to standardize the column names. \n",
    "\n",
    "For the DETE survey, we should:\n",
    "- make all column names lowercase\n",
    "- remove any trailing whitespace\n",
    "- replace spaces with _\n",
    "\n",
    "Since these are standardized changes, we will can use vectorized string methods to do this at once."
   ]
  },
  {
   "cell_type": "code",
   "execution_count": 12,
   "metadata": {},
   "outputs": [
    {
     "data": {
      "text/plain": [
       "Index(['ID', 'SeparationType', 'Cease Date', 'DETE Start Date',\n",
       "       'Role Start Date', 'Position', 'Classification', 'Region',\n",
       "       'Business Unit', 'Employment Status', 'Career move to public sector',\n",
       "       'Career move to private sector', 'Interpersonal conflicts',\n",
       "       'Job dissatisfaction', 'Dissatisfaction with the department',\n",
       "       'Physical work environment', 'Lack of recognition',\n",
       "       'Lack of job security', 'Work location', 'Employment conditions',\n",
       "       'Maternity/family', 'Relocation', 'Study/Travel', 'Ill Health',\n",
       "       'Traumatic incident', 'Work life balance', 'Workload',\n",
       "       'None of the above', 'Professional Development',\n",
       "       'Opportunities for promotion', 'Staff morale', 'Workplace issue',\n",
       "       'Physical environment', 'Worklife balance',\n",
       "       'Stress and pressure support', 'Performance of supervisor',\n",
       "       'Peer support', 'Initiative', 'Skills', 'Coach', 'Career Aspirations',\n",
       "       'Feedback', 'Further PD', 'Communication', 'My say', 'Information',\n",
       "       'Kept informed', 'Wellness programs', 'Health & Safety', 'Gender',\n",
       "       'Age', 'Aboriginal', 'Torres Strait', 'South Sea', 'Disability',\n",
       "       'NESB'],\n",
       "      dtype='object')"
      ]
     },
     "execution_count": 12,
     "metadata": {},
     "output_type": "execute_result"
    }
   ],
   "source": [
    "dete_survey_updated.columns = dete_survey_updated.columns.str.lower().str.strip().str.replace(' ', '_')\n",
    "\n",
    "dete_survey.columns"
   ]
  },
  {
   "cell_type": "markdown",
   "metadata": {},
   "source": [
    "We also want to rename some of the TAFE survey colum names. We will use the ```DataFrame.rename()``` method to do this."
   ]
  },
  {
   "cell_type": "code",
   "execution_count": 13,
   "metadata": {},
   "outputs": [],
   "source": [
    "col_rename_dict = {'Record ID': 'id',\n",
    "    'CESSATION YEAR': 'cease_date',\n",
    "    'Reason for ceasing employment': 'separationtype',\n",
    "    'Gender. What is your Gender?': 'gender',\n",
    "    'CurrentAge. Current Age': 'age',\n",
    "    'Employment Type. Employment Type': 'employment_status',\n",
    "    'Classification. Classification': 'position',\n",
    "    'LengthofServiceOverall. Overall Length of Service at Institute (in years)': 'institute_service',\n",
    "    'LengthofServiceCurrent. Length of Service at current workplace (in years)': 'role_service'}\n",
    "\n",
    "tafe_survey_updated.rename(columns=col_rename_dict,inplace=True)\n",
    "#tafe_survey_updated.columns"
   ]
  },
  {
   "cell_type": "code",
   "execution_count": 14,
   "metadata": {},
   "outputs": [
    {
     "data": {
      "text/plain": [
       "Index(['id', 'Institute', 'WorkArea', 'cease_date', 'separationtype',\n",
       "       'Contributing Factors. Career Move - Public Sector ',\n",
       "       'Contributing Factors. Career Move - Private Sector ',\n",
       "       'Contributing Factors. Career Move - Self-employment',\n",
       "       'Contributing Factors. Ill Health',\n",
       "       'Contributing Factors. Maternity/Family',\n",
       "       'Contributing Factors. Dissatisfaction',\n",
       "       'Contributing Factors. Job Dissatisfaction',\n",
       "       'Contributing Factors. Interpersonal Conflict',\n",
       "       'Contributing Factors. Study', 'Contributing Factors. Travel',\n",
       "       'Contributing Factors. Other', 'Contributing Factors. NONE', 'gender',\n",
       "       'age', 'employment_status', 'position', 'institute_service',\n",
       "       'role_service'],\n",
       "      dtype='object')"
      ]
     },
     "execution_count": 14,
     "metadata": {},
     "output_type": "execute_result"
    }
   ],
   "source": [
    "tafe_survey_updated.columns"
   ]
  },
  {
   "cell_type": "markdown",
   "metadata": {},
   "source": [
    "## Filter the Data\n",
    "\n",
    "Now that we have renamed the columns we will use for the analysis, we will remove some of the data we will not use. For this project, we will only look at the employees who *resigned*. "
   ]
  },
  {
   "cell_type": "code",
   "execution_count": 14,
   "metadata": {},
   "outputs": [
    {
     "data": {
      "text/plain": [
       "Age Retirement                          285\n",
       "Resignation-Other reasons               150\n",
       "Resignation-Other employer               91\n",
       "Resignation-Move overseas/interstate     70\n",
       "Voluntary Early Retirement (VER)         67\n",
       "Ill Health Retirement                    61\n",
       "Other                                    49\n",
       "Contract Expired                         34\n",
       "Termination                              15\n",
       "Name: separationtype, dtype: int64"
      ]
     },
     "execution_count": 14,
     "metadata": {},
     "output_type": "execute_result"
    }
   ],
   "source": [
    "dete_survey_updated['separationtype'].value_counts()"
   ]
  },
  {
   "cell_type": "code",
   "execution_count": 15,
   "metadata": {},
   "outputs": [],
   "source": [
    "dete_resignations = dete_survey_updated[(dete_survey_updated['separationtype'] == 'Resignation-Other reasons') \n",
    "                                       | (dete_survey_updated['separationtype'] == 'Resignation-Other employer')\n",
    "                                       | (dete_survey_updated['separationtype'] == 'Resignation-Move overseas/interstate')]"
   ]
  },
  {
   "cell_type": "code",
   "execution_count": 16,
   "metadata": {},
   "outputs": [
    {
     "data": {
      "text/plain": [
       "Resignation-Other reasons               150\n",
       "Resignation-Other employer               91\n",
       "Resignation-Move overseas/interstate     70\n",
       "Name: separationtype, dtype: int64"
      ]
     },
     "execution_count": 16,
     "metadata": {},
     "output_type": "execute_result"
    }
   ],
   "source": [
    "dete_resignations['separationtype'].value_counts()"
   ]
  },
  {
   "cell_type": "code",
   "execution_count": 17,
   "metadata": {},
   "outputs": [
    {
     "data": {
      "text/plain": [
       "Resignation                 340\n",
       "Contract Expired            127\n",
       "Retrenchment/ Redundancy    104\n",
       "Retirement                   82\n",
       "Transfer                     25\n",
       "Termination                  23\n",
       "Name: separationtype, dtype: int64"
      ]
     },
     "execution_count": 17,
     "metadata": {},
     "output_type": "execute_result"
    }
   ],
   "source": [
    "tafe_survey_updated['separationtype'].value_counts()"
   ]
  },
  {
   "cell_type": "code",
   "execution_count": 18,
   "metadata": {},
   "outputs": [],
   "source": [
    "tafe_resignations = tafe_survey_updated[tafe_survey_updated['separationtype'] == 'Resignation']"
   ]
  },
  {
   "cell_type": "code",
   "execution_count": 19,
   "metadata": {},
   "outputs": [
    {
     "data": {
      "text/plain": [
       "Resignation    340\n",
       "Name: separationtype, dtype: int64"
      ]
     },
     "execution_count": 19,
     "metadata": {},
     "output_type": "execute_result"
    }
   ],
   "source": [
    "tafe_resignations['separationtype'].value_counts()"
   ]
  },
  {
   "cell_type": "markdown",
   "metadata": {},
   "source": [
    "## Verify the Data\n",
    "\n",
    "Before we start cleaning and manipulating the rest of our data, we should verify that the data does not contain any major inconsistencies. We will focus on verifying the ```cease_date``` and ```dete_start_date``` columns. We should check that the ```cease_data``` is after the ```dete_start date```. It is also unlikely that the start date was before the year 1940. "
   ]
  },
  {
   "cell_type": "code",
   "execution_count": 20,
   "metadata": {},
   "outputs": [
    {
     "data": {
      "text/plain": [
       "2012       126\n",
       "2013        74\n",
       "01/2014     22\n",
       "12/2013     17\n",
       "06/2013     14\n",
       "09/2013     11\n",
       "11/2013      9\n",
       "07/2013      9\n",
       "10/2013      6\n",
       "08/2013      4\n",
       "05/2013      2\n",
       "05/2012      2\n",
       "07/2012      1\n",
       "07/2006      1\n",
       "2010         1\n",
       "09/2010      1\n",
       "Name: cease_date, dtype: int64"
      ]
     },
     "execution_count": 20,
     "metadata": {},
     "output_type": "execute_result"
    }
   ],
   "source": [
    "dete_resignations['cease_date'].value_counts()"
   ]
  },
  {
   "cell_type": "code",
   "execution_count": 21,
   "metadata": {},
   "outputs": [
    {
     "name": "stderr",
     "output_type": "stream",
     "text": [
      "<ipython-input-21-e9a430771b9a>:4: SettingWithCopyWarning:\n",
      "\n",
      "\n",
      "A value is trying to be set on a copy of a slice from a DataFrame.\n",
      "Try using .loc[row_indexer,col_indexer] = value instead\n",
      "\n",
      "See the caveats in the documentation: https://pandas.pydata.org/pandas-docs/stable/user_guide/indexing.html#returning-a-view-versus-a-copy\n",
      "\n"
     ]
    }
   ],
   "source": [
    "# extract the year from DETE cease_date\n",
    "# we want only the last four digits in each case\n",
    "\n",
    "dete_resignations['cease_year'] = dete_resignations['cease_date'].str[-4:].astype(float)"
   ]
  },
  {
   "cell_type": "code",
   "execution_count": 22,
   "metadata": {},
   "outputs": [
    {
     "data": {
      "text/plain": [
       "3      2012.0\n",
       "5      2012.0\n",
       "8      2012.0\n",
       "9      2012.0\n",
       "11     2012.0\n",
       "        ...  \n",
       "808    2013.0\n",
       "815    2014.0\n",
       "816    2014.0\n",
       "819    2014.0\n",
       "821    2013.0\n",
       "Name: cease_year, Length: 311, dtype: float64"
      ]
     },
     "execution_count": 22,
     "metadata": {},
     "output_type": "execute_result"
    }
   ],
   "source": [
    "dete_resignations['cease_year']"
   ]
  },
  {
   "cell_type": "code",
   "execution_count": 24,
   "metadata": {},
   "outputs": [
    {
     "name": "stderr",
     "output_type": "stream",
     "text": [
      "<ipython-input-24-68e5a0fe0643>:6: SettingWithCopyWarning:\n",
      "\n",
      "\n",
      "A value is trying to be set on a copy of a slice from a DataFrame.\n",
      "Try using .loc[row_indexer,col_indexer] = value instead\n",
      "\n",
      "See the caveats in the documentation: https://pandas.pydata.org/pandas-docs/stable/user_guide/indexing.html#returning-a-view-versus-a-copy\n",
      "\n"
     ]
    },
    {
     "data": {
      "image/png": "[encoded data removed]",
      "text/plain": [
       "<Figure size 600x400 with 1 Axes>"
      ]
     },
     "metadata": {},
     "output_type": "display_data"
    }
   ],
   "source": [
    "# check the values\n",
    "\n",
    "# Calculate the years of service to see if there are any negative values\n",
    "# we will save this to a new column to match the TAFE dataset\n",
    "\n",
    "dete_resignations['institute_service'] = dete_resignations['cease_year'] - dete_resignations['dete_start_date']\n",
    "\n",
    "#dete_resignations.head(15)\n",
    "dete_resignations['institute_service'].plot.hist(color='lightcoral')\n",
    "plt.show()"
   ]
  },
  {
   "cell_type": "markdown",
   "metadata": {},
   "source": [
    "Since there are not negative years of employment, we know that there are no issues with the dates in the DETE dataset."
   ]
  },
  {
   "cell_type": "code",
   "execution_count": 25,
   "metadata": {},
   "outputs": [
    {
     "data": {
      "text/plain": [
       "2013.0    146\n",
       "2012.0    129\n",
       "2014.0     22\n",
       "2010.0      2\n",
       "2006.0      1\n",
       "Name: cease_year, dtype: int64"
      ]
     },
     "execution_count": 25,
     "metadata": {},
     "output_type": "execute_result"
    }
   ],
   "source": [
    "dete_resignations['cease_year'].value_counts()"
   ]
  },
  {
   "cell_type": "code",
   "execution_count": 26,
   "metadata": {},
   "outputs": [
    {
     "data": {
      "text/plain": [
       "2011.0    116\n",
       "2012.0     94\n",
       "2010.0     68\n",
       "2013.0     55\n",
       "2009.0      2\n",
       "Name: cease_date, dtype: int64"
      ]
     },
     "execution_count": 26,
     "metadata": {},
     "output_type": "execute_result"
    }
   ],
   "source": [
    "tafe_resignations['cease_date'].value_counts()"
   ]
  },
  {
   "cell_type": "markdown",
   "metadata": {},
   "source": [
    "For the TAFE dataset, these cease dates all look reasonable."
   ]
  },
  {
   "cell_type": "markdown",
   "metadata": {},
   "source": [
    "## Identify Dissatisfied Employees\n",
    "\n",
    "We now want to identiy employees who resigned because they were dissatisfied. There are multiple, different columns in each survey that indicate job dissatisfaction. We will use these to create a new column called ```dissatisfied```. \n",
    "\n",
    "We will deal with the TAFE dataset first."
   ]
  },
  {
   "cell_type": "code",
   "execution_count": 27,
   "metadata": {},
   "outputs": [
    {
     "data": {
      "text/plain": [
       "-                                         277\n",
       "Contributing Factors. Dissatisfaction      55\n",
       "Name: Contributing Factors. Dissatisfaction, dtype: int64"
      ]
     },
     "execution_count": 27,
     "metadata": {},
     "output_type": "execute_result"
    }
   ],
   "source": [
    "tafe_resignations['Contributing Factors. Dissatisfaction'].value_counts()"
   ]
  },
  {
   "cell_type": "code",
   "execution_count": 28,
   "metadata": {},
   "outputs": [
    {
     "data": {
      "text/plain": [
       "-                      270\n",
       "Job Dissatisfaction     62\n",
       "Name: Contributing Factors. Job Dissatisfaction, dtype: int64"
      ]
     },
     "execution_count": 28,
     "metadata": {},
     "output_type": "execute_result"
    }
   ],
   "source": [
    "tafe_resignations['Contributing Factors. Job Dissatisfaction'].value_counts()"
   ]
  },
  {
   "cell_type": "code",
   "execution_count": 29,
   "metadata": {},
   "outputs": [],
   "source": [
    "# write a function to replace these columns with only True, False, or NaN\n",
    "\n",
    "def update_vals(x):\n",
    "    if x == pd.isnull(x):\n",
    "        return np.nan\n",
    "    elif x == '-':\n",
    "        return False\n",
    "    else:\n",
    "        return True\n",
    "    "
   ]
  },
  {
   "cell_type": "code",
   "execution_count": 30,
   "metadata": {},
   "outputs": [
    {
     "name": "stderr",
     "output_type": "stream",
     "text": [
      "<ipython-input-30-999927a75681>:5: SettingWithCopyWarning:\n",
      "\n",
      "\n",
      "A value is trying to be set on a copy of a slice from a DataFrame.\n",
      "Try using .loc[row_indexer,col_indexer] = value instead\n",
      "\n",
      "See the caveats in the documentation: https://pandas.pydata.org/pandas-docs/stable/user_guide/indexing.html#returning-a-view-versus-a-copy\n",
      "\n"
     ]
    }
   ],
   "source": [
    "factors = ['Contributing Factors. Dissatisfaction','Contributing Factors. Job Dissatisfaction']\n",
    "\n",
    "tafe_map = tafe_resignations[factors].applymap(update_vals)\n",
    "\n",
    "tafe_resignations['dissatisfied'] = tafe_map.any(axis=1, skipna=False).copy()\n",
    "\n",
    "tafe_resignations_up = tafe_resignations.copy()\n",
    "\n",
    "#tafe_resignations.head(15)"
   ]
  },
  {
   "cell_type": "code",
   "execution_count": 31,
   "metadata": {},
   "outputs": [
    {
     "data": {
      "text/plain": [
       "False    735\n",
       "True      87\n",
       "Name: workload, dtype: int64"
      ]
     },
     "execution_count": 31,
     "metadata": {},
     "output_type": "execute_result"
    }
   ],
   "source": [
    "dete_survey_updated['workload'].value_counts()"
   ]
  },
  {
   "cell_type": "code",
   "execution_count": 32,
   "metadata": {},
   "outputs": [
    {
     "name": "stderr",
     "output_type": "stream",
     "text": [
      "<ipython-input-32-fac3ae7307ca>:7: SettingWithCopyWarning:\n",
      "\n",
      "\n",
      "A value is trying to be set on a copy of a slice from a DataFrame.\n",
      "Try using .loc[row_indexer,col_indexer] = value instead\n",
      "\n",
      "See the caveats in the documentation: https://pandas.pydata.org/pandas-docs/stable/user_guide/indexing.html#returning-a-view-versus-a-copy\n",
      "\n"
     ]
    }
   ],
   "source": [
    "dete_map = dete_survey_updated[['job_dissatisfaction','dissatisfaction_with_the_department',\n",
    "                               'physical_work_environment','lack_of_recognition',\n",
    "                               'lack_of_job_security','work_location',\n",
    "                               'employment_conditions','work_life_balance','workload']]\n",
    "\n",
    "\n",
    "dete_resignations['dissatisfied'] = dete_map.any(axis=1, skipna=False).copy()\n",
    "\n",
    "dete_resignations_up = dete_resignations.copy()\n",
    "\n",
    "#dete_resignation_up.head(15)"
   ]
  },
  {
   "cell_type": "markdown",
   "metadata": {},
   "source": [
    "## Combine the Data\n",
    "\n",
    "Now we are ready to combine our data. We will want to aggreate our data according to the ```institute_service``` column.\n",
    "\n",
    "First, we should add a column to each dataset helping us to distinguish between the two. "
   ]
  },
  {
   "cell_type": "code",
   "execution_count": 33,
   "metadata": {},
   "outputs": [],
   "source": [
    "dete_resignations_up['institute'] = 'DETE'\n",
    "tafe_resignations_up['institute'] = 'TAFE'"
   ]
  },
  {
   "cell_type": "code",
   "execution_count": 34,
   "metadata": {},
   "outputs": [],
   "source": [
    "# We will use pandas concat to combine\n",
    "# We want to keep all the data at this point\n",
    "\n",
    "combined = pd.concat([dete_resignations_up,tafe_resignations_up])"
   ]
  },
  {
   "cell_type": "code",
   "execution_count": 35,
   "metadata": {},
   "outputs": [],
   "source": [
    "# drop any column with less than 500 non-null values\n",
    "\n",
    "combined_updated = combined.dropna(axis=1,thresh=500)"
   ]
  },
  {
   "cell_type": "code",
   "execution_count": 36,
   "metadata": {},
   "outputs": [
    {
     "data": {
      "text/html": [
       "<div>\n",
       "<style scoped>\n",
       "    .dataframe tbody tr th:only-of-type {\n",
       "        vertical-align: middle;\n",
       "    }\n",
       "\n",
       "    .dataframe tbody tr th {\n",
       "        vertical-align: top;\n",
       "    }\n",
       "\n",
       "    .dataframe thead th {\n",
       "        text-align: right;\n",
       "    }\n",
       "</style>\n",
       "<table border=\"1\" class=\"dataframe\">\n",
       "  <thead>\n",
       "    <tr style=\"text-align: right;\">\n",
       "      <th></th>\n",
       "      <th>id</th>\n",
       "      <th>separationtype</th>\n",
       "      <th>cease_date</th>\n",
       "      <th>position</th>\n",
       "      <th>employment_status</th>\n",
       "      <th>gender</th>\n",
       "      <th>age</th>\n",
       "      <th>institute_service</th>\n",
       "      <th>dissatisfied</th>\n",
       "      <th>institute</th>\n",
       "    </tr>\n",
       "  </thead>\n",
       "  <tbody>\n",
       "    <tr>\n",
       "      <th>696</th>\n",
       "      <td>6.350660e+17</td>\n",
       "      <td>Resignation</td>\n",
       "      <td>2013</td>\n",
       "      <td>Operational (OO)</td>\n",
       "      <td>Temporary Full-time</td>\n",
       "      <td>Male</td>\n",
       "      <td>21  25</td>\n",
       "      <td>5-6</td>\n",
       "      <td>False</td>\n",
       "      <td>TAFE</td>\n",
       "    </tr>\n",
       "    <tr>\n",
       "      <th>697</th>\n",
       "      <td>6.350668e+17</td>\n",
       "      <td>Resignation</td>\n",
       "      <td>2013</td>\n",
       "      <td>Teacher (including LVT)</td>\n",
       "      <td>Temporary Full-time</td>\n",
       "      <td>Male</td>\n",
       "      <td>51-55</td>\n",
       "      <td>1-2</td>\n",
       "      <td>False</td>\n",
       "      <td>TAFE</td>\n",
       "    </tr>\n",
       "    <tr>\n",
       "      <th>698</th>\n",
       "      <td>6.350677e+17</td>\n",
       "      <td>Resignation</td>\n",
       "      <td>2013</td>\n",
       "      <td>NaN</td>\n",
       "      <td>NaN</td>\n",
       "      <td>NaN</td>\n",
       "      <td>NaN</td>\n",
       "      <td>NaN</td>\n",
       "      <td>False</td>\n",
       "      <td>TAFE</td>\n",
       "    </tr>\n",
       "    <tr>\n",
       "      <th>699</th>\n",
       "      <td>6.350704e+17</td>\n",
       "      <td>Resignation</td>\n",
       "      <td>2013</td>\n",
       "      <td>Teacher (including LVT)</td>\n",
       "      <td>Permanent Full-time</td>\n",
       "      <td>Female</td>\n",
       "      <td>51-55</td>\n",
       "      <td>5-6</td>\n",
       "      <td>False</td>\n",
       "      <td>TAFE</td>\n",
       "    </tr>\n",
       "    <tr>\n",
       "      <th>701</th>\n",
       "      <td>6.350730e+17</td>\n",
       "      <td>Resignation</td>\n",
       "      <td>2013</td>\n",
       "      <td>Administration (AO)</td>\n",
       "      <td>Contract/casual</td>\n",
       "      <td>Female</td>\n",
       "      <td>26  30</td>\n",
       "      <td>3-4</td>\n",
       "      <td>False</td>\n",
       "      <td>TAFE</td>\n",
       "    </tr>\n",
       "  </tbody>\n",
       "</table>\n",
       "</div>"
      ],
      "text/plain": [
       "               id separationtype cease_date                 position  \\\n",
       "696  6.350660e+17    Resignation       2013         Operational (OO)   \n",
       "697  6.350668e+17    Resignation       2013  Teacher (including LVT)   \n",
       "698  6.350677e+17    Resignation       2013                      NaN   \n",
       "699  6.350704e+17    Resignation       2013  Teacher (including LVT)   \n",
       "701  6.350730e+17    Resignation       2013      Administration (AO)   \n",
       "\n",
       "       employment_status  gender     age institute_service  dissatisfied  \\\n",
       "696  Temporary Full-time    Male  21  25               5-6         False   \n",
       "697  Temporary Full-time    Male   51-55               1-2         False   \n",
       "698                  NaN     NaN     NaN               NaN         False   \n",
       "699  Permanent Full-time  Female   51-55               5-6         False   \n",
       "701      Contract/casual  Female  26  30               3-4         False   \n",
       "\n",
       "    institute  \n",
       "696      TAFE  \n",
       "697      TAFE  \n",
       "698      TAFE  \n",
       "699      TAFE  \n",
       "701      TAFE  "
      ]
     },
     "execution_count": 36,
     "metadata": {},
     "output_type": "execute_result"
    }
   ],
   "source": [
    "combined_updated.tail()"
   ]
  },
  {
   "cell_type": "code",
   "execution_count": 37,
   "metadata": {},
   "outputs": [
    {
     "data": {
      "text/plain": [
       "(651, 10)"
      ]
     },
     "execution_count": 37,
     "metadata": {},
     "output_type": "execute_result"
    }
   ],
   "source": [
    "combined_updated.shape"
   ]
  },
  {
   "cell_type": "markdown",
   "metadata": {},
   "source": [
    "## Clean the Service Column\n",
    "\n",
    "The ```institute_service``` column contains data in a few different formats. We will convert these formats and numbers into a few different categories for analysis. We will use the following definitions\n",
    "\n",
    "- New: Less than 3 years at a company\n",
    "- Experienced: 3-6 years at a company\n",
    "- Established: 7-10 years at a company\n",
    "- Veteran: 11 or more years at a company\n"
   ]
  },
  {
   "cell_type": "code",
   "execution_count": 38,
   "metadata": {},
   "outputs": [],
   "source": [
    "# extract the years of service\n",
    "\n",
    "pattern = r\"(\\d+)\"\n",
    "\n",
    "\n",
    "combined['institute_service'] = (combined['institute_service'].astype('str')\n",
    "                                                              .str.extract(pattern)\n",
    "                                                              .astype(float)                                \n",
    "                                )\n",
    "\n",
    "#combined['institute_service'].tail()"
   ]
  },
  {
   "cell_type": "code",
   "execution_count": 39,
   "metadata": {},
   "outputs": [],
   "source": [
    "def map_career_state(value):\n",
    "    '''Maps value to a corresponding service category'''\n",
    "    if pd.isnull(value):\n",
    "        return np.nan\n",
    "    elif value < 3:\n",
    "        return 'New'\n",
    "    elif (value >=3 and value <=6):\n",
    "        return 'Experienced'\n",
    "    elif (value >=7 and value <=10):\n",
    "        return 'Established'\n",
    "    else:\n",
    "        return 'Veteran'\n",
    "\n",
    "# Apply function to the combined dataframe\n",
    "combined['service_cat'] = combined['institute_service'].apply(map_career_state)\n",
    "\n"
   ]
  },
  {
   "cell_type": "code",
   "execution_count": 40,
   "metadata": {},
   "outputs": [
    {
     "data": {
      "text/plain": [
       "696    Experienced\n",
       "697            New\n",
       "698            NaN\n",
       "699    Experienced\n",
       "701    Experienced\n",
       "Name: service_cat, dtype: object"
      ]
     },
     "execution_count": 40,
     "metadata": {},
     "output_type": "execute_result"
    }
   ],
   "source": [
    "combined['service_cat'].tail()"
   ]
  },
  {
   "cell_type": "markdown",
   "metadata": {},
   "source": [
    "## Perform Initial Analysis"
   ]
  },
  {
   "cell_type": "code",
   "execution_count": 41,
   "metadata": {},
   "outputs": [
    {
     "data": {
      "text/plain": [
       "False    403\n",
       "True     248\n",
       "Name: dissatisfied, dtype: int64"
      ]
     },
     "execution_count": 41,
     "metadata": {},
     "output_type": "execute_result"
    }
   ],
   "source": [
    "combined['dissatisfied'].value_counts(dropna=False)"
   ]
  },
  {
   "cell_type": "code",
   "execution_count": 42,
   "metadata": {},
   "outputs": [
    {
     "data": {
      "text/plain": [
       "New            193\n",
       "Experienced    172\n",
       "Veteran        136\n",
       "NaN             88\n",
       "Established     62\n",
       "Name: service_cat, dtype: int64"
      ]
     },
     "execution_count": 42,
     "metadata": {},
     "output_type": "execute_result"
    }
   ],
   "source": [
    "combined['service_cat'].value_counts(dropna=False)"
   ]
  },
  {
   "cell_type": "code",
   "execution_count": 43,
   "metadata": {},
   "outputs": [
    {
     "data": {
      "text/html": [
       "<div>\n",
       "<style scoped>\n",
       "    .dataframe tbody tr th:only-of-type {\n",
       "        vertical-align: middle;\n",
       "    }\n",
       "\n",
       "    .dataframe tbody tr th {\n",
       "        vertical-align: top;\n",
       "    }\n",
       "\n",
       "    .dataframe thead th {\n",
       "        text-align: right;\n",
       "    }\n",
       "</style>\n",
       "<table border=\"1\" class=\"dataframe\">\n",
       "  <thead>\n",
       "    <tr style=\"text-align: right;\">\n",
       "      <th></th>\n",
       "      <th>dissatisfied</th>\n",
       "    </tr>\n",
       "    <tr>\n",
       "      <th>service_cat</th>\n",
       "      <th></th>\n",
       "    </tr>\n",
       "  </thead>\n",
       "  <tbody>\n",
       "    <tr>\n",
       "      <th>Established</th>\n",
       "      <td>0.516129</td>\n",
       "    </tr>\n",
       "    <tr>\n",
       "      <th>Experienced</th>\n",
       "      <td>0.343023</td>\n",
       "    </tr>\n",
       "    <tr>\n",
       "      <th>New</th>\n",
       "      <td>0.295337</td>\n",
       "    </tr>\n",
       "    <tr>\n",
       "      <th>Veteran</th>\n",
       "      <td>0.485294</td>\n",
       "    </tr>\n",
       "  </tbody>\n",
       "</table>\n",
       "</div>"
      ],
      "text/plain": [
       "             dissatisfied\n",
       "service_cat              \n",
       "Established      0.516129\n",
       "Experienced      0.343023\n",
       "New              0.295337\n",
       "Veteran          0.485294"
      ]
     },
     "execution_count": 43,
     "metadata": {},
     "output_type": "execute_result"
    }
   ],
   "source": [
    "pv = combined.pivot_table(index='service_cat',values='dissatisfied')\n",
    "pv"
   ]
  },
  {
   "cell_type": "code",
   "execution_count": 44,
   "metadata": {},
   "outputs": [
    {
     "data": {
      "text/plain": [
       "<matplotlib.axes._subplots.AxesSubplot at 0x7ff851a06ca0>"
      ]
     },
     "execution_count": 44,
     "metadata": {},
     "output_type": "execute_result"
    },
    {
     "data": {
      "image/png": "[encoded data removed]",
      "text/plain": [
       "<Figure size 600x400 with 1 Axes>"
      ]
     },
     "metadata": {},
     "output_type": "display_data"
    }
   ],
   "source": [
    "pv.plot(kind='bar',rot=30, color='lightcoral')"
   ]
  },
  {
   "cell_type": "code",
   "execution_count": null,
   "metadata": {},
   "outputs": [],
   "source": []
  }
 ],
 "metadata": {
  "kernelspec": {
   "display_name": "Python 3",
   "language": "python",
   "name": "python3"
  },
  "language_info": {
   "codemirror_mode": {
    "name": "ipython",
    "version": 3
   },
   "file_extension": ".py",
   "mimetype": "text/x-python",
   "name": "python",
   "nbconvert_exporter": "python",
   "pygments_lexer": "ipython3",
   "version": "3.8.2"
  }
 },
 "nbformat": 4,
 "nbformat_minor": 2
}
