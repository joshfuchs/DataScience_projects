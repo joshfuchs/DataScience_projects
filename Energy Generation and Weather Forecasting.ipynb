{
 "cells": [
  {
   "cell_type": "markdown",
   "id": "05098e62",
   "metadata": {},
   "source": [
    "# Predicting Energy Generation Pricing and Load \n",
    "\n",
    "For this project, we are going to use the Hourly Energy Demand Generation and Weather dataset on [Kaggle](https://www.kaggle.com/datasets/nicholasjhana/energy-consumption-generation-prices-and-weather) to look at energy prices and load. Energy forecasting [has been described](https://arxiv.org/abs/1906.05433) as one of the major fields where machine learning can have a significant impact. This data set contains 4 years of electrical consumption, generation, pricing, and weather from Spain. It is split into two data sets, ```energy``` and ```weather```. \n",
    "\n",
    "## Goal\n",
    "The goals of this project will be to \n",
    "\n",
    "- clean and combine the data sets\n",
    "- build a machine learning pipeline that can predict the energy price\n",
    "- build a machine learning pipeline that can predict the load\n",
    "\n",
    "\n",
    "\n",
    "## Data Dictionary\n",
    "\n",
    "For the ```energy``` dataset:\n",
    "\n",
    "- ```time```: Datetime index localized to CET\n",
    "- ```generation biomass```: biomass generation in MW\n",
    "- ```generation fossil coal-derived gass```: coal/lignite generation in MW\n",
    "- ```generattion fossil coal-derived gass```: coal/gas generation in MW\n",
    "- ```generation fossil gass```: gas generation in MW\n",
    "- ```generation fossil hard coal```: coal generation in MW\n",
    "- ```generation fossil oil```: oil generation in MW\n",
    "- ```generation fossil oil share```: shale oil generation in MW\n",
    "- ```generation fossil peat```: peat generation in MW\n",
    "- ```generation geothermal```: geothermal generatio in MW\n",
    "- ```generation hydro pumped storage aggregated```: hydro1 generation in MW\n",
    "- ```generation hydro pumped storage consumption```: hydro 2 generation in MW\n",
    "- ```generation hydro run-of-river and poundage```: hydro 3 generation in MW\n",
    "- ```generation hydro water reservoir```: hydro 4 generatio in MW\n",
    "- ```generation marine```: sea generation in MW\n",
    "- ```generation nuclear```: nuclear generation in MW\n",
    "- ```generation other```: other generation in MW\n",
    "- ```generation other renewable```: other renewable generation in MW\n",
    "- ```generation solar```: solar generatio in MW\n",
    "- ```generation waste```: waste generation in MW\n",
    "- ```generation wind offshore```: wind offshore generation in MW\n",
    "- ```generation wind onshore```: wind onshore generation in MW\n",
    "- ```forecast solar day ahead```: forecasted solar generation\n",
    "- ```forecast wind offshore eday ahead```: forecasted offshore wind generation\n",
    "- ```forecast wind onshore day ahead```: forecasted onshore wind generation\n",
    "- ```total load forecast```: forecasted electrical demand\n",
    "- ```total load actual```: actual electrical demand\n",
    "- ```price day ahead```: forecasted price in EUR/MWh\n",
    "- ```price actual```: price in EUR/MWh\n",
    "\n",
    "\n",
    "And for the ```weather``` dataset:\n",
    "\n",
    "- ```dt_iso```: datetime index localized to CET\n",
    "- ```city_name```: name of city\n",
    "- ```temp```: in Kelvin\n",
    "- ```temp_min```: minimun in K\n",
    "- ```temp_max```: maximum in K\n",
    "- ```pressure```: pressure in hPa\n",
    "- ```humidity```: humidity in percent\n",
    "- ```wind_speed```: wind speed in m/s\n",
    "- ```wind_deg```: wind direction\n",
    "- ```rain_1h```: rain in last hour in mm\n",
    "- ```rain_3h```: rain in last 3 hours in mm\n",
    "- ```snow_3h```: snow in last 3 hours in mm\n",
    "- ```clouds_all```: cloud cover in percentage\n",
    "- ```weather_id```: code used to describe weather\n",
    "- ```weather_main```: short description of current weather\n",
    "- ```weather_description```: long description of current weather\n",
    "- ```weather_icon```: weather icon code for website\n",
    "\n",
    "\n"
   ]
  },
  {
   "cell_type": "code",
   "execution_count": null,
   "id": "e2d18150",
   "metadata": {},
   "outputs": [],
   "source": []
  },
  {
   "cell_type": "code",
   "execution_count": 238,
   "id": "b07044c2",
   "metadata": {},
   "outputs": [],
   "source": [
    "import pandas as pd\n",
    "import numpy as np\n",
    "\n",
    "import matplotlib.pyplot as plt\n",
    "import seaborn as sns\n",
    "\n",
    "\n",
    "\n",
    "# models\n",
    "from sklearn.neighbors import KNeighborsRegressor \n",
    "from sklearn.ensemble import RandomForestRegressor\n",
    "from xgboost import XGBRegressor\n",
    "\n",
    "from sklearn.model_selection import train_test_split, GridSearchCV # For train/test splits, optimization\n",
    "from sklearn.feature_selection import SelectKBest, VarianceThreshold # feature selection\n",
    "from sklearn.compose import ColumnTransformer # for dealing with numerical and categorical columns separately\n",
    "from sklearn.pipeline import Pipeline # For setting up pipeline\n",
    "\n",
    "from sklearn.impute import SimpleImputer\n",
    "from sklearn.preprocessing import StandardScaler, MinMaxScaler, MaxAbsScaler, LabelEncoder, OneHotEncoder\n",
    "\n",
    "\n",
    "\n",
    "\n",
    "plt.style.use('seaborn-white')\n",
    "plt.rc('figure', autolayout=True)\n",
    "plt.rc(\n",
    "    'axes',\n",
    "    labelweight='bold',\n",
    "    labelsize='large',\n",
    "    titleweight='bold',\n",
    "    titlesize=9,\n",
    "    linewidth=4\n",
    "    )\n",
    "\n",
    "\n",
    "%matplotlib inline\n"
   ]
  },
  {
   "cell_type": "markdown",
   "id": "81d1a88a",
   "metadata": {},
   "source": [
    "## Load and Preliminarly Explore the Data"
   ]
  },
  {
   "cell_type": "code",
   "execution_count": 2,
   "id": "ee1035c5",
   "metadata": {},
   "outputs": [],
   "source": [
    "energy = pd.read_csv('energy_dataset.csv')\n",
    "weather = pd.read_csv('weather_features.csv')\n"
   ]
  },
  {
   "cell_type": "markdown",
   "id": "2d814818",
   "metadata": {},
   "source": [
    "First, let's explore the ```energy``` dataset."
   ]
  },
  {
   "cell_type": "code",
   "execution_count": 3,
   "id": "0688dc5e",
   "metadata": {},
   "outputs": [
    {
     "data": {
      "text/html": [
       "<div>\n",
       "<style scoped>\n",
       "    .dataframe tbody tr th:only-of-type {\n",
       "        vertical-align: middle;\n",
       "    }\n",
       "\n",
       "    .dataframe tbody tr th {\n",
       "        vertical-align: top;\n",
       "    }\n",
       "\n",
       "    .dataframe thead th {\n",
       "        text-align: right;\n",
       "    }\n",
       "</style>\n",
       "<table border=\"1\" class=\"dataframe\">\n",
       "  <thead>\n",
       "    <tr style=\"text-align: right;\">\n",
       "      <th></th>\n",
       "      <th>time</th>\n",
       "      <th>generation biomass</th>\n",
       "      <th>generation fossil brown coal/lignite</th>\n",
       "      <th>generation fossil coal-derived gas</th>\n",
       "      <th>generation fossil gas</th>\n",
       "      <th>generation fossil hard coal</th>\n",
       "      <th>generation fossil oil</th>\n",
       "      <th>generation fossil oil shale</th>\n",
       "      <th>generation fossil peat</th>\n",
       "      <th>generation geothermal</th>\n",
       "      <th>...</th>\n",
       "      <th>generation waste</th>\n",
       "      <th>generation wind offshore</th>\n",
       "      <th>generation wind onshore</th>\n",
       "      <th>forecast solar day ahead</th>\n",
       "      <th>forecast wind offshore eday ahead</th>\n",
       "      <th>forecast wind onshore day ahead</th>\n",
       "      <th>total load forecast</th>\n",
       "      <th>total load actual</th>\n",
       "      <th>price day ahead</th>\n",
       "      <th>price actual</th>\n",
       "    </tr>\n",
       "  </thead>\n",
       "  <tbody>\n",
       "    <tr>\n",
       "      <th>0</th>\n",
       "      <td>2015-01-01 00:00:00+01:00</td>\n",
       "      <td>447.0</td>\n",
       "      <td>329.0</td>\n",
       "      <td>0.0</td>\n",
       "      <td>4844.0</td>\n",
       "      <td>4821.0</td>\n",
       "      <td>162.0</td>\n",
       "      <td>0.0</td>\n",
       "      <td>0.0</td>\n",
       "      <td>0.0</td>\n",
       "      <td>...</td>\n",
       "      <td>196.0</td>\n",
       "      <td>0.0</td>\n",
       "      <td>6378.0</td>\n",
       "      <td>17.0</td>\n",
       "      <td>NaN</td>\n",
       "      <td>6436.0</td>\n",
       "      <td>26118.0</td>\n",
       "      <td>25385.0</td>\n",
       "      <td>50.10</td>\n",
       "      <td>65.41</td>\n",
       "    </tr>\n",
       "    <tr>\n",
       "      <th>1</th>\n",
       "      <td>2015-01-01 01:00:00+01:00</td>\n",
       "      <td>449.0</td>\n",
       "      <td>328.0</td>\n",
       "      <td>0.0</td>\n",
       "      <td>5196.0</td>\n",
       "      <td>4755.0</td>\n",
       "      <td>158.0</td>\n",
       "      <td>0.0</td>\n",
       "      <td>0.0</td>\n",
       "      <td>0.0</td>\n",
       "      <td>...</td>\n",
       "      <td>195.0</td>\n",
       "      <td>0.0</td>\n",
       "      <td>5890.0</td>\n",
       "      <td>16.0</td>\n",
       "      <td>NaN</td>\n",
       "      <td>5856.0</td>\n",
       "      <td>24934.0</td>\n",
       "      <td>24382.0</td>\n",
       "      <td>48.10</td>\n",
       "      <td>64.92</td>\n",
       "    </tr>\n",
       "    <tr>\n",
       "      <th>2</th>\n",
       "      <td>2015-01-01 02:00:00+01:00</td>\n",
       "      <td>448.0</td>\n",
       "      <td>323.0</td>\n",
       "      <td>0.0</td>\n",
       "      <td>4857.0</td>\n",
       "      <td>4581.0</td>\n",
       "      <td>157.0</td>\n",
       "      <td>0.0</td>\n",
       "      <td>0.0</td>\n",
       "      <td>0.0</td>\n",
       "      <td>...</td>\n",
       "      <td>196.0</td>\n",
       "      <td>0.0</td>\n",
       "      <td>5461.0</td>\n",
       "      <td>8.0</td>\n",
       "      <td>NaN</td>\n",
       "      <td>5454.0</td>\n",
       "      <td>23515.0</td>\n",
       "      <td>22734.0</td>\n",
       "      <td>47.33</td>\n",
       "      <td>64.48</td>\n",
       "    </tr>\n",
       "    <tr>\n",
       "      <th>3</th>\n",
       "      <td>2015-01-01 03:00:00+01:00</td>\n",
       "      <td>438.0</td>\n",
       "      <td>254.0</td>\n",
       "      <td>0.0</td>\n",
       "      <td>4314.0</td>\n",
       "      <td>4131.0</td>\n",
       "      <td>160.0</td>\n",
       "      <td>0.0</td>\n",
       "      <td>0.0</td>\n",
       "      <td>0.0</td>\n",
       "      <td>...</td>\n",
       "      <td>191.0</td>\n",
       "      <td>0.0</td>\n",
       "      <td>5238.0</td>\n",
       "      <td>2.0</td>\n",
       "      <td>NaN</td>\n",
       "      <td>5151.0</td>\n",
       "      <td>22642.0</td>\n",
       "      <td>21286.0</td>\n",
       "      <td>42.27</td>\n",
       "      <td>59.32</td>\n",
       "    </tr>\n",
       "    <tr>\n",
       "      <th>4</th>\n",
       "      <td>2015-01-01 04:00:00+01:00</td>\n",
       "      <td>428.0</td>\n",
       "      <td>187.0</td>\n",
       "      <td>0.0</td>\n",
       "      <td>4130.0</td>\n",
       "      <td>3840.0</td>\n",
       "      <td>156.0</td>\n",
       "      <td>0.0</td>\n",
       "      <td>0.0</td>\n",
       "      <td>0.0</td>\n",
       "      <td>...</td>\n",
       "      <td>189.0</td>\n",
       "      <td>0.0</td>\n",
       "      <td>4935.0</td>\n",
       "      <td>9.0</td>\n",
       "      <td>NaN</td>\n",
       "      <td>4861.0</td>\n",
       "      <td>21785.0</td>\n",
       "      <td>20264.0</td>\n",
       "      <td>38.41</td>\n",
       "      <td>56.04</td>\n",
       "    </tr>\n",
       "  </tbody>\n",
       "</table>\n",
       "<p>5 rows × 29 columns</p>\n",
       "</div>"
      ],
      "text/plain": [
       "                        time  generation biomass  \\\n",
       "0  2015-01-01 00:00:00+01:00               447.0   \n",
       "1  2015-01-01 01:00:00+01:00               449.0   \n",
       "2  2015-01-01 02:00:00+01:00               448.0   \n",
       "3  2015-01-01 03:00:00+01:00               438.0   \n",
       "4  2015-01-01 04:00:00+01:00               428.0   \n",
       "\n",
       "   generation fossil brown coal/lignite  generation fossil coal-derived gas  \\\n",
       "0                                 329.0                                 0.0   \n",
       "1                                 328.0                                 0.0   \n",
       "2                                 323.0                                 0.0   \n",
       "3                                 254.0                                 0.0   \n",
       "4                                 187.0                                 0.0   \n",
       "\n",
       "   generation fossil gas  generation fossil hard coal  generation fossil oil  \\\n",
       "0                 4844.0                       4821.0                  162.0   \n",
       "1                 5196.0                       4755.0                  158.0   \n",
       "2                 4857.0                       4581.0                  157.0   \n",
       "3                 4314.0                       4131.0                  160.0   \n",
       "4                 4130.0                       3840.0                  156.0   \n",
       "\n",
       "   generation fossil oil shale  generation fossil peat  generation geothermal  \\\n",
       "0                          0.0                     0.0                    0.0   \n",
       "1                          0.0                     0.0                    0.0   \n",
       "2                          0.0                     0.0                    0.0   \n",
       "3                          0.0                     0.0                    0.0   \n",
       "4                          0.0                     0.0                    0.0   \n",
       "\n",
       "   ...  generation waste  generation wind offshore  generation wind onshore  \\\n",
       "0  ...             196.0                       0.0                   6378.0   \n",
       "1  ...             195.0                       0.0                   5890.0   \n",
       "2  ...             196.0                       0.0                   5461.0   \n",
       "3  ...             191.0                       0.0                   5238.0   \n",
       "4  ...             189.0                       0.0                   4935.0   \n",
       "\n",
       "   forecast solar day ahead  forecast wind offshore eday ahead  \\\n",
       "0                      17.0                                NaN   \n",
       "1                      16.0                                NaN   \n",
       "2                       8.0                                NaN   \n",
       "3                       2.0                                NaN   \n",
       "4                       9.0                                NaN   \n",
       "\n",
       "   forecast wind onshore day ahead  total load forecast  total load actual  \\\n",
       "0                           6436.0              26118.0            25385.0   \n",
       "1                           5856.0              24934.0            24382.0   \n",
       "2                           5454.0              23515.0            22734.0   \n",
       "3                           5151.0              22642.0            21286.0   \n",
       "4                           4861.0              21785.0            20264.0   \n",
       "\n",
       "   price day ahead  price actual  \n",
       "0            50.10         65.41  \n",
       "1            48.10         64.92  \n",
       "2            47.33         64.48  \n",
       "3            42.27         59.32  \n",
       "4            38.41         56.04  \n",
       "\n",
       "[5 rows x 29 columns]"
      ]
     },
     "execution_count": 3,
     "metadata": {},
     "output_type": "execute_result"
    }
   ],
   "source": [
    "energy.head()\n"
   ]
  },
  {
   "cell_type": "code",
   "execution_count": 4,
   "id": "5cd947e2",
   "metadata": {},
   "outputs": [
    {
     "data": {
      "text/plain": [
       "(35064, 29)"
      ]
     },
     "execution_count": 4,
     "metadata": {},
     "output_type": "execute_result"
    }
   ],
   "source": [
    "energy.shape\n"
   ]
  },
  {
   "cell_type": "code",
   "execution_count": 5,
   "id": "660c3172",
   "metadata": {},
   "outputs": [
    {
     "data": {
      "text/plain": [
       "time                                               0\n",
       "generation biomass                                19\n",
       "generation fossil brown coal/lignite              18\n",
       "generation fossil coal-derived gas                18\n",
       "generation fossil gas                             18\n",
       "generation fossil hard coal                       18\n",
       "generation fossil oil                             19\n",
       "generation fossil oil shale                       18\n",
       "generation fossil peat                            18\n",
       "generation geothermal                             18\n",
       "generation hydro pumped storage aggregated     35064\n",
       "generation hydro pumped storage consumption       19\n",
       "generation hydro run-of-river and poundage        19\n",
       "generation hydro water reservoir                  18\n",
       "generation marine                                 19\n",
       "generation nuclear                                17\n",
       "generation other                                  18\n",
       "generation other renewable                        18\n",
       "generation solar                                  18\n",
       "generation waste                                  19\n",
       "generation wind offshore                          18\n",
       "generation wind onshore                           18\n",
       "forecast solar day ahead                           0\n",
       "forecast wind offshore eday ahead              35064\n",
       "forecast wind onshore day ahead                    0\n",
       "total load forecast                                0\n",
       "total load actual                                 36\n",
       "price day ahead                                    0\n",
       "price actual                                       0\n",
       "dtype: int64"
      ]
     },
     "execution_count": 5,
     "metadata": {},
     "output_type": "execute_result"
    }
   ],
   "source": [
    "energy.isnull().sum()\n"
   ]
  },
  {
   "cell_type": "code",
   "execution_count": 6,
   "id": "78423fcd",
   "metadata": {},
   "outputs": [
    {
     "name": "stdout",
     "output_type": "stream",
     "text": [
      "time :  35064\n",
      "generation biomass :  423\n",
      "generation fossil brown coal/lignite :  956\n",
      "generation fossil coal-derived gas :  1\n",
      "generation fossil gas :  8297\n",
      "generation fossil hard coal :  7266\n",
      "generation fossil oil :  321\n",
      "generation fossil oil shale :  1\n",
      "generation fossil peat :  1\n",
      "generation geothermal :  1\n",
      "generation hydro pumped storage aggregated :  0\n",
      "generation hydro pumped storage consumption :  3311\n",
      "generation hydro run-of-river and poundage :  1684\n",
      "generation hydro water reservoir :  7029\n",
      "generation marine :  1\n",
      "generation nuclear :  2388\n",
      "generation other :  103\n",
      "generation other renewable :  78\n",
      "generation solar :  5331\n",
      "generation waste :  262\n",
      "generation wind offshore :  1\n",
      "generation wind onshore :  11465\n",
      "forecast solar day ahead :  5356\n",
      "forecast wind offshore eday ahead :  0\n",
      "forecast wind onshore day ahead :  11332\n",
      "total load forecast :  14790\n",
      "total load actual :  15127\n",
      "price day ahead :  5747\n",
      "price actual :  6653\n"
     ]
    }
   ],
   "source": [
    "energy_cols = energy.columns.tolist()\n",
    "\n",
    "for x in energy_cols:\n",
    "    print(x,': ', energy[x].nunique())\n",
    "    "
   ]
  },
  {
   "cell_type": "code",
   "execution_count": 7,
   "id": "534b984b",
   "metadata": {},
   "outputs": [
    {
     "name": "stdout",
     "output_type": "stream",
     "text": [
      "4\n"
     ]
    }
   ],
   "source": [
    "print(len(energy_cols[0]))\n"
   ]
  },
  {
   "cell_type": "code",
   "execution_count": 8,
   "id": "db2dde8b",
   "metadata": {},
   "outputs": [
    {
     "data": {
      "text/plain": [
       "time                                            object\n",
       "generation biomass                             float64\n",
       "generation fossil brown coal/lignite           float64\n",
       "generation fossil coal-derived gas             float64\n",
       "generation fossil gas                          float64\n",
       "generation fossil hard coal                    float64\n",
       "generation fossil oil                          float64\n",
       "generation fossil oil shale                    float64\n",
       "generation fossil peat                         float64\n",
       "generation geothermal                          float64\n",
       "generation hydro pumped storage aggregated     float64\n",
       "generation hydro pumped storage consumption    float64\n",
       "generation hydro run-of-river and poundage     float64\n",
       "generation hydro water reservoir               float64\n",
       "generation marine                              float64\n",
       "generation nuclear                             float64\n",
       "generation other                               float64\n",
       "generation other renewable                     float64\n",
       "generation solar                               float64\n",
       "generation waste                               float64\n",
       "generation wind offshore                       float64\n",
       "generation wind onshore                        float64\n",
       "forecast solar day ahead                       float64\n",
       "forecast wind offshore eday ahead              float64\n",
       "forecast wind onshore day ahead                float64\n",
       "total load forecast                            float64\n",
       "total load actual                              float64\n",
       "price day ahead                                float64\n",
       "price actual                                   float64\n",
       "dtype: object"
      ]
     },
     "execution_count": 8,
     "metadata": {},
     "output_type": "execute_result"
    }
   ],
   "source": [
    "energy.dtypes\n"
   ]
  },
  {
   "cell_type": "markdown",
   "id": "885c7baa",
   "metadata": {},
   "source": [
    "The ```energy``` data set has 29 columns and 35,064 rows. All columns are float except for the ```time``` column. We should convert that column to a datetime object so we can more easily use the times. Most columns have less than 20 missing values. However, two columns (```generation hydro pumped storage aggregated``` and ```forecast wind offshore eday ahead```) are missing all values. We should remove those columns. A few additional columns have only a single unique value (typically 0). We will remove these columns (```generation fossil coal-derived gas```, ```generation fossil oil shale```, ```generation fossil peat```, ```generation geothermal```, ```generation marine```, and ```generation wind offshore```) because they do not provide any helpful information.\n",
    "\n",
    "Finally, we note that the column names have spaces between the words. To make it easier for our coding, we'll replace the spaces with underscores.\n",
    "\n",
    "Data cleaning tasks for the ```energy``` data set:\n",
    "\n",
    "- convert the ```time``` column to a datetime object\n",
    "- remove ```generation hydro pumped storage aggregated``` and ```forecast wind offshore eday ahead```\n",
    "- remove ```generation fossil coal-derived gas```, ```generation fossil oil shale```, ```generation fossil peat```, ```generation geothermal```, ```generation marine```, and ```generation wind offshore```\n",
    "- replace spaces in column names with underscore"
   ]
  },
  {
   "cell_type": "markdown",
   "id": "ce6edd18",
   "metadata": {},
   "source": [
    "Now, let's explore the ```weather``` data set so we understand the data structure and any data cleaning tasks."
   ]
  },
  {
   "cell_type": "code",
   "execution_count": 9,
   "id": "f0a65870",
   "metadata": {},
   "outputs": [
    {
     "data": {
      "text/html": [
       "<div>\n",
       "<style scoped>\n",
       "    .dataframe tbody tr th:only-of-type {\n",
       "        vertical-align: middle;\n",
       "    }\n",
       "\n",
       "    .dataframe tbody tr th {\n",
       "        vertical-align: top;\n",
       "    }\n",
       "\n",
       "    .dataframe thead th {\n",
       "        text-align: right;\n",
       "    }\n",
       "</style>\n",
       "<table border=\"1\" class=\"dataframe\">\n",
       "  <thead>\n",
       "    <tr style=\"text-align: right;\">\n",
       "      <th></th>\n",
       "      <th>dt_iso</th>\n",
       "      <th>city_name</th>\n",
       "      <th>temp</th>\n",
       "      <th>temp_min</th>\n",
       "      <th>temp_max</th>\n",
       "      <th>pressure</th>\n",
       "      <th>humidity</th>\n",
       "      <th>wind_speed</th>\n",
       "      <th>wind_deg</th>\n",
       "      <th>rain_1h</th>\n",
       "      <th>rain_3h</th>\n",
       "      <th>snow_3h</th>\n",
       "      <th>clouds_all</th>\n",
       "      <th>weather_id</th>\n",
       "      <th>weather_main</th>\n",
       "      <th>weather_description</th>\n",
       "      <th>weather_icon</th>\n",
       "    </tr>\n",
       "  </thead>\n",
       "  <tbody>\n",
       "    <tr>\n",
       "      <th>0</th>\n",
       "      <td>2015-01-01 00:00:00+01:00</td>\n",
       "      <td>Valencia</td>\n",
       "      <td>270.475</td>\n",
       "      <td>270.475</td>\n",
       "      <td>270.475</td>\n",
       "      <td>1001</td>\n",
       "      <td>77</td>\n",
       "      <td>1</td>\n",
       "      <td>62</td>\n",
       "      <td>0.0</td>\n",
       "      <td>0.0</td>\n",
       "      <td>0.0</td>\n",
       "      <td>0</td>\n",
       "      <td>800</td>\n",
       "      <td>clear</td>\n",
       "      <td>sky is clear</td>\n",
       "      <td>01n</td>\n",
       "    </tr>\n",
       "    <tr>\n",
       "      <th>1</th>\n",
       "      <td>2015-01-01 01:00:00+01:00</td>\n",
       "      <td>Valencia</td>\n",
       "      <td>270.475</td>\n",
       "      <td>270.475</td>\n",
       "      <td>270.475</td>\n",
       "      <td>1001</td>\n",
       "      <td>77</td>\n",
       "      <td>1</td>\n",
       "      <td>62</td>\n",
       "      <td>0.0</td>\n",
       "      <td>0.0</td>\n",
       "      <td>0.0</td>\n",
       "      <td>0</td>\n",
       "      <td>800</td>\n",
       "      <td>clear</td>\n",
       "      <td>sky is clear</td>\n",
       "      <td>01n</td>\n",
       "    </tr>\n",
       "    <tr>\n",
       "      <th>2</th>\n",
       "      <td>2015-01-01 02:00:00+01:00</td>\n",
       "      <td>Valencia</td>\n",
       "      <td>269.686</td>\n",
       "      <td>269.686</td>\n",
       "      <td>269.686</td>\n",
       "      <td>1002</td>\n",
       "      <td>78</td>\n",
       "      <td>0</td>\n",
       "      <td>23</td>\n",
       "      <td>0.0</td>\n",
       "      <td>0.0</td>\n",
       "      <td>0.0</td>\n",
       "      <td>0</td>\n",
       "      <td>800</td>\n",
       "      <td>clear</td>\n",
       "      <td>sky is clear</td>\n",
       "      <td>01n</td>\n",
       "    </tr>\n",
       "    <tr>\n",
       "      <th>3</th>\n",
       "      <td>2015-01-01 03:00:00+01:00</td>\n",
       "      <td>Valencia</td>\n",
       "      <td>269.686</td>\n",
       "      <td>269.686</td>\n",
       "      <td>269.686</td>\n",
       "      <td>1002</td>\n",
       "      <td>78</td>\n",
       "      <td>0</td>\n",
       "      <td>23</td>\n",
       "      <td>0.0</td>\n",
       "      <td>0.0</td>\n",
       "      <td>0.0</td>\n",
       "      <td>0</td>\n",
       "      <td>800</td>\n",
       "      <td>clear</td>\n",
       "      <td>sky is clear</td>\n",
       "      <td>01n</td>\n",
       "    </tr>\n",
       "    <tr>\n",
       "      <th>4</th>\n",
       "      <td>2015-01-01 04:00:00+01:00</td>\n",
       "      <td>Valencia</td>\n",
       "      <td>269.686</td>\n",
       "      <td>269.686</td>\n",
       "      <td>269.686</td>\n",
       "      <td>1002</td>\n",
       "      <td>78</td>\n",
       "      <td>0</td>\n",
       "      <td>23</td>\n",
       "      <td>0.0</td>\n",
       "      <td>0.0</td>\n",
       "      <td>0.0</td>\n",
       "      <td>0</td>\n",
       "      <td>800</td>\n",
       "      <td>clear</td>\n",
       "      <td>sky is clear</td>\n",
       "      <td>01n</td>\n",
       "    </tr>\n",
       "  </tbody>\n",
       "</table>\n",
       "</div>"
      ],
      "text/plain": [
       "                      dt_iso city_name     temp  temp_min  temp_max  pressure  \\\n",
       "0  2015-01-01 00:00:00+01:00  Valencia  270.475   270.475   270.475      1001   \n",
       "1  2015-01-01 01:00:00+01:00  Valencia  270.475   270.475   270.475      1001   \n",
       "2  2015-01-01 02:00:00+01:00  Valencia  269.686   269.686   269.686      1002   \n",
       "3  2015-01-01 03:00:00+01:00  Valencia  269.686   269.686   269.686      1002   \n",
       "4  2015-01-01 04:00:00+01:00  Valencia  269.686   269.686   269.686      1002   \n",
       "\n",
       "   humidity  wind_speed  wind_deg  rain_1h  rain_3h  snow_3h  clouds_all  \\\n",
       "0        77           1        62      0.0      0.0      0.0           0   \n",
       "1        77           1        62      0.0      0.0      0.0           0   \n",
       "2        78           0        23      0.0      0.0      0.0           0   \n",
       "3        78           0        23      0.0      0.0      0.0           0   \n",
       "4        78           0        23      0.0      0.0      0.0           0   \n",
       "\n",
       "   weather_id weather_main weather_description weather_icon  \n",
       "0         800        clear        sky is clear          01n  \n",
       "1         800        clear        sky is clear          01n  \n",
       "2         800        clear        sky is clear          01n  \n",
       "3         800        clear        sky is clear          01n  \n",
       "4         800        clear        sky is clear          01n  "
      ]
     },
     "execution_count": 9,
     "metadata": {},
     "output_type": "execute_result"
    }
   ],
   "source": [
    "weather.head()\n"
   ]
  },
  {
   "cell_type": "code",
   "execution_count": 10,
   "id": "635faab2",
   "metadata": {},
   "outputs": [
    {
     "data": {
      "text/plain": [
       "(178396, 17)"
      ]
     },
     "execution_count": 10,
     "metadata": {},
     "output_type": "execute_result"
    }
   ],
   "source": [
    "weather.shape\n"
   ]
  },
  {
   "cell_type": "code",
   "execution_count": 11,
   "id": "e2db98cf",
   "metadata": {},
   "outputs": [
    {
     "data": {
      "text/plain": [
       "dt_iso                 0\n",
       "city_name              0\n",
       "temp                   0\n",
       "temp_min               0\n",
       "temp_max               0\n",
       "pressure               0\n",
       "humidity               0\n",
       "wind_speed             0\n",
       "wind_deg               0\n",
       "rain_1h                0\n",
       "rain_3h                0\n",
       "snow_3h                0\n",
       "clouds_all             0\n",
       "weather_id             0\n",
       "weather_main           0\n",
       "weather_description    0\n",
       "weather_icon           0\n",
       "dtype: int64"
      ]
     },
     "execution_count": 11,
     "metadata": {},
     "output_type": "execute_result"
    }
   ],
   "source": [
    "weather.isnull().sum()\n"
   ]
  },
  {
   "cell_type": "code",
   "execution_count": 12,
   "id": "d3b16fad",
   "metadata": {},
   "outputs": [
    {
     "name": "stdout",
     "output_type": "stream",
     "text": [
      "dt_iso :  35064\n",
      "city_name :  5\n",
      "temp :  20743\n",
      "temp_min :  18553\n",
      "temp_max :  18591\n",
      "pressure :  190\n",
      "humidity :  100\n",
      "wind_speed :  36\n",
      "wind_deg :  361\n",
      "rain_1h :  7\n",
      "rain_3h :  89\n",
      "snow_3h :  66\n",
      "clouds_all :  97\n",
      "weather_id :  38\n",
      "weather_main :  12\n",
      "weather_description :  43\n",
      "weather_icon :  24\n"
     ]
    }
   ],
   "source": [
    "weather_cols = weather.columns.tolist()\n",
    "\n",
    "for x in weather_cols:\n",
    "    print(x,': ', weather[x].nunique())\n",
    "    "
   ]
  },
  {
   "cell_type": "code",
   "execution_count": null,
   "id": "6beed578",
   "metadata": {},
   "outputs": [],
   "source": []
  },
  {
   "cell_type": "code",
   "execution_count": 13,
   "id": "f24cd72f",
   "metadata": {},
   "outputs": [
    {
     "data": {
      "text/plain": [
       "Madrid        36267\n",
       "Bilbao        35951\n",
       "Seville       35557\n",
       " Barcelona    35476\n",
       "Valencia      35145\n",
       "Name: city_name, dtype: int64"
      ]
     },
     "execution_count": 13,
     "metadata": {},
     "output_type": "execute_result"
    }
   ],
   "source": [
    "weather['city_name'].value_counts()\n"
   ]
  },
  {
   "cell_type": "code",
   "execution_count": 14,
   "id": "fc273c71",
   "metadata": {},
   "outputs": [
    {
     "data": {
      "text/plain": [
       "dt_iso                  object\n",
       "city_name               object\n",
       "temp                   float64\n",
       "temp_min               float64\n",
       "temp_max               float64\n",
       "pressure                 int64\n",
       "humidity                 int64\n",
       "wind_speed               int64\n",
       "wind_deg                 int64\n",
       "rain_1h                float64\n",
       "rain_3h                float64\n",
       "snow_3h                float64\n",
       "clouds_all               int64\n",
       "weather_id               int64\n",
       "weather_main            object\n",
       "weather_description     object\n",
       "weather_icon            object\n",
       "dtype: object"
      ]
     },
     "execution_count": 14,
     "metadata": {},
     "output_type": "execute_result"
    }
   ],
   "source": [
    "weather.dtypes\n"
   ]
  },
  {
   "cell_type": "markdown",
   "id": "2ecdc129",
   "metadata": {},
   "source": [
    "The ```weather``` data set has 17 columns and 178,396 rows. It is very clean. There are no null values and every column has multiple unique values. There are data included for five cities: Madrid, Bilbao, Seville, Barcelona, and Valencia. Barcelona has a leading space at the beginning that we'll have to be careful with. Each city is included a different number of times, so we'll have to sort out why that is. There are 35,064 unique datetimes. That matches the number in the ```energy``` dataset. Hopefully all of these match, but we'll have to check first. The majority of the columns are numeric types. The ```weather_main```, ```weather_description```, and ```weather_icon``` are all objects. These could be useful as a general description of the type of weather, so we will keep all of these for now.  \n",
    "\n",
    "Data cleaning tasks for the ```weather``` data set:\n",
    "- convert ```dt_iso``` to a datetime object\n"
   ]
  },
  {
   "cell_type": "markdown",
   "id": "d21c6feb",
   "metadata": {},
   "source": [
    "## Data Cleaning\n",
    "\n",
    "Now that we have explored and identified what we need to do for data cleaning, let's implement it for both data sets."
   ]
  },
  {
   "cell_type": "code",
   "execution_count": 16,
   "id": "7f08df77",
   "metadata": {},
   "outputs": [],
   "source": [
    "# we will start with the energy dataset\n",
    "\n",
    "#- convert the ```time``` column to a datetime object\n",
    "#- remove ```generation hydro pumped storage aggregated``` and ```forecast wind offshore eday ahead```\n",
    "#- remove ```generation fossil coal-derived gas```, ```generation fossil oil shale```, ```generation fossil peat```, ```generation geothermal```, ```generation marine```, and ```generation wind offshore```\n",
    "#- replace spaces in column names with underscore\n",
    "\n",
    "energy['time'] = pd.to_datetime(energy['time'])\n",
    "\n",
    "columns_to_remove = ['generation hydro pumped storage aggregated','forecast wind offshore eday ahead',\n",
    "                    'generation fossil coal-derived gas','generation fossil oil shale',\n",
    "                    'generation fossil peat','generation geothermal',\n",
    "                    'generation marine','generation wind offshore']\n",
    "\n",
    "energy_clean = energy.drop(columns_to_remove,axis=1)\n",
    "\n",
    "energy_clean.columns = energy_clean.columns.str.replace(' ','_')\n"
   ]
  },
  {
   "cell_type": "code",
   "execution_count": 17,
   "id": "c0e1c9bf",
   "metadata": {},
   "outputs": [
    {
     "data": {
      "text/html": [
       "<div>\n",
       "<style scoped>\n",
       "    .dataframe tbody tr th:only-of-type {\n",
       "        vertical-align: middle;\n",
       "    }\n",
       "\n",
       "    .dataframe tbody tr th {\n",
       "        vertical-align: top;\n",
       "    }\n",
       "\n",
       "    .dataframe thead th {\n",
       "        text-align: right;\n",
       "    }\n",
       "</style>\n",
       "<table border=\"1\" class=\"dataframe\">\n",
       "  <thead>\n",
       "    <tr style=\"text-align: right;\">\n",
       "      <th></th>\n",
       "      <th>time</th>\n",
       "      <th>generation_biomass</th>\n",
       "      <th>generation_fossil_brown_coal/lignite</th>\n",
       "      <th>generation_fossil_gas</th>\n",
       "      <th>generation_fossil_hard_coal</th>\n",
       "      <th>generation_fossil_oil</th>\n",
       "      <th>generation_hydro_pumped_storage_consumption</th>\n",
       "      <th>generation_hydro_run-of-river_and_poundage</th>\n",
       "      <th>generation_hydro_water_reservoir</th>\n",
       "      <th>generation_nuclear</th>\n",
       "      <th>...</th>\n",
       "      <th>generation_other_renewable</th>\n",
       "      <th>generation_solar</th>\n",
       "      <th>generation_waste</th>\n",
       "      <th>generation_wind_onshore</th>\n",
       "      <th>forecast_solar_day_ahead</th>\n",
       "      <th>forecast_wind_onshore_day_ahead</th>\n",
       "      <th>total_load_forecast</th>\n",
       "      <th>total_load_actual</th>\n",
       "      <th>price_day_ahead</th>\n",
       "      <th>price_actual</th>\n",
       "    </tr>\n",
       "  </thead>\n",
       "  <tbody>\n",
       "    <tr>\n",
       "      <th>0</th>\n",
       "      <td>2015-01-01 00:00:00+01:00</td>\n",
       "      <td>447.0</td>\n",
       "      <td>329.0</td>\n",
       "      <td>4844.0</td>\n",
       "      <td>4821.0</td>\n",
       "      <td>162.0</td>\n",
       "      <td>863.0</td>\n",
       "      <td>1051.0</td>\n",
       "      <td>1899.0</td>\n",
       "      <td>7096.0</td>\n",
       "      <td>...</td>\n",
       "      <td>73.0</td>\n",
       "      <td>49.0</td>\n",
       "      <td>196.0</td>\n",
       "      <td>6378.0</td>\n",
       "      <td>17.0</td>\n",
       "      <td>6436.0</td>\n",
       "      <td>26118.0</td>\n",
       "      <td>25385.0</td>\n",
       "      <td>50.10</td>\n",
       "      <td>65.41</td>\n",
       "    </tr>\n",
       "    <tr>\n",
       "      <th>1</th>\n",
       "      <td>2015-01-01 01:00:00+01:00</td>\n",
       "      <td>449.0</td>\n",
       "      <td>328.0</td>\n",
       "      <td>5196.0</td>\n",
       "      <td>4755.0</td>\n",
       "      <td>158.0</td>\n",
       "      <td>920.0</td>\n",
       "      <td>1009.0</td>\n",
       "      <td>1658.0</td>\n",
       "      <td>7096.0</td>\n",
       "      <td>...</td>\n",
       "      <td>71.0</td>\n",
       "      <td>50.0</td>\n",
       "      <td>195.0</td>\n",
       "      <td>5890.0</td>\n",
       "      <td>16.0</td>\n",
       "      <td>5856.0</td>\n",
       "      <td>24934.0</td>\n",
       "      <td>24382.0</td>\n",
       "      <td>48.10</td>\n",
       "      <td>64.92</td>\n",
       "    </tr>\n",
       "    <tr>\n",
       "      <th>2</th>\n",
       "      <td>2015-01-01 02:00:00+01:00</td>\n",
       "      <td>448.0</td>\n",
       "      <td>323.0</td>\n",
       "      <td>4857.0</td>\n",
       "      <td>4581.0</td>\n",
       "      <td>157.0</td>\n",
       "      <td>1164.0</td>\n",
       "      <td>973.0</td>\n",
       "      <td>1371.0</td>\n",
       "      <td>7099.0</td>\n",
       "      <td>...</td>\n",
       "      <td>73.0</td>\n",
       "      <td>50.0</td>\n",
       "      <td>196.0</td>\n",
       "      <td>5461.0</td>\n",
       "      <td>8.0</td>\n",
       "      <td>5454.0</td>\n",
       "      <td>23515.0</td>\n",
       "      <td>22734.0</td>\n",
       "      <td>47.33</td>\n",
       "      <td>64.48</td>\n",
       "    </tr>\n",
       "    <tr>\n",
       "      <th>3</th>\n",
       "      <td>2015-01-01 03:00:00+01:00</td>\n",
       "      <td>438.0</td>\n",
       "      <td>254.0</td>\n",
       "      <td>4314.0</td>\n",
       "      <td>4131.0</td>\n",
       "      <td>160.0</td>\n",
       "      <td>1503.0</td>\n",
       "      <td>949.0</td>\n",
       "      <td>779.0</td>\n",
       "      <td>7098.0</td>\n",
       "      <td>...</td>\n",
       "      <td>75.0</td>\n",
       "      <td>50.0</td>\n",
       "      <td>191.0</td>\n",
       "      <td>5238.0</td>\n",
       "      <td>2.0</td>\n",
       "      <td>5151.0</td>\n",
       "      <td>22642.0</td>\n",
       "      <td>21286.0</td>\n",
       "      <td>42.27</td>\n",
       "      <td>59.32</td>\n",
       "    </tr>\n",
       "    <tr>\n",
       "      <th>4</th>\n",
       "      <td>2015-01-01 04:00:00+01:00</td>\n",
       "      <td>428.0</td>\n",
       "      <td>187.0</td>\n",
       "      <td>4130.0</td>\n",
       "      <td>3840.0</td>\n",
       "      <td>156.0</td>\n",
       "      <td>1826.0</td>\n",
       "      <td>953.0</td>\n",
       "      <td>720.0</td>\n",
       "      <td>7097.0</td>\n",
       "      <td>...</td>\n",
       "      <td>74.0</td>\n",
       "      <td>42.0</td>\n",
       "      <td>189.0</td>\n",
       "      <td>4935.0</td>\n",
       "      <td>9.0</td>\n",
       "      <td>4861.0</td>\n",
       "      <td>21785.0</td>\n",
       "      <td>20264.0</td>\n",
       "      <td>38.41</td>\n",
       "      <td>56.04</td>\n",
       "    </tr>\n",
       "  </tbody>\n",
       "</table>\n",
       "<p>5 rows × 21 columns</p>\n",
       "</div>"
      ],
      "text/plain": [
       "                        time  generation_biomass  \\\n",
       "0  2015-01-01 00:00:00+01:00               447.0   \n",
       "1  2015-01-01 01:00:00+01:00               449.0   \n",
       "2  2015-01-01 02:00:00+01:00               448.0   \n",
       "3  2015-01-01 03:00:00+01:00               438.0   \n",
       "4  2015-01-01 04:00:00+01:00               428.0   \n",
       "\n",
       "   generation_fossil_brown_coal/lignite  generation_fossil_gas  \\\n",
       "0                                 329.0                 4844.0   \n",
       "1                                 328.0                 5196.0   \n",
       "2                                 323.0                 4857.0   \n",
       "3                                 254.0                 4314.0   \n",
       "4                                 187.0                 4130.0   \n",
       "\n",
       "   generation_fossil_hard_coal  generation_fossil_oil  \\\n",
       "0                       4821.0                  162.0   \n",
       "1                       4755.0                  158.0   \n",
       "2                       4581.0                  157.0   \n",
       "3                       4131.0                  160.0   \n",
       "4                       3840.0                  156.0   \n",
       "\n",
       "   generation_hydro_pumped_storage_consumption  \\\n",
       "0                                        863.0   \n",
       "1                                        920.0   \n",
       "2                                       1164.0   \n",
       "3                                       1503.0   \n",
       "4                                       1826.0   \n",
       "\n",
       "   generation_hydro_run-of-river_and_poundage  \\\n",
       "0                                      1051.0   \n",
       "1                                      1009.0   \n",
       "2                                       973.0   \n",
       "3                                       949.0   \n",
       "4                                       953.0   \n",
       "\n",
       "   generation_hydro_water_reservoir  generation_nuclear  ...  \\\n",
       "0                            1899.0              7096.0  ...   \n",
       "1                            1658.0              7096.0  ...   \n",
       "2                            1371.0              7099.0  ...   \n",
       "3                             779.0              7098.0  ...   \n",
       "4                             720.0              7097.0  ...   \n",
       "\n",
       "   generation_other_renewable  generation_solar  generation_waste  \\\n",
       "0                        73.0              49.0             196.0   \n",
       "1                        71.0              50.0             195.0   \n",
       "2                        73.0              50.0             196.0   \n",
       "3                        75.0              50.0             191.0   \n",
       "4                        74.0              42.0             189.0   \n",
       "\n",
       "   generation_wind_onshore  forecast_solar_day_ahead  \\\n",
       "0                   6378.0                      17.0   \n",
       "1                   5890.0                      16.0   \n",
       "2                   5461.0                       8.0   \n",
       "3                   5238.0                       2.0   \n",
       "4                   4935.0                       9.0   \n",
       "\n",
       "   forecast_wind_onshore_day_ahead  total_load_forecast  total_load_actual  \\\n",
       "0                           6436.0              26118.0            25385.0   \n",
       "1                           5856.0              24934.0            24382.0   \n",
       "2                           5454.0              23515.0            22734.0   \n",
       "3                           5151.0              22642.0            21286.0   \n",
       "4                           4861.0              21785.0            20264.0   \n",
       "\n",
       "   price_day_ahead  price_actual  \n",
       "0            50.10         65.41  \n",
       "1            48.10         64.92  \n",
       "2            47.33         64.48  \n",
       "3            42.27         59.32  \n",
       "4            38.41         56.04  \n",
       "\n",
       "[5 rows x 21 columns]"
      ]
     },
     "execution_count": 17,
     "metadata": {},
     "output_type": "execute_result"
    }
   ],
   "source": [
    "energy_clean.head()\n"
   ]
  },
  {
   "cell_type": "markdown",
   "id": "da5d7bef",
   "metadata": {},
   "source": [
    "Now we can clean the weather data set. The only item we need for this is to convert the times to a datetime format."
   ]
  },
  {
   "cell_type": "code",
   "execution_count": 240,
   "id": "1d270159",
   "metadata": {},
   "outputs": [],
   "source": [
    "# and now we can clean the weather dataset\n",
    "\n",
    "weather['dt_iso'] = pd.to_datetime(weather['dt_iso'],utc=True)\n"
   ]
  },
  {
   "cell_type": "code",
   "execution_count": 241,
   "id": "33e2bb91",
   "metadata": {},
   "outputs": [
    {
     "data": {
      "text/plain": [
       "dt_iso                 datetime64[ns, UTC]\n",
       "city_name                           object\n",
       "temp                               float64\n",
       "temp_min                           float64\n",
       "temp_max                           float64\n",
       "pressure                             int64\n",
       "humidity                             int64\n",
       "wind_speed                           int64\n",
       "wind_deg                             int64\n",
       "rain_1h                            float64\n",
       "rain_3h                            float64\n",
       "snow_3h                            float64\n",
       "clouds_all                           int64\n",
       "weather_id                           int64\n",
       "weather_main                        object\n",
       "weather_description                 object\n",
       "weather_icon                        object\n",
       "dtype: object"
      ]
     },
     "execution_count": 241,
     "metadata": {},
     "output_type": "execute_result"
    }
   ],
   "source": [
    "weather.dtypes\n"
   ]
  },
  {
   "cell_type": "markdown",
   "id": "e1191d99",
   "metadata": {},
   "source": [
    "## Merging Data\n",
    "\n",
    "Now that both data sets have been cleaned, we are ready to merge them into a single dataframe. \n",
    "\n",
    "First, we need to find out if the times in both data sets are the same. The times in ```weather``` are repeated, so we need to extract the unique times first.  \n",
    "\n",
    "After that, we want to fold the ```weather``` data set into the ```energy``` data set. We want to separate out the ```weather``` data by ```city```, then add each relevant column. We should prepend the name of each city to the feature on the new data set, such as ```madrid_temp```. If we do this, we will have a single row per time stamp with all relevant data.\n"
   ]
  },
  {
   "cell_type": "code",
   "execution_count": 20,
   "id": "e4227bf9",
   "metadata": {},
   "outputs": [],
   "source": [
    "weather_unique_times = weather['dt_iso'].unique()\n",
    "energy_unique_times = energy_clean['time'].unique()\n",
    "\n",
    "test_times = weather_unique_times == energy_unique_times\n"
   ]
  },
  {
   "cell_type": "code",
   "execution_count": 21,
   "id": "6b92ff5e",
   "metadata": {},
   "outputs": [
    {
     "data": {
      "text/plain": [
       "0"
      ]
     },
     "execution_count": 21,
     "metadata": {},
     "output_type": "execute_result"
    }
   ],
   "source": [
    "np.size(test_times) - np.count_nonzero(test_times)\n"
   ]
  },
  {
   "cell_type": "code",
   "execution_count": 22,
   "id": "028ef556",
   "metadata": {},
   "outputs": [
    {
     "data": {
      "image/png": "[encoded data removed]",
      "text/plain": [
       "<Figure size 432x288 with 1 Axes>"
      ]
     },
     "metadata": {
      "needs_background": "light"
     },
     "output_type": "display_data"
    }
   ],
   "source": [
    "plt.scatter(weather_unique_times,energy_unique_times)\n",
    "plt.show()\n"
   ]
  },
  {
   "cell_type": "code",
   "execution_count": 23,
   "id": "c9047188",
   "metadata": {},
   "outputs": [
    {
     "data": {
      "text/html": [
       "<div>\n",
       "<style scoped>\n",
       "    .dataframe tbody tr th:only-of-type {\n",
       "        vertical-align: middle;\n",
       "    }\n",
       "\n",
       "    .dataframe tbody tr th {\n",
       "        vertical-align: top;\n",
       "    }\n",
       "\n",
       "    .dataframe thead th {\n",
       "        text-align: right;\n",
       "    }\n",
       "</style>\n",
       "<table border=\"1\" class=\"dataframe\">\n",
       "  <thead>\n",
       "    <tr style=\"text-align: right;\">\n",
       "      <th></th>\n",
       "      <th>time</th>\n",
       "      <th>generation_biomass</th>\n",
       "      <th>generation_fossil_brown_coal/lignite</th>\n",
       "      <th>generation_fossil_gas</th>\n",
       "      <th>generation_fossil_hard_coal</th>\n",
       "      <th>generation_fossil_oil</th>\n",
       "      <th>generation_hydro_pumped_storage_consumption</th>\n",
       "      <th>generation_hydro_run-of-river_and_poundage</th>\n",
       "      <th>generation_hydro_water_reservoir</th>\n",
       "      <th>generation_nuclear</th>\n",
       "      <th>...</th>\n",
       "      <th>wind_speed_Valencia</th>\n",
       "      <th>wind_deg_Valencia</th>\n",
       "      <th>rain_1h_Valencia</th>\n",
       "      <th>rain_3h_Valencia</th>\n",
       "      <th>snow_3h_Valencia</th>\n",
       "      <th>clouds_all_Valencia</th>\n",
       "      <th>weather_id_Valencia</th>\n",
       "      <th>weather_main_Valencia</th>\n",
       "      <th>weather_description_Valencia</th>\n",
       "      <th>weather_icon_Valencia</th>\n",
       "    </tr>\n",
       "  </thead>\n",
       "  <tbody>\n",
       "    <tr>\n",
       "      <th>0</th>\n",
       "      <td>2015-01-01 00:00:00+01:00</td>\n",
       "      <td>447.0</td>\n",
       "      <td>329.0</td>\n",
       "      <td>4844.0</td>\n",
       "      <td>4821.0</td>\n",
       "      <td>162.0</td>\n",
       "      <td>863.0</td>\n",
       "      <td>1051.0</td>\n",
       "      <td>1899.0</td>\n",
       "      <td>7096.0</td>\n",
       "      <td>...</td>\n",
       "      <td>1</td>\n",
       "      <td>62</td>\n",
       "      <td>0.0</td>\n",
       "      <td>0.0</td>\n",
       "      <td>0.0</td>\n",
       "      <td>0</td>\n",
       "      <td>800</td>\n",
       "      <td>clear</td>\n",
       "      <td>sky is clear</td>\n",
       "      <td>01n</td>\n",
       "    </tr>\n",
       "    <tr>\n",
       "      <th>1</th>\n",
       "      <td>2015-01-01 01:00:00+01:00</td>\n",
       "      <td>449.0</td>\n",
       "      <td>328.0</td>\n",
       "      <td>5196.0</td>\n",
       "      <td>4755.0</td>\n",
       "      <td>158.0</td>\n",
       "      <td>920.0</td>\n",
       "      <td>1009.0</td>\n",
       "      <td>1658.0</td>\n",
       "      <td>7096.0</td>\n",
       "      <td>...</td>\n",
       "      <td>1</td>\n",
       "      <td>62</td>\n",
       "      <td>0.0</td>\n",
       "      <td>0.0</td>\n",
       "      <td>0.0</td>\n",
       "      <td>0</td>\n",
       "      <td>800</td>\n",
       "      <td>clear</td>\n",
       "      <td>sky is clear</td>\n",
       "      <td>01n</td>\n",
       "    </tr>\n",
       "    <tr>\n",
       "      <th>2</th>\n",
       "      <td>2015-01-01 02:00:00+01:00</td>\n",
       "      <td>448.0</td>\n",
       "      <td>323.0</td>\n",
       "      <td>4857.0</td>\n",
       "      <td>4581.0</td>\n",
       "      <td>157.0</td>\n",
       "      <td>1164.0</td>\n",
       "      <td>973.0</td>\n",
       "      <td>1371.0</td>\n",
       "      <td>7099.0</td>\n",
       "      <td>...</td>\n",
       "      <td>0</td>\n",
       "      <td>23</td>\n",
       "      <td>0.0</td>\n",
       "      <td>0.0</td>\n",
       "      <td>0.0</td>\n",
       "      <td>0</td>\n",
       "      <td>800</td>\n",
       "      <td>clear</td>\n",
       "      <td>sky is clear</td>\n",
       "      <td>01n</td>\n",
       "    </tr>\n",
       "    <tr>\n",
       "      <th>3</th>\n",
       "      <td>2015-01-01 03:00:00+01:00</td>\n",
       "      <td>438.0</td>\n",
       "      <td>254.0</td>\n",
       "      <td>4314.0</td>\n",
       "      <td>4131.0</td>\n",
       "      <td>160.0</td>\n",
       "      <td>1503.0</td>\n",
       "      <td>949.0</td>\n",
       "      <td>779.0</td>\n",
       "      <td>7098.0</td>\n",
       "      <td>...</td>\n",
       "      <td>0</td>\n",
       "      <td>23</td>\n",
       "      <td>0.0</td>\n",
       "      <td>0.0</td>\n",
       "      <td>0.0</td>\n",
       "      <td>0</td>\n",
       "      <td>800</td>\n",
       "      <td>clear</td>\n",
       "      <td>sky is clear</td>\n",
       "      <td>01n</td>\n",
       "    </tr>\n",
       "    <tr>\n",
       "      <th>4</th>\n",
       "      <td>2015-01-01 04:00:00+01:00</td>\n",
       "      <td>428.0</td>\n",
       "      <td>187.0</td>\n",
       "      <td>4130.0</td>\n",
       "      <td>3840.0</td>\n",
       "      <td>156.0</td>\n",
       "      <td>1826.0</td>\n",
       "      <td>953.0</td>\n",
       "      <td>720.0</td>\n",
       "      <td>7097.0</td>\n",
       "      <td>...</td>\n",
       "      <td>0</td>\n",
       "      <td>23</td>\n",
       "      <td>0.0</td>\n",
       "      <td>0.0</td>\n",
       "      <td>0.0</td>\n",
       "      <td>0</td>\n",
       "      <td>800</td>\n",
       "      <td>clear</td>\n",
       "      <td>sky is clear</td>\n",
       "      <td>01n</td>\n",
       "    </tr>\n",
       "  </tbody>\n",
       "</table>\n",
       "<p>5 rows × 106 columns</p>\n",
       "</div>"
      ],
      "text/plain": [
       "                        time  generation_biomass  \\\n",
       "0  2015-01-01 00:00:00+01:00               447.0   \n",
       "1  2015-01-01 01:00:00+01:00               449.0   \n",
       "2  2015-01-01 02:00:00+01:00               448.0   \n",
       "3  2015-01-01 03:00:00+01:00               438.0   \n",
       "4  2015-01-01 04:00:00+01:00               428.0   \n",
       "\n",
       "   generation_fossil_brown_coal/lignite  generation_fossil_gas  \\\n",
       "0                                 329.0                 4844.0   \n",
       "1                                 328.0                 5196.0   \n",
       "2                                 323.0                 4857.0   \n",
       "3                                 254.0                 4314.0   \n",
       "4                                 187.0                 4130.0   \n",
       "\n",
       "   generation_fossil_hard_coal  generation_fossil_oil  \\\n",
       "0                       4821.0                  162.0   \n",
       "1                       4755.0                  158.0   \n",
       "2                       4581.0                  157.0   \n",
       "3                       4131.0                  160.0   \n",
       "4                       3840.0                  156.0   \n",
       "\n",
       "   generation_hydro_pumped_storage_consumption  \\\n",
       "0                                        863.0   \n",
       "1                                        920.0   \n",
       "2                                       1164.0   \n",
       "3                                       1503.0   \n",
       "4                                       1826.0   \n",
       "\n",
       "   generation_hydro_run-of-river_and_poundage  \\\n",
       "0                                      1051.0   \n",
       "1                                      1009.0   \n",
       "2                                       973.0   \n",
       "3                                       949.0   \n",
       "4                                       953.0   \n",
       "\n",
       "   generation_hydro_water_reservoir  generation_nuclear  ...  \\\n",
       "0                            1899.0              7096.0  ...   \n",
       "1                            1658.0              7096.0  ...   \n",
       "2                            1371.0              7099.0  ...   \n",
       "3                             779.0              7098.0  ...   \n",
       "4                             720.0              7097.0  ...   \n",
       "\n",
       "   wind_speed_Valencia  wind_deg_Valencia  rain_1h_Valencia  rain_3h_Valencia  \\\n",
       "0                    1                 62               0.0               0.0   \n",
       "1                    1                 62               0.0               0.0   \n",
       "2                    0                 23               0.0               0.0   \n",
       "3                    0                 23               0.0               0.0   \n",
       "4                    0                 23               0.0               0.0   \n",
       "\n",
       "   snow_3h_Valencia  clouds_all_Valencia  weather_id_Valencia  \\\n",
       "0               0.0                    0                  800   \n",
       "1               0.0                    0                  800   \n",
       "2               0.0                    0                  800   \n",
       "3               0.0                    0                  800   \n",
       "4               0.0                    0                  800   \n",
       "\n",
       "   weather_main_Valencia  weather_description_Valencia  weather_icon_Valencia  \n",
       "0                  clear                  sky is clear                    01n  \n",
       "1                  clear                  sky is clear                    01n  \n",
       "2                  clear                  sky is clear                    01n  \n",
       "3                  clear                  sky is clear                    01n  \n",
       "4                  clear                  sky is clear                    01n  \n",
       "\n",
       "[5 rows x 106 columns]"
      ]
     },
     "execution_count": 23,
     "metadata": {},
     "output_type": "execute_result"
    }
   ],
   "source": [
    "city_names = ['Madrid','Bilbao','Seville',' Barcelona','Valencia']\n",
    "\n",
    "# let's create an iteration variable so we don't overwrite our data\n",
    "# we'll use this instead of looking for Madrid so our code is more flexible\n",
    "iteration = np.linspace(1,len(city_names),num=len(city_names))\n",
    "\n",
    "\n",
    "for city, it in zip(city_names,iteration):\n",
    "    # extract only the city for this iteration\n",
    "    city_extract = weather[weather['city_name'] == city]\n",
    "    \n",
    "    # alter the names of the columns to suffix the name of the city\n",
    "    if city == ' Barcelona':\n",
    "        city = 'Barcelona' # remove the leading space\n",
    "    city_suffix = '_' + city\n",
    "    city_extract = city_extract.add_suffix(city_suffix)\n",
    "    city_time_col = 'dt_iso_' + city\n",
    "    \n",
    "    # merge the dataframes\n",
    "    if it == 1:\n",
    "        full_df = energy_clean.merge(city_extract,\n",
    "                                    left_on='time',right_on=city_time_col,\n",
    "                                    how='left',suffixes=(None,city))\n",
    "    else:\n",
    "        full_df = full_df.merge(city_extract,\n",
    "                                    left_on='time',right_on=city_time_col,\n",
    "                                    how='left',suffixes=(None,city))\n",
    "        \n",
    "\n",
    "full_df.head()\n"
   ]
  },
  {
   "cell_type": "code",
   "execution_count": 24,
   "id": "8b86a098",
   "metadata": {},
   "outputs": [
    {
     "data": {
      "text/plain": [
       "['time',\n",
       " 'generation_biomass',\n",
       " 'generation_fossil_brown_coal/lignite',\n",
       " 'generation_fossil_gas',\n",
       " 'generation_fossil_hard_coal',\n",
       " 'generation_fossil_oil',\n",
       " 'generation_hydro_pumped_storage_consumption',\n",
       " 'generation_hydro_run-of-river_and_poundage',\n",
       " 'generation_hydro_water_reservoir',\n",
       " 'generation_nuclear',\n",
       " 'generation_other',\n",
       " 'generation_other_renewable',\n",
       " 'generation_solar',\n",
       " 'generation_waste',\n",
       " 'generation_wind_onshore',\n",
       " 'forecast_solar_day_ahead',\n",
       " 'forecast_wind_onshore_day_ahead',\n",
       " 'total_load_forecast',\n",
       " 'total_load_actual',\n",
       " 'price_day_ahead',\n",
       " 'price_actual',\n",
       " 'dt_iso_Madrid',\n",
       " 'city_name_Madrid',\n",
       " 'temp_Madrid',\n",
       " 'temp_min_Madrid',\n",
       " 'temp_max_Madrid',\n",
       " 'pressure_Madrid',\n",
       " 'humidity_Madrid',\n",
       " 'wind_speed_Madrid',\n",
       " 'wind_deg_Madrid',\n",
       " 'rain_1h_Madrid',\n",
       " 'rain_3h_Madrid',\n",
       " 'snow_3h_Madrid',\n",
       " 'clouds_all_Madrid',\n",
       " 'weather_id_Madrid',\n",
       " 'weather_main_Madrid',\n",
       " 'weather_description_Madrid',\n",
       " 'weather_icon_Madrid',\n",
       " 'dt_iso_Bilbao',\n",
       " 'city_name_Bilbao',\n",
       " 'temp_Bilbao',\n",
       " 'temp_min_Bilbao',\n",
       " 'temp_max_Bilbao',\n",
       " 'pressure_Bilbao',\n",
       " 'humidity_Bilbao',\n",
       " 'wind_speed_Bilbao',\n",
       " 'wind_deg_Bilbao',\n",
       " 'rain_1h_Bilbao',\n",
       " 'rain_3h_Bilbao',\n",
       " 'snow_3h_Bilbao',\n",
       " 'clouds_all_Bilbao',\n",
       " 'weather_id_Bilbao',\n",
       " 'weather_main_Bilbao',\n",
       " 'weather_description_Bilbao',\n",
       " 'weather_icon_Bilbao',\n",
       " 'dt_iso_Seville',\n",
       " 'city_name_Seville',\n",
       " 'temp_Seville',\n",
       " 'temp_min_Seville',\n",
       " 'temp_max_Seville',\n",
       " 'pressure_Seville',\n",
       " 'humidity_Seville',\n",
       " 'wind_speed_Seville',\n",
       " 'wind_deg_Seville',\n",
       " 'rain_1h_Seville',\n",
       " 'rain_3h_Seville',\n",
       " 'snow_3h_Seville',\n",
       " 'clouds_all_Seville',\n",
       " 'weather_id_Seville',\n",
       " 'weather_main_Seville',\n",
       " 'weather_description_Seville',\n",
       " 'weather_icon_Seville',\n",
       " 'dt_iso_Barcelona',\n",
       " 'city_name_Barcelona',\n",
       " 'temp_Barcelona',\n",
       " 'temp_min_Barcelona',\n",
       " 'temp_max_Barcelona',\n",
       " 'pressure_Barcelona',\n",
       " 'humidity_Barcelona',\n",
       " 'wind_speed_Barcelona',\n",
       " 'wind_deg_Barcelona',\n",
       " 'rain_1h_Barcelona',\n",
       " 'rain_3h_Barcelona',\n",
       " 'snow_3h_Barcelona',\n",
       " 'clouds_all_Barcelona',\n",
       " 'weather_id_Barcelona',\n",
       " 'weather_main_Barcelona',\n",
       " 'weather_description_Barcelona',\n",
       " 'weather_icon_Barcelona',\n",
       " 'dt_iso_Valencia',\n",
       " 'city_name_Valencia',\n",
       " 'temp_Valencia',\n",
       " 'temp_min_Valencia',\n",
       " 'temp_max_Valencia',\n",
       " 'pressure_Valencia',\n",
       " 'humidity_Valencia',\n",
       " 'wind_speed_Valencia',\n",
       " 'wind_deg_Valencia',\n",
       " 'rain_1h_Valencia',\n",
       " 'rain_3h_Valencia',\n",
       " 'snow_3h_Valencia',\n",
       " 'clouds_all_Valencia',\n",
       " 'weather_id_Valencia',\n",
       " 'weather_main_Valencia',\n",
       " 'weather_description_Valencia',\n",
       " 'weather_icon_Valencia']"
      ]
     },
     "execution_count": 24,
     "metadata": {},
     "output_type": "execute_result"
    }
   ],
   "source": [
    "full_df.columns.tolist()\n"
   ]
  },
  {
   "cell_type": "code",
   "execution_count": 25,
   "id": "36668660",
   "metadata": {},
   "outputs": [
    {
     "name": "stdout",
     "output_type": "stream",
     "text": [
      "                            time            dt_iso_Valencia\n",
      "34294  2018-07-31 13:00:00+02:00  2018-07-31 13:00:00+02:00\n",
      "34295  2018-07-31 14:00:00+02:00  2018-07-31 14:00:00+02:00\n",
      "34296  2018-07-31 15:00:00+02:00  2018-07-31 15:00:00+02:00\n",
      "34297  2018-07-31 16:00:00+02:00  2018-07-31 16:00:00+02:00\n",
      "34298  2018-07-31 17:00:00+02:00  2018-07-31 17:00:00+02:00\n",
      "34299  2018-07-31 18:00:00+02:00  2018-07-31 18:00:00+02:00\n",
      "34300  2018-07-31 18:00:00+02:00  2018-07-31 18:00:00+02:00\n",
      "34301  2018-07-31 19:00:00+02:00  2018-07-31 19:00:00+02:00\n",
      "34302  2018-07-31 19:00:00+02:00  2018-07-31 19:00:00+02:00\n",
      "34303  2018-07-31 20:00:00+02:00  2018-07-31 20:00:00+02:00\n"
     ]
    }
   ],
   "source": [
    "# let's check some of the times to ensure they match up. We'll pick a random integer, \n",
    "# then display those times in the dataframe\n",
    "\n",
    "starting_row = np.random.randint(0,full_df.shape[0])\n",
    "length = 10 # we'll look at 10 rows at a time\n",
    "\n",
    "print(full_df.iloc[starting_row:starting_row+length][['time','dt_iso_Valencia']])\n",
    "\n",
    "#print(starting_row)\n"
   ]
  },
  {
   "cell_type": "code",
   "execution_count": 26,
   "id": "0f979091",
   "metadata": {},
   "outputs": [
    {
     "name": "stdout",
     "output_type": "stream",
     "text": [
      "dt_iso_Valencia 0\n",
      "dt_iso_Barcelona 0\n",
      "dt_iso_Madrid 0\n",
      "dt_iso_Seville 0\n",
      "dt_iso_Bilbao 0\n"
     ]
    }
   ],
   "source": [
    "times_cities = ['dt_iso_Valencia','dt_iso_Barcelona','dt_iso_Madrid','dt_iso_Seville','dt_iso_Bilbao']\n",
    "\n",
    "for x in times_cities:\n",
    "    time_check = full_df['time'] == full_df[x]\n",
    "    print(x,np.size(time_check) - np.count_nonzero(time_check))\n",
    "    "
   ]
  },
  {
   "cell_type": "code",
   "execution_count": null,
   "id": "1675f5cd",
   "metadata": {},
   "outputs": [],
   "source": []
  },
  {
   "cell_type": "markdown",
   "id": "56bca2b6",
   "metadata": {},
   "source": [
    "Finally, let's drop some of the redundant column names to finalize our data set. "
   ]
  },
  {
   "cell_type": "code",
   "execution_count": 28,
   "id": "a046d305",
   "metadata": {},
   "outputs": [
    {
     "data": {
      "text/plain": [
       "['time',\n",
       " 'generation_biomass',\n",
       " 'generation_fossil_brown_coal/lignite',\n",
       " 'generation_fossil_gas',\n",
       " 'generation_fossil_hard_coal',\n",
       " 'generation_fossil_oil',\n",
       " 'generation_hydro_pumped_storage_consumption',\n",
       " 'generation_hydro_run-of-river_and_poundage',\n",
       " 'generation_hydro_water_reservoir',\n",
       " 'generation_nuclear',\n",
       " 'generation_other',\n",
       " 'generation_other_renewable',\n",
       " 'generation_solar',\n",
       " 'generation_waste',\n",
       " 'generation_wind_onshore',\n",
       " 'forecast_solar_day_ahead',\n",
       " 'forecast_wind_onshore_day_ahead',\n",
       " 'total_load_forecast',\n",
       " 'total_load_actual',\n",
       " 'price_day_ahead',\n",
       " 'price_actual',\n",
       " 'dt_iso_Madrid',\n",
       " 'city_name_Madrid',\n",
       " 'temp_Madrid',\n",
       " 'temp_min_Madrid',\n",
       " 'temp_max_Madrid',\n",
       " 'pressure_Madrid',\n",
       " 'humidity_Madrid',\n",
       " 'wind_speed_Madrid',\n",
       " 'wind_deg_Madrid',\n",
       " 'rain_1h_Madrid',\n",
       " 'rain_3h_Madrid',\n",
       " 'snow_3h_Madrid',\n",
       " 'clouds_all_Madrid',\n",
       " 'weather_id_Madrid',\n",
       " 'weather_main_Madrid',\n",
       " 'weather_description_Madrid',\n",
       " 'weather_icon_Madrid',\n",
       " 'dt_iso_Bilbao',\n",
       " 'city_name_Bilbao',\n",
       " 'temp_Bilbao',\n",
       " 'temp_min_Bilbao',\n",
       " 'temp_max_Bilbao',\n",
       " 'pressure_Bilbao',\n",
       " 'humidity_Bilbao',\n",
       " 'wind_speed_Bilbao',\n",
       " 'wind_deg_Bilbao',\n",
       " 'rain_1h_Bilbao',\n",
       " 'rain_3h_Bilbao',\n",
       " 'snow_3h_Bilbao',\n",
       " 'clouds_all_Bilbao',\n",
       " 'weather_id_Bilbao',\n",
       " 'weather_main_Bilbao',\n",
       " 'weather_description_Bilbao',\n",
       " 'weather_icon_Bilbao',\n",
       " 'dt_iso_Seville',\n",
       " 'city_name_Seville',\n",
       " 'temp_Seville',\n",
       " 'temp_min_Seville',\n",
       " 'temp_max_Seville',\n",
       " 'pressure_Seville',\n",
       " 'humidity_Seville',\n",
       " 'wind_speed_Seville',\n",
       " 'wind_deg_Seville',\n",
       " 'rain_1h_Seville',\n",
       " 'rain_3h_Seville',\n",
       " 'snow_3h_Seville',\n",
       " 'clouds_all_Seville',\n",
       " 'weather_id_Seville',\n",
       " 'weather_main_Seville',\n",
       " 'weather_description_Seville',\n",
       " 'weather_icon_Seville',\n",
       " 'dt_iso_Barcelona',\n",
       " 'city_name_Barcelona',\n",
       " 'temp_Barcelona',\n",
       " 'temp_min_Barcelona',\n",
       " 'temp_max_Barcelona',\n",
       " 'pressure_Barcelona',\n",
       " 'humidity_Barcelona',\n",
       " 'wind_speed_Barcelona',\n",
       " 'wind_deg_Barcelona',\n",
       " 'rain_1h_Barcelona',\n",
       " 'rain_3h_Barcelona',\n",
       " 'snow_3h_Barcelona',\n",
       " 'clouds_all_Barcelona',\n",
       " 'weather_id_Barcelona',\n",
       " 'weather_main_Barcelona',\n",
       " 'weather_description_Barcelona',\n",
       " 'weather_icon_Barcelona',\n",
       " 'dt_iso_Valencia',\n",
       " 'city_name_Valencia',\n",
       " 'temp_Valencia',\n",
       " 'temp_min_Valencia',\n",
       " 'temp_max_Valencia',\n",
       " 'pressure_Valencia',\n",
       " 'humidity_Valencia',\n",
       " 'wind_speed_Valencia',\n",
       " 'wind_deg_Valencia',\n",
       " 'rain_1h_Valencia',\n",
       " 'rain_3h_Valencia',\n",
       " 'snow_3h_Valencia',\n",
       " 'clouds_all_Valencia',\n",
       " 'weather_id_Valencia',\n",
       " 'weather_main_Valencia',\n",
       " 'weather_description_Valencia',\n",
       " 'weather_icon_Valencia']"
      ]
     },
     "execution_count": 28,
     "metadata": {},
     "output_type": "execute_result"
    }
   ],
   "source": [
    "full_df.columns.tolist()\n"
   ]
  },
  {
   "cell_type": "code",
   "execution_count": 29,
   "id": "9a2e24bb",
   "metadata": {},
   "outputs": [],
   "source": [
    "columns_to_drop = ['dt_iso_Madrid','city_name_Madrid',\n",
    "                  'dt_iso_Bilbao','city_name_Bilbao',\n",
    "                  'dt_iso_Seville','city_name_Seville',\n",
    "                  'dt_iso_Barcelona','city_name_Barcelona',\n",
    "                  'dt_iso_Valencia','city_name_Valencia']\n",
    "\n",
    "energy_weather = full_df.drop(columns_to_drop,axis=1)\n"
   ]
  },
  {
   "cell_type": "code",
   "execution_count": 80,
   "id": "533370f4",
   "metadata": {},
   "outputs": [],
   "source": [
    "energy_weather['time'] = pd.to_datetime(energy_weather['time'],utc=True)\n"
   ]
  },
  {
   "cell_type": "markdown",
   "id": "11b5194e",
   "metadata": {},
   "source": [
    "## Visualizing the Data Set\n",
    "\n",
    "Now that we have cleaned and merged the data sets, let's do a few simple visualizations so that we can better understand the type and distributions of data we have."
   ]
  },
  {
   "cell_type": "code",
   "execution_count": 33,
   "id": "018f0d5f",
   "metadata": {},
   "outputs": [],
   "source": [
    "all_columns = energy_weather.columns.tolist()\n",
    "\n",
    "generation_columns = [x for x in all_columns if x.startswith('generation')]\n",
    "\n",
    "generation_df = energy_weather[generation_columns]\n"
   ]
  },
  {
   "cell_type": "code",
   "execution_count": 164,
   "id": "5a6e2113",
   "metadata": {
    "scrolled": false
   },
   "outputs": [
    {
     "data": {
      "image/png": "[encoded data removed]",
      "text/plain": [
       "<Figure size 864x576 with 16 Axes>"
      ]
     },
     "metadata": {
      "needs_background": "light"
     },
     "output_type": "display_data"
    }
   ],
   "source": [
    "\n",
    "histograms = generation_df.hist(figsize=(12,8),color='lightcoral')\n",
    "plt.show()\n",
    "\n"
   ]
  },
  {
   "cell_type": "markdown",
   "id": "227d3f7c",
   "metadata": {},
   "source": [
    "This figure shows the distribution of each ```generation``` column type. The range of each type varies quite significantly. They each have different levels of normal and skew. Three appear as if they have a large number of zero or near-zero values. "
   ]
  },
  {
   "cell_type": "code",
   "execution_count": null,
   "id": "63471882",
   "metadata": {},
   "outputs": [],
   "source": []
  },
  {
   "cell_type": "code",
   "execution_count": 176,
   "id": "4d06baa5",
   "metadata": {},
   "outputs": [
    {
     "data": {
      "image/png": "[encoded data removed]",
      "text/plain": [
       "<Figure size 576x432 with 1 Axes>"
      ]
     },
     "metadata": {
      "needs_background": "light"
     },
     "output_type": "display_data"
    }
   ],
   "source": [
    "plt.figure(figsize=(8,6))\n",
    "sns.histplot(energy_weather,x='price_actual',color='lightcoral',\n",
    "            bins=40)\n",
    "\n",
    "plt.xticks(fontsize=16)\n",
    "plt.yticks(fontsize=16)\n",
    "plt.xlabel('Actual Price',fontsize=16)\n",
    "plt.ylabel('Count',fontsize=16)\n",
    "\n",
    "plt.show()\n"
   ]
  },
  {
   "cell_type": "code",
   "execution_count": 280,
   "id": "de8f8c92",
   "metadata": {},
   "outputs": [
    {
     "data": {
      "text/plain": [
       "28738.94215197758"
      ]
     },
     "execution_count": 280,
     "metadata": {},
     "output_type": "execute_result"
    }
   ],
   "source": [
    "energy_weather['total_load_actual'].mean()\n"
   ]
  },
  {
   "cell_type": "markdown",
   "id": "522e271a",
   "metadata": {},
   "source": [
    "The ```price_actual``` column will be one of our target values when we build our machine learning model below. It's good practice to visualize the distribution of target values. This distribution looks very close to normal and there are not a lot of outliers, which is great. "
   ]
  },
  {
   "cell_type": "code",
   "execution_count": 272,
   "id": "8b8b30e6",
   "metadata": {},
   "outputs": [
    {
     "data": {
      "image/png": "[encoded data removed]",
      "text/plain": [
       "<Figure size 576x432 with 1 Axes>"
      ]
     },
     "metadata": {
      "needs_background": "light"
     },
     "output_type": "display_data"
    }
   ],
   "source": [
    "plt.figure(figsize=(8,6))\n",
    "sns.histplot(energy_weather,x='total_load_actual',color='lightcoral',\n",
    "            bins=40)\n",
    "\n",
    "plt.xticks(fontsize=16)\n",
    "plt.yticks(fontsize=16)\n",
    "plt.xlabel('Actual Load',fontsize=16)\n",
    "plt.ylabel('Count',fontsize=16)\n",
    "\n",
    "plt.show()\n",
    "\n"
   ]
  },
  {
   "cell_type": "markdown",
   "id": "2511e4be",
   "metadata": {},
   "source": [
    "We will also build a model to predict the load based on the weather. This distribution is dual peaked and there are no significant outliers. "
   ]
  },
  {
   "cell_type": "code",
   "execution_count": 65,
   "id": "c028e344",
   "metadata": {},
   "outputs": [],
   "source": []
  },
  {
   "cell_type": "code",
   "execution_count": 97,
   "id": "5e3d76c2",
   "metadata": {},
   "outputs": [],
   "source": [
    "energy_columns = ['generation_biomass', 'generation_fossil_brown_coal/lignite',\n",
    "       'generation_fossil_gas', 'generation_fossil_hard_coal',\n",
    "       'generation_fossil_oil', 'generation_hydro_pumped_storage_consumption',\n",
    "       'generation_hydro_run-of-river_and_poundage',\n",
    "       'generation_hydro_water_reservoir', 'generation_nuclear',\n",
    "       'generation_other', 'generation_other_renewable', 'generation_solar',\n",
    "       'generation_waste', 'generation_wind_onshore',\n",
    "       'forecast_solar_day_ahead', 'forecast_wind_onshore_day_ahead',\n",
    "       'total_load_forecast', 'total_load_actual', 'price_day_ahead',\n",
    "       'price_actual']\n",
    "\n",
    "\n",
    "weather_columns = ['total_load_forecast', 'total_load_actual',\n",
    "                   'temp_Madrid', 'temp_min_Madrid', 'temp_max_Madrid',\n",
    "       'pressure_Madrid', 'humidity_Madrid', 'wind_speed_Madrid',\n",
    "       'wind_deg_Madrid', 'rain_1h_Madrid', 'rain_3h_Madrid', 'snow_3h_Madrid',\n",
    "       'clouds_all_Madrid', 'weather_id_Madrid', 'weather_main_Madrid',\n",
    "       'weather_description_Madrid', 'weather_icon_Madrid', 'temp_Bilbao',\n",
    "       'temp_min_Bilbao', 'temp_max_Bilbao', 'pressure_Bilbao',\n",
    "       'humidity_Bilbao', 'wind_speed_Bilbao', 'wind_deg_Bilbao',\n",
    "       'rain_1h_Bilbao', 'rain_3h_Bilbao', 'snow_3h_Bilbao',\n",
    "       'clouds_all_Bilbao', 'weather_id_Bilbao', 'weather_main_Bilbao',\n",
    "       'weather_description_Bilbao', 'weather_icon_Bilbao', 'temp_Seville',\n",
    "       'temp_min_Seville', 'temp_max_Seville', 'pressure_Seville',\n",
    "       'humidity_Seville', 'wind_speed_Seville', 'wind_deg_Seville',\n",
    "       'rain_1h_Seville', 'rain_3h_Seville', 'snow_3h_Seville',\n",
    "       'clouds_all_Seville', 'weather_id_Seville', 'weather_main_Seville',\n",
    "       'weather_description_Seville', 'weather_icon_Seville', 'temp_Barcelona',\n",
    "       'temp_min_Barcelona', 'temp_max_Barcelona', 'pressure_Barcelona',\n",
    "       'humidity_Barcelona', 'wind_speed_Barcelona', 'wind_deg_Barcelona',\n",
    "       'rain_1h_Barcelona', 'rain_3h_Barcelona', 'snow_3h_Barcelona',\n",
    "       'clouds_all_Barcelona', 'weather_id_Barcelona',\n",
    "       'weather_main_Barcelona', 'weather_description_Barcelona',\n",
    "       'weather_icon_Barcelona', 'temp_Valencia', 'temp_min_Valencia',\n",
    "       'temp_max_Valencia', 'pressure_Valencia', 'humidity_Valencia',\n",
    "       'wind_speed_Valencia', 'wind_deg_Valencia', 'rain_1h_Valencia',\n",
    "       'rain_3h_Valencia', 'snow_3h_Valencia', 'clouds_all_Valencia',\n",
    "       'weather_id_Valencia', 'weather_main_Valencia',\n",
    "       'weather_description_Valencia', 'weather_icon_Valencia']\n",
    "\n",
    "\n",
    "#energy_weather.columns\n"
   ]
  },
  {
   "cell_type": "code",
   "execution_count": 98,
   "id": "acada0e7",
   "metadata": {},
   "outputs": [
    {
     "data": {
      "image/png": "[encoded data removed]",
      "text/plain": [
       "<Figure size 1080x900 with 2 Axes>"
      ]
     },
     "metadata": {
      "needs_background": "light"
     },
     "output_type": "display_data"
    }
   ],
   "source": [
    "plt.figure(figsize=(15,12.5))\n",
    "\n",
    "# .corr heatmap of energy columns to visualize correlation & show plot\n",
    "sns.heatmap(round(energy_weather[energy_columns].corr(),1),annot=True,cmap=\"PiYG\",linewidth=0.9)\n",
    "plt.show()\n"
   ]
  },
  {
   "cell_type": "code",
   "execution_count": 100,
   "id": "6b4ab53d",
   "metadata": {},
   "outputs": [
    {
     "data": {
      "image/png": "[encoded data removed]",
      "text/plain": [
       "<Figure size 1080x900 with 2 Axes>"
      ]
     },
     "metadata": {
      "needs_background": "light"
     },
     "output_type": "display_data"
    }
   ],
   "source": [
    "plt.figure(figsize=(15,12.5))\n",
    "\n",
    "# .corr heatmap of weather columns to visualize correlation & show plot\n",
    "sns.heatmap(round(energy_weather[weather_columns].corr(),1),annot=False,cmap=\"PiYG\",linewidth=0.9)\n",
    "plt.show()\n",
    "\n"
   ]
  },
  {
   "cell_type": "markdown",
   "id": "60f94af4",
   "metadata": {},
   "source": [
    "There is a high correlation between the temperatures in each city. This is not surprising as Spain is a relatively small county, so we would not expect drastic temperature differences. "
   ]
  },
  {
   "cell_type": "code",
   "execution_count": 70,
   "id": "6e0b7651",
   "metadata": {},
   "outputs": [
    {
     "name": "stdout",
     "output_type": "stream",
     "text": [
      "price_actual                                   1.000000\n",
      "price_day_ahead                                0.725112\n",
      "generation_fossil_gas                          0.460597\n",
      "generation_fossil_hard_coal                    0.455622\n",
      "total_load_actual                              0.436529\n",
      "total_load_forecast                            0.436059\n",
      "generation_fossil_brown_coal/lignite           0.353297\n",
      "generation_fossil_oil                          0.277848\n",
      "generation_other_renewable                     0.264395\n",
      "pressure_Bilbao                                0.186473\n",
      "generation_waste                               0.173121\n",
      "generation_biomass                             0.128552\n",
      "temp_min_Valencia                              0.120973\n",
      "generation_other                               0.096990\n",
      "forecast_solar_day_ahead                       0.096754\n",
      "generation_solar                               0.093784\n",
      "temp_min_Barcelona                             0.088266\n",
      "humidity_Valencia                              0.084270\n",
      "temp_max_Madrid                                0.083381\n",
      "pressure_Seville                               0.080114\n",
      "temp_Valencia                                  0.077818\n",
      "generation_hydro_water_reservoir               0.076653\n",
      "temp_Madrid                                    0.073878\n",
      "weather_id_Bilbao                              0.073625\n",
      "temp_Barcelona                                 0.069497\n",
      "temp_max_Bilbao                                0.065641\n",
      "temp_min_Seville                               0.064552\n",
      "temp_min_Bilbao                                0.060114\n",
      "temp_Bilbao                                    0.059659\n",
      "temp_max_Barcelona                             0.052955\n",
      "pressure_Valencia                              0.052434\n",
      "temp_min_Madrid                                0.051668\n",
      "weather_id_Seville                             0.049093\n",
      "clouds_all_Valencia                            0.041046\n",
      "temp_Seville                                   0.038258\n",
      "temp_max_Valencia                              0.034136\n",
      "pressure_Madrid                                0.025328\n",
      "weather_id_Barcelona                           0.019316\n",
      "rain_1h_Valencia                               0.015254\n",
      "snow_3h_Bilbao                                 0.013511\n",
      "snow_3h_Valencia                               0.006919\n",
      "humidity_Bilbao                                0.004664\n",
      "rain_3h_Seville                               -0.001999\n",
      "weather_id_Madrid                             -0.002945\n",
      "rain_1h_Madrid                                -0.006025\n",
      "temp_max_Seville                              -0.006190\n",
      "snow_3h_Madrid                                -0.008110\n",
      "rain_3h_Barcelona                             -0.013042\n",
      "rain_3h_Bilbao                                -0.014075\n",
      "pressure_Barcelona                            -0.016006\n",
      "clouds_all_Barcelona                          -0.022024\n",
      "weather_id_Valencia                           -0.024226\n",
      "rain_3h_Valencia                              -0.024366\n",
      "rain_1h_Seville                               -0.027079\n",
      "rain_3h_Madrid                                -0.027595\n",
      "humidity_Barcelona                            -0.031439\n",
      "rain_1h_Barcelona                             -0.045771\n",
      "humidity_Madrid                               -0.046308\n",
      "generation_nuclear                            -0.049276\n",
      "clouds_all_Madrid                             -0.055618\n",
      "wind_speed_Seville                            -0.074128\n",
      "clouds_all_Seville                            -0.077876\n",
      "rain_1h_Bilbao                                -0.081622\n",
      "wind_deg_Valencia                             -0.082041\n",
      "wind_deg_Madrid                               -0.083499\n",
      "humidity_Seville                              -0.090674\n",
      "wind_deg_Barcelona                            -0.094433\n",
      "wind_deg_Bilbao                               -0.101558\n",
      "clouds_all_Bilbao                             -0.128166\n",
      "generation_hydro_run-of-river_and_poundage    -0.132461\n",
      "wind_deg_Seville                              -0.136643\n",
      "wind_speed_Valencia                           -0.138070\n",
      "wind_speed_Bilbao                             -0.138791\n",
      "wind_speed_Barcelona                          -0.141940\n",
      "generation_wind_onshore                       -0.205896\n",
      "forecast_wind_onshore_day_ahead               -0.206384\n",
      "wind_speed_Madrid                             -0.239388\n",
      "generation_hydro_pumped_storage_consumption   -0.422597\n",
      "snow_3h_Seville                                     NaN\n",
      "snow_3h_Barcelona                                   NaN\n"
     ]
    }
   ],
   "source": [
    "# Correlation of columns to target variable \n",
    "correlations = energy_weather.corr(method='pearson')\n",
    "print(correlations['price_actual'].sort_values(ascending=False).to_string())\n"
   ]
  },
  {
   "cell_type": "markdown",
   "id": "cd740c83",
   "metadata": {},
   "source": [
    "## Engineering Season\n",
    "\n",
    "Let's add a column for season. Season will be a better indicator of load and price than exact days or times. We'll create a new column with four categorical values (```winter```, ```spring```, ```summer```, and ```fall```). We could go ahead and encode these numerically, but for fun we'll save this as a step for our pipeline to do later. \n"
   ]
  },
  {
   "cell_type": "code",
   "execution_count": 86,
   "id": "8c5d6b1c",
   "metadata": {},
   "outputs": [],
   "source": [
    "def add_season(df,datetime_column):\n",
    "    '''\n",
    "    function to add season as a column to the dataframe\n",
    "    \n",
    "    INPUT:  df: dataframe with a datetime column \n",
    "            datetime_column: string, column with datetime values to classify the season\n",
    "            \n",
    "    OUTPUT: df: dataframe with new column season with values winter, spring, summer, or fall\n",
    "    '''\n",
    "    condition_winter = (df[datetime_column].dt.month>=1)&(df[datetime_column].dt.month<=3)\n",
    "    condtion_spring = (df[datetime_column].dt.month>=4)&(df[datetime_column].dt.month<=6)\n",
    "    condition_summer = (df[datetime_column].dt.month>=7)&(df[datetime_column].dt.month<=9)\n",
    "    condition_fall = (df[datetime_column].dt.month>=10)@(df[datetime_column].dt.month<=12)\n",
    "    \n",
    "     # Create column in dataframe that inputs the season based on the conditions created above\n",
    "    df['season'] = np.where(condition_winter,'winter',\n",
    "                            np.where(condtion_spring,'spring',\n",
    "                            np.where(condition_summer,'summer',\n",
    "                            np.where(condition_fall,'fall',\n",
    "                                     np.nan))))\n",
    "\n",
    "    return df\n",
    "    "
   ]
  },
  {
   "cell_type": "code",
   "execution_count": 87,
   "id": "69fad978",
   "metadata": {},
   "outputs": [],
   "source": [
    "energy_weather = add_season(energy_weather,'time')\n"
   ]
  },
  {
   "cell_type": "markdown",
   "id": "61d391dc",
   "metadata": {},
   "source": []
  },
  {
   "cell_type": "markdown",
   "id": "c6d5b408",
   "metadata": {},
   "source": [
    "## Predicting Price\n",
    "\n",
    "First, we are going to use this dataset to predict the price of energy. We will not include the full dataframe that we currently have; the weather is not going to change the predicted price. We will also remove the ```time``` column as we will not do any real-time forecasting at this poing.\n",
    "\n",
    "Our pipeline will need to accomplish a few different tasks:\n",
    "\n",
    "- imputation - some of our columns have missing values. The majority are missing only 12-14 values, out of the 38568 rows we have. Since we are missing so few, we'll impute values with ```SimpleImputer```\n",
    "- encoding of categorical values - when we added the ```season``` column, we decided to leave it as categorical. We will need to encode these values to numerical for the modelling. \n",
    "- scaling - looking back at the histogram of ```generation``` values above, we see that there is a fairly wide range of possible values that differ by generation type. We'll scale these so that they are more similar, which should improve our accuary. We will try a few different options, including ```StandardScaler```, ```MinMaxScaler```, and ```MaxAbsScaler```.\n",
    "- feature selection - we have 15 different features we are using to make our predictions. This is not a terribly large number, but each feature might not be helpful for our modelling. We will try a few different feature selection algorithms to help us utilize only the most relevant features. We'll try ```SelectKBest``` and ```Variance Threshold```.\n",
    "- model selection - finally, we will want to examine a few different models to select which one is best. We will start with comparing ```KNeighborsRegressor``` , ```RandomForestRegressor```, and ```XGBRegressor```."
   ]
  },
  {
   "cell_type": "code",
   "execution_count": 209,
   "id": "711e8776",
   "metadata": {},
   "outputs": [],
   "source": [
    "predicting_price_features = ['generation_biomass', 'generation_fossil_brown_coal/lignite',\n",
    "       'generation_fossil_gas', 'generation_fossil_hard_coal',\n",
    "       'generation_fossil_oil', 'generation_hydro_pumped_storage_consumption',\n",
    "       'generation_hydro_run-of-river_and_poundage',\n",
    "       'generation_hydro_water_reservoir', 'generation_nuclear',\n",
    "       'generation_other', 'generation_other_renewable', 'generation_solar',\n",
    "       'generation_waste', 'generation_wind_onshore',\n",
    "       'total_load_actual',\n",
    "       'season']\n",
    "\n",
    "target = 'price_actual'\n"
   ]
  },
  {
   "cell_type": "markdown",
   "id": "3df4f4a8",
   "metadata": {},
   "source": [
    "Let's set up a pipeline to preprocess and predict the prices"
   ]
  },
  {
   "cell_type": "code",
   "execution_count": 210,
   "id": "bb7ebee9",
   "metadata": {},
   "outputs": [],
   "source": [
    "X = energy_weather[predicting_price_features]\n",
    "y = energy_weather[target]\n",
    "\n",
    "X_train, X_test, y_train, y_test = train_test_split(X,y, test_size=0.2,random_state=0)\n"
   ]
  },
  {
   "cell_type": "code",
   "execution_count": 215,
   "id": "73f681a3",
   "metadata": {},
   "outputs": [
    {
     "data": {
      "text/plain": [
       "(38568, 16)"
      ]
     },
     "execution_count": 215,
     "metadata": {},
     "output_type": "execute_result"
    }
   ],
   "source": [
    "#print(X_train.isnull().sum())\n",
    "X.shape\n"
   ]
  },
  {
   "cell_type": "code",
   "execution_count": 237,
   "id": "67e2f5fe",
   "metadata": {},
   "outputs": [
    {
     "name": "stdout",
     "output_type": "stream",
     "text": [
      "Training set score: -1.0582\n",
      "Test set score: -2.7883\n",
      "Best model parameters:  {'regressor': RandomForestRegressor(), 'selector': VarianceThreshold()}\n"
     ]
    }
   ],
   "source": [
    "num_cols = X_train.select_dtypes(exclude=['object']).columns.tolist()\n",
    "cat_cols = X_train.select_dtypes(include=['object']).columns.tolist()\n",
    "\n",
    "numeric_transformer = Pipeline(\n",
    "    steps=[(\"imputer\", SimpleImputer(strategy=\"median\")), (\"scaler\", StandardScaler(with_mean=False))]\n",
    ")\n",
    "\n",
    "categorical_transformer = OneHotEncoder(handle_unknown=\"ignore\")\n",
    "\n",
    "preprocessor = ColumnTransformer(\n",
    "    transformers=[\n",
    "        (\"num\", numeric_transformer, num_cols),\n",
    "        (\"cat\", categorical_transformer, cat_cols),\n",
    "    ]\n",
    ")\n",
    "\n",
    "pipe = Pipeline(\n",
    "    steps=[(\"preprocessor\", preprocessor), \n",
    "           ('selector', VarianceThreshold()),\n",
    "           (\"regressor\", KNeighborsRegressor())]\n",
    ")\n",
    "\n",
    "parameters = {'selector': [SelectKBest(), VarianceThreshold()],\n",
    "              'regressor': [KNeighborsRegressor(),RandomForestRegressor(),XGBRegressor()]\n",
    "}\n",
    "\n",
    "grid = GridSearchCV(pipe, parameters, cv=3, scoring='neg_mean_absolute_error').fit(X_train, y_train)\n",
    "\n",
    "print('Training set score: ' + '{:.4f}'.format(float(grid.score(X_train, y_train))))\n",
    "print('Test set score: ' + '{:.4f}'.format(float(grid.score(X_test, y_test))))\n",
    "print('Best model parameters: ' , grid.best_params_)\n"
   ]
  },
  {
   "cell_type": "markdown",
   "id": "88fa0176",
   "metadata": {},
   "source": [
    "Now that we have a baseline score, let's try out a few different scaling methods. Since we have a preprocessor in our pipeline above, it's a little more challenging to iterate over a few different scaling approaches. Instead, let's write a for loop to iterate over the scaling types, then save the results to a dictionary that we can compare afterwards. "
   ]
  },
  {
   "cell_type": "code",
   "execution_count": 247,
   "id": "e9999d1b",
   "metadata": {},
   "outputs": [
    {
     "name": "stdout",
     "output_type": "stream",
     "text": [
      "scaler:  StandardScaler(with_mean=False)\n",
      "Training set score: -1.0621\n",
      "Test set score: -2.8127\n",
      "Best model parameters:  {'regressor': RandomForestRegressor(), 'selector': VarianceThreshold()}\n",
      "scaler:  MinMaxScaler()\n",
      "Training set score: -1.0600\n",
      "Test set score: -2.7998\n",
      "Best model parameters:  {'regressor': RandomForestRegressor(), 'selector': VarianceThreshold()}\n",
      "scaler:  MaxAbsScaler()\n",
      "Training set score: -1.0555\n",
      "Test set score: -2.7889\n",
      "Best model parameters:  {'regressor': RandomForestRegressor(), 'selector': VarianceThreshold()}\n"
     ]
    }
   ],
   "source": [
    "scaling_list = [StandardScaler(with_mean=False), MinMaxScaler(), MaxAbsScaler()]\n",
    "scaling_dict = {}\n",
    "\n",
    "num_cols = X_train.select_dtypes(exclude=['object']).columns.tolist()\n",
    "cat_cols = X_train.select_dtypes(include=['object']).columns.tolist()\n",
    "\n",
    "\n",
    "for scaler in scaling_list:\n",
    "    numeric_transformer = Pipeline(\n",
    "                steps=[(\"imputer\", SimpleImputer(strategy=\"median\")), (\"scaler\", scaler)]\n",
    "                )\n",
    "\n",
    "    categorical_transformer = OneHotEncoder(handle_unknown=\"ignore\")\n",
    "\n",
    "    preprocessor = ColumnTransformer(\n",
    "        transformers=[\n",
    "            (\"num\", numeric_transformer, num_cols),\n",
    "            (\"cat\", categorical_transformer, cat_cols),\n",
    "            ]\n",
    "            )\n",
    "\n",
    "    pipe = Pipeline(\n",
    "            steps=[(\"preprocessor\", preprocessor), \n",
    "            ('selector', VarianceThreshold()),\n",
    "            (\"regressor\", KNeighborsRegressor())]\n",
    "            )\n",
    "\n",
    "    parameters = {'selector': [SelectKBest(), VarianceThreshold()],\n",
    "                'regressor': [KNeighborsRegressor(),RandomForestRegressor(),XGBRegressor()]\n",
    "                }\n",
    "\n",
    "    grid = GridSearchCV(pipe, parameters, cv=3, scoring='neg_mean_absolute_error').fit(X_train, y_train)\n",
    "\n",
    "    train_score = grid.score(X_train, y_train)\n",
    "    test_score = grid.score(X_test, y_test)\n",
    "    best_model = grid.best_params_\n",
    "    \n",
    "    print('scaler: ', scaler)\n",
    "    print('Training set score: ' + '{:.4f}'.format(float(train_score)))\n",
    "    print('Test set score: ' + '{:.4f}'.format(float(test_score)))\n",
    "    print('Best model parameters: ' , best_model)\n",
    "    scaling_dict[scaler] = [train_score,test_score,best_model]\n"
   ]
  },
  {
   "cell_type": "code",
   "execution_count": 245,
   "id": "2f74252e",
   "metadata": {},
   "outputs": [
    {
     "name": "stdout",
     "output_type": "stream",
     "text": [
      "{StandardScaler(with_mean=False): [-1.0586061757661505, -2.7850089960954425, {'regressor': RandomForestRegressor(), 'selector': VarianceThreshold()}], MinMaxScaler(): [-1.054705902731303, -2.781004041908493, {'regressor': RandomForestRegressor(), 'selector': VarianceThreshold()}], MaxAbsScaler(): [-1.0577708286184657, -2.7891353688291307, {'regressor': RandomForestRegressor(), 'selector': VarianceThreshold()}]}\n"
     ]
    }
   ],
   "source": []
  },
  {
   "cell_type": "markdown",
   "id": "fb02b5e0",
   "metadata": {},
   "source": [
    "Adding in the season boosted the training score by 2% and the test score by 5%.\n",
    "\n",
    "The scaling types had very little effect on the test scores. All three scaling types led to the same selector and regression model being selected (Variance Threshhold and the Random Forest Regressor). Comparing the models with different scaling types:\n",
    "\n",
    "| Scaling Type          | Best Score |\n",
    "|-------------------------|------------|\n",
    "| Standard Scaler                | -2.785       |\n",
    "| MinMax Scaler | -2.781      |\n",
    "| MaxAbs Scaler   | -2.789      |\n"
   ]
  },
  {
   "cell_type": "code",
   "execution_count": null,
   "id": "a00c240c",
   "metadata": {},
   "outputs": [],
   "source": []
  },
  {
   "cell_type": "code",
   "execution_count": null,
   "id": "13f19bd6",
   "metadata": {},
   "outputs": [],
   "source": []
  },
  {
   "cell_type": "markdown",
   "id": "0254d5bd",
   "metadata": {},
   "source": [
    "## Predicting Load\n",
    "\n",
    "Now we are going to use our weather-related information to predict the load. This is important for energy companies to ensure they have enough supply so that the grid does not collapse. We'll note at the start that we expect our load predictions to be less accurate than our price predictions. [This review of load forecasting](https://jesit.springeropen.com/articles/10.1186/s43067-020-00021-8) found that, in general, 50% of the forecasted amounts depend on the weather and economics. We are only going to consider the weather at this point in time. \n",
    "\n",
    "The snow columns for ```Seville``` and ```Barcelona``` have zero variance, so we will not include them here. The same for 3 hour rain total for ```Madrid```.\n",
    "\n",
    "Our pipeline will look similar to the one we built to predict the price, but there are a few differences we will want to take into account:\n",
    "\n",
    "- We don't have any missing values for the features, so we don't need to impute any values. \n",
    "- We have quite a few more features (55) than we had when we predicted price (16). Referring to the heat map above, there is a a lot of collinearity between these values. Feature selection will be more important than it was above. \n",
    "- The target feature, ```total_load_actual```, is missing 37 values, so we will need to remove those rows from the dataframe before modelling. \n"
   ]
  },
  {
   "cell_type": "code",
   "execution_count": 265,
   "id": "8153e544",
   "metadata": {},
   "outputs": [],
   "source": [
    "predicting_load_features = ['temp_Madrid', 'temp_min_Madrid', 'temp_max_Madrid', 'pressure_Madrid',\n",
    "                         'humidity_Madrid', 'wind_speed_Madrid', 'wind_deg_Madrid', 'rain_1h_Madrid',\n",
    "                         'clouds_all_Madrid',\n",
    "                         'temp_Bilbao', 'temp_min_Bilbao', 'temp_max_Bilbao', 'pressure_Bilbao',\n",
    "                         'humidity_Bilbao', 'wind_speed_Bilbao', 'wind_deg_Bilbao', 'rain_1h_Bilbao',\n",
    "                         'clouds_all_Bilbao', \n",
    "                         'temp_Seville', 'temp_min_Seville', 'temp_max_Seville',\n",
    "                         'pressure_Seville', 'humidity_Seville', 'wind_speed_Seville', 'wind_deg_Seville',\n",
    "                         'rain_1h_Seville',  'clouds_all_Seville',\n",
    "                         'temp_Barcelona', 'temp_min_Barcelona', 'temp_max_Barcelona',\n",
    "                         'pressure_Barcelona', 'humidity_Barcelona', 'wind_speed_Barcelona',\n",
    "                         'wind_deg_Barcelona', 'rain_1h_Barcelona', 'clouds_all_Barcelona',\n",
    "                         'temp_Valencia', 'temp_min_Valencia', 'temp_max_Valencia', 'pressure_Valencia',\n",
    "                         'humidity_Valencia', 'wind_speed_Valencia', 'wind_deg_Valencia', 'rain_1h_Valencia',\n",
    "                         'clouds_all_Valencia'\n",
    "                         ]\n",
    "\n",
    "load_target = 'total_load_actual'\n",
    "\n"
   ]
  },
  {
   "cell_type": "code",
   "execution_count": 266,
   "id": "7fccbdb3",
   "metadata": {},
   "outputs": [
    {
     "data": {
      "text/plain": [
       "45"
      ]
     },
     "execution_count": 266,
     "metadata": {},
     "output_type": "execute_result"
    }
   ],
   "source": [
    "len(predicting_load_features)\n"
   ]
  },
  {
   "cell_type": "code",
   "execution_count": 267,
   "id": "6e183925",
   "metadata": {},
   "outputs": [],
   "source": [
    "weather_clean_df = energy_weather.copy()\n",
    "\n",
    "weather_clean_df = weather_clean_df[weather_clean_df['total_load_actual'].notna()]\n"
   ]
  },
  {
   "cell_type": "code",
   "execution_count": 268,
   "id": "424f56bc",
   "metadata": {},
   "outputs": [
    {
     "data": {
      "image/png": "[encoded data removed]",
      "text/plain": [
       "<Figure size 864x576 with 49 Axes>"
      ]
     },
     "metadata": {
      "needs_background": "light"
     },
     "output_type": "display_data"
    }
   ],
   "source": [
    "weather_hist = weather_clean_df[predicting_load_features].hist(figsize=(12,8),color='lightcoral')\n",
    "plt.show()\n"
   ]
  },
  {
   "cell_type": "code",
   "execution_count": 269,
   "id": "b01857c7",
   "metadata": {},
   "outputs": [],
   "source": [
    "X_load = weather_clean_df[predicting_load_features]\n",
    "y_load = weather_clean_df[load_target]\n",
    "\n",
    "X_train_load, X_test_load, y_train_load, y_test_load = train_test_split(X_load,y_load, test_size=0.2,random_state=0)\n"
   ]
  },
  {
   "cell_type": "code",
   "execution_count": 277,
   "id": "373f6347",
   "metadata": {},
   "outputs": [
    {
     "data": {
      "text/plain": [
       "0"
      ]
     },
     "execution_count": 277,
     "metadata": {},
     "output_type": "execute_result"
    }
   ],
   "source": [
    "y_load.isnull().sum()\n",
    "#X_load.var().sort_values()\n"
   ]
  },
  {
   "cell_type": "code",
   "execution_count": 271,
   "id": "ffe05ad7",
   "metadata": {},
   "outputs": [
    {
     "name": "stdout",
     "output_type": "stream",
     "text": [
      "Training set score: -814.9504\n",
      "Test set score: -2187.6055\n",
      "Best model parameters:  {'regressor': RandomForestRegressor(), 'selector': VarianceThreshold()}\n"
     ]
    }
   ],
   "source": [
    "pipe_load = Pipeline([\n",
    "    ('scaler', StandardScaler(with_mean=False)),\n",
    "    ('selector', VarianceThreshold()),\n",
    "    ('regressor', KNeighborsRegressor())\n",
    "    ])\n",
    "\n",
    "parameters_load = {'selector': [SelectKBest(), VarianceThreshold()],\n",
    "                'regressor': [KNeighborsRegressor(),RandomForestRegressor(),XGBRegressor()]\n",
    "                }\n",
    "\n",
    "grid_load = GridSearchCV(pipe_load, parameters_load, cv=3, \n",
    "                         scoring='neg_mean_absolute_error').fit(X_train_load, y_train_load)\n",
    "\n",
    "train_score_load = grid_load.score(X_train_load, y_train_load)\n",
    "test_score_load = grid_load.score(X_test_load, y_test_load)\n",
    "best_model_load = grid_load.best_params_\n",
    "\n",
    "print('Training set score: ' + '{:.4f}'.format(float(train_score_load)))\n",
    "print('Test set score: ' + '{:.4f}'.format(float(test_score_load)))\n",
    "print('Best model parameters: ' , best_model_load)\n",
    "\n"
   ]
  },
  {
   "cell_type": "code",
   "execution_count": null,
   "id": "e017e739",
   "metadata": {},
   "outputs": [],
   "source": []
  },
  {
   "cell_type": "markdown",
   "id": "c5ffd903",
   "metadata": {},
   "source": [
    "There is a bit difference between our training scores and our test scores, about a factor of 3. This is probably an indication that we are overfitting our model. We are already doing cross-validation and using an ensemble model, which are two common ways to correct for overfitting. \n",
    "\n",
    "We are currently including both the temperature (the meaning of which is unclear but is perhaps the average), the minimum temperature and the maximum temperature. There is a strong collinearity between these values. Let's remove the min and the max from our feature list to ensure they are not being used for the predictions. "
   ]
  },
  {
   "cell_type": "code",
   "execution_count": 274,
   "id": "d3cac77f",
   "metadata": {},
   "outputs": [
    {
     "name": "stdout",
     "output_type": "stream",
     "text": [
      "['temp_min_Madrid', 'temp_max_Madrid', 'temp_min_Bilbao', 'temp_max_Bilbao', 'temp_min_Seville', 'temp_max_Seville', 'temp_min_Barcelona', 'temp_max_Barcelona', 'temp_min_Valencia', 'temp_max_Valencia']\n"
     ]
    }
   ],
   "source": [
    "minmax_columns = [x for x in predicting_load_features if 'max' in x or 'min' in x]\n",
    "\n"
   ]
  },
  {
   "cell_type": "code",
   "execution_count": 275,
   "id": "106c976e",
   "metadata": {},
   "outputs": [],
   "source": [
    "X_load_no_minmax = X_load.drop(minmax_columns,axis=1)\n",
    "y_load_no_minmax = weather_clean_df[load_target]\n",
    "\n",
    "X_train_load_no_minmax, X_test_load_no_minmax, y_train_load_no_minmax, y_test_load_no_minmax = train_test_split(X_load_no_minmax,y_load_no_minmax, test_size=0.2,random_state=0)\n",
    "\n"
   ]
  },
  {
   "cell_type": "code",
   "execution_count": 276,
   "id": "088d2590",
   "metadata": {},
   "outputs": [
    {
     "name": "stdout",
     "output_type": "stream",
     "text": [
      "Training set score: -837.3419\n",
      "Test set score: -2234.2107\n",
      "Best model parameters:  {'regressor': RandomForestRegressor(), 'selector': VarianceThreshold()}\n"
     ]
    }
   ],
   "source": [
    "pipe_load_no_minmax = Pipeline([\n",
    "    ('scaler', StandardScaler(with_mean=False)),\n",
    "    ('selector', VarianceThreshold()),\n",
    "    ('regressor', KNeighborsRegressor())\n",
    "    ])\n",
    "\n",
    "parameters_load_no_minmax = {'selector': [SelectKBest(), VarianceThreshold()],\n",
    "                'regressor': [KNeighborsRegressor(),RandomForestRegressor(),XGBRegressor()]\n",
    "                }\n",
    "\n",
    "grid_load_no_minmax = GridSearchCV(pipe_load_no_minmax, parameters_load_no_minmax, cv=3, \n",
    "                         scoring='neg_mean_absolute_error').fit(X_train_load_no_minmax, y_train_load_no_minmax)\n",
    "\n",
    "train_score_load_no_minmax = grid_load_no_minmax.score(X_train_load_no_minmax, y_train_load_no_minmax)\n",
    "test_score_load_no_minmax = grid_load_no_minmax.score(X_test_load_no_minmax, y_test_load_no_minmax)\n",
    "best_model_load_no_minmax = grid_load_no_minmax.best_params_\n",
    "\n",
    "print('Training set score: ' + '{:.4f}'.format(float(train_score_load_no_minmax)))\n",
    "print('Test set score: ' + '{:.4f}'.format(float(test_score_load_no_minmax)))\n",
    "print('Best model parameters: ' , best_model_load_no_minmax)\n"
   ]
  },
  {
   "cell_type": "markdown",
   "id": "5ab0069a",
   "metadata": {},
   "source": [
    "Removing these values from our features produced no change in our model performance. \n"
   ]
  },
  {
   "cell_type": "markdown",
   "id": "17418b1f",
   "metadata": {},
   "source": [
    "## Conclusion and Next Steps\n",
    "\n",
    "We predicted the price within about a mean absolute error of 2 points, compared to target values that approximately ranged between 20 and 80. For the mean value of 58, this corresponds to an error of about 3.4% \n",
    "\n",
    "We predicted the load within about a mean absolute error of 2234, compared to target values that approximately ranged between 20,000 and 40,000. For the mean value of 28,738, this corresponds to an error of about 7.7%. \n",
    "\n",
    "We are going to wrap up this project for now, but a few next steps we could take to improve our modeling performance could include:\n",
    "\n",
    "- add information such as economic parameters, historical usage, and household lifestyle to the load predictions.\n",
    "- categorize the days by month instead of year to add some granularity.\n",
    "- use the original date times to forecast the price and load 24 hours in advance. We are currently predicting it instantaneously, but it would be more useful to predict both 24 hours in advance.\n",
    "- tune the hyperparameters of the best feature selectors and models.\n"
   ]
  },
  {
   "cell_type": "code",
   "execution_count": null,
   "id": "2bfcb181",
   "metadata": {},
   "outputs": [],
   "source": []
  }
 ],
 "metadata": {
  "kernelspec": {
   "display_name": "Python 3",
   "language": "python",
   "name": "python3"
  },
  "language_info": {
   "codemirror_mode": {
    "name": "ipython",
    "version": 3
   },
   "file_extension": ".py",
   "mimetype": "text/x-python",
   "name": "python",
   "nbconvert_exporter": "python",
   "pygments_lexer": "ipython3",
   "version": "3.8.8"
  }
 },
 "nbformat": 4,
 "nbformat_minor": 5
}
