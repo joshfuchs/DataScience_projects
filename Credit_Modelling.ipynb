{
 "cells": [
  {
   "cell_type": "markdown",
   "id": "ab25fe4b",
   "metadata": {},
   "source": [
    "## Predicting Loan Outcomes\n",
    "\n",
    "In this project, we're going to analyze some lending data from [Lending Club](https://www.lendingclub.com/) to perform some credit modelling. Lending Club is a marketplace for personal loans that matches borrowers with investors. Each potential borrower completes an application, Lending Club evaluates the application, then assigns an interest rate. Investors are given some information from the application and can decide which to invest in. \n",
    "\n",
    "For this project, we will imagine we are a conservative investor. We want to limit our risk of the loans we invest in not being paid off. \n",
    "\n",
    "We should note at the beginning that lending has a [long history of discrimiation](https://www.investopedia.com/the-history-of-lending-discrimination-5076948) in the US. We will not get into those issues here but should be aware of them.  \n",
    "\n",
    "## Data Set \n",
    "Lending Club used to release data on approved and declined loans on their website. They have stopped this practice but we will use a subset of data from 2007 to 2011, since most of these loans have been completed. You can find detailed information on what is included in the [data dictionary](https://docs.google.com/spreadsheets/d/191B2yJ4H1ZPXq0_ByhUgWMFZOYem5jFz0Y3by_7YBY4/edit?usp=sharing).\n",
    "\n",
    "## Goal\n",
    "Build a machine learning model that can accurately predict if a borrower will pay off their loan on time.\n"
   ]
  },
  {
   "cell_type": "code",
   "execution_count": 104,
   "id": "5bfd7259",
   "metadata": {},
   "outputs": [],
   "source": [
    "import pandas as pd\n",
    "import numpy as np\n",
    "\n",
    "from sklearn.linear_model import LogisticRegression\n",
    "from sklearn.ensemble import RandomForestClassifier\n",
    "\n",
    "from sklearn.model_selection import cross_val_predict\n",
    "\n",
    "\n",
    "import matplotlib.pyplot as plt\n",
    "import seaborn as sns\n",
    "\n",
    "plt.style.use('seaborn-white')\n",
    "plt.rc('figure', autolayout=True)\n",
    "plt.rc(\n",
    "    'axes',\n",
    "    labelweight='bold',\n",
    "    labelsize='large',\n",
    "    titleweight='bold',\n",
    "    titlesize=14,\n",
    "    linewidth=4\n",
    "    )\n",
    "\n",
    "\n",
    "%matplotlib inline\n"
   ]
  },
  {
   "cell_type": "code",
   "execution_count": 15,
   "id": "a361763c",
   "metadata": {},
   "outputs": [
    {
     "name": "stderr",
     "output_type": "stream",
     "text": [
      "/Users/josh.fuchs/opt/anaconda3/lib/python3.8/site-packages/IPython/core/interactiveshell.py:3165: DtypeWarning: Columns (0) have mixed types.Specify dtype option on import or set low_memory=False.\n",
      "  has_raised = await self.run_ast_nodes(code_ast.body, cell_name,\n"
     ]
    }
   ],
   "source": [
    "loans = pd.read_csv('loans_2007.csv')"
   ]
  },
  {
   "cell_type": "code",
   "execution_count": 16,
   "id": "d5a93dbc",
   "metadata": {},
   "outputs": [
    {
     "data": {
      "text/html": [
       "<div>\n",
       "<style scoped>\n",
       "    .dataframe tbody tr th:only-of-type {\n",
       "        vertical-align: middle;\n",
       "    }\n",
       "\n",
       "    .dataframe tbody tr th {\n",
       "        vertical-align: top;\n",
       "    }\n",
       "\n",
       "    .dataframe thead th {\n",
       "        text-align: right;\n",
       "    }\n",
       "</style>\n",
       "<table border=\"1\" class=\"dataframe\">\n",
       "  <thead>\n",
       "    <tr style=\"text-align: right;\">\n",
       "      <th></th>\n",
       "      <th>id</th>\n",
       "      <th>member_id</th>\n",
       "      <th>loan_amnt</th>\n",
       "      <th>funded_amnt</th>\n",
       "      <th>funded_amnt_inv</th>\n",
       "      <th>term</th>\n",
       "      <th>int_rate</th>\n",
       "      <th>installment</th>\n",
       "      <th>grade</th>\n",
       "      <th>sub_grade</th>\n",
       "      <th>...</th>\n",
       "      <th>last_pymnt_amnt</th>\n",
       "      <th>last_credit_pull_d</th>\n",
       "      <th>collections_12_mths_ex_med</th>\n",
       "      <th>policy_code</th>\n",
       "      <th>application_type</th>\n",
       "      <th>acc_now_delinq</th>\n",
       "      <th>chargeoff_within_12_mths</th>\n",
       "      <th>delinq_amnt</th>\n",
       "      <th>pub_rec_bankruptcies</th>\n",
       "      <th>tax_liens</th>\n",
       "    </tr>\n",
       "  </thead>\n",
       "  <tbody>\n",
       "    <tr>\n",
       "      <th>0</th>\n",
       "      <td>1077501</td>\n",
       "      <td>1296599.0</td>\n",
       "      <td>5000.0</td>\n",
       "      <td>5000.0</td>\n",
       "      <td>4975.0</td>\n",
       "      <td>36 months</td>\n",
       "      <td>10.65%</td>\n",
       "      <td>162.87</td>\n",
       "      <td>B</td>\n",
       "      <td>B2</td>\n",
       "      <td>...</td>\n",
       "      <td>171.62</td>\n",
       "      <td>Jun-2016</td>\n",
       "      <td>0.0</td>\n",
       "      <td>1.0</td>\n",
       "      <td>INDIVIDUAL</td>\n",
       "      <td>0.0</td>\n",
       "      <td>0.0</td>\n",
       "      <td>0.0</td>\n",
       "      <td>0.0</td>\n",
       "      <td>0.0</td>\n",
       "    </tr>\n",
       "    <tr>\n",
       "      <th>1</th>\n",
       "      <td>1077430</td>\n",
       "      <td>1314167.0</td>\n",
       "      <td>2500.0</td>\n",
       "      <td>2500.0</td>\n",
       "      <td>2500.0</td>\n",
       "      <td>60 months</td>\n",
       "      <td>15.27%</td>\n",
       "      <td>59.83</td>\n",
       "      <td>C</td>\n",
       "      <td>C4</td>\n",
       "      <td>...</td>\n",
       "      <td>119.66</td>\n",
       "      <td>Sep-2013</td>\n",
       "      <td>0.0</td>\n",
       "      <td>1.0</td>\n",
       "      <td>INDIVIDUAL</td>\n",
       "      <td>0.0</td>\n",
       "      <td>0.0</td>\n",
       "      <td>0.0</td>\n",
       "      <td>0.0</td>\n",
       "      <td>0.0</td>\n",
       "    </tr>\n",
       "    <tr>\n",
       "      <th>2</th>\n",
       "      <td>1077175</td>\n",
       "      <td>1313524.0</td>\n",
       "      <td>2400.0</td>\n",
       "      <td>2400.0</td>\n",
       "      <td>2400.0</td>\n",
       "      <td>36 months</td>\n",
       "      <td>15.96%</td>\n",
       "      <td>84.33</td>\n",
       "      <td>C</td>\n",
       "      <td>C5</td>\n",
       "      <td>...</td>\n",
       "      <td>649.91</td>\n",
       "      <td>Jun-2016</td>\n",
       "      <td>0.0</td>\n",
       "      <td>1.0</td>\n",
       "      <td>INDIVIDUAL</td>\n",
       "      <td>0.0</td>\n",
       "      <td>0.0</td>\n",
       "      <td>0.0</td>\n",
       "      <td>0.0</td>\n",
       "      <td>0.0</td>\n",
       "    </tr>\n",
       "    <tr>\n",
       "      <th>3</th>\n",
       "      <td>1076863</td>\n",
       "      <td>1277178.0</td>\n",
       "      <td>10000.0</td>\n",
       "      <td>10000.0</td>\n",
       "      <td>10000.0</td>\n",
       "      <td>36 months</td>\n",
       "      <td>13.49%</td>\n",
       "      <td>339.31</td>\n",
       "      <td>C</td>\n",
       "      <td>C1</td>\n",
       "      <td>...</td>\n",
       "      <td>357.48</td>\n",
       "      <td>Apr-2016</td>\n",
       "      <td>0.0</td>\n",
       "      <td>1.0</td>\n",
       "      <td>INDIVIDUAL</td>\n",
       "      <td>0.0</td>\n",
       "      <td>0.0</td>\n",
       "      <td>0.0</td>\n",
       "      <td>0.0</td>\n",
       "      <td>0.0</td>\n",
       "    </tr>\n",
       "    <tr>\n",
       "      <th>4</th>\n",
       "      <td>1075358</td>\n",
       "      <td>1311748.0</td>\n",
       "      <td>3000.0</td>\n",
       "      <td>3000.0</td>\n",
       "      <td>3000.0</td>\n",
       "      <td>60 months</td>\n",
       "      <td>12.69%</td>\n",
       "      <td>67.79</td>\n",
       "      <td>B</td>\n",
       "      <td>B5</td>\n",
       "      <td>...</td>\n",
       "      <td>67.79</td>\n",
       "      <td>Jun-2016</td>\n",
       "      <td>0.0</td>\n",
       "      <td>1.0</td>\n",
       "      <td>INDIVIDUAL</td>\n",
       "      <td>0.0</td>\n",
       "      <td>0.0</td>\n",
       "      <td>0.0</td>\n",
       "      <td>0.0</td>\n",
       "      <td>0.0</td>\n",
       "    </tr>\n",
       "  </tbody>\n",
       "</table>\n",
       "<p>5 rows × 52 columns</p>\n",
       "</div>"
      ],
      "text/plain": [
       "        id  member_id  loan_amnt  funded_amnt  funded_amnt_inv        term  \\\n",
       "0  1077501  1296599.0     5000.0       5000.0           4975.0   36 months   \n",
       "1  1077430  1314167.0     2500.0       2500.0           2500.0   60 months   \n",
       "2  1077175  1313524.0     2400.0       2400.0           2400.0   36 months   \n",
       "3  1076863  1277178.0    10000.0      10000.0          10000.0   36 months   \n",
       "4  1075358  1311748.0     3000.0       3000.0           3000.0   60 months   \n",
       "\n",
       "  int_rate  installment grade sub_grade  ... last_pymnt_amnt  \\\n",
       "0   10.65%       162.87     B        B2  ...          171.62   \n",
       "1   15.27%        59.83     C        C4  ...          119.66   \n",
       "2   15.96%        84.33     C        C5  ...          649.91   \n",
       "3   13.49%       339.31     C        C1  ...          357.48   \n",
       "4   12.69%        67.79     B        B5  ...           67.79   \n",
       "\n",
       "  last_credit_pull_d collections_12_mths_ex_med  policy_code application_type  \\\n",
       "0           Jun-2016                        0.0          1.0       INDIVIDUAL   \n",
       "1           Sep-2013                        0.0          1.0       INDIVIDUAL   \n",
       "2           Jun-2016                        0.0          1.0       INDIVIDUAL   \n",
       "3           Apr-2016                        0.0          1.0       INDIVIDUAL   \n",
       "4           Jun-2016                        0.0          1.0       INDIVIDUAL   \n",
       "\n",
       "  acc_now_delinq chargeoff_within_12_mths delinq_amnt pub_rec_bankruptcies  \\\n",
       "0            0.0                      0.0         0.0                  0.0   \n",
       "1            0.0                      0.0         0.0                  0.0   \n",
       "2            0.0                      0.0         0.0                  0.0   \n",
       "3            0.0                      0.0         0.0                  0.0   \n",
       "4            0.0                      0.0         0.0                  0.0   \n",
       "\n",
       "  tax_liens  \n",
       "0       0.0  \n",
       "1       0.0  \n",
       "2       0.0  \n",
       "3       0.0  \n",
       "4       0.0  \n",
       "\n",
       "[5 rows x 52 columns]"
      ]
     },
     "execution_count": 16,
     "metadata": {},
     "output_type": "execute_result"
    }
   ],
   "source": [
    "loans.head()"
   ]
  },
  {
   "cell_type": "code",
   "execution_count": 17,
   "id": "dd5d9c8c",
   "metadata": {},
   "outputs": [
    {
     "data": {
      "text/plain": [
       "(42538, 52)"
      ]
     },
     "execution_count": 17,
     "metadata": {},
     "output_type": "execute_result"
    }
   ],
   "source": [
    "loans.shape"
   ]
  },
  {
   "cell_type": "code",
   "execution_count": null,
   "id": "9b42b3aa",
   "metadata": {},
   "outputs": [],
   "source": []
  },
  {
   "cell_type": "code",
   "execution_count": 18,
   "id": "33324656",
   "metadata": {},
   "outputs": [
    {
     "data": {
      "text/plain": [
       "id                             object\n",
       "member_id                     float64\n",
       "loan_amnt                     float64\n",
       "funded_amnt                   float64\n",
       "funded_amnt_inv               float64\n",
       "term                           object\n",
       "int_rate                       object\n",
       "installment                   float64\n",
       "grade                          object\n",
       "sub_grade                      object\n",
       "emp_title                      object\n",
       "emp_length                     object\n",
       "home_ownership                 object\n",
       "annual_inc                    float64\n",
       "verification_status            object\n",
       "issue_d                        object\n",
       "loan_status                    object\n",
       "pymnt_plan                     object\n",
       "purpose                        object\n",
       "title                          object\n",
       "zip_code                       object\n",
       "addr_state                     object\n",
       "dti                           float64\n",
       "delinq_2yrs                   float64\n",
       "earliest_cr_line               object\n",
       "inq_last_6mths                float64\n",
       "open_acc                      float64\n",
       "pub_rec                       float64\n",
       "revol_bal                     float64\n",
       "revol_util                     object\n",
       "total_acc                     float64\n",
       "initial_list_status            object\n",
       "out_prncp                     float64\n",
       "out_prncp_inv                 float64\n",
       "total_pymnt                   float64\n",
       "total_pymnt_inv               float64\n",
       "total_rec_prncp               float64\n",
       "total_rec_int                 float64\n",
       "total_rec_late_fee            float64\n",
       "recoveries                    float64\n",
       "collection_recovery_fee       float64\n",
       "last_pymnt_d                   object\n",
       "last_pymnt_amnt               float64\n",
       "last_credit_pull_d             object\n",
       "collections_12_mths_ex_med    float64\n",
       "policy_code                   float64\n",
       "application_type               object\n",
       "acc_now_delinq                float64\n",
       "chargeoff_within_12_mths      float64\n",
       "delinq_amnt                   float64\n",
       "pub_rec_bankruptcies          float64\n",
       "tax_liens                     float64\n",
       "dtype: object"
      ]
     },
     "execution_count": 18,
     "metadata": {},
     "output_type": "execute_result"
    }
   ],
   "source": [
    "loans.dtypes"
   ]
  },
  {
   "cell_type": "markdown",
   "id": "dc1897c9",
   "metadata": {},
   "source": [
    "## Data Cleaning\n",
    "\n",
    "Before we build our ML model, we need to clean the data. Let's start by removing columns that leak information about the result of the loan, don't relate to the borrower's ability to pay off the loan, or contain redundant information. We carefully study the data dictionary to consider each column in turn.\n",
    "\n",
    "Our target column is ```loan_status```. "
   ]
  },
  {
   "cell_type": "code",
   "execution_count": 19,
   "id": "00f007c3",
   "metadata": {},
   "outputs": [],
   "source": [
    "# the majority of the columns we drop are related to data leakage. \n",
    "\n",
    "columns_to_drop = ['id','member_id','funded_amnt','funded_amnt_inv',\n",
    "                   'grade','sub_grade','emp_title','issue_d',\n",
    "                  'zip_code','out_prncp','out_prncp_inv',\n",
    "                   'total_pymnt','total_pymnt_inv','total_rec_prncp',\n",
    "                   'total_rec_int','total_rec_late_fee',\n",
    "                   'recoveries','collection_recovery_fee',\n",
    "                   'last_pymnt_d','last_pymnt_amnt']\n",
    "\n",
    "loans.drop(columns_to_drop,axis=1,inplace=True)"
   ]
  },
  {
   "cell_type": "code",
   "execution_count": 20,
   "id": "892119fc",
   "metadata": {},
   "outputs": [
    {
     "data": {
      "text/plain": [
       "(42538, 32)"
      ]
     },
     "execution_count": 20,
     "metadata": {},
     "output_type": "execute_result"
    }
   ],
   "source": [
    "loans.shape"
   ]
  },
  {
   "cell_type": "markdown",
   "id": "5f4f8443",
   "metadata": {},
   "source": [
    "We dropped 20 columns, most of which are related to data leakage. Next, let's clean the target column. It contains text values we need to convert to numerical values for modelling. "
   ]
  },
  {
   "cell_type": "code",
   "execution_count": 21,
   "id": "290cc7de",
   "metadata": {},
   "outputs": [
    {
     "data": {
      "text/plain": [
       "Fully Paid                                             33136\n",
       "Charged Off                                             5634\n",
       "Does not meet the credit policy. Status:Fully Paid      1988\n",
       "Current                                                  961\n",
       "Does not meet the credit policy. Status:Charged Off      761\n",
       "Late (31-120 days)                                        24\n",
       "In Grace Period                                           20\n",
       "Late (16-30 days)                                          8\n",
       "Default                                                    3\n",
       "Name: loan_status, dtype: int64"
      ]
     },
     "execution_count": 21,
     "metadata": {},
     "output_type": "execute_result"
    }
   ],
   "source": [
    "loans['loan_status'].value_counts()"
   ]
  },
  {
   "cell_type": "markdown",
   "id": "872ca763",
   "metadata": {},
   "source": [
    "We are interested in predicting whether or not loans will be paid off on time. This is a binary classification problem. Only ```Fully Paid``` and ```Charged Off``` describe the final outcomes of the loans. We're going to remove the other columns and transform these values to 0 or 1. Finally, we note we have quite a significant class imbalance. 33136 loans were fully paid while only 5634 loans were not paid off. We'll have to be careful with this for our modelling later. "
   ]
  },
  {
   "cell_type": "code",
   "execution_count": 22,
   "id": "8bacb8c5",
   "metadata": {},
   "outputs": [],
   "source": [
    "loans = loans[(loans['loan_status'] == 'Fully Paid') | (loans['loan_status'] == 'Charged Off')]\n",
    "\n",
    "status_replace = {\n",
    "    \"loan_status\" : {\n",
    "        \"Fully Paid\": 1,\n",
    "        \"Charged Off\": 0,\n",
    "    }\n",
    "}\n",
    "\n",
    "loans = loans.replace(status_replace)"
   ]
  },
  {
   "cell_type": "markdown",
   "id": "1c9e3174",
   "metadata": {},
   "source": [
    "Next, let's identify columns that only contain one unique value and remove them. They do not provide any helpful information for modelling. This leads us to dropping an additional 9 columns. "
   ]
  },
  {
   "cell_type": "code",
   "execution_count": 23,
   "id": "5e4b61b0",
   "metadata": {},
   "outputs": [
    {
     "name": "stdout",
     "output_type": "stream",
     "text": [
      "['pymnt_plan', 'initial_list_status', 'collections_12_mths_ex_med', 'policy_code', 'application_type', 'acc_now_delinq', 'chargeoff_within_12_mths', 'delinq_amnt', 'tax_liens']\n"
     ]
    }
   ],
   "source": [
    "drop_columns = []\n",
    "\n",
    "for col in loans.columns:\n",
    "    non_null = loans[col].dropna()\n",
    "    unique_non_null = non_null.unique()\n",
    "    length = len(unique_non_null)\n",
    "    if length == 1:\n",
    "        drop_columns.append(col)\n",
    "        \n",
    "loans.drop(drop_columns,axis=1,inplace=True)\n",
    "\n",
    "print(drop_columns)"
   ]
  },
  {
   "cell_type": "markdown",
   "id": "f3181a7d",
   "metadata": {},
   "source": [
    "Now, let's start to work with the other columns to prepare them for modeling. Let's look at missing values and converting categorical columns to numeric. First, let's examine how many missing values we have left."
   ]
  },
  {
   "cell_type": "code",
   "execution_count": 24,
   "id": "970cb734",
   "metadata": {},
   "outputs": [
    {
     "name": "stdout",
     "output_type": "stream",
     "text": [
      "loan_amnt                  0\n",
      "term                       0\n",
      "int_rate                   0\n",
      "installment                0\n",
      "emp_length              1036\n",
      "home_ownership             0\n",
      "annual_inc                 0\n",
      "verification_status        0\n",
      "loan_status                0\n",
      "purpose                    0\n",
      "title                     11\n",
      "addr_state                 0\n",
      "dti                        0\n",
      "delinq_2yrs                0\n",
      "earliest_cr_line           0\n",
      "inq_last_6mths             0\n",
      "open_acc                   0\n",
      "pub_rec                    0\n",
      "revol_bal                  0\n",
      "revol_util                50\n",
      "total_acc                  0\n",
      "last_credit_pull_d         2\n",
      "pub_rec_bankruptcies     697\n",
      "dtype: int64\n"
     ]
    }
   ],
   "source": [
    "null_counts = loans.isnull().sum()\n",
    "\n",
    "print(null_counts)"
   ]
  },
  {
   "cell_type": "code",
   "execution_count": 25,
   "id": "3d964734",
   "metadata": {},
   "outputs": [
    {
     "name": "stdout",
     "output_type": "stream",
     "text": [
      "0.0    0.939438\n",
      "1.0    0.042456\n",
      "NaN    0.017978\n",
      "2.0    0.000129\n",
      "Name: pub_rec_bankruptcies, dtype: float64\n"
     ]
    }
   ],
   "source": [
    "print(loans.pub_rec_bankruptcies.value_counts(normalize=True,dropna=False))"
   ]
  },
  {
   "cell_type": "markdown",
   "id": "5e938ca7",
   "metadata": {},
   "source": [
    "Most of the columns are not missing any values, which is great. ```emp_length``` is missing the most (1036), but this is an important column to keep for credit modelling. We see that ```pub_rec_bankreuptcies``` has very little variability, so we will drop it. Both ```title``` and ```revol_util``` are missing relatively few values, so we will just drop those rows. "
   ]
  },
  {
   "cell_type": "code",
   "execution_count": 26,
   "id": "82533153",
   "metadata": {},
   "outputs": [
    {
     "name": "stdout",
     "output_type": "stream",
     "text": [
      "object     11\n",
      "float64    10\n",
      "int64       1\n",
      "dtype: int64\n"
     ]
    }
   ],
   "source": [
    "loans.drop(labels=['pub_rec_bankruptcies'],axis=1,inplace=True)\n",
    "\n",
    "loans.dropna(axis=0,inplace=True)\n",
    "\n",
    "print(loans.dtypes.value_counts())"
   ]
  },
  {
   "cell_type": "markdown",
   "id": "089c5ca4",
   "metadata": {},
   "source": [
    "Now, let's deal with the object columns. We can pull these out to a new dataframe to work with first."
   ]
  },
  {
   "cell_type": "code",
   "execution_count": 27,
   "id": "0df86ef2",
   "metadata": {},
   "outputs": [
    {
     "data": {
      "text/html": [
       "<div>\n",
       "<style scoped>\n",
       "    .dataframe tbody tr th:only-of-type {\n",
       "        vertical-align: middle;\n",
       "    }\n",
       "\n",
       "    .dataframe tbody tr th {\n",
       "        vertical-align: top;\n",
       "    }\n",
       "\n",
       "    .dataframe thead th {\n",
       "        text-align: right;\n",
       "    }\n",
       "</style>\n",
       "<table border=\"1\" class=\"dataframe\">\n",
       "  <thead>\n",
       "    <tr style=\"text-align: right;\">\n",
       "      <th></th>\n",
       "      <th>term</th>\n",
       "      <th>int_rate</th>\n",
       "      <th>emp_length</th>\n",
       "      <th>home_ownership</th>\n",
       "      <th>verification_status</th>\n",
       "      <th>purpose</th>\n",
       "      <th>title</th>\n",
       "      <th>addr_state</th>\n",
       "      <th>earliest_cr_line</th>\n",
       "      <th>revol_util</th>\n",
       "      <th>last_credit_pull_d</th>\n",
       "    </tr>\n",
       "  </thead>\n",
       "  <tbody>\n",
       "    <tr>\n",
       "      <th>0</th>\n",
       "      <td>36 months</td>\n",
       "      <td>10.65%</td>\n",
       "      <td>10+ years</td>\n",
       "      <td>RENT</td>\n",
       "      <td>Verified</td>\n",
       "      <td>credit_card</td>\n",
       "      <td>Computer</td>\n",
       "      <td>AZ</td>\n",
       "      <td>Jan-1985</td>\n",
       "      <td>83.7%</td>\n",
       "      <td>Jun-2016</td>\n",
       "    </tr>\n",
       "    <tr>\n",
       "      <th>1</th>\n",
       "      <td>60 months</td>\n",
       "      <td>15.27%</td>\n",
       "      <td>&lt; 1 year</td>\n",
       "      <td>RENT</td>\n",
       "      <td>Source Verified</td>\n",
       "      <td>car</td>\n",
       "      <td>bike</td>\n",
       "      <td>GA</td>\n",
       "      <td>Apr-1999</td>\n",
       "      <td>9.4%</td>\n",
       "      <td>Sep-2013</td>\n",
       "    </tr>\n",
       "    <tr>\n",
       "      <th>2</th>\n",
       "      <td>36 months</td>\n",
       "      <td>15.96%</td>\n",
       "      <td>10+ years</td>\n",
       "      <td>RENT</td>\n",
       "      <td>Not Verified</td>\n",
       "      <td>small_business</td>\n",
       "      <td>real estate business</td>\n",
       "      <td>IL</td>\n",
       "      <td>Nov-2001</td>\n",
       "      <td>98.5%</td>\n",
       "      <td>Jun-2016</td>\n",
       "    </tr>\n",
       "    <tr>\n",
       "      <th>3</th>\n",
       "      <td>36 months</td>\n",
       "      <td>13.49%</td>\n",
       "      <td>10+ years</td>\n",
       "      <td>RENT</td>\n",
       "      <td>Source Verified</td>\n",
       "      <td>other</td>\n",
       "      <td>personel</td>\n",
       "      <td>CA</td>\n",
       "      <td>Feb-1996</td>\n",
       "      <td>21%</td>\n",
       "      <td>Apr-2016</td>\n",
       "    </tr>\n",
       "    <tr>\n",
       "      <th>5</th>\n",
       "      <td>36 months</td>\n",
       "      <td>7.90%</td>\n",
       "      <td>3 years</td>\n",
       "      <td>RENT</td>\n",
       "      <td>Source Verified</td>\n",
       "      <td>wedding</td>\n",
       "      <td>My wedding loan I promise to pay back</td>\n",
       "      <td>AZ</td>\n",
       "      <td>Nov-2004</td>\n",
       "      <td>28.3%</td>\n",
       "      <td>Jan-2016</td>\n",
       "    </tr>\n",
       "  </tbody>\n",
       "</table>\n",
       "</div>"
      ],
      "text/plain": [
       "         term int_rate emp_length home_ownership verification_status  \\\n",
       "0   36 months   10.65%  10+ years           RENT            Verified   \n",
       "1   60 months   15.27%   < 1 year           RENT     Source Verified   \n",
       "2   36 months   15.96%  10+ years           RENT        Not Verified   \n",
       "3   36 months   13.49%  10+ years           RENT     Source Verified   \n",
       "5   36 months    7.90%    3 years           RENT     Source Verified   \n",
       "\n",
       "          purpose                                  title addr_state  \\\n",
       "0     credit_card                               Computer         AZ   \n",
       "1             car                                   bike         GA   \n",
       "2  small_business                   real estate business         IL   \n",
       "3           other                               personel         CA   \n",
       "5         wedding  My wedding loan I promise to pay back         AZ   \n",
       "\n",
       "  earliest_cr_line revol_util last_credit_pull_d  \n",
       "0         Jan-1985      83.7%           Jun-2016  \n",
       "1         Apr-1999       9.4%           Sep-2013  \n",
       "2         Nov-2001      98.5%           Jun-2016  \n",
       "3         Feb-1996        21%           Apr-2016  \n",
       "5         Nov-2004      28.3%           Jan-2016  "
      ]
     },
     "execution_count": 27,
     "metadata": {},
     "output_type": "execute_result"
    }
   ],
   "source": [
    "object_columns_df = loans.select_dtypes(include=['object'])\n",
    "\n",
    "object_columns_df.head()"
   ]
  },
  {
   "cell_type": "markdown",
   "id": "2ccfce93",
   "metadata": {},
   "source": [
    "Some of these columns seem like they represent categorial values. Let's start by checking some of these."
   ]
  },
  {
   "cell_type": "code",
   "execution_count": 28,
   "id": "b92179ac",
   "metadata": {},
   "outputs": [
    {
     "name": "stdout",
     "output_type": "stream",
     "text": [
      "RENT        18112\n",
      "MORTGAGE    16686\n",
      "OWN          2778\n",
      "OTHER          96\n",
      "NONE            3\n",
      "Name: home_ownership, dtype: int64\n",
      "Not Verified       16281\n",
      "Verified           11856\n",
      "Source Verified     9538\n",
      "Name: verification_status, dtype: int64\n",
      "10+ years    8545\n",
      "< 1 year     4513\n",
      "2 years      4303\n",
      "3 years      4022\n",
      "4 years      3353\n",
      "5 years      3202\n",
      "1 year       3176\n",
      "6 years      2177\n",
      "7 years      1714\n",
      "8 years      1442\n",
      "9 years      1228\n",
      "Name: emp_length, dtype: int64\n",
      " 36 months    28234\n",
      " 60 months     9441\n",
      "Name: term, dtype: int64\n",
      "CA    6776\n",
      "NY    3614\n",
      "FL    2704\n",
      "TX    2613\n",
      "NJ    1776\n",
      "IL    1447\n",
      "PA    1442\n",
      "VA    1347\n",
      "GA    1323\n",
      "MA    1272\n",
      "OH    1149\n",
      "MD    1008\n",
      "AZ     807\n",
      "WA     788\n",
      "CO     748\n",
      "NC     729\n",
      "CT     711\n",
      "MI     678\n",
      "MO     648\n",
      "MN     581\n",
      "NV     466\n",
      "SC     454\n",
      "WI     427\n",
      "OR     422\n",
      "AL     420\n",
      "LA     420\n",
      "KY     311\n",
      "OK     285\n",
      "UT     249\n",
      "KS     249\n",
      "AR     229\n",
      "DC     209\n",
      "RI     194\n",
      "NM     180\n",
      "WV     164\n",
      "HI     162\n",
      "NH     157\n",
      "DE     110\n",
      "MT      77\n",
      "AK      76\n",
      "WY      76\n",
      "SD      60\n",
      "VT      53\n",
      "MS      19\n",
      "TN      17\n",
      "IN       9\n",
      "ID       6\n",
      "NE       5\n",
      "IA       5\n",
      "ME       3\n",
      "Name: addr_state, dtype: int64\n"
     ]
    }
   ],
   "source": [
    "cols = ['home_ownership', 'verification_status', 'emp_length', 'term', 'addr_state']\n",
    "\n",
    "for x in cols:\n",
    "    print(loans[x].value_counts())"
   ]
  },
  {
   "cell_type": "markdown",
   "id": "415eea95",
   "metadata": {},
   "source": [
    "The ```purpose``` and ```title``` columns appear to reflect similar information. Let's take a look at them to decide which one to keep."
   ]
  },
  {
   "cell_type": "code",
   "execution_count": 29,
   "id": "d14d3e4f",
   "metadata": {},
   "outputs": [
    {
     "name": "stdout",
     "output_type": "stream",
     "text": [
      "Debt Consolidation         2068\n",
      "Debt Consolidation Loan    1599\n",
      "Personal Loan               624\n",
      "Consolidation               488\n",
      "debt consolidation          466\n",
      "                           ... \n",
      "Refi Prior Loan               1\n",
      "CARPET EXPENSE                1\n",
      "golfer1                       1\n",
      "debt consolidation #2         1\n",
      "NEED HELP                     1\n",
      "Name: title, Length: 18881, dtype: int64\n",
      "debt_consolidation    17751\n",
      "credit_card            4911\n",
      "other                  3711\n",
      "home_improvement       2808\n",
      "major_purchase         2083\n",
      "small_business         1719\n",
      "car                    1459\n",
      "wedding                 916\n",
      "medical                 655\n",
      "moving                  552\n",
      "house                   356\n",
      "vacation                348\n",
      "educational             312\n",
      "renewable_energy         94\n",
      "Name: purpose, dtype: int64\n"
     ]
    }
   ],
   "source": [
    "print(loans['title'].value_counts())\n",
    "\n",
    "print(loans['purpose'].value_counts())"
   ]
  },
  {
   "cell_type": "markdown",
   "id": "6bf82108",
   "metadata": {},
   "source": [
    "```home_ownership```, ```verification_status```, ```emp_length```, and ```term``` each contain a few discrete categorical values. We can encode these columns as dummy variables. We'll keep the ```purpose``` column because it contains fewer categories and the ```title``` column contains some data quality issues. \n",
    "\n",
    "We'll drop ```title```, ```addr_state```, ```last_credit_pull_d```, and ```earliest_cr_line```. We can use a mapping dictionary to to transform the ```empl_length``` columns.\n",
    "\n",
    "There are two columns (```int_rate``` and ```revol_util```) that need to be converted to numeric columns. "
   ]
  },
  {
   "cell_type": "code",
   "execution_count": 30,
   "id": "c7425689",
   "metadata": {},
   "outputs": [],
   "source": [
    "mapping_dict = {\n",
    "    \"emp_length\": {\n",
    "        \"10+ years\": 10,\n",
    "        \"9 years\": 9,\n",
    "        \"8 years\": 8,\n",
    "        \"7 years\": 7,\n",
    "        \"6 years\": 6,\n",
    "        \"5 years\": 5,\n",
    "        \"4 years\": 4,\n",
    "        \"3 years\": 3,\n",
    "        \"2 years\": 2,\n",
    "        \"1 year\": 1,\n",
    "        \"< 1 year\": 0,\n",
    "        \"n/a\": 0\n",
    "    }\n",
    "}\n",
    "\n",
    "loans.drop(labels=['last_credit_pull_d','addr_state','title',\n",
    "                   'earliest_cr_line'],axis=1,inplace=True)\n",
    "\n",
    "loans['int_rate'] = loans['int_rate'].str.rstrip('%').astype('float')\n",
    "loans['revol_util'] = loans['revol_util'].str.rstrip('%').astype('float')\n",
    "\n",
    "loans.replace(to_replace=mapping_dict,inplace=True)\n"
   ]
  },
  {
   "cell_type": "code",
   "execution_count": 31,
   "id": "78497e79",
   "metadata": {},
   "outputs": [],
   "source": [
    "dummy_df = pd.get_dummies(loans[['home_ownership',\n",
    "                                 'verification_status',\n",
    "                                 'purpose','term']])\n",
    "\n",
    "loans = pd.concat([loans,dummy_df],axis=1)\n",
    "\n",
    "loans.drop(['home_ownership',\n",
    "             'verification_status',\n",
    "             'purpose','term'],axis=1,inplace=True)"
   ]
  },
  {
   "cell_type": "markdown",
   "id": "64dfa1a9",
   "metadata": {},
   "source": [
    "# Making Predictions\n",
    "\n",
    "Now that we have cleaned and prepared the data, we are ready to build our model. We'll have to be particularly careful with the class imbalance of our target columns. \n",
    "\n",
    "Let's start by defining our error metric. We'll be predicting 0s and 1s, but accuracy is too simple a metric. False positives and false negatives affect us differently, we either lose money or miss out on making money. From a conversative investor point of view, we want to minimize our loses. Let's instead calculate the false positive rate and the true positive rate. We can look at these simultaneously to evaluate our model.\n",
    "\n",
    "Let's start by defining the function we can use for our error metric."
   ]
  },
  {
   "cell_type": "code",
   "execution_count": 33,
   "id": "ae7a2469",
   "metadata": {},
   "outputs": [],
   "source": [
    "def positivity_rates(predictions, actual_values):\n",
    "    # False positives.\n",
    "    fp_filter = (predictions == 1) & (actual_values == 0)\n",
    "    fp = len(predictions[fp_filter])\n",
    "\n",
    "    # True positives.\n",
    "    tp_filter = (predictions == 1) & (actual_values == 1)\n",
    "    tp = len(predictions[tp_filter])\n",
    "\n",
    "    # False negatives.\n",
    "    fn_filter = (predictions == 0) & (actual_values == 1)\n",
    "    fn = len(predictions[fn_filter])\n",
    "\n",
    "    # True negatives\n",
    "    tn_filter = (predictions == 0) & (actual_values == 0)\n",
    "    tn = len(predictions[tn_filter])\n",
    "\n",
    "    tpr = tp / (tp + fn)\n",
    "    fpr = fp / (fp + tn)\n",
    "    return([tpr,fpr])"
   ]
  },
  {
   "cell_type": "markdown",
   "id": "14036870",
   "metadata": {},
   "source": [
    "Now, let's build the model. We will want to include some cross-validation and we'll start with a logistic regression. This is a good first model for binary classification problems because it's quick and less prone to overfitting."
   ]
  },
  {
   "cell_type": "code",
   "execution_count": 46,
   "id": "c0ab0ff0",
   "metadata": {},
   "outputs": [
    {
     "name": "stdout",
     "output_type": "stream",
     "text": [
      "[0.9986681533791736, 0.9968454258675079]\n"
     ]
    }
   ],
   "source": [
    "lr = LogisticRegression(max_iter=200)\n",
    "\n",
    "features = loans.columns.tolist()\n",
    "features.remove('loan_status')\n",
    "\n",
    "target = 'loan_status'\n",
    "\n",
    "lr.fit(loans[features],loans[target])\n",
    "\n",
    "predictions = lr.predict(loans[features])\n",
    "\n",
    "rates = positivity_rates(predictions,loans[target])\n",
    "print(rates)"
   ]
  },
  {
   "cell_type": "code",
   "execution_count": 45,
   "id": "117afd47",
   "metadata": {},
   "outputs": [
    {
     "name": "stdout",
     "output_type": "stream",
     "text": [
      "[0.9970175668589407, 0.9986179664363277]\n"
     ]
    },
    {
     "name": "stderr",
     "output_type": "stream",
     "text": [
      "/Users/josh.fuchs/opt/anaconda3/lib/python3.8/site-packages/sklearn/linear_model/_logistic.py:763: ConvergenceWarning: lbfgs failed to converge (status=1):\n",
      "STOP: TOTAL NO. of ITERATIONS REACHED LIMIT.\n",
      "\n",
      "Increase the number of iterations (max_iter) or scale the data as shown in:\n",
      "    https://scikit-learn.org/stable/modules/preprocessing.html\n",
      "Please also refer to the documentation for alternative solver options:\n",
      "    https://scikit-learn.org/stable/modules/linear_model.html#logistic-regression\n",
      "  n_iter_i = _check_optimize_result(\n"
     ]
    }
   ],
   "source": [
    "lr = LogisticRegression(max_iter=200)\n",
    "\n",
    "features = loans.columns.tolist()\n",
    "features.remove('loan_status')\n",
    "\n",
    "target = 'loan_status'\n",
    "\n",
    "predictions = cross_val_predict(lr, loans[features],loans[target], cv=3)\n",
    "\n",
    "predictions = pd.Series(predictions)\n",
    "rates = positivity_rates(predictions,loans[target])\n",
    "print(rates)\n"
   ]
  },
  {
   "cell_type": "markdown",
   "id": "ebdb27ef",
   "metadata": {},
   "source": [
    "Now that we have the basic models built, we need to first deal with the class imbalance. Let's try to deal with this by adjust the ```class_weight``` parameter."
   ]
  },
  {
   "cell_type": "code",
   "execution_count": 44,
   "id": "3dd275bc",
   "metadata": {},
   "outputs": [
    {
     "name": "stdout",
     "output_type": "stream",
     "text": [
      "[0.5120608285264814, 0.5032576505429418]\n"
     ]
    }
   ],
   "source": [
    "lr = LogisticRegression(class_weight=\"balanced\", max_iter=200)\n",
    "\n",
    "features = loans.columns.tolist()\n",
    "features.remove('loan_status')\n",
    "\n",
    "target = 'loan_status'\n",
    "\n",
    "predictions = cross_val_predict(lr, loans[features],loans[target], cv=3)\n",
    "\n",
    "predictions = pd.Series(predictions)\n",
    "rates = positivity_rates(predictions,loans[target])\n",
    "print(rates)"
   ]
  },
  {
   "cell_type": "markdown",
   "id": "89b0188f",
   "metadata": {},
   "source": [
    "We lowerd both our false positive and true positve rates quite a lot. Unfortunately, they are still similar to each other. We would prefer the true positivity rate to be a little higher than the false positivity rate. Let's try increasing the penalty for misclassifying the negative class.\n"
   ]
  },
  {
   "cell_type": "code",
   "execution_count": 58,
   "id": "0b713df5",
   "metadata": {},
   "outputs": [
    {
     "name": "stdout",
     "output_type": "stream",
     "text": [
      "[0.15521761929732564, 0.1504442250740375]\n"
     ]
    }
   ],
   "source": [
    "penalty = {\n",
    "    0: 10,\n",
    "    1: 1\n",
    "}\n",
    "\n",
    "lr = LogisticRegression(class_weight=penalty, max_iter=200)\n",
    "\n",
    "features = loans.columns.tolist()\n",
    "features.remove('loan_status')\n",
    "\n",
    "target = 'loan_status'\n",
    "\n",
    "predictions = cross_val_predict(lr, loans[features],loans[target], cv=3)\n",
    "\n",
    "predictions = pd.Series(predictions)\n",
    "rates = positivity_rates(predictions,loans[target])\n",
    "print(rates)"
   ]
  },
  {
   "cell_type": "markdown",
   "id": "23024e01",
   "metadata": {},
   "source": [
    "Increasing the penalty lowered both rates to around 15%. This lowers our overall risk, but comes as the expense of missing more true positives (borrowers we should have invested in). Let's try a few different penalty ratios to see how sensitive our rates are.\n",
    "\n"
   ]
  },
  {
   "cell_type": "code",
   "execution_count": 59,
   "id": "685569af",
   "metadata": {},
   "outputs": [
    {
     "name": "stderr",
     "output_type": "stream",
     "text": [
      "/Users/josh.fuchs/opt/anaconda3/lib/python3.8/site-packages/sklearn/linear_model/_logistic.py:763: ConvergenceWarning: lbfgs failed to converge (status=1):\n",
      "STOP: TOTAL NO. of ITERATIONS REACHED LIMIT.\n",
      "\n",
      "Increase the number of iterations (max_iter) or scale the data as shown in:\n",
      "    https://scikit-learn.org/stable/modules/preprocessing.html\n",
      "Please also refer to the documentation for alternative solver options:\n",
      "    https://scikit-learn.org/stable/modules/linear_model.html#logistic-regression\n",
      "  n_iter_i = _check_optimize_result(\n"
     ]
    },
    {
     "name": "stdout",
     "output_type": "stream",
     "text": [
      "{0: [1.0, 1.0], 1: [0.9970175668589407, 0.9986179664363277], 2: [0.9845634504457262, 0.9846001974333662], 3: [0.916917933927635, 0.9186574531095755], 4: [0.7880506030414264, 0.7901283316880553], 5: [0.6349632931305715, 0.6311944718657453], 6: [0.5056699003670687, 0.4918065153010859], 7: [0.40475878342947036, 0.39190523198420535], 8: [0.27874278972207656, 0.26870681145113523], 9: [0.21201494493969586, 0.19960513326752222], 10: [0.15521761929732564, 0.1504442250740375]}\n"
     ]
    }
   ],
   "source": [
    "features = loans.columns.tolist()\n",
    "features.remove('loan_status')\n",
    "\n",
    "target = 'loan_status'\n",
    "\n",
    "rate_dict = {}\n",
    "\n",
    "for x in range(11):\n",
    "    penalty = {\n",
    "        0: x,\n",
    "        1: 1}\n",
    "    \n",
    "    lr = LogisticRegression(class_weight=penalty, max_iter=200)\n",
    "    \n",
    "    predictions = cross_val_predict(lr, loans[features],loans[target], cv=3)\n",
    "    \n",
    "    predictions = pd.Series(predictions)\n",
    "    rates = positivity_rates(predictions,loans[target])\n",
    "    rate_dict[x] = rates\n",
    "    \n",
    "print(rate_dict)"
   ]
  },
  {
   "cell_type": "code",
   "execution_count": 62,
   "id": "0c12e0eb",
   "metadata": {},
   "outputs": [
    {
     "data": {
      "text/html": [
       "<div>\n",
       "<style scoped>\n",
       "    .dataframe tbody tr th:only-of-type {\n",
       "        vertical-align: middle;\n",
       "    }\n",
       "\n",
       "    .dataframe tbody tr th {\n",
       "        vertical-align: top;\n",
       "    }\n",
       "\n",
       "    .dataframe thead th {\n",
       "        text-align: right;\n",
       "    }\n",
       "</style>\n",
       "<table border=\"1\" class=\"dataframe\">\n",
       "  <thead>\n",
       "    <tr style=\"text-align: right;\">\n",
       "      <th></th>\n",
       "      <th>0</th>\n",
       "      <th>1</th>\n",
       "    </tr>\n",
       "  </thead>\n",
       "  <tbody>\n",
       "    <tr>\n",
       "      <th>0</th>\n",
       "      <td>1.000000</td>\n",
       "      <td>1.000000</td>\n",
       "    </tr>\n",
       "    <tr>\n",
       "      <th>1</th>\n",
       "      <td>0.997018</td>\n",
       "      <td>0.998618</td>\n",
       "    </tr>\n",
       "    <tr>\n",
       "      <th>2</th>\n",
       "      <td>0.984563</td>\n",
       "      <td>0.984600</td>\n",
       "    </tr>\n",
       "    <tr>\n",
       "      <th>3</th>\n",
       "      <td>0.916918</td>\n",
       "      <td>0.918657</td>\n",
       "    </tr>\n",
       "    <tr>\n",
       "      <th>4</th>\n",
       "      <td>0.788051</td>\n",
       "      <td>0.790128</td>\n",
       "    </tr>\n",
       "    <tr>\n",
       "      <th>5</th>\n",
       "      <td>0.634963</td>\n",
       "      <td>0.631194</td>\n",
       "    </tr>\n",
       "    <tr>\n",
       "      <th>6</th>\n",
       "      <td>0.505670</td>\n",
       "      <td>0.491807</td>\n",
       "    </tr>\n",
       "    <tr>\n",
       "      <th>7</th>\n",
       "      <td>0.404759</td>\n",
       "      <td>0.391905</td>\n",
       "    </tr>\n",
       "    <tr>\n",
       "      <th>8</th>\n",
       "      <td>0.278743</td>\n",
       "      <td>0.268707</td>\n",
       "    </tr>\n",
       "    <tr>\n",
       "      <th>9</th>\n",
       "      <td>0.212015</td>\n",
       "      <td>0.199605</td>\n",
       "    </tr>\n",
       "    <tr>\n",
       "      <th>10</th>\n",
       "      <td>0.155218</td>\n",
       "      <td>0.150444</td>\n",
       "    </tr>\n",
       "  </tbody>\n",
       "</table>\n",
       "</div>"
      ],
      "text/plain": [
       "           0         1\n",
       "0   1.000000  1.000000\n",
       "1   0.997018  0.998618\n",
       "2   0.984563  0.984600\n",
       "3   0.916918  0.918657\n",
       "4   0.788051  0.790128\n",
       "5   0.634963  0.631194\n",
       "6   0.505670  0.491807\n",
       "7   0.404759  0.391905\n",
       "8   0.278743  0.268707\n",
       "9   0.212015  0.199605\n",
       "10  0.155218  0.150444"
      ]
     },
     "execution_count": 62,
     "metadata": {},
     "output_type": "execute_result"
    }
   ],
   "source": [
    "plotting_dict = pd.DataFrame.from_dict(rate_dict,orient='index')\n",
    "\n",
    "plotting_dict"
   ]
  },
  {
   "cell_type": "code",
   "execution_count": 105,
   "id": "7bae3269",
   "metadata": {},
   "outputs": [
    {
     "data": {
      "image/png": "[encoded data removed]",
      "text/plain": [
       "<Figure size 648x432 with 1 Axes>"
      ]
     },
     "metadata": {
      "needs_background": "light"
     },
     "output_type": "display_data"
    }
   ],
   "source": [
    "plt.figure(figsize=(9,6))\n",
    "\n",
    "for key in rate_dict:\n",
    "    plt.scatter(key,rate_dict[key][0],marker='+',c='teal',s=200)\n",
    "    plt.scatter(key,rate_dict[key][1],marker='1',c='brown',s=200)\n",
    "    \n",
    "plt.xlabel('False Negative Penalty',fontsize=16)\n",
    "plt.ylabel('Rates',fontsize=16)\n",
    "plt.yticks(fontsize=16)\n",
    "plt.xticks(fontsize=16)\n",
    "plt.ylim(0,1.1)\n",
    "plt.xlim(-0.4,10.4)\n",
    "\n",
    "# points not on screen for legend\n",
    "plt.scatter(-10,-10,marker='+',c='teal',s=200,label='True Positive Rate')\n",
    "plt.scatter(-10,-10,marker='1',c='brown',s=200,label='False Positive Rate')\n",
    "\n",
    "plt.legend(fontsize=16)\n",
    "plt.show()"
   ]
  },
  {
   "cell_type": "code",
   "execution_count": null,
   "id": "fe299f3c",
   "metadata": {},
   "outputs": [],
   "source": []
  },
  {
   "cell_type": "code",
   "execution_count": null,
   "id": "0462d5be",
   "metadata": {},
   "outputs": [],
   "source": []
  },
  {
   "cell_type": "code",
   "execution_count": null,
   "id": "cb5b99c0",
   "metadata": {},
   "outputs": [],
   "source": []
  },
  {
   "cell_type": "code",
   "execution_count": null,
   "id": "eae19540",
   "metadata": {},
   "outputs": [],
   "source": []
  },
  {
   "cell_type": "markdown",
   "id": "d9725159",
   "metadata": {},
   "source": [
    "Let's try a slightly different approach and use a Random Forest Classifier. "
   ]
  },
  {
   "cell_type": "code",
   "execution_count": 49,
   "id": "141787a5",
   "metadata": {},
   "outputs": [
    {
     "name": "stdout",
     "output_type": "stream",
     "text": [
      "[0.9959687991609858, 0.9950641658440277]\n"
     ]
    }
   ],
   "source": [
    "rf = RandomForestClassifier(class_weight=\"balanced\")\n",
    "\n",
    "features = loans.columns.tolist()\n",
    "features.remove('loan_status')\n",
    "\n",
    "target = 'loan_status'\n",
    "\n",
    "predictions = cross_val_predict(rf, loans[features],loans[target], cv=3)\n",
    "\n",
    "predictions = pd.Series(predictions)\n",
    "rates = positivity_rates(predictions,loans[target])\n",
    "print(rates)"
   ]
  },
  {
   "cell_type": "code",
   "execution_count": 50,
   "id": "e5a187a5",
   "metadata": {},
   "outputs": [
    {
     "name": "stdout",
     "output_type": "stream",
     "text": [
      "[0.9959360251704248, 0.9978282329713721]\n"
     ]
    }
   ],
   "source": [
    "penalty = {\n",
    "    0: 10,\n",
    "    1: 1\n",
    "}\n",
    "\n",
    "rf = RandomForestClassifier(class_weight=penalty)\n",
    "\n",
    "features = loans.columns.tolist()\n",
    "features.remove('loan_status')\n",
    "\n",
    "target = 'loan_status'\n",
    "\n",
    "predictions = cross_val_predict(rf, loans[features],loans[target], cv=3)\n",
    "\n",
    "predictions = pd.Series(predictions)\n",
    "rates = positivity_rates(predictions,loans[target])\n",
    "print(rates)"
   ]
  },
  {
   "cell_type": "code",
   "execution_count": null,
   "id": "ce00e643",
   "metadata": {},
   "outputs": [],
   "source": []
  }
 ],
 "metadata": {
  "kernelspec": {
   "display_name": "Python 3",
   "language": "python",
   "name": "python3"
  },
  "language_info": {
   "codemirror_mode": {
    "name": "ipython",
    "version": 3
   },
   "file_extension": ".py",
   "mimetype": "text/x-python",
   "name": "python",
   "nbconvert_exporter": "python",
   "pygments_lexer": "ipython3",
   "version": "3.8.8"
  }
 },
 "nbformat": 4,
 "nbformat_minor": 5
}
