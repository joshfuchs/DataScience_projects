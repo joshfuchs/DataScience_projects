{
 "cells": [
  {
   "cell_type": "markdown",
   "id": "f6b98542",
   "metadata": {},
   "source": [
    "# SQL with Danny's Diner\n",
    "\n",
    "This SQL project is based on Case #1 from [Data with Dany](https://8weeksqlchallenge.com/case-study-1/). \n",
    "\n",
    "## Introduction\n",
    "Danny seriously loves Japanese food so in the beginning of 2021, he decides to embark upon a risky venture and opens up a cute little restaurant that sells his 3 favourite foods: sushi, curry and ramen.\n",
    "\n",
    "Danny’s Diner is in need of your assistance to help the restaurant stay afloat - the restaurant has captured some very basic data from their few months of operation but have no idea how to use their data to help them run the business.\n",
    "\n",
    "## Problem Statement\n",
    "Danny wants to use the data to answer a few simple questions about his customers, especially about their visiting patterns, how much money they’ve spent and also which menu items are their favourite. Having this deeper connection with his customers will help him deliver a better and more personalised experience for his loyal customers.\n",
    "\n",
    "He plans on using these insights to help him decide whether he should expand the existing customer loyalty program - additionally he needs help to generate some basic datasets so his team can easily inspect the data without needing to use SQL.\n",
    "\n",
    "Danny has provided you with a sample of his overall customer data due to privacy issues - but he hopes that these examples are enough for you to write fully functioning SQL queries to help him answer his questions!\n",
    "\n",
    "Danny has shared with you 3 key datasets for this case study:\n",
    "- sales\n",
    "- menu\n",
    "- members\n",
    "\n",
    "\n",
    "The ```sales``` table captures all ```customer_id``` level purchases with an corresponding ```order_date``` and ```product_id``` information for when and what menu items were ordered.\n",
    "\n",
    "The ```menu``` table maps the ```product_id``` to the actual ```product_name``` and ```price``` of each menu item.\n",
    "\n",
    "The ```members``` table captures the ```join_date``` when a ```customer_id``` joined the beta version of the Danny’s Diner loyalty program.\n",
    "\n",
    "## Questions\n",
    "\n",
    "- What is the total amount each customer spent at the restaurant?\n",
    "- How many days has each customer visited the restaurant?\n",
    "- What was the first item from the menu purchased by each customer?\n",
    "- What is the most purchased item on the menu and how many times was it purchased by all customers?\n",
    "- Which item was the most popular for each customer?\n",
    "- Which item was purchased first by the customer after they became a member?\n",
    "- Which item was purchased just before the customer became a member?\n",
    "- What is the total items and amount spent for each member before they became a member?\n",
    "- If each $1 spent equates to 10 points and sushi has a 2x points multiplier - how many points would each customer have?\n",
    "- In the first week after a customer joins the program (including their join date) they earn 2x points on all items, not just sushi - how many points do customer A and B have at the end of January?\n"
   ]
  },
  {
   "cell_type": "markdown",
   "id": "afa30949",
   "metadata": {},
   "source": [
    "## Build database and query function"
   ]
  },
  {
   "cell_type": "code",
   "execution_count": 7,
   "id": "815635ff",
   "metadata": {},
   "outputs": [],
   "source": [
    "import sqlite3\n",
    "from sqlite3 import Error\n"
   ]
  },
  {
   "cell_type": "code",
   "execution_count": 4,
   "id": "d0da2ed1",
   "metadata": {},
   "outputs": [],
   "source": [
    "conn = sqlite3.connect(\"diner.db\")\n"
   ]
  },
  {
   "cell_type": "code",
   "execution_count": 5,
   "id": "b4ff8c21",
   "metadata": {},
   "outputs": [],
   "source": [
    "def create_connection(db_file):\n",
    "    \"\"\" create a database connection to the SQLite database\n",
    "        specified by db_file\n",
    "    :param db_file: database file\n",
    "    :return: Connection object or None\n",
    "    \"\"\"\n",
    "    conn = None\n",
    "    try:\n",
    "        conn = sqlite3.connect(db_file)\n",
    "        return conn\n",
    "    except Error as e:\n",
    "        print(e)\n",
    "\n",
    "    return conn\n"
   ]
  },
  {
   "cell_type": "code",
   "execution_count": 11,
   "id": "bf477bf8",
   "metadata": {},
   "outputs": [],
   "source": [
    "def create_table(conn, create_table_sql):\n",
    "    \"\"\" create a table from the create_table_sql statement\n",
    "    :param conn: Connection object\n",
    "    :param create_table_sql: a CREATE TABLE statement\n",
    "    :return:\n",
    "    \"\"\"\n",
    "    try:\n",
    "        c = conn.cursor()\n",
    "        c.execute(create_table_sql)\n",
    "    except Error as e:\n",
    "        print(e)\n"
   ]
  },
  {
   "cell_type": "code",
   "execution_count": 18,
   "id": "21b418b1",
   "metadata": {},
   "outputs": [],
   "source": [
    "conn = create_connection('diner.db')\n"
   ]
  },
  {
   "cell_type": "code",
   "execution_count": 19,
   "id": "4a1ec33a",
   "metadata": {},
   "outputs": [
    {
     "name": "stdout",
     "output_type": "stream",
     "text": [
      "table sales already exists\n"
     ]
    }
   ],
   "source": [
    "create_table_sql = \"CREATE TABLE sales ('customer_id' VARCHAR(1),'order_date' DATE,'product_id' INTEGER);\"\n",
    "\n",
    "create_table(conn,create_table_sql)\n",
    "    "
   ]
  },
  {
   "cell_type": "code",
   "execution_count": 20,
   "id": "1b668ca4",
   "metadata": {},
   "outputs": [],
   "source": [
    "insert_table_sql = \"INSERT INTO sales('customer_id', 'order_date', 'product_id') VALUES ('A', '2021-01-01', '1'), ('A', '2021-01-01', '2'),('A', '2021-01-07', '2'),  ('A', '2021-01-10', '3'),  ('A', '2021-01-11', '3'),  ('A', '2021-01-11', '3'),  ('B', '2021-01-01', '2'),  ('B', '2021-01-02', '2'),  ('B', '2021-01-04', '1'),  ('B', '2021-01-11', '1'),  ('B', '2021-01-16', '3'),  ('B', '2021-02-01', '3'),  ('C', '2021-01-01', '3'),  ('C', '2021-01-01', '3'),('C', '2021-01-07', '3');\"\n",
    "    \n",
    "create_table(conn,insert_table_sql)"
   ]
  },
  {
   "cell_type": "code",
   "execution_count": 37,
   "id": "8eabce0e",
   "metadata": {},
   "outputs": [],
   "source": [
    "\n",
    "create_menu = 'CREATE TABLE menu (\"product_id\" INTEGER,\"product_name\" VARCHAR(5),  \"price\" INTEGER);'\n",
    "\n",
    "create_table(conn,create_menu)\n",
    "\n",
    "insert_menu = \"INSERT INTO menu ('product_id', 'product_name', 'price') VALUES  ('1', 'sushi', '10'),  ('2', 'curry', '15'),  ('3', 'ramen', '12');\"\n",
    "\n",
    "create_table(conn,insert_menu)\n",
    "\n",
    "\n",
    "\n",
    "create_member = \"CREATE TABLE members ( 'customer_id' VARCHAR(1), 'join_date' DATE);\"\n",
    "\n",
    "create_table(conn,create_member)\n",
    "\n",
    "insert_member = \"INSERT INTO members ('customer_id', 'join_date') VALUES ('A', '2021-01-07'),  ('B', '2021-01-09');\"\n",
    "\n",
    "create_table(conn,insert_member)"
   ]
  },
  {
   "cell_type": "code",
   "execution_count": 32,
   "id": "01269626",
   "metadata": {},
   "outputs": [],
   "source": [
    "def run_query(conn,query):\n",
    "    cur = conn.cursor()\n",
    "    cur.execute(query)\n",
    "    rows = cur.fetchall()\n",
    "\n",
    "    for row in rows:\n",
    "        print(row)"
   ]
  },
  {
   "cell_type": "code",
   "execution_count": 38,
   "id": "77c54f6c",
   "metadata": {},
   "outputs": [
    {
     "name": "stdout",
     "output_type": "stream",
     "text": [
      "('2021-01-07',)\n",
      "('2021-01-09',)\n"
     ]
    }
   ],
   "source": [
    "query = \"SELECT join_date FROM members;\"\n",
    "\n",
    "run_query(conn,query)\n",
    "\n",
    "    "
   ]
  },
  {
   "cell_type": "markdown",
   "id": "cf0adc6e",
   "metadata": {},
   "source": [
    "### What is the total amount each customer spent at the restaurant?"
   ]
  },
  {
   "cell_type": "code",
   "execution_count": null,
   "id": "ac6ac3fe",
   "metadata": {},
   "outputs": [],
   "source": [
    "SELECT s.customer_id, SUM(price)\n",
    "FROM sales as s\n",
    "LEFT JOIN menu as m\n",
    "ON s.product_id = m.product_id\n",
    "GROUP BY s.customer_id;"
   ]
  },
  {
   "cell_type": "code",
   "execution_count": 42,
   "id": "fd799099",
   "metadata": {},
   "outputs": [
    {
     "name": "stdout",
     "output_type": "stream",
     "text": [
      "('A', 76)\n",
      "('B', 74)\n",
      "('C', 36)\n"
     ]
    }
   ],
   "source": [
    "query = \"SELECT s.customer_id, SUM(price) FROM sales as s LEFT JOIN menu as m ON s.product_id = m.product_id GROUP BY s.customer_id\"\n",
    "\n",
    "run_query(conn,query)\n"
   ]
  },
  {
   "cell_type": "markdown",
   "id": "38c222b2",
   "metadata": {},
   "source": [
    "### How many days has each customer visited the restaurant?\n"
   ]
  },
  {
   "cell_type": "code",
   "execution_count": null,
   "id": "af7256b9",
   "metadata": {},
   "outputs": [],
   "source": [
    "SELECT customer_id, COUNT(order_date)\n",
    "FROM sales\n",
    "GROUP BY customer_id;"
   ]
  },
  {
   "cell_type": "code",
   "execution_count": 44,
   "id": "ce458638",
   "metadata": {},
   "outputs": [
    {
     "name": "stdout",
     "output_type": "stream",
     "text": [
      "('A', 6)\n",
      "('B', 6)\n",
      "('C', 3)\n"
     ]
    }
   ],
   "source": [
    "query = \"SELECT customer_id, COUNT(order_date) FROM sales GROUP BY customer_id;\"\n",
    "\n",
    "run_query(conn,query)\n"
   ]
  },
  {
   "cell_type": "markdown",
   "id": "1d4b7891",
   "metadata": {},
   "source": [
    "### What was the first item from the menu purchased by each customer?\n"
   ]
  },
  {
   "cell_type": "code",
   "execution_count": null,
   "id": "9bfc6c46",
   "metadata": {},
   "outputs": [],
   "source": [
    "SELECT s.customer_id, m.product_name\n",
    "FROM sales AS s\n",
    "LEFT JOIN menu AS m\n",
    "ON s.product_id = m.product_id\n",
    "GROUP BY s.customer_id\n",
    "ORDER BY s.order_date;"
   ]
  },
  {
   "cell_type": "code",
   "execution_count": 46,
   "id": "00d53d09",
   "metadata": {},
   "outputs": [
    {
     "name": "stdout",
     "output_type": "stream",
     "text": [
      "('A', 'sushi')\n",
      "('B', 'curry')\n",
      "('C', 'ramen')\n"
     ]
    }
   ],
   "source": [
    "query = \"SELECT s.customer_id, m.product_name FROM sales AS s LEFT JOIN menu AS m ON s.product_id = m.product_id GROUP BY s.customer_id ORDER BY s.order_date;\"\n",
    "\n",
    "run_query(conn,query)\n",
    "\n"
   ]
  },
  {
   "cell_type": "code",
   "execution_count": null,
   "id": "4d5bd094",
   "metadata": {},
   "outputs": [],
   "source": []
  }
 ],
 "metadata": {
  "kernelspec": {
   "display_name": "Python 3",
   "language": "python",
   "name": "python3"
  },
  "language_info": {
   "codemirror_mode": {
    "name": "ipython",
    "version": 3
   },
   "file_extension": ".py",
   "mimetype": "text/x-python",
   "name": "python",
   "nbconvert_exporter": "python",
   "pygments_lexer": "ipython3",
   "version": "3.8.8"
  }
 },
 "nbformat": 4,
 "nbformat_minor": 5
}
