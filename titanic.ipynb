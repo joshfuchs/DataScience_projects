{
 "cells": [
  {
   "cell_type": "markdown",
   "id": "5756cb5f",
   "metadata": {},
   "source": [
    "# Titanic Data set\n",
    "From Kaggle Titanic - ML from Disaster competition"
   ]
  },
  {
   "cell_type": "code",
   "execution_count": 1,
   "id": "9d791dd2",
   "metadata": {},
   "outputs": [],
   "source": [
    "import pandas as pd\n",
    "import numpy as np\n",
    "import matplotlib.pyplot as plt\n",
    "import seaborn as sns\n",
    "from sklearn.tree import DecisionTreeRegressor\n",
    "from sklearn.ensemble import RandomForestClassifier\n",
    "from sklearn.model_selection import train_test_split, cross_val_score, GridSearchCV, RandomizedSearchCV\n",
    "from sklearn.preprocessing import OrdinalEncoder, OneHotEncoder\n",
    "from sklearn.impute import SimpleImputer\n",
    "from sklearn.pipeline import Pipeline\n",
    "from sklearn.compose import ColumnTransformer\n",
    "from sklearn.cluster import KMeans\n",
    "\n",
    "\n",
    "from sklearn import metrics\n"
   ]
  },
  {
   "cell_type": "markdown",
   "id": "6c7d86ea",
   "metadata": {},
   "source": [
    "Data dictionary\n",
    "\n",
    "Variable\tDefinition\tKey\n",
    "survival\tSurvival\t0 = No, 1 = Yes\n",
    "pclass\tTicket class\t1 = 1st, 2 = 2nd, 3 = 3rd\n",
    "\n",
    "\n",
    "sex\tSex\t\n",
    "Age\tAge in years\t\n",
    "sibsp\t# of siblings / spouses aboard the Titanic\t\n",
    "parch\t# of parents / children aboard the Titanic\t\n",
    "ticket\tTicket number\t\n",
    "fare\tPassenger fare\t\n",
    "cabin\tCabin number\t\n",
    "embarked\tPort of Embarkation\tC = Cherbourg, Q = Queenstown, S = Southampton\n",
    "\n",
    "\n",
    "pclass: A proxy for socio-economic status (SES)\n",
    "1st = Upper\n",
    "2nd = Middle\n",
    "3rd = Lower\n",
    "\n",
    "age: Age is fractional if less than 1. If the age is estimated, is it in the form of xx.5\n",
    "\n",
    "sibsp: The dataset defines family relations in this way...\n",
    "Sibling = brother, sister, stepbrother, stepsister\n",
    "Spouse = husband, wife (mistresses and fiancés were ignored)\n",
    "\n",
    "parch: The dataset defines family relations in this way...\n",
    "Parent = mother, father\n",
    "Child = daughter, son, stepdaughter, stepson\n",
    "Some children travelled only with a nanny, therefore parch=0 for them."
   ]
  },
  {
   "cell_type": "markdown",
   "id": "d8ac5c1f",
   "metadata": {},
   "source": [
    "# Import and characterize dataset"
   ]
  },
  {
   "cell_type": "code",
   "execution_count": 2,
   "id": "1998c4a0",
   "metadata": {},
   "outputs": [],
   "source": [
    "# import the training and testing data set\n",
    "\n",
    "filename = 'train.csv'\n",
    "\n",
    "train_df = pd.read_csv(filename)\n",
    "\n",
    "filename2 = 'test.csv'\n",
    "\n",
    "test_df = pd.read_csv(filename2)\n"
   ]
  },
  {
   "cell_type": "code",
   "execution_count": 3,
   "id": "d153fb53",
   "metadata": {},
   "outputs": [
    {
     "data": {
      "text/plain": [
       "Index(['PassengerId', 'Survived', 'Pclass', 'Name', 'Sex', 'Age', 'SibSp',\n",
       "       'Parch', 'Ticket', 'Fare', 'Cabin', 'Embarked'],\n",
       "      dtype='object')"
      ]
     },
     "execution_count": 3,
     "metadata": {},
     "output_type": "execute_result"
    }
   ],
   "source": [
    "train_df.columns"
   ]
  },
  {
   "cell_type": "code",
   "execution_count": 4,
   "id": "6ee91826",
   "metadata": {},
   "outputs": [
    {
     "data": {
      "text/plain": [
       "(891, 12)"
      ]
     },
     "execution_count": 4,
     "metadata": {},
     "output_type": "execute_result"
    }
   ],
   "source": [
    "train_df.shape"
   ]
  },
  {
   "cell_type": "code",
   "execution_count": 6,
   "id": "32766432",
   "metadata": {},
   "outputs": [
    {
     "data": {
      "text/html": [
       "<div>\n",
       "<style scoped>\n",
       "    .dataframe tbody tr th:only-of-type {\n",
       "        vertical-align: middle;\n",
       "    }\n",
       "\n",
       "    .dataframe tbody tr th {\n",
       "        vertical-align: top;\n",
       "    }\n",
       "\n",
       "    .dataframe thead th {\n",
       "        text-align: right;\n",
       "    }\n",
       "</style>\n",
       "<table border=\"1\" class=\"dataframe\">\n",
       "  <thead>\n",
       "    <tr style=\"text-align: right;\">\n",
       "      <th></th>\n",
       "      <th>PassengerId</th>\n",
       "      <th>Survived</th>\n",
       "      <th>Pclass</th>\n",
       "      <th>Name</th>\n",
       "      <th>Sex</th>\n",
       "      <th>Age</th>\n",
       "      <th>SibSp</th>\n",
       "      <th>Parch</th>\n",
       "      <th>Ticket</th>\n",
       "      <th>Fare</th>\n",
       "      <th>Cabin</th>\n",
       "      <th>Embarked</th>\n",
       "    </tr>\n",
       "  </thead>\n",
       "  <tbody>\n",
       "    <tr>\n",
       "      <th>0</th>\n",
       "      <td>1</td>\n",
       "      <td>0</td>\n",
       "      <td>3</td>\n",
       "      <td>Braund, Mr. Owen Harris</td>\n",
       "      <td>male</td>\n",
       "      <td>22.0</td>\n",
       "      <td>1</td>\n",
       "      <td>0</td>\n",
       "      <td>A/5 21171</td>\n",
       "      <td>7.2500</td>\n",
       "      <td>NaN</td>\n",
       "      <td>S</td>\n",
       "    </tr>\n",
       "    <tr>\n",
       "      <th>1</th>\n",
       "      <td>2</td>\n",
       "      <td>1</td>\n",
       "      <td>1</td>\n",
       "      <td>Cumings, Mrs. John Bradley (Florence Briggs Th...</td>\n",
       "      <td>female</td>\n",
       "      <td>38.0</td>\n",
       "      <td>1</td>\n",
       "      <td>0</td>\n",
       "      <td>PC 17599</td>\n",
       "      <td>71.2833</td>\n",
       "      <td>C85</td>\n",
       "      <td>C</td>\n",
       "    </tr>\n",
       "    <tr>\n",
       "      <th>2</th>\n",
       "      <td>3</td>\n",
       "      <td>1</td>\n",
       "      <td>3</td>\n",
       "      <td>Heikkinen, Miss. Laina</td>\n",
       "      <td>female</td>\n",
       "      <td>26.0</td>\n",
       "      <td>0</td>\n",
       "      <td>0</td>\n",
       "      <td>STON/O2. 3101282</td>\n",
       "      <td>7.9250</td>\n",
       "      <td>NaN</td>\n",
       "      <td>S</td>\n",
       "    </tr>\n",
       "    <tr>\n",
       "      <th>3</th>\n",
       "      <td>4</td>\n",
       "      <td>1</td>\n",
       "      <td>1</td>\n",
       "      <td>Futrelle, Mrs. Jacques Heath (Lily May Peel)</td>\n",
       "      <td>female</td>\n",
       "      <td>35.0</td>\n",
       "      <td>1</td>\n",
       "      <td>0</td>\n",
       "      <td>113803</td>\n",
       "      <td>53.1000</td>\n",
       "      <td>C123</td>\n",
       "      <td>S</td>\n",
       "    </tr>\n",
       "    <tr>\n",
       "      <th>4</th>\n",
       "      <td>5</td>\n",
       "      <td>0</td>\n",
       "      <td>3</td>\n",
       "      <td>Allen, Mr. William Henry</td>\n",
       "      <td>male</td>\n",
       "      <td>35.0</td>\n",
       "      <td>0</td>\n",
       "      <td>0</td>\n",
       "      <td>373450</td>\n",
       "      <td>8.0500</td>\n",
       "      <td>NaN</td>\n",
       "      <td>S</td>\n",
       "    </tr>\n",
       "  </tbody>\n",
       "</table>\n",
       "</div>"
      ],
      "text/plain": [
       "   PassengerId  Survived  Pclass  \\\n",
       "0            1         0       3   \n",
       "1            2         1       1   \n",
       "2            3         1       3   \n",
       "3            4         1       1   \n",
       "4            5         0       3   \n",
       "\n",
       "                                                Name     Sex   Age  SibSp  \\\n",
       "0                            Braund, Mr. Owen Harris    male  22.0      1   \n",
       "1  Cumings, Mrs. John Bradley (Florence Briggs Th...  female  38.0      1   \n",
       "2                             Heikkinen, Miss. Laina  female  26.0      0   \n",
       "3       Futrelle, Mrs. Jacques Heath (Lily May Peel)  female  35.0      1   \n",
       "4                           Allen, Mr. William Henry    male  35.0      0   \n",
       "\n",
       "   Parch            Ticket     Fare Cabin Embarked  \n",
       "0      0         A/5 21171   7.2500   NaN        S  \n",
       "1      0          PC 17599  71.2833   C85        C  \n",
       "2      0  STON/O2. 3101282   7.9250   NaN        S  \n",
       "3      0            113803  53.1000  C123        S  \n",
       "4      0            373450   8.0500   NaN        S  "
      ]
     },
     "execution_count": 6,
     "metadata": {},
     "output_type": "execute_result"
    }
   ],
   "source": [
    "train_df.head()"
   ]
  },
  {
   "cell_type": "code",
   "execution_count": 7,
   "id": "f03b2f45",
   "metadata": {},
   "outputs": [
    {
     "data": {
      "text/html": [
       "<div>\n",
       "<style scoped>\n",
       "    .dataframe tbody tr th:only-of-type {\n",
       "        vertical-align: middle;\n",
       "    }\n",
       "\n",
       "    .dataframe tbody tr th {\n",
       "        vertical-align: top;\n",
       "    }\n",
       "\n",
       "    .dataframe thead th {\n",
       "        text-align: right;\n",
       "    }\n",
       "</style>\n",
       "<table border=\"1\" class=\"dataframe\">\n",
       "  <thead>\n",
       "    <tr style=\"text-align: right;\">\n",
       "      <th></th>\n",
       "      <th>PassengerId</th>\n",
       "      <th>Survived</th>\n",
       "      <th>Pclass</th>\n",
       "      <th>Age</th>\n",
       "      <th>SibSp</th>\n",
       "      <th>Parch</th>\n",
       "      <th>Fare</th>\n",
       "    </tr>\n",
       "  </thead>\n",
       "  <tbody>\n",
       "    <tr>\n",
       "      <th>count</th>\n",
       "      <td>891.000000</td>\n",
       "      <td>891.000000</td>\n",
       "      <td>891.000000</td>\n",
       "      <td>714.000000</td>\n",
       "      <td>891.000000</td>\n",
       "      <td>891.000000</td>\n",
       "      <td>891.000000</td>\n",
       "    </tr>\n",
       "    <tr>\n",
       "      <th>mean</th>\n",
       "      <td>446.000000</td>\n",
       "      <td>0.383838</td>\n",
       "      <td>2.308642</td>\n",
       "      <td>29.699118</td>\n",
       "      <td>0.523008</td>\n",
       "      <td>0.381594</td>\n",
       "      <td>32.204208</td>\n",
       "    </tr>\n",
       "    <tr>\n",
       "      <th>std</th>\n",
       "      <td>257.353842</td>\n",
       "      <td>0.486592</td>\n",
       "      <td>0.836071</td>\n",
       "      <td>14.526497</td>\n",
       "      <td>1.102743</td>\n",
       "      <td>0.806057</td>\n",
       "      <td>49.693429</td>\n",
       "    </tr>\n",
       "    <tr>\n",
       "      <th>min</th>\n",
       "      <td>1.000000</td>\n",
       "      <td>0.000000</td>\n",
       "      <td>1.000000</td>\n",
       "      <td>0.420000</td>\n",
       "      <td>0.000000</td>\n",
       "      <td>0.000000</td>\n",
       "      <td>0.000000</td>\n",
       "    </tr>\n",
       "    <tr>\n",
       "      <th>25%</th>\n",
       "      <td>223.500000</td>\n",
       "      <td>0.000000</td>\n",
       "      <td>2.000000</td>\n",
       "      <td>20.125000</td>\n",
       "      <td>0.000000</td>\n",
       "      <td>0.000000</td>\n",
       "      <td>7.910400</td>\n",
       "    </tr>\n",
       "    <tr>\n",
       "      <th>50%</th>\n",
       "      <td>446.000000</td>\n",
       "      <td>0.000000</td>\n",
       "      <td>3.000000</td>\n",
       "      <td>28.000000</td>\n",
       "      <td>0.000000</td>\n",
       "      <td>0.000000</td>\n",
       "      <td>14.454200</td>\n",
       "    </tr>\n",
       "    <tr>\n",
       "      <th>75%</th>\n",
       "      <td>668.500000</td>\n",
       "      <td>1.000000</td>\n",
       "      <td>3.000000</td>\n",
       "      <td>38.000000</td>\n",
       "      <td>1.000000</td>\n",
       "      <td>0.000000</td>\n",
       "      <td>31.000000</td>\n",
       "    </tr>\n",
       "    <tr>\n",
       "      <th>max</th>\n",
       "      <td>891.000000</td>\n",
       "      <td>1.000000</td>\n",
       "      <td>3.000000</td>\n",
       "      <td>80.000000</td>\n",
       "      <td>8.000000</td>\n",
       "      <td>6.000000</td>\n",
       "      <td>512.329200</td>\n",
       "    </tr>\n",
       "  </tbody>\n",
       "</table>\n",
       "</div>"
      ],
      "text/plain": [
       "       PassengerId    Survived      Pclass         Age       SibSp  \\\n",
       "count   891.000000  891.000000  891.000000  714.000000  891.000000   \n",
       "mean    446.000000    0.383838    2.308642   29.699118    0.523008   \n",
       "std     257.353842    0.486592    0.836071   14.526497    1.102743   \n",
       "min       1.000000    0.000000    1.000000    0.420000    0.000000   \n",
       "25%     223.500000    0.000000    2.000000   20.125000    0.000000   \n",
       "50%     446.000000    0.000000    3.000000   28.000000    0.000000   \n",
       "75%     668.500000    1.000000    3.000000   38.000000    1.000000   \n",
       "max     891.000000    1.000000    3.000000   80.000000    8.000000   \n",
       "\n",
       "            Parch        Fare  \n",
       "count  891.000000  891.000000  \n",
       "mean     0.381594   32.204208  \n",
       "std      0.806057   49.693429  \n",
       "min      0.000000    0.000000  \n",
       "25%      0.000000    7.910400  \n",
       "50%      0.000000   14.454200  \n",
       "75%      0.000000   31.000000  \n",
       "max      6.000000  512.329200  "
      ]
     },
     "execution_count": 7,
     "metadata": {},
     "output_type": "execute_result"
    }
   ],
   "source": [
    "train_df.describe()"
   ]
  },
  {
   "cell_type": "code",
   "execution_count": 9,
   "id": "86fcf93b",
   "metadata": {},
   "outputs": [
    {
     "data": {
      "text/plain": [
       "PassengerId      int64\n",
       "Survived         int64\n",
       "Pclass           int64\n",
       "Name            object\n",
       "Sex             object\n",
       "Age            float64\n",
       "SibSp            int64\n",
       "Parch            int64\n",
       "Ticket          object\n",
       "Fare           float64\n",
       "Cabin           object\n",
       "Embarked        object\n",
       "dtype: object"
      ]
     },
     "execution_count": 9,
     "metadata": {},
     "output_type": "execute_result"
    }
   ],
   "source": [
    "# What are the data types\n",
    "train_df.dtypes"
   ]
  },
  {
   "cell_type": "code",
   "execution_count": 13,
   "id": "d5f8e2bb",
   "metadata": {},
   "outputs": [
    {
     "name": "stdout",
     "output_type": "stream",
     "text": [
      "Columns with missing values:  ['Age', 'Cabin', 'Embarked']\n",
      "Age : 177\n",
      "Cabin : 687\n",
      "Embarked : 2\n"
     ]
    }
   ],
   "source": [
    "# How many of each column are missing\n",
    "# get names of columsn with missing values\n",
    "\n",
    "cols_with_missing = [col for col in train_df.columns\n",
    "                    if train_df[col].isnull().any()]\n",
    "\n",
    "print('Columns with missing values: ', cols_with_missing)\n",
    "\n",
    "for x in cols_with_missing:\n",
    "    print(x, ':', train_df[x].isna().sum())"
   ]
  },
  {
   "cell_type": "markdown",
   "id": "d0b6e8c1",
   "metadata": {},
   "source": [
    "# Explore basic percentages and visuallization of datset"
   ]
  },
  {
   "cell_type": "code",
   "execution_count": 7,
   "id": "6d710e73",
   "metadata": {},
   "outputs": [
    {
     "name": "stdout",
     "output_type": "stream",
     "text": [
      "% of women who survived: 0.7420382165605095\n"
     ]
    }
   ],
   "source": [
    "# look at some simple percentages first\n",
    "\n",
    "women = train_df.loc[train_df.Sex == 'female']['Survived']\n",
    "rate_women = sum(women)/len(women)\n",
    "\n",
    "print('% of women who survived:', rate_women)"
   ]
  },
  {
   "cell_type": "code",
   "execution_count": 8,
   "id": "a8f4664c",
   "metadata": {},
   "outputs": [
    {
     "name": "stdout",
     "output_type": "stream",
     "text": [
      "% of men who survived: 0.18890814558058924\n"
     ]
    }
   ],
   "source": [
    "men = train_df.loc[train_df.Sex == 'male']['Survived']\n",
    "rate_men = sum(men)/len(men)\n",
    "\n",
    "print('% of men who survived:', rate_men)"
   ]
  },
  {
   "cell_type": "code",
   "execution_count": 9,
   "id": "96de3dee",
   "metadata": {},
   "outputs": [
    {
     "name": "stdout",
     "output_type": "stream",
     "text": [
      "% from C who survived: 0.5535714285714286\n",
      "% from Q who survived: 0.38961038961038963\n",
      "% from S who survived: 0.33695652173913043\n"
     ]
    }
   ],
   "source": [
    "# check embarked location: C, Q, S\n",
    "\n",
    "C_status = train_df.loc[train_df.Embarked == 'C']['Survived']\n",
    "rate_C = sum(C_status)/len(C_status)\n",
    "\n",
    "Q_status = train_df.loc[train_df.Embarked == 'Q']['Survived']\n",
    "rate_Q = sum(Q_status)/len(Q_status)\n",
    "\n",
    "S_status = train_df.loc[train_df.Embarked == 'S']['Survived']\n",
    "rate_S = sum(S_status)/len(S_status)\n",
    "\n",
    "print('% from C who survived:', rate_C)\n",
    "print('% from Q who survived:', rate_Q)\n",
    "print('% from S who survived:', rate_S)\n",
    "\n"
   ]
  },
  {
   "cell_type": "code",
   "execution_count": 10,
   "id": "ff9cddd1",
   "metadata": {},
   "outputs": [
    {
     "name": "stdout",
     "output_type": "stream",
     "text": [
      "% from 1 who survived: 0.6296296296296297\n",
      "% from 2 who survived: 0.47282608695652173\n",
      "% from 3 who survived: 0.24236252545824846\n"
     ]
    }
   ],
   "source": [
    "# check P class: 1, 2, 3\n",
    "\n",
    "status1 = train_df.loc[train_df.Pclass == 1]['Survived']\n",
    "rate_1 = sum(status1)/len(status1)\n",
    "\n",
    "    \n",
    "status2 = train_df.loc[train_df.Pclass == 2]['Survived']\n",
    "rate_2 = sum(status2)/len(status2)\n",
    "\n",
    "status3 = train_df.loc[train_df.Pclass == 3]['Survived']\n",
    "rate_3 = sum(status3)/len(status3)\n",
    "\n",
    "print('% from 1 who survived:', rate_1)\n",
    "print('% from 2 who survived:', rate_2)\n",
    "print('% from 3 who survived:', rate_3)"
   ]
  },
  {
   "cell_type": "code",
   "execution_count": 11,
   "id": "079752e7",
   "metadata": {},
   "outputs": [
    {
     "data": {
      "image/png": "[encoded data removed]",
      "text/plain": [
       "<Figure size 576x432 with 1 Axes>"
      ]
     },
     "metadata": {
      "needs_background": "light"
     },
     "output_type": "display_data"
    }
   ],
   "source": [
    "# Plot some percentages\n",
    "\n",
    "labels = ['Women', 'Men', 'C', 'Q', 'S', '1', '2', '3']\n",
    "percentages = [rate_women, rate_men, rate_C, rate_Q, rate_S, rate_1, rate_2, rate_3]\n",
    "bar_color = ['slategray', 'slategray', 'firebrick', 'firebrick', 'firebrick', 'skyblue', 'skyblue', 'skyblue']\n",
    "\n",
    "plt.figure(figsize=(8,6))\n",
    "plt.bar(labels,percentages,color = bar_color)\n",
    "plt.ylabel('Percent Surviving',fontsize=12)\n",
    "plt.xticks(fontsize=12)\n",
    "plt.yticks(fontsize=12)\n",
    "plt.show()"
   ]
  },
  {
   "cell_type": "markdown",
   "id": "68c39d20",
   "metadata": {},
   "source": [
    "# Break into training and validation data and run fandom forest classifier"
   ]
  },
  {
   "cell_type": "code",
   "execution_count": 15,
   "id": "7e394dbb",
   "metadata": {},
   "outputs": [
    {
     "data": {
      "text/plain": [
       "Index(['PassengerId', 'Survived', 'Pclass', 'Name', 'Sex', 'Age', 'SibSp',\n",
       "       'Parch', 'Ticket', 'Fare', 'Cabin', 'Embarked'],\n",
       "      dtype='object')"
      ]
     },
     "execution_count": 15,
     "metadata": {},
     "output_type": "execute_result"
    }
   ],
   "source": [
    "train_df.columns"
   ]
  },
  {
   "cell_type": "code",
   "execution_count": 16,
   "id": "200b55a6",
   "metadata": {},
   "outputs": [],
   "source": [
    "# Break training data into testing and training sets so we can test a random forest classifier\n",
    "\n",
    "# The columns we care about are Pclass[2], Sec[4], Age[5], SibSp[6], Parch[7], Fare[8], Embarked[10]\n",
    "\n",
    "# target we are looking for is 'Survived'\n",
    "y = train_df.Survived\n",
    "\n",
    "####\n",
    "# Age column is throwing nans, need to sort out why\n",
    "# Column with missing data\n",
    "# Age 177\n",
    "# Cabin 687\n",
    "# Embarked 2\n",
    "####\n",
    "\n",
    "# features = ['Pclass', 'Sex', 'SibSp', 'Age', 'Parch', 'Ticket', 'Fare', 'Cabin', 'Embarked']\n",
    "# this is all of the features\n",
    "\n",
    "features = ['Pclass', 'Sex', 'SibSp', 'Parch', 'Fare', 'Embarked', 'Age']\n",
    "#X = pd.get_dummies(train_df[features])\n",
    "X = train_df[features]\n",
    "#X_test = pd.get_dummies(test_df[features])\n",
    "\n",
    "\n",
    "X_train, X_valid, y_train, y_valid = train_test_split(X, y, test_size = 0.20, random_state = 1)\n",
    "\n",
    "\n",
    "# Apply ordinal encoder to each column with categorical data\n",
    "#object_cols = ['Sex', 'Embarked'] #select the categorical columns\n",
    "#ordinal_encoder = OrdinalEncoder()\n",
    "#label_X_train[object_cols] = ordinal_encoder.fit_transform(X_train[object_cols])\n",
    "#label_X_valid[object_cols] = ordinal_encoder.transform(X_valid[object_cols])\n",
    "\n",
    "#apply one-hot encoder to each column with categorical data\n",
    "object_cols = ['Sex', 'Embarked'] #select the categorical columns\n",
    "oh_encoder = OneHotEncoder(handle_unknown='ignore', sparse=False)\n",
    "oh_cols_train = pd.DataFrame(oh_encoder.fit_transform(X_train[object_cols]))\n",
    "oh_cols_valid = pd.DataFrame(oh_encoder.transform(X_valid[object_cols]))\n",
    "\n",
    "# one hot encoding removed the index, put it back\n",
    "oh_cols_train.index = X_train.index\n",
    "oh_cols_valid.index = X_valid.index\n",
    "\n",
    "# remove categorical colums (will replace with oh encoding)\n",
    "num_X_train = X_train.drop(object_cols, axis = 1)\n",
    "num_X_valid = X_valid.drop(object_cols, axis = 1)\n",
    "\n",
    "# add oh encoded columns to numerical features\n",
    "oh_X_train = pd.concat([num_X_train, oh_cols_train], axis = 1)\n",
    "oh_X_valid = pd.concat([num_X_valid, oh_cols_valid], axis = 1)\n",
    "\n",
    "\n",
    "#Impute any missing values\n",
    "# imputation\n",
    "my_imputer = SimpleImputer(strategy='most_frequent')\n",
    "imputed_X_train = pd.DataFrame(my_imputer.fit_transform(oh_X_train))\n",
    "imputed_X_valid = pd.DataFrame(my_imputer.transform(oh_X_valid))\n",
    "\n",
    "# imputation removed column names; put them back\n",
    "imputed_X_train.columns = oh_X_train.columns\n",
    "imputed_X_valid.columns = oh_X_valid.columns\n",
    "\n"
   ]
  },
  {
   "cell_type": "code",
   "execution_count": 54,
   "id": "805ee0f9",
   "metadata": {},
   "outputs": [
    {
     "name": "stdout",
     "output_type": "stream",
     "text": [
      "   Pclass  SibSp  Parch     Fare   Age    0    1    2    3    4    5\n",
      "0     3.0    2.0    0.0  23.2500  24.0  0.0  1.0  0.0  1.0  0.0  0.0\n",
      "1     1.0    0.0    0.0  56.9292  30.0  1.0  0.0  1.0  0.0  0.0  0.0\n",
      "2     2.0    0.0    0.0  10.5000  34.0  1.0  0.0  0.0  0.0  1.0  0.0\n",
      "3     2.0    2.0    0.0  73.5000  21.0  0.0  1.0  0.0  0.0  1.0  0.0\n",
      "4     2.0    0.0    0.0  10.5000  62.0  0.0  1.0  0.0  0.0  1.0  0.0\n"
     ]
    }
   ],
   "source": [
    "#print(X_train[X_train.isnull().any(axis=1)])\n",
    "print(imputed_X_train.head())"
   ]
  },
  {
   "cell_type": "code",
   "execution_count": 24,
   "id": "988112c5",
   "metadata": {},
   "outputs": [
    {
     "data": {
      "text/plain": [
       "DecisionTreeRegressor(random_state=19)"
      ]
     },
     "execution_count": 24,
     "metadata": {},
     "output_type": "execute_result"
    }
   ],
   "source": [
    "# Run a decision tree regressor\n",
    "# Build the model\n",
    "\n",
    "# define the model. \n",
    "titanic_model = DecisionTreeRegressor(random_state = 19)\n",
    "\n",
    "# fit model\n",
    "titanic_model.fit(imputed_X_train, y_train)"
   ]
  },
  {
   "cell_type": "code",
   "execution_count": 55,
   "id": "86e56e47",
   "metadata": {},
   "outputs": [],
   "source": [
    "# Run a random forest classifier\n",
    "\n",
    "model = RandomForestClassifier(n_estimators=200, max_depth=15, random_state=1)\n",
    "model.fit(imputed_X_train,y_train)\n",
    "predictions = model.predict(imputed_X_valid)"
   ]
  },
  {
   "cell_type": "code",
   "execution_count": 56,
   "id": "370ed23e",
   "metadata": {},
   "outputs": [
    {
     "name": "stdout",
     "output_type": "stream",
     "text": [
      "0.8044692737430168\n",
      "[[96 10]\n",
      " [25 48]]\n",
      "0.732824427480916\n"
     ]
    }
   ],
   "source": [
    "# check these predictions\n",
    "# have 891 rows for people on boat\n",
    "# test size is 20 percent, or 178\n",
    "\n",
    "print(metrics.accuracy_score(y_valid, predictions))\n",
    "\n",
    "#print(metrics.classification_report(Y_validation, predictions))\n",
    "print(metrics.confusion_matrix(y_valid , predictions))\n",
    "print(metrics.f1_score(y_valid , predictions))\n"
   ]
  },
  {
   "cell_type": "code",
   "execution_count": null,
   "id": "cd82457c",
   "metadata": {},
   "outputs": [],
   "source": []
  },
  {
   "cell_type": "code",
   "execution_count": 57,
   "id": "003e3ced",
   "metadata": {},
   "outputs": [
    {
     "data": {
      "image/png": "[encoded data removed]",
      "text/plain": [
       "<Figure size 576x432 with 1 Axes>"
      ]
     },
     "metadata": {
      "needs_background": "light"
     },
     "output_type": "display_data"
    }
   ],
   "source": [
    "# visualize the importance of different features\n",
    "feature_imp = pd.Series(model.feature_importances_,index=imputed_X_train.columns).sort_values(ascending=False)\n",
    "\n",
    "#print(feature_imp[:])\n",
    "#print(feature_imp.index.map(str))\n",
    "\n",
    "plt.figure(figsize=(8,6))\n",
    "plt.barh(feature_imp.index.map(str),feature_imp[:],color = 'slategray', align='center')\n",
    "plt.xlim((0,1))\n",
    "plt.xticks(fontsize=12)\n",
    "plt.xticks(fontsize=12)\n",
    "plt.show()"
   ]
  },
  {
   "cell_type": "code",
   "execution_count": null,
   "id": "9153abf8",
   "metadata": {},
   "outputs": [],
   "source": []
  },
  {
   "cell_type": "code",
   "execution_count": null,
   "id": "c117e35b",
   "metadata": {},
   "outputs": [],
   "source": []
  },
  {
   "cell_type": "code",
   "execution_count": null,
   "id": "35698949",
   "metadata": {},
   "outputs": [],
   "source": []
  },
  {
   "cell_type": "code",
   "execution_count": null,
   "id": "e1226d08",
   "metadata": {},
   "outputs": [],
   "source": [
    "# set up a pipeline to run this automatically"
   ]
  },
  {
   "cell_type": "code",
   "execution_count": 10,
   "id": "e45e5eee",
   "metadata": {},
   "outputs": [],
   "source": [
    "# Select categorical columns with relatively low cardinality (convenient but arbitrary)\n",
    "categorical_cols = [cname for cname in X_train.columns if X_train[cname].nunique() < 10 and \n",
    "                        X_train[cname].dtype == \"object\"]\n",
    "\n",
    "# Select numerical columns\n",
    "numerical_cols = [cname for cname in X_train.columns if X_train[cname].dtype in ['int64', 'float64']]"
   ]
  },
  {
   "cell_type": "code",
   "execution_count": 11,
   "id": "7fe417ed",
   "metadata": {},
   "outputs": [],
   "source": [
    "# preprocessing for numerical data\n",
    "numerical_transformer = SimpleImputer(strategy='most_frequent')\n",
    "\n",
    "# preprocessing for categorical data\n",
    "categorical_transformer = Pipeline(steps = [\n",
    "    ('imputer', SimpleImputer(strategy='most_frequent')),\n",
    "    ('onehot', OneHotEncoder(handle_unknown='ignore'))\n",
    "])\n",
    "\n",
    "# bundle preprocessing for numerical and categorical data\n",
    "preprocessor = ColumnTransformer(\n",
    "    transformers = [\n",
    "        ('num', numerical_transformer, numerical_cols),\n",
    "        ('cat', categorical_transformer, categorical_cols)\n",
    "    ])"
   ]
  },
  {
   "cell_type": "code",
   "execution_count": 12,
   "id": "8ad48988",
   "metadata": {},
   "outputs": [],
   "source": [
    "# define the model\n",
    "\n",
    "model = RandomForestClassifier(n_estimators=350, max_depth=8, random_state=1)"
   ]
  },
  {
   "cell_type": "code",
   "execution_count": 18,
   "id": "8faf2ee7",
   "metadata": {},
   "outputs": [
    {
     "name": "stdout",
     "output_type": "stream",
     "text": [
      "0.776536312849162\n"
     ]
    }
   ],
   "source": [
    "# bundle preprocessing and moedling code in a pipeline\n",
    "my_pipeline = Pipeline(steps=[('preprocessor', preprocessor),\n",
    "                             ('model', RandomForestClassifier())])\n",
    "\n",
    "# preprocessing of training data, fit mode\n",
    "my_pipeline.fit(X_train, y_train)\n",
    "\n",
    "# preprocessing of validation data, get predictions\n",
    "preds = my_pipeline.predict(X_valid)\n",
    "\n",
    "\n",
    "print(metrics.accuracy_score(y_valid, preds))\n"
   ]
  },
  {
   "cell_type": "code",
   "execution_count": 86,
   "id": "aeb3952e",
   "metadata": {},
   "outputs": [],
   "source": [
    "# define a function so we can determine the best number of estimators\n",
    "def get_score(n_estimators):\n",
    "    \n",
    "    my_pipeline = Pipeline(steps=[('preprocessor', preprocessor),\n",
    "                             ('model', RandomForestClassifier(n_estimators= 350, max_depth= n_estimators,\n",
    "                                                             random_state=1))])\n",
    "    \n",
    "    score = cross_val_score(my_pipeline, X_train, y_train,\n",
    "                           cv = 3,\n",
    "                           scoring= 'accuracy')\n",
    "    \n",
    "    return(score.mean())"
   ]
  },
  {
   "cell_type": "code",
   "execution_count": 91,
   "id": "0d7df47b",
   "metadata": {},
   "outputs": [],
   "source": [
    "results = {}\n",
    "for i in range(1,12):\n",
    "    results[i] = get_score(i)\n",
    "    \n",
    "# 350 is a good number of estimators\n",
    "# 8 is a good max_depth"
   ]
  },
  {
   "cell_type": "code",
   "execution_count": 92,
   "id": "e7a694eb",
   "metadata": {},
   "outputs": [
    {
     "data": {
      "image/png": "[encoded data removed]",
      "text/plain": [
       "<Figure size 432x288 with 1 Axes>"
      ]
     },
     "metadata": {
      "needs_background": "light"
     },
     "output_type": "display_data"
    }
   ],
   "source": [
    "plt.plot(list(results.keys()), list(results.values()))\n",
    "plt.show()"
   ]
  },
  {
   "cell_type": "code",
   "execution_count": 56,
   "id": "08d0a6fc",
   "metadata": {},
   "outputs": [
    {
     "name": "stdout",
     "output_type": "stream",
     "text": [
      "{'rf__max_depth': 9, 'rf__n_estimators': 50}\n"
     ]
    }
   ],
   "source": [
    "# try using a grid search\n",
    "\n",
    "# define the pipeline\n",
    "my_pipeline = Pipeline(steps=[('preprocessor', preprocessor),\n",
    "                             ('rf', RandomForestClassifier())])\n",
    "\n",
    "# define the parameters\n",
    "parameters = {'rf__n_estimators':[50,100, 150, 200, 250, 300, 350, 400],\n",
    "             'rf__max_depth':[3,6,9,12,15]}\n",
    "\n",
    "grid_pipeline = GridSearchCV(my_pipeline, parameters,scoring='f1')\n",
    "#print(grid_pipeline.get_params().keys())\n",
    "\n",
    "grid_pipeline.fit(X_train, y_train)\n",
    "\n",
    "print(grid_pipeline.best_params_)\n",
    "#print(grid_pipeline.cv_results_)"
   ]
  },
  {
   "cell_type": "code",
   "execution_count": 57,
   "id": "edbfa643",
   "metadata": {},
   "outputs": [
    {
     "data": {
      "text/html": [
       "<div>\n",
       "<style scoped>\n",
       "    .dataframe tbody tr th:only-of-type {\n",
       "        vertical-align: middle;\n",
       "    }\n",
       "\n",
       "    .dataframe tbody tr th {\n",
       "        vertical-align: top;\n",
       "    }\n",
       "\n",
       "    .dataframe thead th {\n",
       "        text-align: right;\n",
       "    }\n",
       "</style>\n",
       "<table border=\"1\" class=\"dataframe\">\n",
       "  <thead>\n",
       "    <tr style=\"text-align: right;\">\n",
       "      <th></th>\n",
       "      <th>mean_fit_time</th>\n",
       "      <th>std_fit_time</th>\n",
       "      <th>mean_score_time</th>\n",
       "      <th>std_score_time</th>\n",
       "      <th>param_rf__max_depth</th>\n",
       "      <th>param_rf__n_estimators</th>\n",
       "      <th>params</th>\n",
       "      <th>split0_test_score</th>\n",
       "      <th>split1_test_score</th>\n",
       "      <th>split2_test_score</th>\n",
       "      <th>split3_test_score</th>\n",
       "      <th>split4_test_score</th>\n",
       "      <th>mean_test_score</th>\n",
       "      <th>std_test_score</th>\n",
       "      <th>rank_test_score</th>\n",
       "    </tr>\n",
       "  </thead>\n",
       "  <tbody>\n",
       "    <tr>\n",
       "      <th>0</th>\n",
       "      <td>0.051933</td>\n",
       "      <td>0.024868</td>\n",
       "      <td>0.005454</td>\n",
       "      <td>0.000570</td>\n",
       "      <td>3</td>\n",
       "      <td>50</td>\n",
       "      <td>{'rf__max_depth': 3, 'rf__n_estimators': 50}</td>\n",
       "      <td>0.672897</td>\n",
       "      <td>0.688172</td>\n",
       "      <td>0.783505</td>\n",
       "      <td>0.838095</td>\n",
       "      <td>0.701031</td>\n",
       "      <td>0.736740</td>\n",
       "      <td>0.063513</td>\n",
       "      <td>39</td>\n",
       "    </tr>\n",
       "    <tr>\n",
       "      <th>1</th>\n",
       "      <td>0.073924</td>\n",
       "      <td>0.000550</td>\n",
       "      <td>0.007387</td>\n",
       "      <td>0.000086</td>\n",
       "      <td>3</td>\n",
       "      <td>100</td>\n",
       "      <td>{'rf__max_depth': 3, 'rf__n_estimators': 100}</td>\n",
       "      <td>0.672897</td>\n",
       "      <td>0.702128</td>\n",
       "      <td>0.770833</td>\n",
       "      <td>0.803922</td>\n",
       "      <td>0.707071</td>\n",
       "      <td>0.731370</td>\n",
       "      <td>0.048344</td>\n",
       "      <td>40</td>\n",
       "    </tr>\n",
       "    <tr>\n",
       "      <th>2</th>\n",
       "      <td>0.109387</td>\n",
       "      <td>0.001419</td>\n",
       "      <td>0.009775</td>\n",
       "      <td>0.000282</td>\n",
       "      <td>3</td>\n",
       "      <td>150</td>\n",
       "      <td>{'rf__max_depth': 3, 'rf__n_estimators': 150}</td>\n",
       "      <td>0.673077</td>\n",
       "      <td>0.723404</td>\n",
       "      <td>0.787879</td>\n",
       "      <td>0.815534</td>\n",
       "      <td>0.720000</td>\n",
       "      <td>0.743979</td>\n",
       "      <td>0.051133</td>\n",
       "      <td>34</td>\n",
       "    </tr>\n",
       "    <tr>\n",
       "      <th>3</th>\n",
       "      <td>0.143688</td>\n",
       "      <td>0.000786</td>\n",
       "      <td>0.012245</td>\n",
       "      <td>0.000216</td>\n",
       "      <td>3</td>\n",
       "      <td>200</td>\n",
       "      <td>{'rf__max_depth': 3, 'rf__n_estimators': 200}</td>\n",
       "      <td>0.672897</td>\n",
       "      <td>0.723404</td>\n",
       "      <td>0.803922</td>\n",
       "      <td>0.826923</td>\n",
       "      <td>0.720000</td>\n",
       "      <td>0.749429</td>\n",
       "      <td>0.057228</td>\n",
       "      <td>33</td>\n",
       "    </tr>\n",
       "    <tr>\n",
       "      <th>4</th>\n",
       "      <td>0.174366</td>\n",
       "      <td>0.000671</td>\n",
       "      <td>0.013933</td>\n",
       "      <td>0.000182</td>\n",
       "      <td>3</td>\n",
       "      <td>250</td>\n",
       "      <td>{'rf__max_depth': 3, 'rf__n_estimators': 250}</td>\n",
       "      <td>0.660377</td>\n",
       "      <td>0.695652</td>\n",
       "      <td>0.787879</td>\n",
       "      <td>0.834951</td>\n",
       "      <td>0.732673</td>\n",
       "      <td>0.742307</td>\n",
       "      <td>0.062677</td>\n",
       "      <td>35</td>\n",
       "    </tr>\n",
       "  </tbody>\n",
       "</table>\n",
       "</div>"
      ],
      "text/plain": [
       "   mean_fit_time  std_fit_time  mean_score_time  std_score_time  \\\n",
       "0       0.051933      0.024868         0.005454        0.000570   \n",
       "1       0.073924      0.000550         0.007387        0.000086   \n",
       "2       0.109387      0.001419         0.009775        0.000282   \n",
       "3       0.143688      0.000786         0.012245        0.000216   \n",
       "4       0.174366      0.000671         0.013933        0.000182   \n",
       "\n",
       "  param_rf__max_depth param_rf__n_estimators  \\\n",
       "0                   3                     50   \n",
       "1                   3                    100   \n",
       "2                   3                    150   \n",
       "3                   3                    200   \n",
       "4                   3                    250   \n",
       "\n",
       "                                          params  split0_test_score  \\\n",
       "0   {'rf__max_depth': 3, 'rf__n_estimators': 50}           0.672897   \n",
       "1  {'rf__max_depth': 3, 'rf__n_estimators': 100}           0.672897   \n",
       "2  {'rf__max_depth': 3, 'rf__n_estimators': 150}           0.673077   \n",
       "3  {'rf__max_depth': 3, 'rf__n_estimators': 200}           0.672897   \n",
       "4  {'rf__max_depth': 3, 'rf__n_estimators': 250}           0.660377   \n",
       "\n",
       "   split1_test_score  split2_test_score  split3_test_score  split4_test_score  \\\n",
       "0           0.688172           0.783505           0.838095           0.701031   \n",
       "1           0.702128           0.770833           0.803922           0.707071   \n",
       "2           0.723404           0.787879           0.815534           0.720000   \n",
       "3           0.723404           0.803922           0.826923           0.720000   \n",
       "4           0.695652           0.787879           0.834951           0.732673   \n",
       "\n",
       "   mean_test_score  std_test_score  rank_test_score  \n",
       "0         0.736740        0.063513               39  \n",
       "1         0.731370        0.048344               40  \n",
       "2         0.743979        0.051133               34  \n",
       "3         0.749429        0.057228               33  \n",
       "4         0.742307        0.062677               35  "
      ]
     },
     "execution_count": 57,
     "metadata": {},
     "output_type": "execute_result"
    }
   ],
   "source": [
    "grid_search_results = pd.DataFrame.from_dict(grid_pipeline.cv_results_)\n",
    "grid_search_results.head()\n",
    "#sns.heatmap(grid_search_results, annot = True)"
   ]
  },
  {
   "cell_type": "code",
   "execution_count": 58,
   "id": "f74fb877",
   "metadata": {},
   "outputs": [
    {
     "data": {
      "text/plain": [
       "<AxesSubplot:xlabel='param_rf__n_estimators', ylabel='param_rf__max_depth'>"
      ]
     },
     "execution_count": 58,
     "metadata": {},
     "output_type": "execute_result"
    },
    {
     "data": {
      "image/png": "[encoded data removed]",
      "text/plain": [
       "<Figure size 432x288 with 2 Axes>"
      ]
     },
     "metadata": {
      "needs_background": "light"
     },
     "output_type": "display_data"
    }
   ],
   "source": [
    "heatmap_data = pd.pivot_table(grid_search_results, values='mean_test_score',\n",
    "                             index=['param_rf__max_depth'],\n",
    "                             columns='param_rf__n_estimators')\n",
    "\n",
    "sns.heatmap(heatmap_data, annot = True, cmap='viridis')"
   ]
  },
  {
   "cell_type": "markdown",
   "id": "e70b82af",
   "metadata": {},
   "source": [
    "# K-means clustering"
   ]
  },
  {
   "cell_type": "code",
   "execution_count": 5,
   "id": "29c3c022",
   "metadata": {},
   "outputs": [
    {
     "data": {
      "text/plain": [
       "Index(['PassengerId', 'Survived', 'Pclass', 'Name', 'Sex', 'Age', 'SibSp',\n",
       "       'Parch', 'Ticket', 'Fare', 'Cabin', 'Embarked'],\n",
       "      dtype='object')"
      ]
     },
     "execution_count": 5,
     "metadata": {},
     "output_type": "execute_result"
    }
   ],
   "source": [
    "train_df.columns"
   ]
  },
  {
   "cell_type": "code",
   "execution_count": 7,
   "id": "540638aa",
   "metadata": {},
   "outputs": [],
   "source": [
    "features = ['Pclass', 'SibSp', 'Fare']\n",
    "\n",
    "# standardize\n",
    "df_scaled = train_df.loc[:, features]\n",
    "df_scaled = (df_scaled - df_scaled.mean(axis=0)) / df_scaled.std(axis=0)\n",
    "\n",
    "kmeans = KMeans(n_clusters = 3,n_init=10, random_state=0)\n",
    "train_df['cluster'] = kmeans.fit_predict(df_scaled)"
   ]
  },
  {
   "cell_type": "code",
   "execution_count": 11,
   "id": "36517b33",
   "metadata": {},
   "outputs": [
    {
     "data": {
      "text/plain": [
       "<seaborn.axisgrid.FacetGrid at 0x7fc4e1de92b0>"
      ]
     },
     "execution_count": 11,
     "metadata": {},
     "output_type": "execute_result"
    },
    {
     "data": {
      "image/png": "[encoded data removed]",
      "text/plain": [
       "<Figure size 474.375x432 with 1 Axes>"
      ]
     },
     "metadata": {
      "needs_background": "light"
     },
     "output_type": "display_data"
    }
   ],
   "source": [
    "sns.relplot(x='SibSp', y = 'Pclass', hue='cluster', data=train_df, height = 6)"
   ]
  },
  {
   "cell_type": "code",
   "execution_count": 12,
   "id": "229d37bb",
   "metadata": {},
   "outputs": [
    {
     "data": {
      "text/plain": [
       "<seaborn.axisgrid.FacetGrid at 0x7fc4e1037d30>"
      ]
     },
     "execution_count": 12,
     "metadata": {},
     "output_type": "execute_result"
    },
    {
     "data": {
      "image/png": "[encoded data removed]",
      "text/plain": [
       "<Figure size 432x432 with 1 Axes>"
      ]
     },
     "metadata": {
      "needs_background": "light"
     },
     "output_type": "display_data"
    }
   ],
   "source": [
    "sns.catplot(x='Survived', y='cluster', data=train_df, kind='boxen', height=6)"
   ]
  },
  {
   "cell_type": "code",
   "execution_count": null,
   "id": "f7a00112",
   "metadata": {},
   "outputs": [],
   "source": []
  }
 ],
 "metadata": {
  "kernelspec": {
   "display_name": "Python 3",
   "language": "python",
   "name": "python3"
  },
  "language_info": {
   "codemirror_mode": {
    "name": "ipython",
    "version": 3
   },
   "file_extension": ".py",
   "mimetype": "text/x-python",
   "name": "python",
   "nbconvert_exporter": "python",
   "pygments_lexer": "ipython3",
   "version": "3.8.8"
  }
 },
 "nbformat": 4,
 "nbformat_minor": 5
}
