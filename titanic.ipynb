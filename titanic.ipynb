{
 "cells": [
  {
   "cell_type": "markdown",
   "id": "5756cb5f",
   "metadata": {},
   "source": [
    "# Titanic Data set\n",
    "From Kaggle Titanic - ML from Disaster competition"
   ]
  },
  {
   "cell_type": "code",
   "execution_count": 41,
   "id": "9d791dd2",
   "metadata": {},
   "outputs": [],
   "source": [
    "import pandas as pd\n",
    "import numpy as np\n",
    "import matplotlib.pyplot as plt\n",
    "from sklearn.ensemble import RandomForestClassifier\n",
    "from sklearn.model_selection import train_test_split\n"
   ]
  },
  {
   "cell_type": "markdown",
   "id": "6c7d86ea",
   "metadata": {},
   "source": [
    "Data dictionary\n",
    "\n",
    "Variable\tDefinition\tKey\n",
    "survival\tSurvival\t0 = No, 1 = Yes\n",
    "pclass\tTicket class\t1 = 1st, 2 = 2nd, 3 = 3rd\n",
    "\n",
    "\n",
    "sex\tSex\t\n",
    "Age\tAge in years\t\n",
    "sibsp\t# of siblings / spouses aboard the Titanic\t\n",
    "parch\t# of parents / children aboard the Titanic\t\n",
    "ticket\tTicket number\t\n",
    "fare\tPassenger fare\t\n",
    "cabin\tCabin number\t\n",
    "embarked\tPort of Embarkation\tC = Cherbourg, Q = Queenstown, S = Southampton\n",
    "\n",
    "\n",
    "pclass: A proxy for socio-economic status (SES)\n",
    "1st = Upper\n",
    "2nd = Middle\n",
    "3rd = Lower\n",
    "\n",
    "age: Age is fractional if less than 1. If the age is estimated, is it in the form of xx.5\n",
    "\n",
    "sibsp: The dataset defines family relations in this way...\n",
    "Sibling = brother, sister, stepbrother, stepsister\n",
    "Spouse = husband, wife (mistresses and fiancés were ignored)\n",
    "\n",
    "parch: The dataset defines family relations in this way...\n",
    "Parent = mother, father\n",
    "Child = daughter, son, stepdaughter, stepson\n",
    "Some children travelled only with a nanny, therefore parch=0 for them."
   ]
  },
  {
   "cell_type": "code",
   "execution_count": 2,
   "id": "1998c4a0",
   "metadata": {},
   "outputs": [],
   "source": [
    "# import the training and testing data set\n",
    "\n",
    "filename = 'train.csv'\n",
    "\n",
    "train_df = pd.read_csv(filename)\n",
    "\n",
    "filename2 = 'test.csv'\n",
    "\n",
    "test_df = pd.read_csv(filename2)\n"
   ]
  },
  {
   "cell_type": "code",
   "execution_count": 3,
   "id": "d153fb53",
   "metadata": {},
   "outputs": [
    {
     "data": {
      "text/plain": [
       "Index(['PassengerId', 'Survived', 'Pclass', 'Name', 'Sex', 'Age', 'SibSp',\n",
       "       'Parch', 'Ticket', 'Fare', 'Cabin', 'Embarked'],\n",
       "      dtype='object')"
      ]
     },
     "execution_count": 3,
     "metadata": {},
     "output_type": "execute_result"
    }
   ],
   "source": [
    "train_df.columns"
   ]
  },
  {
   "cell_type": "code",
   "execution_count": 4,
   "id": "6ee91826",
   "metadata": {},
   "outputs": [
    {
     "data": {
      "text/plain": [
       "(891, 12)"
      ]
     },
     "execution_count": 4,
     "metadata": {},
     "output_type": "execute_result"
    }
   ],
   "source": [
    "train_df.shape"
   ]
  },
  {
   "cell_type": "code",
   "execution_count": 5,
   "id": "32766432",
   "metadata": {},
   "outputs": [
    {
     "data": {
      "text/html": [
       "<div>\n",
       "<style scoped>\n",
       "    .dataframe tbody tr th:only-of-type {\n",
       "        vertical-align: middle;\n",
       "    }\n",
       "\n",
       "    .dataframe tbody tr th {\n",
       "        vertical-align: top;\n",
       "    }\n",
       "\n",
       "    .dataframe thead th {\n",
       "        text-align: right;\n",
       "    }\n",
       "</style>\n",
       "<table border=\"1\" class=\"dataframe\">\n",
       "  <thead>\n",
       "    <tr style=\"text-align: right;\">\n",
       "      <th></th>\n",
       "      <th>PassengerId</th>\n",
       "      <th>Survived</th>\n",
       "      <th>Pclass</th>\n",
       "      <th>Name</th>\n",
       "      <th>Sex</th>\n",
       "      <th>Age</th>\n",
       "      <th>SibSp</th>\n",
       "      <th>Parch</th>\n",
       "      <th>Ticket</th>\n",
       "      <th>Fare</th>\n",
       "      <th>Cabin</th>\n",
       "      <th>Embarked</th>\n",
       "    </tr>\n",
       "  </thead>\n",
       "  <tbody>\n",
       "    <tr>\n",
       "      <th>0</th>\n",
       "      <td>1</td>\n",
       "      <td>0</td>\n",
       "      <td>3</td>\n",
       "      <td>Braund, Mr. Owen Harris</td>\n",
       "      <td>male</td>\n",
       "      <td>22.0</td>\n",
       "      <td>1</td>\n",
       "      <td>0</td>\n",
       "      <td>A/5 21171</td>\n",
       "      <td>7.2500</td>\n",
       "      <td>NaN</td>\n",
       "      <td>S</td>\n",
       "    </tr>\n",
       "    <tr>\n",
       "      <th>1</th>\n",
       "      <td>2</td>\n",
       "      <td>1</td>\n",
       "      <td>1</td>\n",
       "      <td>Cumings, Mrs. John Bradley (Florence Briggs Th...</td>\n",
       "      <td>female</td>\n",
       "      <td>38.0</td>\n",
       "      <td>1</td>\n",
       "      <td>0</td>\n",
       "      <td>PC 17599</td>\n",
       "      <td>71.2833</td>\n",
       "      <td>C85</td>\n",
       "      <td>C</td>\n",
       "    </tr>\n",
       "    <tr>\n",
       "      <th>2</th>\n",
       "      <td>3</td>\n",
       "      <td>1</td>\n",
       "      <td>3</td>\n",
       "      <td>Heikkinen, Miss. Laina</td>\n",
       "      <td>female</td>\n",
       "      <td>26.0</td>\n",
       "      <td>0</td>\n",
       "      <td>0</td>\n",
       "      <td>STON/O2. 3101282</td>\n",
       "      <td>7.9250</td>\n",
       "      <td>NaN</td>\n",
       "      <td>S</td>\n",
       "    </tr>\n",
       "    <tr>\n",
       "      <th>3</th>\n",
       "      <td>4</td>\n",
       "      <td>1</td>\n",
       "      <td>1</td>\n",
       "      <td>Futrelle, Mrs. Jacques Heath (Lily May Peel)</td>\n",
       "      <td>female</td>\n",
       "      <td>35.0</td>\n",
       "      <td>1</td>\n",
       "      <td>0</td>\n",
       "      <td>113803</td>\n",
       "      <td>53.1000</td>\n",
       "      <td>C123</td>\n",
       "      <td>S</td>\n",
       "    </tr>\n",
       "    <tr>\n",
       "      <th>4</th>\n",
       "      <td>5</td>\n",
       "      <td>0</td>\n",
       "      <td>3</td>\n",
       "      <td>Allen, Mr. William Henry</td>\n",
       "      <td>male</td>\n",
       "      <td>35.0</td>\n",
       "      <td>0</td>\n",
       "      <td>0</td>\n",
       "      <td>373450</td>\n",
       "      <td>8.0500</td>\n",
       "      <td>NaN</td>\n",
       "      <td>S</td>\n",
       "    </tr>\n",
       "  </tbody>\n",
       "</table>\n",
       "</div>"
      ],
      "text/plain": [
       "   PassengerId  Survived  Pclass  \\\n",
       "0            1         0       3   \n",
       "1            2         1       1   \n",
       "2            3         1       3   \n",
       "3            4         1       1   \n",
       "4            5         0       3   \n",
       "\n",
       "                                                Name     Sex   Age  SibSp  \\\n",
       "0                            Braund, Mr. Owen Harris    male  22.0      1   \n",
       "1  Cumings, Mrs. John Bradley (Florence Briggs Th...  female  38.0      1   \n",
       "2                             Heikkinen, Miss. Laina  female  26.0      0   \n",
       "3       Futrelle, Mrs. Jacques Heath (Lily May Peel)  female  35.0      1   \n",
       "4                           Allen, Mr. William Henry    male  35.0      0   \n",
       "\n",
       "   Parch            Ticket     Fare Cabin Embarked  \n",
       "0      0         A/5 21171   7.2500   NaN        S  \n",
       "1      0          PC 17599  71.2833   C85        C  \n",
       "2      0  STON/O2. 3101282   7.9250   NaN        S  \n",
       "3      0            113803  53.1000  C123        S  \n",
       "4      0            373450   8.0500   NaN        S  "
      ]
     },
     "execution_count": 5,
     "metadata": {},
     "output_type": "execute_result"
    }
   ],
   "source": [
    "train_df.head()"
   ]
  },
  {
   "cell_type": "code",
   "execution_count": 6,
   "id": "6d710e73",
   "metadata": {},
   "outputs": [
    {
     "name": "stdout",
     "output_type": "stream",
     "text": [
      "% of women who survived: 0.7420382165605095\n"
     ]
    }
   ],
   "source": [
    "# look at some simple percentages first\n",
    "\n",
    "women = train_df.loc[train_df.Sex == 'female']['Survived']\n",
    "rate_women = sum(women)/len(women)\n",
    "\n",
    "print('% of women who survived:', rate_women)"
   ]
  },
  {
   "cell_type": "code",
   "execution_count": 7,
   "id": "a8f4664c",
   "metadata": {},
   "outputs": [
    {
     "name": "stdout",
     "output_type": "stream",
     "text": [
      "% of men who survived: 0.18890814558058924\n"
     ]
    }
   ],
   "source": [
    "men = train_df.loc[train_df.Sex == 'male']['Survived']\n",
    "rate_men = sum(men)/len(men)\n",
    "\n",
    "print('% of men who survived:', rate_men)"
   ]
  },
  {
   "cell_type": "code",
   "execution_count": 8,
   "id": "96de3dee",
   "metadata": {},
   "outputs": [
    {
     "name": "stdout",
     "output_type": "stream",
     "text": [
      "% from C who survived: 0.5535714285714286\n",
      "% from Q who survived: 0.38961038961038963\n",
      "% from S who survived: 0.33695652173913043\n"
     ]
    }
   ],
   "source": [
    "# check embarked location: C, Q, S\n",
    "\n",
    "C_status = train_df.loc[train_df.Embarked == 'C']['Survived']\n",
    "rate_C = sum(C_status)/len(C_status)\n",
    "\n",
    "Q_status = train_df.loc[train_df.Embarked == 'Q']['Survived']\n",
    "rate_Q = sum(Q_status)/len(Q_status)\n",
    "\n",
    "S_status = train_df.loc[train_df.Embarked == 'S']['Survived']\n",
    "rate_S = sum(S_status)/len(S_status)\n",
    "\n",
    "print('% from C who survived:', rate_C)\n",
    "print('% from Q who survived:', rate_Q)\n",
    "print('% from S who survived:', rate_S)\n",
    "\n"
   ]
  },
  {
   "cell_type": "code",
   "execution_count": 55,
   "id": "ac07f990",
   "metadata": {},
   "outputs": [
    {
     "name": "stdout",
     "output_type": "stream",
     "text": [
      "% from 1 who survived: 0.6296296296296297\n",
      "% from 2 who survived: 0.47282608695652173\n",
      "% from 3 who survived: 0.24236252545824846\n"
     ]
    }
   ],
   "source": [
    "# check P class: 1, 2, 3\n",
    "\n",
    "status1 = train_df.loc[train_df.Pclass == 1]['Survived']\n",
    "rate_1 = sum(status1)/len(status1)\n",
    "\n",
    "    \n",
    "status2 = train_df.loc[train_df.Pclass == 2]['Survived']\n",
    "rate_2 = sum(status2)/len(status2)\n",
    "\n",
    "status3 = train_df.loc[train_df.Pclass == 3]['Survived']\n",
    "rate_3 = sum(status3)/len(status3)\n",
    "\n",
    "print('% from 1 who survived:', rate_1)\n",
    "print('% from 2 who survived:', rate_2)\n",
    "print('% from 3 who survived:', rate_3)"
   ]
  },
  {
   "cell_type": "code",
   "execution_count": 60,
   "id": "11e8fc18",
   "metadata": {},
   "outputs": [
    {
     "data": {
      "image/png": "[encoded data removed]",
      "text/plain": [
       "<Figure size 576x432 with 1 Axes>"
      ]
     },
     "metadata": {
      "needs_background": "light"
     },
     "output_type": "display_data"
    }
   ],
   "source": [
    "# Plot some percentages\n",
    "\n",
    "labels = ['Women', 'Men', 'C', 'Q', 'S', '1', '2', '3']\n",
    "percentages = [rate_women, rate_men, rate_C, rate_Q, rate_S, rate_1, rate_2, rate_3]\n",
    "bar_color = ['slategray', 'slategray', 'firebrick', 'firebrick', 'firebrick', 'skyblue', 'skyblue', 'skyblue']\n",
    "\n",
    "plt.figure(figsize=(8,6))\n",
    "plt.bar(labels,percentages,color = bar_color)\n",
    "plt.ylabel('Percent Surviving',fontsize=12)\n",
    "plt.xticks(fontsize=12)\n",
    "plt.yticks(fontsize=12)\n",
    "plt.show()"
   ]
  },
  {
   "cell_type": "code",
   "execution_count": 36,
   "id": "3986227a",
   "metadata": {},
   "outputs": [],
   "source": [
    "# Break training data into testing and training sets so we can test a random forest classifier\n",
    "\n",
    "# The columns we care about are Pclass[2], Sec[4], Age[5], SibSp[6], Parch[7], Fare[8], Embarked[10]\n",
    "# The column we want to predict is Survived [1]\n",
    "\n",
    "#array = train_df.values\n",
    "#a = np.array([2,4,5,6,7,8,10])\n",
    "#X = array[:, a] \n",
    "#Y = array[:, 1] # these are what we want to predict, eventually\n",
    "\n",
    "#print(X)\n",
    "Y = train_df['Survived']\n",
    "\n",
    "####\n",
    "# Age column is throwing nans, need to sort out why\n",
    "####\n",
    "\n",
    "features = ['Pclass', 'Sex', 'SibSp', 'Parch', 'Fare', 'Embarked']\n",
    "X = pd.get_dummies(train_df[features])\n",
    "#X_test = pd.get_dummies(test_df[features])\n",
    "\n",
    "\n",
    "X_train, X_validation, Y_train, Y_validation = train_test_split(X, Y, test_size = 0.20, random_state = 1)\n",
    "\n",
    "\n",
    "\n"
   ]
  },
  {
   "cell_type": "code",
   "execution_count": 37,
   "id": "9d300239",
   "metadata": {},
   "outputs": [
    {
     "name": "stdout",
     "output_type": "stream",
     "text": [
      "Empty DataFrame\n",
      "Columns: [Pclass, SibSp, Parch, Fare, Sex_female, Sex_male, Embarked_C, Embarked_Q, Embarked_S]\n",
      "Index: []\n"
     ]
    }
   ],
   "source": [
    "print(X_train[X_train.isnull().any(axis=1)])"
   ]
  },
  {
   "cell_type": "code",
   "execution_count": 38,
   "id": "3a8fb200",
   "metadata": {},
   "outputs": [],
   "source": [
    "# Run a random forest classifier\n",
    "\n",
    "model = RandomForestClassifier(n_estimators=100, max_depth=5, random_state=1)\n",
    "model.fit(X_train,Y_train)\n",
    "predictions = model.predict(X_validation)"
   ]
  },
  {
   "cell_type": "code",
   "execution_count": 24,
   "id": "35698949",
   "metadata": {},
   "outputs": [],
   "source": [
    "# Run a random forest classifier\n",
    "\n",
    "y = train_df['Survived']\n",
    "\n",
    "features = ['Pclass', 'Sex', 'SibSp', 'Parch']\n",
    "X = pd.get_dummies(train_df[features])\n",
    "X_test = pd.get_dummies(test_df[features])\n",
    "\n",
    "model = RandomForestClassifier(n_estimators=100, max_depth=5, random_state=1)\n",
    "model.fit(X,y)\n",
    "predictions = model.predict(X_test)"
   ]
  },
  {
   "cell_type": "code",
   "execution_count": 25,
   "id": "e1226d08",
   "metadata": {},
   "outputs": [
    {
     "name": "stdout",
     "output_type": "stream",
     "text": [
      "     Pclass  SibSp  Parch  Sex_female  Sex_male\n",
      "0         3      1      0           0         1\n",
      "1         1      1      0           1         0\n",
      "2         3      0      0           1         0\n",
      "3         1      1      0           1         0\n",
      "4         3      0      0           0         1\n",
      "..      ...    ...    ...         ...       ...\n",
      "886       2      0      0           0         1\n",
      "887       1      0      0           1         0\n",
      "888       3      1      2           1         0\n",
      "889       1      0      0           0         1\n",
      "890       3      0      0           0         1\n",
      "\n",
      "[891 rows x 5 columns]\n"
     ]
    }
   ],
   "source": [
    "print(X)"
   ]
  },
  {
   "cell_type": "code",
   "execution_count": null,
   "id": "71032f35",
   "metadata": {},
   "outputs": [],
   "source": []
  }
 ],
 "metadata": {
  "kernelspec": {
   "display_name": "Python 3",
   "language": "python",
   "name": "python3"
  },
  "language_info": {
   "codemirror_mode": {
    "name": "ipython",
    "version": 3
   },
   "file_extension": ".py",
   "mimetype": "text/x-python",
   "name": "python",
   "nbconvert_exporter": "python",
   "pygments_lexer": "ipython3",
   "version": "3.8.8"
  }
 },
 "nbformat": 4,
 "nbformat_minor": 5
}
