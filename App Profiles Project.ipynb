{
 "cells": [
  {
   "cell_type": "markdown",
   "metadata": {},
   "source": [
    "# Profitable App Profiles\n",
    "\n",
    "This project analyzes app data (for both Android and iOS mobile apps) to identify which apps are most popular and why. This will help us understand what types of apps are likely to attract more users."
   ]
  },
  {
   "cell_type": "markdown",
   "metadata": {},
   "source": [
    "### Import and Explore Data\n",
    "\n",
    "Data can be downloaded directly from:\n",
    "\n",
    "[Android apps](https://dq-content.s3.amazonaws.com/350/googleplaystore.csv)\n",
    "\n",
    "[iOS apps](https://dq-content.s3.amazonaws.com/350/AppleStore.csv)"
   ]
  },
  {
   "cell_type": "code",
   "execution_count": 1,
   "metadata": {},
   "outputs": [],
   "source": [
    "from csv import reader\n",
    "\n",
    "# The Google Play dataset \n",
    "opened_file = open('googleplaystore.csv')\n",
    "read_file = reader(opened_file)\n",
    "android = list(read_file)\n",
    "android_header = android[0]\n",
    "android = android[1:]\n",
    "\n",
    "# The App Store dataset \n",
    "opened_file = open('AppleStore.csv')\n",
    "read_file = reader(opened_file)\n",
    "ios = list(read_file)\n",
    "ios_header = ios[0]\n",
    "ios = ios[1:]"
   ]
  },
  {
   "cell_type": "code",
   "execution_count": 2,
   "metadata": {},
   "outputs": [],
   "source": [
    "def explore_data(dataset, start, end, rows_and_columns=False):\n",
    "    dataset_slice = dataset[start:end]    \n",
    "    for row in dataset_slice:\n",
    "        print(row)\n",
    "        print('\\n') # adds a new (empty) line after each row\n",
    "\n",
    "    if rows_and_columns:\n",
    "        print('Number of rows:', len(dataset))\n",
    "        print('Number of columns:', len(dataset[0]))"
   ]
  },
  {
   "cell_type": "code",
   "execution_count": 3,
   "metadata": {},
   "outputs": [
    {
     "name": "stdout",
     "output_type": "stream",
     "text": [
      "['Photo Editor & Candy Camera & Grid & ScrapBook', 'ART_AND_DESIGN', '4.1', '159', '19M', '10,000+', 'Free', '0', 'Everyone', 'Art & Design', 'January 7, 2018', '1.0.0', '4.0.3 and up']\n",
      "\n",
      "\n",
      "['Coloring book moana', 'ART_AND_DESIGN', '3.9', '967', '14M', '500,000+', 'Free', '0', 'Everyone', 'Art & Design;Pretend Play', 'January 15, 2018', '2.0.0', '4.0.3 and up']\n",
      "\n",
      "\n",
      "['U Launcher Lite – FREE Live Cool Themes, Hide Apps', 'ART_AND_DESIGN', '4.7', '87510', '8.7M', '5,000,000+', 'Free', '0', 'Everyone', 'Art & Design', 'August 1, 2018', '1.2.4', '4.0.3 and up']\n",
      "\n",
      "\n",
      "Number of rows: 10841\n",
      "Number of columns: 13\n"
     ]
    }
   ],
   "source": [
    "explore_data(android,0,3, rows_and_columns=True)"
   ]
  },
  {
   "cell_type": "code",
   "execution_count": 4,
   "metadata": {},
   "outputs": [],
   "source": [
    "# iOS rows: 7197  columns: 16\n",
    "# android rows: 10841  columns: 13"
   ]
  },
  {
   "cell_type": "code",
   "execution_count": 5,
   "metadata": {},
   "outputs": [
    {
     "name": "stdout",
     "output_type": "stream",
     "text": [
      "['id', 'track_name', 'size_bytes', 'currency', 'price', 'rating_count_tot', 'rating_count_ver', 'user_rating', 'user_rating_ver', 'ver', 'cont_rating', 'prime_genre', 'sup_devices.num', 'ipadSc_urls.num', 'lang.num', 'vpp_lic']\n"
     ]
    }
   ],
   "source": [
    "print(ios_header)"
   ]
  },
  {
   "cell_type": "code",
   "execution_count": 6,
   "metadata": {},
   "outputs": [
    {
     "name": "stdout",
     "output_type": "stream",
     "text": [
      "['App', 'Category', 'Rating', 'Reviews', 'Size', 'Installs', 'Type', 'Price', 'Content Rating', 'Genres', 'Last Updated', 'Current Ver', 'Android Ver']\n"
     ]
    }
   ],
   "source": [
    "\n",
    "print(android_header)"
   ]
  },
  {
   "cell_type": "markdown",
   "metadata": {},
   "source": [
    "### Identify similar and useful columns\n",
    "\n",
    "**ios.prime_genre = android.Category**\n",
    "\n",
    "Identifies main type of app\n",
    "\n",
    "\n",
    "**ios.user_rating = android.Rating**\n",
    "\n",
    "Identifies overal ratings from users\n",
    "\n",
    "**ios.track_name = android.App**\n",
    "\n",
    "Common name of each app"
   ]
  },
  {
   "cell_type": "markdown",
   "metadata": {},
   "source": [
    "## Clean Data"
   ]
  },
  {
   "cell_type": "markdown",
   "metadata": {},
   "source": [
    "Android data has an bad entry on row 10472 according to [this Kaggle discussion](https://www.kaggle.com/lava18/google-play-store-apps/discussion/66015)"
   ]
  },
  {
   "cell_type": "code",
   "execution_count": 7,
   "metadata": {},
   "outputs": [
    {
     "name": "stdout",
     "output_type": "stream",
     "text": [
      "['Life Made WI-Fi Touchscreen Photo Frame', '1.9', '19', '3.0M', '1,000+', 'Free', '0', 'Everyone', '', 'February 11, 2018', '1.0.19', '4.0 and up']\n"
     ]
    }
   ],
   "source": [
    "print(android[10472])"
   ]
  },
  {
   "cell_type": "code",
   "execution_count": 8,
   "metadata": {},
   "outputs": [],
   "source": [
    "# delete bad row\n",
    "del android[10472]"
   ]
  },
  {
   "cell_type": "markdown",
   "metadata": {},
   "source": [
    "Find and remove duplicate entries"
   ]
  },
  {
   "cell_type": "code",
   "execution_count": 9,
   "metadata": {},
   "outputs": [
    {
     "name": "stdout",
     "output_type": "stream",
     "text": [
      "['Facebook', 'SOCIAL', '4.1', '78158306', 'Varies with device', '1,000,000,000+', 'Free', '0', 'Teen', 'Social', 'August 3, 2018', 'Varies with device', 'Varies with device']\n",
      "['Facebook', 'SOCIAL', '4.1', '78128208', 'Varies with device', '1,000,000,000+', 'Free', '0', 'Teen', 'Social', 'August 3, 2018', 'Varies with device', 'Varies with device']\n"
     ]
    }
   ],
   "source": [
    "for app in android:\n",
    "    name = app[0]\n",
    "    if name == 'Facebook':\n",
    "        print(app)"
   ]
  },
  {
   "cell_type": "code",
   "execution_count": 10,
   "metadata": {},
   "outputs": [
    {
     "name": "stdout",
     "output_type": "stream",
     "text": [
      "Number of unique apps:  9659\n",
      "\n",
      "\n",
      "Number of duplicate apps:  1181\n"
     ]
    }
   ],
   "source": [
    "# count the number of duplicate rows in the Android dataset\n",
    "\n",
    "unique_app_names = []\n",
    "duplicate_app_names = []\n",
    "\n",
    "for x in android:\n",
    "    app_name = x[0]\n",
    "    if app_name in unique_app_names:\n",
    "        duplicate_app_names.append(app_name)\n",
    "    else:\n",
    "        unique_app_names.append(app_name)\n",
    "        \n",
    "print('Number of unique apps: ', len(unique_app_names))\n",
    "print('\\n')\n",
    "print('Number of duplicate apps: ', len(duplicate_app_names))"
   ]
  },
  {
   "cell_type": "code",
   "execution_count": 11,
   "metadata": {},
   "outputs": [
    {
     "name": "stdout",
     "output_type": "stream",
     "text": [
      "Number of unique apps:  7197\n",
      "\n",
      "\n",
      "Number of duplicate apps:  0\n"
     ]
    }
   ],
   "source": [
    "# count the number of duplicate rows in the iOS dataset\n",
    "\n",
    "ios_unique_app_names = []\n",
    "ios_duplicate_app_names = []\n",
    "\n",
    "for x in ios:\n",
    "    app_name = x[0]\n",
    "    if app_name in ios_unique_app_names:\n",
    "        ios_duplicate_app_names.append(app_name)\n",
    "    else:\n",
    "        ios_unique_app_names.append(app_name)\n",
    "        \n",
    "print('Number of unique apps: ', len(ios_unique_app_names))\n",
    "print('\\n')\n",
    "print('Number of duplicate apps: ', len(ios_duplicate_app_names))"
   ]
  },
  {
   "cell_type": "markdown",
   "metadata": {},
   "source": [
    "Android dataset has 1181 duplicate entries.\n",
    "\n",
    "iOS dataset has 0 duplicate entries.\n",
    "\n",
    "We don't want to remove the duplicate entries randomly. Instead, let's keep the entry with the largest number of reviews. This will give us the most up-to-date and insightful information."
   ]
  },
  {
   "cell_type": "markdown",
   "metadata": {},
   "source": [
    "To remove the duplicates, we will create a dictionary with only the highest number of reviews saved. The dictionary key will be the app name and the value will be the highest number of reviews. In the next step, we will use this to identify with row of android data corresponds to this."
   ]
  },
  {
   "cell_type": "code",
   "execution_count": 12,
   "metadata": {},
   "outputs": [],
   "source": [
    "reviews_max = {}\n",
    "for app in android:\n",
    "    name = app[0]\n",
    "    n_reviews = float(app[3])\n",
    "    if name in reviews_max and reviews_max[name] < n_reviews:\n",
    "        reviews_max[name] = n_reviews\n",
    "    elif name not in reviews_max:\n",
    "        reviews_max[name] = n_reviews\n",
    "        "
   ]
  },
  {
   "cell_type": "markdown",
   "metadata": {},
   "source": [
    "Now, we will use the *reviews_max* dictionary to check if each app matches the number of max reviews. If it does, we will save that row. We'll confirm each app is not already in *android_clean* before adding it to account for the edge case where the total number of reviews matches on multiple entries."
   ]
  },
  {
   "cell_type": "code",
   "execution_count": 13,
   "metadata": {},
   "outputs": [],
   "source": [
    "android_clean = [] # new, clean dataset\n",
    "already_added = [] # only store app names\n",
    "\n",
    "for app in android:\n",
    "    name = app[0]\n",
    "    n_reviews = float(app[3])\n",
    "    if n_reviews == reviews_max[name] and name not in already_added:\n",
    "        android_clean.append(app)\n",
    "        already_added.append(name)\n"
   ]
  },
  {
   "cell_type": "code",
   "execution_count": 14,
   "metadata": {},
   "outputs": [
    {
     "name": "stdout",
     "output_type": "stream",
     "text": [
      "[['Cisco Webex Meetings', 'BUSINESS', '4.4', '108741', '28M', '10,000,000+', 'Free', '0', 'Everyone', 'Business', 'July 20, 2018', '11.1.0', '4.3 and up']]\n"
     ]
    }
   ],
   "source": [
    "print(android_clean[235:236])"
   ]
  },
  {
   "cell_type": "code",
   "execution_count": 15,
   "metadata": {},
   "outputs": [
    {
     "name": "stdout",
     "output_type": "stream",
     "text": [
      "9659\n"
     ]
    }
   ],
   "source": [
    "print(len(android_clean))"
   ]
  },
  {
   "cell_type": "markdown",
   "metadata": {},
   "source": [
    "## Remove Non-English Apps"
   ]
  },
  {
   "cell_type": "markdown",
   "metadata": {},
   "source": [
    "We are only interested in English language apps for this exercise, so we will remove, using `ord()`, any non-English apps.\n",
    "\n",
    "First, let's write a function that takes a string and returns `False` if there is a character in the string that does not belong to the set of common English characters. "
   ]
  },
  {
   "cell_type": "code",
   "execution_count": 16,
   "metadata": {},
   "outputs": [],
   "source": [
    "# We'll set the limit at 3 non-english characters to account\n",
    "# account for emoji, etc. \n",
    "\n",
    "def check_characters(string):\n",
    "    non_english = 0\n",
    "    for x in string:\n",
    "        if ord(x) > 127:\n",
    "            non_english += 1\n",
    "    if non_english > 3:\n",
    "        return False\n",
    "    else:\n",
    "        return True"
   ]
  },
  {
   "cell_type": "code",
   "execution_count": 17,
   "metadata": {},
   "outputs": [
    {
     "data": {
      "text/plain": [
       "False"
      ]
     },
     "execution_count": 17,
     "metadata": {},
     "output_type": "execute_result"
    }
   ],
   "source": [
    "check_characters('爱奇艺PPS -《欢乐颂2》电视剧热播')"
   ]
  },
  {
   "cell_type": "code",
   "execution_count": 18,
   "metadata": {},
   "outputs": [
    {
     "data": {
      "text/plain": [
       "True"
      ]
     },
     "execution_count": 18,
     "metadata": {},
     "output_type": "execute_result"
    }
   ],
   "source": [
    "check_characters('Instacart')"
   ]
  },
  {
   "cell_type": "markdown",
   "metadata": {},
   "source": [
    "Use the `check_characters` function to filter out non-English apps from both datasets"
   ]
  },
  {
   "cell_type": "code",
   "execution_count": 19,
   "metadata": {},
   "outputs": [],
   "source": [
    "ios_english = []\n",
    "android_english = []\n",
    "\n",
    "for row in ios:\n",
    "    app_name = row[1]\n",
    "    check_name = check_characters(app_name)\n",
    "    if check_name:\n",
    "        ios_english.append(row)\n",
    "        \n",
    "for row in android_clean:\n",
    "    app_name = row[0]\n",
    "    check_name = check_characters(app_name)\n",
    "    if check_name:\n",
    "        android_english.append(row)"
   ]
  },
  {
   "cell_type": "code",
   "execution_count": 20,
   "metadata": {},
   "outputs": [
    {
     "name": "stdout",
     "output_type": "stream",
     "text": [
      "6183\n"
     ]
    }
   ],
   "source": [
    "print(len(ios_english))"
   ]
  },
  {
   "cell_type": "code",
   "execution_count": 21,
   "metadata": {},
   "outputs": [
    {
     "name": "stdout",
     "output_type": "stream",
     "text": [
      "9614\n"
     ]
    }
   ],
   "source": [
    "print(len(android_english))"
   ]
  },
  {
   "cell_type": "markdown",
   "metadata": {},
   "source": [
    "## Isolating the Free Apps"
   ]
  },
  {
   "cell_type": "markdown",
   "metadata": {},
   "source": [
    "Now, we want to isolate only the free apps. The business model is in-app ads. "
   ]
  },
  {
   "cell_type": "code",
   "execution_count": 22,
   "metadata": {},
   "outputs": [],
   "source": [
    "ios_free = []\n",
    "android_free = []\n",
    "\n",
    "for row in ios_english:\n",
    "    price = row[4]\n",
    "    if price == '0.0':\n",
    "        ios_free.append(row)\n",
    "        \n",
    "        \n",
    "for row in android_english:\n",
    "    price = row[7]\n",
    "    if price == '0':\n",
    "        android_free.append(row)"
   ]
  },
  {
   "cell_type": "code",
   "execution_count": 23,
   "metadata": {},
   "outputs": [
    {
     "name": "stdout",
     "output_type": "stream",
     "text": [
      "['284882215', 'Facebook', '389879808', 'USD', '0.0', '2974676', '212', '3.5', '3.5', '95.0', '4+', 'Social Networking', '37', '1', '29', '1']\n",
      "\n",
      "\n",
      "['389801252', 'Instagram', '113954816', 'USD', '0.0', '2161558', '1289', '4.5', '4.0', '10.23', '12+', 'Photo & Video', '37', '0', '29', '1']\n",
      "\n",
      "\n",
      "['529479190', 'Clash of Clans', '116476928', 'USD', '0.0', '2130805', '579', '4.5', '4.5', '9.24.12', '9+', 'Games', '38', '5', '18', '1']\n",
      "\n",
      "\n",
      "Number of rows: 3222\n",
      "Number of columns: 16\n"
     ]
    }
   ],
   "source": [
    "explore_data(ios_free, 0, 3, True)"
   ]
  },
  {
   "cell_type": "code",
   "execution_count": 24,
   "metadata": {},
   "outputs": [
    {
     "name": "stdout",
     "output_type": "stream",
     "text": [
      "['Photo Editor & Candy Camera & Grid & ScrapBook', 'ART_AND_DESIGN', '4.1', '159', '19M', '10,000+', 'Free', '0', 'Everyone', 'Art & Design', 'January 7, 2018', '1.0.0', '4.0.3 and up']\n",
      "\n",
      "\n",
      "['U Launcher Lite – FREE Live Cool Themes, Hide Apps', 'ART_AND_DESIGN', '4.7', '87510', '8.7M', '5,000,000+', 'Free', '0', 'Everyone', 'Art & Design', 'August 1, 2018', '1.2.4', '4.0.3 and up']\n",
      "\n",
      "\n",
      "['Sketch - Draw & Paint', 'ART_AND_DESIGN', '4.5', '215644', '25M', '50,000,000+', 'Free', '0', 'Teen', 'Art & Design', 'June 8, 2018', 'Varies with device', '4.2 and up']\n",
      "\n",
      "\n",
      "Number of rows: 8864\n",
      "Number of columns: 13\n"
     ]
    }
   ],
   "source": [
    "explore_data(android_free, 0, 3, True)"
   ]
  },
  {
   "cell_type": "markdown",
   "metadata": {},
   "source": [
    "After isolating the free apps, we are left with 8864 Android apps and 3222 iOS apps."
   ]
  },
  {
   "cell_type": "markdown",
   "metadata": {},
   "source": [
    "## Most Common Apps By Genre"
   ]
  },
  {
   "cell_type": "markdown",
   "metadata": {},
   "source": [
    "Our goal is to identify apps that are successful (a.k.a. attract more users) on both Android and iOS operating systems. The validation strategy for an app has three steps:\n",
    "\n",
    "1. Build a minimal Android version of the app, and add it to Google Play.\n",
    "2. If the app has a good response from users, we develop it further.\n",
    "3. If the app is profitable after six months, we build an iOS version of the app and add it to the App Store.\n",
    "\n",
    "We now want to determine the most common genres for each market. "
   ]
  },
  {
   "cell_type": "code",
   "execution_count": 25,
   "metadata": {},
   "outputs": [
    {
     "name": "stdout",
     "output_type": "stream",
     "text": [
      "['App', 'Category', 'Rating', 'Reviews', 'Size', 'Installs', 'Type', 'Price', 'Content Rating', 'Genres', 'Last Updated', 'Current Ver', 'Android Ver']\n"
     ]
    }
   ],
   "source": [
    "print(android_header)"
   ]
  },
  {
   "cell_type": "markdown",
   "metadata": {},
   "source": [
    "We first need to know the column to identify the genre of each app. These are:\n",
    "\n",
    "```\n",
    "ios[11] = prime_genre\n",
    "android[9] = Genres\n",
    "```\n",
    "\n",
    "Alternatively, we could use `android[1] = Catagory`. These appear to be the same."
   ]
  },
  {
   "cell_type": "code",
   "execution_count": 26,
   "metadata": {},
   "outputs": [
    {
     "data": {
      "text/plain": [
       "'SHOPPING'"
      ]
     },
     "execution_count": 26,
     "metadata": {},
     "output_type": "execute_result"
    }
   ],
   "source": [
    "android_free[1916][1]"
   ]
  },
  {
   "cell_type": "code",
   "execution_count": 27,
   "metadata": {},
   "outputs": [],
   "source": [
    "def freq_table(dataset, index):\n",
    "    new_dict = {}\n",
    "    total = 0\n",
    "    \n",
    "    for row in dataset:\n",
    "        total += 1\n",
    "        value = row[index]\n",
    "        if value in new_dict:\n",
    "            new_dict[value] += 1\n",
    "        else:\n",
    "            new_dict[value] = 1\n",
    "            \n",
    "    dict_percentages = {}\n",
    "    for key in new_dict:\n",
    "        percentage = (new_dict[key] / total) * 100\n",
    "        dict_percentages[key] = percentage\n",
    "    return dict_percentages"
   ]
  },
  {
   "cell_type": "code",
   "execution_count": 28,
   "metadata": {},
   "outputs": [],
   "source": [
    "def display_table(dataset, index):\n",
    "    table = freq_table(dataset, index)\n",
    "    table_display = []\n",
    "    for key in table:\n",
    "        key_val_as_tuple = (table[key], key)\n",
    "        table_display.append(key_val_as_tuple)\n",
    "\n",
    "    table_sorted = sorted(table_display, reverse = True)\n",
    "    for entry in table_sorted:\n",
    "        print(entry[1], ':', round(entry[0],3))"
   ]
  },
  {
   "cell_type": "code",
   "execution_count": 29,
   "metadata": {},
   "outputs": [
    {
     "name": "stdout",
     "output_type": "stream",
     "text": [
      "Games : 58.163\n",
      "Entertainment : 7.883\n",
      "Photo & Video : 4.966\n",
      "Education : 3.662\n",
      "Social Networking : 3.29\n",
      "Shopping : 2.607\n",
      "Utilities : 2.514\n",
      "Sports : 2.142\n",
      "Music : 2.048\n",
      "Health & Fitness : 2.017\n",
      "Productivity : 1.738\n",
      "Lifestyle : 1.583\n",
      "News : 1.335\n",
      "Travel : 1.241\n",
      "Finance : 1.117\n",
      "Weather : 0.869\n",
      "Food & Drink : 0.807\n",
      "Reference : 0.559\n",
      "Business : 0.528\n",
      "Book : 0.435\n",
      "Navigation : 0.186\n",
      "Medical : 0.186\n",
      "Catalogs : 0.124\n"
     ]
    }
   ],
   "source": [
    "display_table(ios_free, 11)"
   ]
  },
  {
   "cell_type": "markdown",
   "metadata": {},
   "source": [
    "#### Notes and comments on iOS apps\n",
    "\n",
    "The most common genre is Games at 58% followed by Entertainment at 7.8%. \n",
    "\n",
    "Games and entertainments apps are the most popular general types of apps. There is a spattering of productivity apps (Education, Utilities, Health & Fitness), but these form a significant minority of the general app types. "
   ]
  },
  {
   "cell_type": "code",
   "execution_count": 30,
   "metadata": {},
   "outputs": [
    {
     "name": "stdout",
     "output_type": "stream",
     "text": [
      "Tools : 8.45\n",
      "Entertainment : 6.069\n",
      "Education : 5.347\n",
      "Business : 4.592\n",
      "Productivity : 3.892\n",
      "Lifestyle : 3.892\n",
      "Finance : 3.7\n",
      "Medical : 3.531\n",
      "Sports : 3.463\n",
      "Personalization : 3.317\n",
      "Communication : 3.238\n",
      "Action : 3.102\n",
      "Health & Fitness : 3.08\n",
      "Photography : 2.944\n",
      "News & Magazines : 2.798\n",
      "Social : 2.662\n",
      "Travel & Local : 2.324\n",
      "Shopping : 2.245\n",
      "Books & Reference : 2.144\n",
      "Simulation : 2.042\n",
      "Dating : 1.861\n",
      "Arcade : 1.85\n",
      "Video Players & Editors : 1.771\n",
      "Casual : 1.76\n",
      "Maps & Navigation : 1.399\n",
      "Food & Drink : 1.241\n",
      "Puzzle : 1.128\n",
      "Racing : 0.993\n",
      "Role Playing : 0.936\n",
      "Libraries & Demo : 0.936\n",
      "Auto & Vehicles : 0.925\n",
      "Strategy : 0.914\n",
      "House & Home : 0.824\n",
      "Weather : 0.801\n",
      "Events : 0.711\n",
      "Adventure : 0.677\n",
      "Comics : 0.609\n",
      "Beauty : 0.598\n",
      "Art & Design : 0.598\n",
      "Parenting : 0.496\n",
      "Card : 0.451\n",
      "Casino : 0.429\n",
      "Trivia : 0.417\n",
      "Educational;Education : 0.395\n",
      "Board : 0.384\n",
      "Educational : 0.372\n",
      "Education;Education : 0.338\n",
      "Word : 0.259\n",
      "Casual;Pretend Play : 0.237\n",
      "Music : 0.203\n",
      "Racing;Action & Adventure : 0.169\n",
      "Puzzle;Brain Games : 0.169\n",
      "Entertainment;Music & Video : 0.169\n",
      "Casual;Brain Games : 0.135\n",
      "Casual;Action & Adventure : 0.135\n",
      "Arcade;Action & Adventure : 0.124\n",
      "Action;Action & Adventure : 0.102\n",
      "Educational;Pretend Play : 0.09\n",
      "Simulation;Action & Adventure : 0.079\n",
      "Parenting;Education : 0.079\n",
      "Entertainment;Brain Games : 0.079\n",
      "Board;Brain Games : 0.079\n",
      "Parenting;Music & Video : 0.068\n",
      "Educational;Brain Games : 0.068\n",
      "Casual;Creativity : 0.068\n",
      "Art & Design;Creativity : 0.068\n",
      "Education;Pretend Play : 0.056\n",
      "Role Playing;Pretend Play : 0.045\n",
      "Education;Creativity : 0.045\n",
      "Role Playing;Action & Adventure : 0.034\n",
      "Puzzle;Action & Adventure : 0.034\n",
      "Entertainment;Creativity : 0.034\n",
      "Entertainment;Action & Adventure : 0.034\n",
      "Educational;Creativity : 0.034\n",
      "Educational;Action & Adventure : 0.034\n",
      "Education;Music & Video : 0.034\n",
      "Education;Brain Games : 0.034\n",
      "Education;Action & Adventure : 0.034\n",
      "Adventure;Action & Adventure : 0.034\n",
      "Video Players & Editors;Music & Video : 0.023\n",
      "Sports;Action & Adventure : 0.023\n",
      "Simulation;Pretend Play : 0.023\n",
      "Puzzle;Creativity : 0.023\n",
      "Music;Music & Video : 0.023\n",
      "Entertainment;Pretend Play : 0.023\n",
      "Casual;Education : 0.023\n",
      "Board;Action & Adventure : 0.023\n",
      "Video Players & Editors;Creativity : 0.011\n",
      "Trivia;Education : 0.011\n",
      "Travel & Local;Action & Adventure : 0.011\n",
      "Tools;Education : 0.011\n",
      "Strategy;Education : 0.011\n",
      "Strategy;Creativity : 0.011\n",
      "Strategy;Action & Adventure : 0.011\n",
      "Simulation;Education : 0.011\n",
      "Role Playing;Brain Games : 0.011\n",
      "Racing;Pretend Play : 0.011\n",
      "Puzzle;Education : 0.011\n",
      "Parenting;Brain Games : 0.011\n",
      "Music & Audio;Music & Video : 0.011\n",
      "Lifestyle;Pretend Play : 0.011\n",
      "Lifestyle;Education : 0.011\n",
      "Health & Fitness;Education : 0.011\n",
      "Health & Fitness;Action & Adventure : 0.011\n",
      "Entertainment;Education : 0.011\n",
      "Communication;Creativity : 0.011\n",
      "Comics;Creativity : 0.011\n",
      "Casual;Music & Video : 0.011\n",
      "Card;Action & Adventure : 0.011\n",
      "Books & Reference;Education : 0.011\n",
      "Art & Design;Pretend Play : 0.011\n",
      "Art & Design;Action & Adventure : 0.011\n",
      "Arcade;Pretend Play : 0.011\n",
      "Adventure;Education : 0.011\n"
     ]
    }
   ],
   "source": [
    "display_table(android_free, 9) # Genres"
   ]
  },
  {
   "cell_type": "code",
   "execution_count": 31,
   "metadata": {},
   "outputs": [
    {
     "name": "stdout",
     "output_type": "stream",
     "text": [
      "FAMILY : 18.908\n",
      "GAME : 9.725\n",
      "TOOLS : 8.461\n",
      "BUSINESS : 4.592\n",
      "LIFESTYLE : 3.903\n",
      "PRODUCTIVITY : 3.892\n",
      "FINANCE : 3.7\n",
      "MEDICAL : 3.531\n",
      "SPORTS : 3.396\n",
      "PERSONALIZATION : 3.317\n",
      "COMMUNICATION : 3.238\n",
      "HEALTH_AND_FITNESS : 3.08\n",
      "PHOTOGRAPHY : 2.944\n",
      "NEWS_AND_MAGAZINES : 2.798\n",
      "SOCIAL : 2.662\n",
      "TRAVEL_AND_LOCAL : 2.335\n",
      "SHOPPING : 2.245\n",
      "BOOKS_AND_REFERENCE : 2.144\n",
      "DATING : 1.861\n",
      "VIDEO_PLAYERS : 1.794\n",
      "MAPS_AND_NAVIGATION : 1.399\n",
      "FOOD_AND_DRINK : 1.241\n",
      "EDUCATION : 1.162\n",
      "ENTERTAINMENT : 0.959\n",
      "LIBRARIES_AND_DEMO : 0.936\n",
      "AUTO_AND_VEHICLES : 0.925\n",
      "HOUSE_AND_HOME : 0.824\n",
      "WEATHER : 0.801\n",
      "EVENTS : 0.711\n",
      "PARENTING : 0.654\n",
      "ART_AND_DESIGN : 0.643\n",
      "COMICS : 0.62\n",
      "BEAUTY : 0.598\n"
     ]
    }
   ],
   "source": [
    "display_table(android_free, 1) # Category"
   ]
  },
  {
   "cell_type": "markdown",
   "metadata": {},
   "source": [
    "#### Notes and comments on Android apps\n",
    "\n",
    "There is not as much of a clear preference amongst Android app users. \n",
    "\n",
    "It is not immediately clear the exact difference between the `Category` and `Genres` columns, except that `Category` is a coarser grouping. \n",
    "\n",
    "In both categories, there is a mix of entertainment and productivity apps. "
   ]
  },
  {
   "cell_type": "markdown",
   "metadata": {},
   "source": [
    "Now, let's determine the kind of apps with the most users. For the Android dataset, we can use the `Installs` columns. For iOS, we will use the `rating_count_tot` column."
   ]
  },
  {
   "cell_type": "code",
   "execution_count": 33,
   "metadata": {},
   "outputs": [
    {
     "name": "stdout",
     "output_type": "stream",
     "text": [
      "Social Networking 71548.34905660378\n",
      "Photo & Video 28441.54375\n",
      "Games 22788.6696905016\n",
      "Music 57326.530303030304\n",
      "Reference 74942.11111111111\n",
      "Health & Fitness 23298.015384615384\n",
      "Weather 52279.892857142855\n",
      "Utilities 18684.456790123455\n",
      "Travel 28243.8\n",
      "Shopping 26919.690476190477\n",
      "News 21248.023255813954\n",
      "Navigation 86090.33333333333\n",
      "Lifestyle 16485.764705882353\n",
      "Entertainment 14029.830708661417\n",
      "Food & Drink 33333.92307692308\n",
      "Sports 23008.898550724636\n",
      "Book 39758.5\n",
      "Finance 31467.944444444445\n",
      "Education 7003.983050847458\n",
      "Productivity 21028.410714285714\n",
      "Business 7491.117647058823\n",
      "Catalogs 4004.0\n",
      "Medical 612.0\n"
     ]
    }
   ],
   "source": [
    "ios_genres = freq_table(ios_free, 11)\n",
    "\n",
    "for genre in ios_genres:\n",
    "    total = 0\n",
    "    len_genre = 0\n",
    "    for row in ios_free:\n",
    "        genre_app = row[11]\n",
    "        if genre_app == genre:\n",
    "            total += float(row[5])\n",
    "            len_genre += 1\n",
    "    avg_num_ratings = total / len_genre\n",
    "    print(genre, avg_num_ratings)\n"
   ]
  },
  {
   "cell_type": "markdown",
   "metadata": {},
   "source": [
    "Navigation apps have the most average reviews. Social Networking, Reference, and Music are the next highest. These might be driven by a few particularly popular apps in each case, but we do get a variety here.\n",
    "\n",
    "Next, we can look at the average number of installs for the Google Play store. This dataset only gives a minimum number of installs based on ranges such as '100,000+', so we will use this base number to get an estimate."
   ]
  },
  {
   "cell_type": "code",
   "execution_count": 42,
   "metadata": {},
   "outputs": [
    {
     "name": "stdout",
     "output_type": "stream",
     "text": [
      "ART_AND_DESIGN 1986335.0877192982\n",
      "AUTO_AND_VEHICLES 647317.8170731707\n",
      "BEAUTY 513151.88679245283\n",
      "BOOKS_AND_REFERENCE 8767811.894736841\n",
      "BUSINESS 1712290.1474201474\n",
      "COMICS 817657.2727272727\n",
      "COMMUNICATION 38456119.167247385\n",
      "DATING 854028.8303030303\n",
      "EDUCATION 1833495.145631068\n",
      "ENTERTAINMENT 11640705.88235294\n",
      "EVENTS 253542.22222222222\n",
      "FINANCE 1387692.475609756\n",
      "FOOD_AND_DRINK 1924897.7363636363\n",
      "HEALTH_AND_FITNESS 4188821.9853479853\n",
      "HOUSE_AND_HOME 1331540.5616438356\n",
      "LIBRARIES_AND_DEMO 638503.734939759\n",
      "LIFESTYLE 1437816.2687861272\n",
      "GAME 15588015.603248259\n",
      "FAMILY 3695641.8198090694\n",
      "MEDICAL 120550.61980830671\n",
      "SOCIAL 23253652.127118643\n",
      "SHOPPING 7036877.311557789\n",
      "PHOTOGRAPHY 17840110.40229885\n",
      "SPORTS 3638640.1428571427\n",
      "TRAVEL_AND_LOCAL 13984077.710144928\n",
      "TOOLS 10801391.298666667\n",
      "PERSONALIZATION 5201482.6122448975\n",
      "PRODUCTIVITY 16787331.344927534\n",
      "PARENTING 542603.6206896552\n",
      "WEATHER 5074486.197183099\n",
      "VIDEO_PLAYERS 24727872.452830188\n",
      "NEWS_AND_MAGAZINES 9549178.467741935\n",
      "MAPS_AND_NAVIGATION 4056941.7741935486\n"
     ]
    }
   ],
   "source": [
    "android_genres = freq_table(android_free, 1)\n",
    "\n",
    "for category in android_genres:\n",
    "    total = 0\n",
    "    len_category = 0\n",
    "    for row in android_free:\n",
    "        category_app = row[1]\n",
    "        if category_app == category:\n",
    "            n_installs = row[5]\n",
    "            n_installs = n_installs.replace('+','')\n",
    "            n_installs = n_installs.replace(',', '')\n",
    "            total += float(n_installs)\n",
    "            len_category += 1\n",
    "    avg_num_ratings = total / len_category\n",
    "    print(category, avg_num_ratings)\n"
   ]
  },
  {
   "cell_type": "markdown",
   "metadata": {},
   "source": [
    "Maps and Navigation, News and Magazines, Productivity are the categories of apps that contain the highest approximate average installs. "
   ]
  },
  {
   "cell_type": "code",
   "execution_count": null,
   "metadata": {},
   "outputs": [],
   "source": []
  }
 ],
 "metadata": {
  "kernelspec": {
   "display_name": "Python 3",
   "language": "python",
   "name": "python3"
  },
  "language_info": {
   "codemirror_mode": {
    "name": "ipython",
    "version": 3
   },
   "file_extension": ".py",
   "mimetype": "text/x-python",
   "name": "python",
   "nbconvert_exporter": "python",
   "pygments_lexer": "ipython3",
   "version": "3.8.2"
  }
 },
 "nbformat": 4,
 "nbformat_minor": 2
}
