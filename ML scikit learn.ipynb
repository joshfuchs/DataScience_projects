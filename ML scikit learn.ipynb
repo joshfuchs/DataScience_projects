{
 "cells": [
  {
   "cell_type": "markdown",
   "id": "0080c5ba",
   "metadata": {},
   "source": [
    "A Carpentry style lesson on machine learning with Python and scikit-learn\n",
    "The Carpentries Incubator\n",
    "\n",
    "https://carpentries-incubator.github.io/machine-learning-novice-sklearn/"
   ]
  },
  {
   "cell_type": "code",
   "execution_count": 16,
   "id": "2a08c75e",
   "metadata": {},
   "outputs": [],
   "source": [
    "import math\n",
    "import matplotlib.pyplot as plt\n",
    "%matplotlib inline"
   ]
  },
  {
   "cell_type": "markdown",
   "id": "3c121285",
   "metadata": {},
   "source": [
    "# Regression"
   ]
  },
  {
   "cell_type": "markdown",
   "id": "f17eec45",
   "metadata": {},
   "source": [
    "## Coding a linear regression "
   ]
  },
  {
   "cell_type": "code",
   "execution_count": 8,
   "id": "89fc5535",
   "metadata": {},
   "outputs": [],
   "source": [
    "def least_squares(data):\n",
    "    x_sum = 0\n",
    "    y_sum = 0\n",
    "    x_sq_sum = 0\n",
    "    xy_sum = 0\n",
    "    \n",
    "    # the list of data should have two equal length columns\n",
    "    assert len(data[0]) == len(data[1])\n",
    "    assert len(data) == 2\n",
    "    \n",
    "    n = len(data[0])\n",
    "    # least squares regression calculation\n",
    "    for i in range(0,n):\n",
    "        x = int(data[0][i])\n",
    "        y = data[1][i]\n",
    "        x_sum = x_sum + x\n",
    "        y_sum = y_sum + y\n",
    "        x_sq_sum = x_sq_sum + (x**2)\n",
    "        xy_sum = xy_sum + (x*y)\n",
    "        \n",
    "    m = ((n * xy_sum) - (x_sum * y_sum))\n",
    "    m = m / ((n * x_sq_sum) - (x_sum **2))\n",
    "    c = (y_sum - m * x_sum) / n\n",
    "    \n",
    "    print('Results of linear regression:')\n",
    "    print('x_sum=', x_sum, 'y_sum=', y_sum, 'x_sq_sum=', x_sq_sum, 'xy_sum=',\n",
    "         xy_sum)\n",
    "    print('m=', m, 'c=', c)\n",
    "    \n",
    "    return m,c"
   ]
  },
  {
   "cell_type": "code",
   "execution_count": 9,
   "id": "b46170a3",
   "metadata": {},
   "outputs": [
    {
     "name": "stdout",
     "output_type": "stream",
     "text": [
      "Results of linear regression:\n",
      "x_sum= 26 y_sum= 41 x_sq_sum= 168 xy_sum= 263\n",
      "m= 1.5182926829268293 c= 0.30487804878048763\n"
     ]
    },
    {
     "data": {
      "text/plain": [
       "(1.5182926829268293, 0.30487804878048763)"
      ]
     },
     "execution_count": 9,
     "metadata": {},
     "output_type": "execute_result"
    }
   ],
   "source": [
    "# example data\n",
    "x_data = [2,3,5,7,9]\n",
    "y_data = [4,5,7,10,15]\n",
    "least_squares([x_data,y_data])"
   ]
  },
  {
   "cell_type": "markdown",
   "id": "87533e8b",
   "metadata": {},
   "source": [
    "## Test the accuracy of a linear regression model"
   ]
  },
  {
   "cell_type": "code",
   "execution_count": 11,
   "id": "cf17a13c",
   "metadata": {},
   "outputs": [],
   "source": [
    "def measure_error(data1, data2):\n",
    "    assert len(data1) == len(data2)\n",
    "    err_total = 0\n",
    "    for i in range(0, len(data1)):\n",
    "        err_total = err_total + (data1[i] - data2[i]) **2\n",
    "        \n",
    "    err = math.sqrt(err_total / len(data1))\n",
    "    return err"
   ]
  },
  {
   "cell_type": "code",
   "execution_count": 14,
   "id": "b1e9484c",
   "metadata": {},
   "outputs": [
    {
     "name": "stdout",
     "output_type": "stream",
     "text": [
      "Results of linear regression:\n",
      "x_sum= 26 y_sum= 41 x_sq_sum= 168 xy_sum= 263\n",
      "m= 1.5182926829268293 c= 0.30487804878048763\n",
      "0.7986268703523449\n"
     ]
    }
   ],
   "source": [
    "# get the m and c values from the least_squares function\n",
    "m, c = least_squares([x_data, y_data])\n",
    "\n",
    "# create an empty list for the model y data\n",
    "linear_data = []\n",
    "\n",
    "for x in x_data:\n",
    "    y = m*x + c\n",
    "    # add the result to the linear_data list\n",
    "    linear_data.append(y)\n",
    "    \n",
    "# calculate the error\n",
    "print(measure_error(y_data,linear_data))"
   ]
  },
  {
   "cell_type": "markdown",
   "id": "84c8c490",
   "metadata": {},
   "source": [
    "## Graph the Data"
   ]
  },
  {
   "cell_type": "code",
   "execution_count": 18,
   "id": "69e3ac26",
   "metadata": {},
   "outputs": [
    {
     "name": "stdout",
     "output_type": "stream",
     "text": [
      "Results of linear regression:\n",
      "x_sum= 26 y_sum= 41 x_sq_sum= 168 xy_sum= 263\n",
      "m= 1.5182926829268293 c= 0.30487804878048763\n"
     ]
    },
    {
     "data": {
      "image/png": "[encoded data removed]",
      "text/plain": [
       "<Figure size 432x288 with 1 Axes>"
      ]
     },
     "metadata": {
      "needs_background": "light"
     },
     "output_type": "display_data"
    }
   ],
   "source": [
    "def make_linear(x_data, m, c):\n",
    "    linear_data = []\n",
    "    for x in x_data:\n",
    "        y = m*x + c\n",
    "        # add the result to the linear_data list\n",
    "        linear_data.append(y)\n",
    "    return(linear_data)\n",
    "\n",
    "x_data = [2,3,5,7,9]\n",
    "y_data = [4,5,7,10,15]\n",
    "\n",
    "m, c = least_squares([x_data, y_data])\n",
    "linear_data = make_linear(x_data, m, c)\n",
    "\n",
    "plt.plot(x_data,y_data,'o')\n",
    "plt.plot(x_data,make_linear(x_data, m,c))\n",
    "plt.grid()"
   ]
  },
  {
   "cell_type": "code",
   "execution_count": null,
   "id": "fbdf074b",
   "metadata": {},
   "outputs": [],
   "source": []
  }
 ],
 "metadata": {
  "kernelspec": {
   "display_name": "Python 3",
   "language": "python",
   "name": "python3"
  },
  "language_info": {
   "codemirror_mode": {
    "name": "ipython",
    "version": 3
   },
   "file_extension": ".py",
   "mimetype": "text/x-python",
   "name": "python",
   "nbconvert_exporter": "python",
   "pygments_lexer": "ipython3",
   "version": "3.8.8"
  }
 },
 "nbformat": 4,
 "nbformat_minor": 5
}
