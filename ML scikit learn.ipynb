{
 "cells": [
  {
   "cell_type": "markdown",
   "id": "0080c5ba",
   "metadata": {},
   "source": [
    "A Carpentry style lesson on machine learning with Python and scikit-learn\n",
    "The Carpentries Incubator\n",
    "\n",
    "https://carpentries-incubator.github.io/machine-learning-novice-sklearn/"
   ]
  },
  {
   "cell_type": "code",
   "execution_count": 2,
   "id": "2a08c75e",
   "metadata": {},
   "outputs": [],
   "source": [
    "import math\n",
    "import matplotlib.pyplot as plt\n",
    "%matplotlib inline\n",
    "import pandas as pd"
   ]
  },
  {
   "cell_type": "markdown",
   "id": "3c121285",
   "metadata": {},
   "source": [
    "# Regression"
   ]
  },
  {
   "cell_type": "markdown",
   "id": "f17eec45",
   "metadata": {},
   "source": [
    "## Coding a linear regression "
   ]
  },
  {
   "cell_type": "code",
   "execution_count": 24,
   "id": "89fc5535",
   "metadata": {},
   "outputs": [],
   "source": [
    "def least_squares(data):\n",
    "    x_sum = 0\n",
    "    y_sum = 0\n",
    "    x_sq_sum = 0\n",
    "    xy_sum = 0\n",
    "    \n",
    "    # the list of data should have two equal length columns\n",
    "    assert len(data[0]) == len(data[1])\n",
    "    assert len(data) == 2\n",
    "    \n",
    "    n = len(data[0])\n",
    "    # least squares regression calculation\n",
    "    for i in range(0,n):\n",
    "        x = data[0][i]\n",
    "        y = data[1][i]\n",
    "        x_sum = x_sum + x\n",
    "        y_sum = y_sum + y\n",
    "        x_sq_sum = x_sq_sum + (x**2)\n",
    "        xy_sum = xy_sum + (x*y)\n",
    "        \n",
    "    m = ((n * xy_sum) - (x_sum * y_sum))\n",
    "    m = m / ((n * x_sq_sum) - (x_sum **2))\n",
    "    c = (y_sum - m * x_sum) / n\n",
    "    \n",
    "    print('Results of linear regression:')\n",
    "    print('x_sum=', x_sum, 'y_sum=', y_sum, 'x_sq_sum=', x_sq_sum, 'xy_sum=',\n",
    "         xy_sum)\n",
    "    print('m=', m, 'c=', c)\n",
    "    \n",
    "    return m,c"
   ]
  },
  {
   "cell_type": "code",
   "execution_count": 9,
   "id": "b46170a3",
   "metadata": {},
   "outputs": [
    {
     "name": "stdout",
     "output_type": "stream",
     "text": [
      "Results of linear regression:\n",
      "x_sum= 26 y_sum= 41 x_sq_sum= 168 xy_sum= 263\n",
      "m= 1.5182926829268293 c= 0.30487804878048763\n"
     ]
    },
    {
     "data": {
      "text/plain": [
       "(1.5182926829268293, 0.30487804878048763)"
      ]
     },
     "execution_count": 9,
     "metadata": {},
     "output_type": "execute_result"
    }
   ],
   "source": [
    "# example data\n",
    "x_data = [2,3,5,7,9]\n",
    "y_data = [4,5,7,10,15]\n",
    "least_squares([x_data,y_data])"
   ]
  },
  {
   "cell_type": "markdown",
   "id": "87533e8b",
   "metadata": {},
   "source": [
    "## Test the accuracy of a linear regression model"
   ]
  },
  {
   "cell_type": "code",
   "execution_count": 4,
   "id": "cf17a13c",
   "metadata": {},
   "outputs": [],
   "source": [
    "def measure_error(data1, data2):\n",
    "    assert len(data1) == len(data2)\n",
    "    err_total = 0\n",
    "    for i in range(0, len(data1)):\n",
    "        err_total = err_total + (data1[i] - data2[i]) **2\n",
    "        \n",
    "    err = math.sqrt(err_total / len(data1))\n",
    "    return err"
   ]
  },
  {
   "cell_type": "code",
   "execution_count": 14,
   "id": "b1e9484c",
   "metadata": {},
   "outputs": [
    {
     "name": "stdout",
     "output_type": "stream",
     "text": [
      "Results of linear regression:\n",
      "x_sum= 26 y_sum= 41 x_sq_sum= 168 xy_sum= 263\n",
      "m= 1.5182926829268293 c= 0.30487804878048763\n",
      "0.7986268703523449\n"
     ]
    }
   ],
   "source": [
    "# get the m and c values from the least_squares function\n",
    "m, c = least_squares([x_data, y_data])\n",
    "\n",
    "# create an empty list for the model y data\n",
    "linear_data = []\n",
    "\n",
    "for x in x_data:\n",
    "    y = m*x + c\n",
    "    # add the result to the linear_data list\n",
    "    linear_data.append(y)\n",
    "    \n",
    "# calculate the error\n",
    "print(measure_error(y_data,linear_data))"
   ]
  },
  {
   "cell_type": "markdown",
   "id": "84c8c490",
   "metadata": {},
   "source": [
    "## Graph the Data"
   ]
  },
  {
   "cell_type": "code",
   "execution_count": 5,
   "id": "69e3ac26",
   "metadata": {},
   "outputs": [
    {
     "name": "stdout",
     "output_type": "stream",
     "text": [
      "Results of linear regression:\n",
      "x_sum= 26 y_sum= 41 x_sq_sum= 168 xy_sum= 263\n",
      "m= 1.5182926829268293 c= 0.30487804878048763\n"
     ]
    },
    {
     "data": {
      "image/png": "[encoded data removed]",
      "text/plain": [
       "<Figure size 432x288 with 1 Axes>"
      ]
     },
     "metadata": {
      "needs_background": "light"
     },
     "output_type": "display_data"
    }
   ],
   "source": [
    "def make_linear(x_data, m, c):\n",
    "    linear_data = []\n",
    "    for x in x_data:\n",
    "        y = m*x + c\n",
    "        # add the result to the linear_data list\n",
    "        linear_data.append(y)\n",
    "    return(linear_data)\n",
    "\n",
    "x_data = [2,3,5,7,9]\n",
    "y_data = [4,5,7,10,15]\n",
    "\n",
    "m, c = least_squares([x_data, y_data])\n",
    "linear_data = make_linear(x_data, m, c)\n",
    "\n",
    "plt.plot(x_data,y_data,'o')\n",
    "plt.plot(x_data,make_linear(x_data, m,c))\n",
    "plt.grid()"
   ]
  },
  {
   "cell_type": "markdown",
   "id": "439774ae",
   "metadata": {},
   "source": [
    "# Predicting Life Expectancy"
   ]
  },
  {
   "cell_type": "code",
   "execution_count": 11,
   "id": "848da1ff",
   "metadata": {},
   "outputs": [],
   "source": [
    "def process_life_expectancy_data(filename, country, min_date, max_date):\n",
    "    \n",
    "    df = pd.read_csv(filename, index_col=\"Life expectancy\")\n",
    "    \n",
    "    # get the life expectancy for the specified country/dates\n",
    "    # we have to convert the dates to strings as pandas treats them that way\n",
    "    life_expectancy = df.loc[country, str(min_date):str(max_date)]\n",
    "    \n",
    "    # create a list with the numerical range of min_date to max_date\n",
    "    # we could use the index of life_expectancy but it will be a string\n",
    "    # we need numerical data\n",
    "    x_data = list(range(min_date, max_date+1))\n",
    "    \n",
    "    # calculate a line of best fit\n",
    "    m, c = least_squares([x_data, life_expectancy])\n",
    "    linear_data = make_linear(x_data, m, c)\n",
    "    \n",
    "    error = measure_error(life_expectancy, linear_data)\n",
    "    print('Error is ', error)\n",
    "    \n",
    "    plt.plot(x_data,life_expectancy,'o')\n",
    "    plt.plot(x_data,make_linear(x_data, m,c))\n",
    "    plt.grid()\n"
   ]
  },
  {
   "cell_type": "code",
   "execution_count": 14,
   "id": "b2434573",
   "metadata": {},
   "outputs": [
    {
     "name": "stdout",
     "output_type": "stream",
     "text": [
      "Results of linear regression:\n",
      "x_sum= 120780 y_sum= 4546.599999999999 x_sq_sum= 239163310 xy_sum= 9006753.530000001\n",
      "m= 0.23720412480183278 c= -395.12974087812074\n",
      "Error is  0.3958118239003424\n"
     ]
    },
    {
     "data": {
      "image/png": "[encoded data removed]",
      "text/plain": [
       "<Figure size 432x288 with 1 Axes>"
      ]
     },
     "metadata": {
      "needs_background": "light"
     },
     "output_type": "display_data"
    }
   ],
   "source": [
    "process_life_expectancy_data(\"./data/gapminder-life-expectancy.csv\",\n",
    "                            'France', 1950, 2010)"
   ]
  },
  {
   "cell_type": "code",
   "execution_count": 16,
   "id": "2e561d34",
   "metadata": {},
   "outputs": [
    {
     "name": "stdout",
     "output_type": "stream",
     "text": [
      "Results of linear regression:\n",
      "x_sum= 47550 y_sum= 1228.96 x_sq_sum= 90441400 xy_sum= 2337962.67\n",
      "m= 0.3698076923076923 c= -654.2158307692308\n",
      "Error is  0.12913371722008962\n"
     ]
    },
    {
     "data": {
      "image/png": "[encoded data removed]",
      "text/plain": [
       "<Figure size 432x288 with 1 Axes>"
      ]
     },
     "metadata": {
      "needs_background": "light"
     },
     "output_type": "display_data"
    }
   ],
   "source": [
    "# predict life expectancy in Canada\n",
    "\n",
    "process_life_expectancy_data(\"./data/gapminder-life-expectancy.csv\",\n",
    "                            'Canada', 1890, 1914)"
   ]
  },
  {
   "cell_type": "code",
   "execution_count": 21,
   "id": "25f35883",
   "metadata": {},
   "outputs": [
    {
     "name": "stdout",
     "output_type": "stream",
     "text": [
      "Predicted:  55.07532307692293\n",
      "Actual:  47.17\n"
     ]
    }
   ],
   "source": [
    "# predict in 1918\n",
    "print(\"Predicted: \", 0.3698076923076923 * 1918 - 654.2158307692308)\n",
    "\n",
    "df = pd.read_csv('./data/gapminder-life-expectancy.csv', index_col=\"Life expectancy\")\n",
    "\n",
    "print('Actual: ', df.loc['Canada', '1918'])"
   ]
  },
  {
   "cell_type": "markdown",
   "id": "35fb34ed",
   "metadata": {},
   "source": [
    "# Log Regression\n"
   ]
  },
  {
   "cell_type": "code",
   "execution_count": 26,
   "id": "19ad2983",
   "metadata": {},
   "outputs": [],
   "source": [
    "def read_data(gdp_file, life_expectancy_file, year):\n",
    "    df_gdp = pd.read_csv(gdp_file, index_col = 'Country Name')\n",
    "    \n",
    "    gdp = df_gdp.loc[:,year]\n",
    "    \n",
    "    df_life_extp = pd.read_csv(life_expectancy_file,\n",
    "                              index_col='Life expectancy')\n",
    "    \n",
    "    #get the life expectancy for the specified country/dates\n",
    "    # we have to convert the dates to strings for pandas\n",
    "    life_expectancy = df_life_extp.loc[:,year]\n",
    "    \n",
    "    data = []\n",
    "    \n",
    "    for country in life_expectancy.index:\n",
    "        if country in gdp.index:\n",
    "            # exclude any country were data is unknown\n",
    "            if (math.isnan(life_expectancy[country]) is False) and \\\n",
    "                (math.isnan(gdp[country]) is False):\n",
    "                data.append((country, life_expectancy[country], gdp[country]))\n",
    "            else:\n",
    "                print('Excluding ', country, ',NaN in data(life_exp = ',\n",
    "                      life_expectancy[country], 'gdp=', gdp[country], ')')\n",
    "        else:\n",
    "            print(country, 'is not in the GDP country data')\n",
    "    \n",
    "    combined = pd.DataFrame.from_records(data, columns=('Country',\n",
    "                                                       'Life Expectancy',\n",
    "                                                       'GDP'))\n",
    "    combined = combined.set_index('Country')\n",
    "    \n",
    "    # we will need sorted data for graphing properly later on\n",
    "    combined = combined.sort_values('Life Expectancy')\n",
    "    return combined"
   ]
  },
  {
   "cell_type": "code",
   "execution_count": 44,
   "id": "700db1f9",
   "metadata": {},
   "outputs": [],
   "source": [
    "def process_data(gdp_file, life_expectancy_file, year):\n",
    "    data = read_data(gdp_file, life_expectancy_file, year)\n",
    "\n",
    "    gdp = data[\"GDP\"].tolist()\n",
    "    gdp_log = data[\"GDP\"].apply(math.log).tolist()\n",
    "    life_exp = data[\"Life Expectancy\"].tolist()\n",
    "\n",
    "    m, c = least_squares([life_exp, gdp_log])\n",
    "\n",
    "    # list for logarithmic version\n",
    "    log_data = []\n",
    "    # list for raw version\n",
    "    linear_data = []\n",
    "    for x in life_exp:\n",
    "        y_log = m * x + c\n",
    "        log_data.append(y_log)\n",
    "\n",
    "        y = math.exp(y_log)\n",
    "        linear_data.append(y)\n",
    "\n",
    "    # uncomment for log version, further changes needed in make_graph too\n",
    "    # make_graph(life_exp, gdp_log, log_data)\n",
    "    #make_graph(life_exp, gdp, linear_data)\n",
    "    plt.figure(1)\n",
    "    plt.plot(life_exp, gdp, 'o')\n",
    "    plt.plot(life_exp,linear_data,'r')\n",
    "    plt.grid()\n",
    "    \n",
    "    \n",
    "    plt.figure(2)\n",
    "    plt.plot(life_exp, gdp_log, 'o')\n",
    "    plt.plot(life_exp,log_data,'r')\n",
    "    plt.grid()\n",
    "\n",
    "    err = measure_error(linear_data, gdp)\n",
    "    print(\"error=\", err)"
   ]
  },
  {
   "cell_type": "code",
   "execution_count": 45,
   "id": "d0ad78c2",
   "metadata": {},
   "outputs": [
    {
     "name": "stdout",
     "output_type": "stream",
     "text": [
      "Excluding  Afghanistan ,NaN in data(life_exp =  41.96 gdp= nan )\n",
      "Excluding  American Samoa ,NaN in data(life_exp =  nan gdp= nan )\n",
      "Excluding  Andorra ,NaN in data(life_exp =  nan gdp= 40495.698015877 )\n",
      "Excluding  Armenia ,NaN in data(life_exp =  72.72 gdp= nan )\n",
      "Excluding  Aruba ,NaN in data(life_exp =  72.29 gdp= nan )\n",
      "Excluding  Azerbaijan ,NaN in data(life_exp =  65.55 gdp= nan )\n",
      "Excluding  Belarus ,NaN in data(life_exp =  70.57 gdp= nan )\n",
      "Excluding  Bermuda ,NaN in data(life_exp =  nan gdp= 61083.4509496361 )\n",
      "Excluding  Bosnia and Herzegovina ,NaN in data(life_exp =  74.82 gdp= nan )\n",
      "Excluding  British Virgin Islands ,NaN in data(life_exp =  nan gdp= nan )\n",
      "Brunei is not in the GDP country data\n",
      "Excluding  Cambodia ,NaN in data(life_exp =  28.16 gdp= nan )\n",
      "Cape Verde is not in the GDP country data\n",
      "Excluding  Cayman Islands ,NaN in data(life_exp =  nan gdp= nan )\n",
      "Excluding  Channel Islands ,NaN in data(life_exp =  73.44 gdp= nan )\n",
      "Christmas Island is not in the GDP country data\n",
      "Cocos Island is not in the GDP country data\n",
      "Cook Is is not in the GDP country data\n",
      "Excluding  Croatia ,NaN in data(life_exp =  70.56 gdp= nan )\n",
      "Excluding  Czech Republic ,NaN in data(life_exp =  70.67 gdp= nan )\n",
      "Czechoslovakia is not in the GDP country data\n",
      "Excluding  Djibouti ,NaN in data(life_exp =  57.1 gdp= nan )\n",
      "Excluding  Dominica ,NaN in data(life_exp =  nan gdp= 2612.93413901671 )\n",
      "East Germany is not in the GDP country data\n",
      "Excluding  Eritrea ,NaN in data(life_exp =  46.66 gdp= nan )\n",
      "Eritrea and Ethiopia is not in the GDP country data\n",
      "Excluding  Estonia ,NaN in data(life_exp =  69.75 gdp= nan )\n",
      "Excluding  Ethiopia ,NaN in data(life_exp =  42.8 gdp= nan )\n",
      "Faeroe Islands is not in the GDP country data\n",
      "Falkland Is (Malvinas) is not in the GDP country data\n",
      "French Guiana is not in the GDP country data\n",
      "Excluding  French Polynesia ,NaN in data(life_exp =  64.56 gdp= nan )\n",
      "Excluding  Gibraltar ,NaN in data(life_exp =  nan gdp= nan )\n",
      "Guadeloupe is not in the GDP country data\n",
      "Excluding  Guam ,NaN in data(life_exp =  69.8 gdp= nan )\n",
      "Guernsey is not in the GDP country data\n",
      "Excluding  Guinea ,NaN in data(life_exp =  42.92 gdp= nan )\n",
      "Holy See is not in the GDP country data\n",
      "Excluding  Hungary ,NaN in data(life_exp =  69.18 gdp= nan )\n",
      "Excluding  Iceland ,NaN in data(life_exp =  76.92 gdp= nan )\n",
      "Excluding  Isle of Man ,NaN in data(life_exp =  nan gdp= nan )\n",
      "Jersey is not in the GDP country data\n",
      "Excluding  Kazakhstan ,NaN in data(life_exp =  66.05 gdp= nan )\n",
      "Excluding  North Korea ,NaN in data(life_exp =  65.39 gdp= nan )\n",
      "United Korea (former)\n",
      " is not in the GDP country data\n",
      "Excluding  Kosovo ,NaN in data(life_exp =  nan gdp= nan )\n",
      "Kuwait is not in the GDP country data\n",
      "Excluding  Kyrgyz Republic ,NaN in data(life_exp =  62.89 gdp= nan )\n",
      "Excluding  Lao ,NaN in data(life_exp =  46.91 gdp= nan )\n",
      "Excluding  Latvia ,NaN in data(life_exp =  69.23 gdp= nan )\n",
      "Excluding  Lebanon ,NaN in data(life_exp =  67.21 gdp= nan )\n",
      "Excluding  Liberia ,NaN in data(life_exp =  47.14 gdp= nan )\n",
      "Excluding  Libya ,NaN in data(life_exp =  68.13 gdp= nan )\n",
      "Excluding  Liechtenstein ,NaN in data(life_exp =  nan gdp= nan )\n",
      "Excluding  Lithuania ,NaN in data(life_exp =  70.78 gdp= nan )\n",
      "Macao, China is not in the GDP country data\n",
      "Excluding  Macedonia, FYR ,NaN in data(life_exp =  69.08 gdp= nan )\n",
      "Excluding  Maldives ,NaN in data(life_exp =  56.58 gdp= nan )\n",
      "Excluding  Marshall Islands ,NaN in data(life_exp =  nan gdp= nan )\n",
      "Martinique is not in the GDP country data\n",
      "Mayotte is not in the GDP country data\n",
      "Excluding  Micronesia, Fed. Sts. ,NaN in data(life_exp =  63.64 gdp= nan )\n",
      "Excluding  Moldova ,NaN in data(life_exp =  65.4 gdp= nan )\n",
      "Excluding  Monaco ,NaN in data(life_exp =  nan gdp= 108106.406312986 )\n",
      "Excluding  Mongolia ,NaN in data(life_exp =  58.56 gdp= nan )\n",
      "Excluding  Montenegro ,NaN in data(life_exp =  73.16 gdp= nan )\n",
      "Montserrat is not in the GDP country data\n",
      "Excluding  Nauru ,NaN in data(life_exp =  nan gdp= nan )\n",
      "Netherlands Antilles is not in the GDP country data\n",
      "Excluding  New Caledonia ,NaN in data(life_exp =  67.09 gdp= nan )\n",
      "Ngorno-Karabakh is not in the GDP country data\n",
      "Excluding  Northern Mariana Islands ,NaN in data(life_exp =  nan gdp= nan )\n",
      "Excluding  Palau ,NaN in data(life_exp =  nan gdp= nan )\n",
      "Excluding  Poland ,NaN in data(life_exp =  70.4 gdp= nan )\n",
      "Qatar is not in the GDP country data\n",
      "Reunion is not in the GDP country data\n",
      "Excluding  Romania ,NaN in data(life_exp =  70.1 gdp= nan )\n",
      "Excluding  Russia ,NaN in data(life_exp =  67.57 gdp= nan )\n",
      "St. Barthélemy is not in the GDP country data\n",
      "St. Helena is not in the GDP country data\n",
      "Excluding  St. Kitts and Nevis ,NaN in data(life_exp =  nan gdp= 5269.17237519849 )\n",
      "Excluding  Samoa ,NaN in data(life_exp =  63.2 gdp= nan )\n",
      "Excluding  Sao Tome and Principe ,NaN in data(life_exp =  61.83 gdp= nan )\n",
      "Excluding  Serbia ,NaN in data(life_exp =  70.68 gdp= nan )\n",
      "Serbia and Montenegro is not in the GDP country data\n",
      "Serbia excluding Kosovo is not in the GDP country data\n",
      "Excluding  Slovak Republic ,NaN in data(life_exp =  70.58 gdp= nan )\n",
      "Excluding  Slovenia ,NaN in data(life_exp =  70.89 gdp= nan )\n",
      "Excluding  Solomon Islands ,NaN in data(life_exp =  61.53 gdp= nan )\n",
      "Excluding  Somalia ,NaN in data(life_exp =  47.46 gdp= nan )\n",
      "Somaliland is not in the GDP country data\n",
      "South Ossetia is not in the GDP country data\n",
      "Svalbard is not in the GDP country data\n",
      "Swaziland is not in the GDP country data\n",
      "Excluding  Syria ,NaN in data(life_exp =  66.01 gdp= nan )\n",
      "Taiwan is not in the GDP country data\n",
      "Excluding  Tajikistan ,NaN in data(life_exp =  64.28 gdp= nan )\n",
      "Excluding  Tanzania ,NaN in data(life_exp =  54.29 gdp= nan )\n",
      "Excluding  Timor-Leste ,NaN in data(life_exp =  42.45 gdp= nan )\n",
      "Excluding  Tonga ,NaN in data(life_exp =  67.08 gdp= nan )\n",
      "Excluding  Turkmenistan ,NaN in data(life_exp =  61.9 gdp= nan )\n",
      "Excluding  Turks and Caicos Islands ,NaN in data(life_exp =  nan gdp= nan )\n",
      "Excluding  Tuvalu ,NaN in data(life_exp =  nan gdp= nan )\n",
      "Excluding  Uganda ,NaN in data(life_exp =  52.01 gdp= nan )\n",
      "Excluding  Ukraine ,NaN in data(life_exp =  69.33 gdp= nan )\n",
      "United Arab Emirates is not in the GDP country data\n",
      "Excluding  Uzbekistan ,NaN in data(life_exp =  66.25 gdp= nan )\n",
      "Excluding  West Bank and Gaza ,NaN in data(life_exp =  65.74 gdp= nan )\n",
      "West Germany is not in the GDP country data\n",
      "Western Sahara is not in the GDP country data\n",
      "Excluding  Vietnam ,NaN in data(life_exp =  66.49 gdp= nan )\n",
      "Excluding  Virgin Islands (U.S.) ,NaN in data(life_exp =  71.43 gdp= nan )\n",
      "Excluding  Yemen ,NaN in data(life_exp =  51.13 gdp= nan )\n",
      "Åland is not in the GDP country data\n",
      "Excluding  South Sudan ,NaN in data(life_exp =  44.93 gdp= nan )\n",
      "Results of linear regression:\n",
      "x_sum= 8062.49 y_sum= 1038.8012920046422 x_sq_sum= 518936.5179 xy_sum= 66838.6234100167\n",
      "m= 0.12676223836506617 c= 0.13110947506781123\n",
      "error= 8741.124994224838\n"
     ]
    },
    {
     "data": {
      "image/png": "[encoded data removed]",
      "text/plain": [
       "<Figure size 432x288 with 1 Axes>"
      ]
     },
     "metadata": {
      "needs_background": "light"
     },
     "output_type": "display_data"
    },
    {
     "data": {
      "image/png": "[encoded data removed]",
      "text/plain": [
       "<Figure size 432x288 with 1 Axes>"
      ]
     },
     "metadata": {
      "needs_background": "light"
     },
     "output_type": "display_data"
    }
   ],
   "source": [
    "process_data('./data/worldbank-gdp.csv',\n",
    "            './data/gapminder-life-expectancy.csv',\n",
    "            '1980')"
   ]
  },
  {
   "cell_type": "code",
   "execution_count": null,
   "id": "12306b8d",
   "metadata": {},
   "outputs": [],
   "source": []
  }
 ],
 "metadata": {
  "kernelspec": {
   "display_name": "Python 3",
   "language": "python",
   "name": "python3"
  },
  "language_info": {
   "codemirror_mode": {
    "name": "ipython",
    "version": 3
   },
   "file_extension": ".py",
   "mimetype": "text/x-python",
   "name": "python",
   "nbconvert_exporter": "python",
   "pygments_lexer": "ipython3",
   "version": "3.8.8"
  }
 },
 "nbformat": 4,
 "nbformat_minor": 5
}
