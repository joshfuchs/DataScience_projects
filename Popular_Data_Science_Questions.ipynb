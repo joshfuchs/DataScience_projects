{
 "cells": [
  {
   "cell_type": "markdown",
   "metadata": {},
   "source": [
    "# Popular Data Science Questions\n",
    "\n",
    "In this project, we will explore some of the most asked questions on [Data Science Stack Exchange](https://datascience.stackexchange.com/). To access the data, we will use the [Stack Exchange Data Explorer](https://data.stackexchange.com/datascience/query/new). This is a convinient public database Stack Exhange provides for each of its websites. \n",
    "\n",
    "After exploring the data model, the ```Posts``` table has the information that we will need. \n",
    "\n",
    "## Data Dictionary\n",
    "\n",
    "- ```Id```: An identification number for the post.\n",
    "- ```PostTypeId```: An identification number for the type of post\n",
    "- ```CreationDate```: The date and time of creation of the post.\n",
    "- ```Score```: The post's score.\n",
    "- ```ViewCount```: How many times the post was viewed.\n",
    "- ```Tags```: What tags were used.\n",
    "- ```AnswerCount```: How many answers the question got (only applicable to question posts).\n",
    "- ```FavoriteCount```: How many times the question was favored (only applicable to question posts)\n",
    "\n",
    "Since we only want posts that are questions, we select only ```PostTypeId = 1```\n",
    "\n",
    "\n",
    "## Query the Data\n",
    "The following query gets us the data we want:\n",
    "\n",
    "```\n",
    "SELECT Id, PostTypeId, CreationDate, Score,\n",
    "  ViewCount, Tags, AnswerCount, FavoriteCount \n",
    "  FROM Posts\n",
    "  WHERE PostTypeId = 1 AND YEAR(CreationDate) = 2019;\n",
    "```\n"
   ]
  },
  {
   "cell_type": "markdown",
   "metadata": {
    "collapsed": true
   },
   "source": [
    "## Import libraries and dataframe. Explore the dataframe"
   ]
  },
  {
   "cell_type": "code",
   "execution_count": 68,
   "metadata": {},
   "outputs": [],
   "source": [
    "import pandas as pd\n",
    "import matplotlib.pyplot as plt\n",
    "import seaborn as sns\n",
    "\n",
    "plt.style.use('seaborn-whitegrid')\n",
    "plt.rc('figure', autolayout=True)\n",
    "plt.rc(\n",
    "    'axes',\n",
    "    labelweight='bold',\n",
    "    labelsize='large',\n",
    "    titleweight='bold',\n",
    "    titlesize=14\n",
    "    )\n",
    "\n",
    "\n",
    "%matplotlib inline"
   ]
  },
  {
   "cell_type": "code",
   "execution_count": 69,
   "metadata": {},
   "outputs": [],
   "source": [
    "df = pd.read_csv('2019_questions.csv')"
   ]
  },
  {
   "cell_type": "code",
   "execution_count": 70,
   "metadata": {},
   "outputs": [
    {
     "data": {
      "text/html": [
       "<div>\n",
       "<style scoped>\n",
       "    .dataframe tbody tr th:only-of-type {\n",
       "        vertical-align: middle;\n",
       "    }\n",
       "\n",
       "    .dataframe tbody tr th {\n",
       "        vertical-align: top;\n",
       "    }\n",
       "\n",
       "    .dataframe thead th {\n",
       "        text-align: right;\n",
       "    }\n",
       "</style>\n",
       "<table border=\"1\" class=\"dataframe\">\n",
       "  <thead>\n",
       "    <tr style=\"text-align: right;\">\n",
       "      <th></th>\n",
       "      <th>Id</th>\n",
       "      <th>CreationDate</th>\n",
       "      <th>Score</th>\n",
       "      <th>ViewCount</th>\n",
       "      <th>Tags</th>\n",
       "      <th>AnswerCount</th>\n",
       "      <th>FavoriteCount</th>\n",
       "    </tr>\n",
       "  </thead>\n",
       "  <tbody>\n",
       "    <tr>\n",
       "      <th>0</th>\n",
       "      <td>44419</td>\n",
       "      <td>2019-01-23 09:21:13</td>\n",
       "      <td>1</td>\n",
       "      <td>21</td>\n",
       "      <td>&lt;machine-learning&gt;&lt;data-mining&gt;</td>\n",
       "      <td>0</td>\n",
       "      <td>NaN</td>\n",
       "    </tr>\n",
       "    <tr>\n",
       "      <th>1</th>\n",
       "      <td>44420</td>\n",
       "      <td>2019-01-23 09:34:01</td>\n",
       "      <td>0</td>\n",
       "      <td>25</td>\n",
       "      <td>&lt;machine-learning&gt;&lt;regression&gt;&lt;linear-regressi...</td>\n",
       "      <td>0</td>\n",
       "      <td>NaN</td>\n",
       "    </tr>\n",
       "    <tr>\n",
       "      <th>2</th>\n",
       "      <td>44423</td>\n",
       "      <td>2019-01-23 09:58:41</td>\n",
       "      <td>2</td>\n",
       "      <td>1651</td>\n",
       "      <td>&lt;python&gt;&lt;time-series&gt;&lt;forecast&gt;&lt;forecasting&gt;</td>\n",
       "      <td>0</td>\n",
       "      <td>NaN</td>\n",
       "    </tr>\n",
       "    <tr>\n",
       "      <th>3</th>\n",
       "      <td>44427</td>\n",
       "      <td>2019-01-23 10:57:09</td>\n",
       "      <td>0</td>\n",
       "      <td>55</td>\n",
       "      <td>&lt;machine-learning&gt;&lt;scikit-learn&gt;&lt;pca&gt;</td>\n",
       "      <td>1</td>\n",
       "      <td>NaN</td>\n",
       "    </tr>\n",
       "    <tr>\n",
       "      <th>4</th>\n",
       "      <td>44428</td>\n",
       "      <td>2019-01-23 11:02:15</td>\n",
       "      <td>0</td>\n",
       "      <td>19</td>\n",
       "      <td>&lt;dataset&gt;&lt;bigdata&gt;&lt;data&gt;&lt;speech-to-text&gt;</td>\n",
       "      <td>0</td>\n",
       "      <td>NaN</td>\n",
       "    </tr>\n",
       "  </tbody>\n",
       "</table>\n",
       "</div>"
      ],
      "text/plain": [
       "      Id         CreationDate  Score  ViewCount  \\\n",
       "0  44419  2019-01-23 09:21:13      1         21   \n",
       "1  44420  2019-01-23 09:34:01      0         25   \n",
       "2  44423  2019-01-23 09:58:41      2       1651   \n",
       "3  44427  2019-01-23 10:57:09      0         55   \n",
       "4  44428  2019-01-23 11:02:15      0         19   \n",
       "\n",
       "                                                Tags  AnswerCount  \\\n",
       "0                    <machine-learning><data-mining>            0   \n",
       "1  <machine-learning><regression><linear-regressi...            0   \n",
       "2       <python><time-series><forecast><forecasting>            0   \n",
       "3              <machine-learning><scikit-learn><pca>            1   \n",
       "4           <dataset><bigdata><data><speech-to-text>            0   \n",
       "\n",
       "   FavoriteCount  \n",
       "0            NaN  \n",
       "1            NaN  \n",
       "2            NaN  \n",
       "3            NaN  \n",
       "4            NaN  "
      ]
     },
     "execution_count": 70,
     "metadata": {},
     "output_type": "execute_result"
    }
   ],
   "source": [
    "df.head()"
   ]
  },
  {
   "cell_type": "code",
   "execution_count": 71,
   "metadata": {},
   "outputs": [
    {
     "name": "stdout",
     "output_type": "stream",
     "text": [
      "<class 'pandas.core.frame.DataFrame'>\n",
      "RangeIndex: 8839 entries, 0 to 8838\n",
      "Data columns (total 7 columns):\n",
      " #   Column         Non-Null Count  Dtype  \n",
      "---  ------         --------------  -----  \n",
      " 0   Id             8839 non-null   int64  \n",
      " 1   CreationDate   8839 non-null   object \n",
      " 2   Score          8839 non-null   int64  \n",
      " 3   ViewCount      8839 non-null   int64  \n",
      " 4   Tags           8839 non-null   object \n",
      " 5   AnswerCount    8839 non-null   int64  \n",
      " 6   FavoriteCount  1407 non-null   float64\n",
      "dtypes: float64(1), int64(4), object(2)\n",
      "memory usage: 483.5+ KB\n"
     ]
    }
   ],
   "source": [
    "df.info()"
   ]
  },
  {
   "cell_type": "markdown",
   "metadata": {},
   "source": [
    "There are 8839 rows of data. The only column with missing data is ```FavoriteCount```. A missing value in this column probably means the post was not listed as a favorite for anybody, so we can replace the NaNs with 0. \n",
    "\n"
   ]
  },
  {
   "cell_type": "code",
   "execution_count": 72,
   "metadata": {},
   "outputs": [
    {
     "data": {
      "text/plain": [
       "array([nan,  1.,  2.,  3.,  0., 11.,  4.,  5.,  7.,  6., 16.,  8.])"
      ]
     },
     "execution_count": 72,
     "metadata": {},
     "output_type": "execute_result"
    }
   ],
   "source": [
    "df['FavoriteCount'].unique()"
   ]
  },
  {
   "cell_type": "markdown",
   "metadata": {},
   "source": [
    "## Cleaning the Data\n",
    "\n",
    "First, fill the missing values from ```FavoriteCount``` with 0s and convert to Int datatype.\n",
    "\n"
   ]
  },
  {
   "cell_type": "code",
   "execution_count": 73,
   "metadata": {},
   "outputs": [],
   "source": [
    "df.fillna(value={'FavoriteCount':0},inplace=True)\n",
    "df['FavoriteCount'] = df['FavoriteCount'].astype(int)"
   ]
  },
  {
   "cell_type": "code",
   "execution_count": 74,
   "metadata": {},
   "outputs": [
    {
     "data": {
      "text/plain": [
       "dtype('int64')"
      ]
     },
     "execution_count": 74,
     "metadata": {},
     "output_type": "execute_result"
    }
   ],
   "source": [
    "df['FavoriteCount'].dtype"
   ]
  },
  {
   "cell_type": "markdown",
   "metadata": {},
   "source": [
    "Now, let's set the types of each column according to what will make sense when we want to use the column for analysis.\n",
    "\n",
    "In particular, we will change ```CreationDate``` to datetime65[ns]. "
   ]
  },
  {
   "cell_type": "code",
   "execution_count": 75,
   "metadata": {},
   "outputs": [
    {
     "name": "stdout",
     "output_type": "stream",
     "text": [
      "<class 'pandas.core.frame.DataFrame'>\n",
      "RangeIndex: 8839 entries, 0 to 8838\n",
      "Data columns (total 7 columns):\n",
      " #   Column         Non-Null Count  Dtype         \n",
      "---  ------         --------------  -----         \n",
      " 0   Id             8839 non-null   int64         \n",
      " 1   CreationDate   8839 non-null   datetime64[ns]\n",
      " 2   Score          8839 non-null   int64         \n",
      " 3   ViewCount      8839 non-null   int64         \n",
      " 4   Tags           8839 non-null   object        \n",
      " 5   AnswerCount    8839 non-null   int64         \n",
      " 6   FavoriteCount  8839 non-null   int64         \n",
      "dtypes: datetime64[ns](1), int64(5), object(1)\n",
      "memory usage: 483.5+ KB\n"
     ]
    }
   ],
   "source": [
    "df['CreationDate'] = pd.to_datetime(df['CreationDate'])\n",
    "df.info()"
   ]
  },
  {
   "cell_type": "markdown",
   "metadata": {},
   "source": [
    "And finally, let us clean the ```Tags``` columns so that each tag is a string comprised of possibly multiple tags, each separated by commas."
   ]
  },
  {
   "cell_type": "code",
   "execution_count": 76,
   "metadata": {},
   "outputs": [
    {
     "name": "stderr",
     "output_type": "stream",
     "text": [
      "<ipython-input-76-6dd37623c225>:1: FutureWarning: The default value of regex will change from True to False in a future version.\n",
      "  df['Tags'] = df['Tags'].str.replace(\"^<|>$\", \"\").str.split(\"><\")\n"
     ]
    }
   ],
   "source": [
    "df['Tags'] = df['Tags'].str.replace(\"^<|>$\", \"\").str.split(\"><\")"
   ]
  },
  {
   "cell_type": "code",
   "execution_count": 77,
   "metadata": {},
   "outputs": [
    {
     "data": {
      "text/html": [
       "<div>\n",
       "<style scoped>\n",
       "    .dataframe tbody tr th:only-of-type {\n",
       "        vertical-align: middle;\n",
       "    }\n",
       "\n",
       "    .dataframe tbody tr th {\n",
       "        vertical-align: top;\n",
       "    }\n",
       "\n",
       "    .dataframe thead th {\n",
       "        text-align: right;\n",
       "    }\n",
       "</style>\n",
       "<table border=\"1\" class=\"dataframe\">\n",
       "  <thead>\n",
       "    <tr style=\"text-align: right;\">\n",
       "      <th></th>\n",
       "      <th>Id</th>\n",
       "      <th>CreationDate</th>\n",
       "      <th>Score</th>\n",
       "      <th>ViewCount</th>\n",
       "      <th>Tags</th>\n",
       "      <th>AnswerCount</th>\n",
       "      <th>FavoriteCount</th>\n",
       "    </tr>\n",
       "  </thead>\n",
       "  <tbody>\n",
       "    <tr>\n",
       "      <th>0</th>\n",
       "      <td>44419</td>\n",
       "      <td>2019-01-23 09:21:13</td>\n",
       "      <td>1</td>\n",
       "      <td>21</td>\n",
       "      <td>[machine-learning, data-mining]</td>\n",
       "      <td>0</td>\n",
       "      <td>0</td>\n",
       "    </tr>\n",
       "    <tr>\n",
       "      <th>1</th>\n",
       "      <td>44420</td>\n",
       "      <td>2019-01-23 09:34:01</td>\n",
       "      <td>0</td>\n",
       "      <td>25</td>\n",
       "      <td>[machine-learning, regression, linear-regressi...</td>\n",
       "      <td>0</td>\n",
       "      <td>0</td>\n",
       "    </tr>\n",
       "    <tr>\n",
       "      <th>2</th>\n",
       "      <td>44423</td>\n",
       "      <td>2019-01-23 09:58:41</td>\n",
       "      <td>2</td>\n",
       "      <td>1651</td>\n",
       "      <td>[python, time-series, forecast, forecasting]</td>\n",
       "      <td>0</td>\n",
       "      <td>0</td>\n",
       "    </tr>\n",
       "    <tr>\n",
       "      <th>3</th>\n",
       "      <td>44427</td>\n",
       "      <td>2019-01-23 10:57:09</td>\n",
       "      <td>0</td>\n",
       "      <td>55</td>\n",
       "      <td>[machine-learning, scikit-learn, pca]</td>\n",
       "      <td>1</td>\n",
       "      <td>0</td>\n",
       "    </tr>\n",
       "    <tr>\n",
       "      <th>4</th>\n",
       "      <td>44428</td>\n",
       "      <td>2019-01-23 11:02:15</td>\n",
       "      <td>0</td>\n",
       "      <td>19</td>\n",
       "      <td>[dataset, bigdata, data, speech-to-text]</td>\n",
       "      <td>0</td>\n",
       "      <td>0</td>\n",
       "    </tr>\n",
       "  </tbody>\n",
       "</table>\n",
       "</div>"
      ],
      "text/plain": [
       "      Id        CreationDate  Score  ViewCount  \\\n",
       "0  44419 2019-01-23 09:21:13      1         21   \n",
       "1  44420 2019-01-23 09:34:01      0         25   \n",
       "2  44423 2019-01-23 09:58:41      2       1651   \n",
       "3  44427 2019-01-23 10:57:09      0         55   \n",
       "4  44428 2019-01-23 11:02:15      0         19   \n",
       "\n",
       "                                                Tags  AnswerCount  \\\n",
       "0                    [machine-learning, data-mining]            0   \n",
       "1  [machine-learning, regression, linear-regressi...            0   \n",
       "2       [python, time-series, forecast, forecasting]            0   \n",
       "3              [machine-learning, scikit-learn, pca]            1   \n",
       "4           [dataset, bigdata, data, speech-to-text]            0   \n",
       "\n",
       "   FavoriteCount  \n",
       "0              0  \n",
       "1              0  \n",
       "2              0  \n",
       "3              0  \n",
       "4              0  "
      ]
     },
     "execution_count": 77,
     "metadata": {},
     "output_type": "execute_result"
    }
   ],
   "source": [
    "df.head()"
   ]
  },
  {
   "cell_type": "code",
   "execution_count": 78,
   "metadata": {},
   "outputs": [
    {
     "name": "stdout",
     "output_type": "stream",
     "text": [
      "<class 'pandas.core.frame.DataFrame'>\n",
      "RangeIndex: 8839 entries, 0 to 8838\n",
      "Data columns (total 7 columns):\n",
      " #   Column         Non-Null Count  Dtype         \n",
      "---  ------         --------------  -----         \n",
      " 0   Id             8839 non-null   int64         \n",
      " 1   CreationDate   8839 non-null   datetime64[ns]\n",
      " 2   Score          8839 non-null   int64         \n",
      " 3   ViewCount      8839 non-null   int64         \n",
      " 4   Tags           8839 non-null   object        \n",
      " 5   AnswerCount    8839 non-null   int64         \n",
      " 6   FavoriteCount  8839 non-null   int64         \n",
      "dtypes: datetime64[ns](1), int64(5), object(1)\n",
      "memory usage: 483.5+ KB\n"
     ]
    }
   ],
   "source": [
    "# check that we have what we want\n",
    "\n",
    "df.info()"
   ]
  },
  {
   "cell_type": "markdown",
   "metadata": {},
   "source": [
    "## Most Used and Most Viewed\n",
    "\n",
    "We now focus on determining the most popular tags. We'll do so by considering two different popularity proxies: for each tag we'll count how many times the tag was used, and how many times a question with that tag was viewed.\n",
    "\n"
   ]
  },
  {
   "cell_type": "code",
   "execution_count": 79,
   "metadata": {},
   "outputs": [],
   "source": [
    "# count how many times each tag was used\n",
    "\n",
    "tag_count = dict()\n",
    "\n",
    "for x in df['Tags']:\n",
    "    for tag in x:\n",
    "        if tag in tag_count:\n",
    "            tag_count[tag] += 1\n",
    "        else:\n",
    "            tag_count[tag] = 1"
   ]
  },
  {
   "cell_type": "code",
   "execution_count": 80,
   "metadata": {},
   "outputs": [
    {
     "data": {
      "text/html": [
       "<div>\n",
       "<style scoped>\n",
       "    .dataframe tbody tr th:only-of-type {\n",
       "        vertical-align: middle;\n",
       "    }\n",
       "\n",
       "    .dataframe tbody tr th {\n",
       "        vertical-align: top;\n",
       "    }\n",
       "\n",
       "    .dataframe thead th {\n",
       "        text-align: right;\n",
       "    }\n",
       "</style>\n",
       "<table border=\"1\" class=\"dataframe\">\n",
       "  <thead>\n",
       "    <tr style=\"text-align: right;\">\n",
       "      <th></th>\n",
       "      <th>Count</th>\n",
       "    </tr>\n",
       "  </thead>\n",
       "  <tbody>\n",
       "    <tr>\n",
       "      <th>machine-learning</th>\n",
       "      <td>2693</td>\n",
       "    </tr>\n",
       "    <tr>\n",
       "      <th>data-mining</th>\n",
       "      <td>217</td>\n",
       "    </tr>\n",
       "    <tr>\n",
       "      <th>regression</th>\n",
       "      <td>347</td>\n",
       "    </tr>\n",
       "    <tr>\n",
       "      <th>linear-regression</th>\n",
       "      <td>175</td>\n",
       "    </tr>\n",
       "    <tr>\n",
       "      <th>regularization</th>\n",
       "      <td>50</td>\n",
       "    </tr>\n",
       "  </tbody>\n",
       "</table>\n",
       "</div>"
      ],
      "text/plain": [
       "                   Count\n",
       "machine-learning    2693\n",
       "data-mining          217\n",
       "regression           347\n",
       "linear-regression    175\n",
       "regularization        50"
      ]
     },
     "execution_count": 80,
     "metadata": {},
     "output_type": "execute_result"
    }
   ],
   "source": [
    "# convert tag_count to dataframe\n",
    "tag_count = pd.DataFrame.from_dict(tag_count, orient=\"index\")\n",
    "tag_count.rename(columns={0: \"Count\"}, inplace=True)\n",
    "\n",
    "tag_count.head()"
   ]
  },
  {
   "cell_type": "code",
   "execution_count": 81,
   "metadata": {},
   "outputs": [],
   "source": [
    "most_popular = tag_count.sort_values(by='Count').tail(20)\n"
   ]
  },
  {
   "cell_type": "code",
   "execution_count": 82,
   "metadata": {},
   "outputs": [
    {
     "data": {
      "image/png": "[encoded data removed]",
      "text/plain": [
       "<Figure size 1152x648 with 1 Axes>"
      ]
     },
     "metadata": {
      "needs_background": "light"
     },
     "output_type": "display_data"
    }
   ],
   "source": [
    "plt.figure(figsize=(16,9))\n",
    "\n",
    "sns.barplot(x=most_popular.index,y='Count',data=most_popular,\n",
    "           color='lightcoral')\n",
    "plt.xticks(fontsize=16,rotation=90)\n",
    "plt.yticks(fontsize=16)\n",
    "plt.ylabel('Number of Questions',fontsize=16)\n",
    "\n",
    "plt.show()"
   ]
  },
  {
   "cell_type": "code",
   "execution_count": 83,
   "metadata": {},
   "outputs": [],
   "source": [
    "tag_view_count = dict()\n",
    "\n",
    "for index, row in df.iterrows():\n",
    "    for tag in row['Tags']:\n",
    "        if tag in tag_view_count:\n",
    "            tag_view_count[tag] += row['ViewCount']\n",
    "        else:\n",
    "            tag_view_count[tag] = row['ViewCount']\n",
    "            \n",
    "tag_view_count = pd.DataFrame.from_dict(tag_view_count, orient=\"index\")\n",
    "tag_view_count.rename(columns={0: \"ViewCount\"}, inplace=True)\n",
    "\n",
    "most_viewed = tag_view_count.sort_values(by=\"ViewCount\").tail(20)\n",
    "\n",
    "\n"
   ]
  },
  {
   "cell_type": "code",
   "execution_count": 84,
   "metadata": {},
   "outputs": [
    {
     "data": {
      "image/png": "[encoded data removed]",
      "text/plain": [
       "<Figure size 1152x648 with 1 Axes>"
      ]
     },
     "metadata": {
      "needs_background": "light"
     },
     "output_type": "display_data"
    }
   ],
   "source": [
    "plt.figure(figsize=(16,9))\n",
    "sns.barplot(x=most_viewed.index,y='ViewCount',data=most_viewed,\n",
    "           color='lightcoral')\n",
    "plt.xticks(fontsize=16,rotation=90)\n",
    "plt.yticks(fontsize=16)\n",
    "plt.ylabel('Number of Views',fontsize=16)\n",
    "\n",
    "plt.show()"
   ]
  },
  {
   "cell_type": "markdown",
   "metadata": {},
   "source": [
    "## Relations Between Tags"
   ]
  },
  {
   "cell_type": "code",
   "execution_count": 85,
   "metadata": {},
   "outputs": [
    {
     "data": {
      "text/html": [
       "<div>\n",
       "<style scoped>\n",
       "    .dataframe tbody tr th:only-of-type {\n",
       "        vertical-align: middle;\n",
       "    }\n",
       "\n",
       "    .dataframe tbody tr th {\n",
       "        vertical-align: top;\n",
       "    }\n",
       "\n",
       "    .dataframe thead th {\n",
       "        text-align: right;\n",
       "    }\n",
       "</style>\n",
       "<table border=\"1\" class=\"dataframe\">\n",
       "  <thead>\n",
       "    <tr style=\"text-align: right;\">\n",
       "      <th></th>\n",
       "      <th>Count</th>\n",
       "      <th>ViewCount</th>\n",
       "    </tr>\n",
       "  </thead>\n",
       "  <tbody>\n",
       "    <tr>\n",
       "      <th>machine-learning-model</th>\n",
       "      <td>224</td>\n",
       "      <td>NaN</td>\n",
       "    </tr>\n",
       "    <tr>\n",
       "      <th>statistics</th>\n",
       "      <td>234</td>\n",
       "      <td>NaN</td>\n",
       "    </tr>\n",
       "    <tr>\n",
       "      <th>clustering</th>\n",
       "      <td>257</td>\n",
       "      <td>33928.0</td>\n",
       "    </tr>\n",
       "    <tr>\n",
       "      <th>predictive-modeling</th>\n",
       "      <td>265</td>\n",
       "      <td>NaN</td>\n",
       "    </tr>\n",
       "    <tr>\n",
       "      <th>r</th>\n",
       "      <td>268</td>\n",
       "      <td>NaN</td>\n",
       "    </tr>\n",
       "    <tr>\n",
       "      <th>dataset</th>\n",
       "      <td>340</td>\n",
       "      <td>43151.0</td>\n",
       "    </tr>\n",
       "    <tr>\n",
       "      <th>regression</th>\n",
       "      <td>347</td>\n",
       "      <td>49451.0</td>\n",
       "    </tr>\n",
       "    <tr>\n",
       "      <th>pandas</th>\n",
       "      <td>354</td>\n",
       "      <td>201787.0</td>\n",
       "    </tr>\n",
       "    <tr>\n",
       "      <th>lstm</th>\n",
       "      <td>402</td>\n",
       "      <td>74458.0</td>\n",
       "    </tr>\n",
       "    <tr>\n",
       "      <th>time-series</th>\n",
       "      <td>466</td>\n",
       "      <td>64134.0</td>\n",
       "    </tr>\n",
       "    <tr>\n",
       "      <th>cnn</th>\n",
       "      <td>489</td>\n",
       "      <td>70349.0</td>\n",
       "    </tr>\n",
       "    <tr>\n",
       "      <th>nlp</th>\n",
       "      <td>493</td>\n",
       "      <td>71382.0</td>\n",
       "    </tr>\n",
       "    <tr>\n",
       "      <th>scikit-learn</th>\n",
       "      <td>540</td>\n",
       "      <td>128110.0</td>\n",
       "    </tr>\n",
       "    <tr>\n",
       "      <th>tensorflow</th>\n",
       "      <td>584</td>\n",
       "      <td>121369.0</td>\n",
       "    </tr>\n",
       "    <tr>\n",
       "      <th>classification</th>\n",
       "      <td>685</td>\n",
       "      <td>104457.0</td>\n",
       "    </tr>\n",
       "    <tr>\n",
       "      <th>keras</th>\n",
       "      <td>935</td>\n",
       "      <td>268608.0</td>\n",
       "    </tr>\n",
       "    <tr>\n",
       "      <th>neural-network</th>\n",
       "      <td>1055</td>\n",
       "      <td>185367.0</td>\n",
       "    </tr>\n",
       "    <tr>\n",
       "      <th>deep-learning</th>\n",
       "      <td>1220</td>\n",
       "      <td>233628.0</td>\n",
       "    </tr>\n",
       "    <tr>\n",
       "      <th>python</th>\n",
       "      <td>1814</td>\n",
       "      <td>537585.0</td>\n",
       "    </tr>\n",
       "    <tr>\n",
       "      <th>machine-learning</th>\n",
       "      <td>2693</td>\n",
       "      <td>388499.0</td>\n",
       "    </tr>\n",
       "  </tbody>\n",
       "</table>\n",
       "</div>"
      ],
      "text/plain": [
       "                        Count  ViewCount\n",
       "machine-learning-model    224        NaN\n",
       "statistics                234        NaN\n",
       "clustering                257    33928.0\n",
       "predictive-modeling       265        NaN\n",
       "r                         268        NaN\n",
       "dataset                   340    43151.0\n",
       "regression                347    49451.0\n",
       "pandas                    354   201787.0\n",
       "lstm                      402    74458.0\n",
       "time-series               466    64134.0\n",
       "cnn                       489    70349.0\n",
       "nlp                       493    71382.0\n",
       "scikit-learn              540   128110.0\n",
       "tensorflow                584   121369.0\n",
       "classification            685   104457.0\n",
       "keras                     935   268608.0\n",
       "neural-network           1055   185367.0\n",
       "deep-learning            1220   233628.0\n",
       "python                   1814   537585.0\n",
       "machine-learning         2693   388499.0"
      ]
     },
     "execution_count": 85,
     "metadata": {},
     "output_type": "execute_result"
    }
   ],
   "source": [
    "# let's see which tags are in most_popular but not in most_viwed\n",
    "\n",
    "in_popular = pd.merge(most_popular, most_viewed, how=\"left\", left_index=True, right_index=True)\n",
    "\n",
    "in_popular.head(40)\n",
    "#in_popular.size\n"
   ]
  },
  {
   "cell_type": "code",
   "execution_count": 86,
   "metadata": {},
   "outputs": [],
   "source": [
    "# let's see which tags are in most_viewed but not in most_popular\n",
    "\n",
    "in_viewed = pd.merge(most_viewed, most_popular, how=\"left\", left_index=True, right_index=True)\n"
   ]
  },
  {
   "cell_type": "code",
   "execution_count": 87,
   "metadata": {},
   "outputs": [
    {
     "data": {
      "text/html": [
       "<div>\n",
       "<style scoped>\n",
       "    .dataframe tbody tr th:only-of-type {\n",
       "        vertical-align: middle;\n",
       "    }\n",
       "\n",
       "    .dataframe tbody tr th {\n",
       "        vertical-align: top;\n",
       "    }\n",
       "\n",
       "    .dataframe thead th {\n",
       "        text-align: right;\n",
       "    }\n",
       "</style>\n",
       "<table border=\"1\" class=\"dataframe\">\n",
       "  <thead>\n",
       "    <tr style=\"text-align: right;\">\n",
       "      <th></th>\n",
       "      <th>ViewCount</th>\n",
       "      <th>Count</th>\n",
       "    </tr>\n",
       "  </thead>\n",
       "  <tbody>\n",
       "    <tr>\n",
       "      <th>clustering</th>\n",
       "      <td>33928</td>\n",
       "      <td>257.0</td>\n",
       "    </tr>\n",
       "    <tr>\n",
       "      <th>csv</th>\n",
       "      <td>38654</td>\n",
       "      <td>NaN</td>\n",
       "    </tr>\n",
       "    <tr>\n",
       "      <th>pytorch</th>\n",
       "      <td>40240</td>\n",
       "      <td>NaN</td>\n",
       "    </tr>\n",
       "    <tr>\n",
       "      <th>dataset</th>\n",
       "      <td>43151</td>\n",
       "      <td>340.0</td>\n",
       "    </tr>\n",
       "    <tr>\n",
       "      <th>regression</th>\n",
       "      <td>49451</td>\n",
       "      <td>347.0</td>\n",
       "    </tr>\n",
       "    <tr>\n",
       "      <th>numpy</th>\n",
       "      <td>49767</td>\n",
       "      <td>NaN</td>\n",
       "    </tr>\n",
       "    <tr>\n",
       "      <th>time-series</th>\n",
       "      <td>64134</td>\n",
       "      <td>466.0</td>\n",
       "    </tr>\n",
       "    <tr>\n",
       "      <th>cnn</th>\n",
       "      <td>70349</td>\n",
       "      <td>489.0</td>\n",
       "    </tr>\n",
       "    <tr>\n",
       "      <th>nlp</th>\n",
       "      <td>71382</td>\n",
       "      <td>493.0</td>\n",
       "    </tr>\n",
       "    <tr>\n",
       "      <th>lstm</th>\n",
       "      <td>74458</td>\n",
       "      <td>402.0</td>\n",
       "    </tr>\n",
       "    <tr>\n",
       "      <th>dataframe</th>\n",
       "      <td>89352</td>\n",
       "      <td>NaN</td>\n",
       "    </tr>\n",
       "    <tr>\n",
       "      <th>classification</th>\n",
       "      <td>104457</td>\n",
       "      <td>685.0</td>\n",
       "    </tr>\n",
       "    <tr>\n",
       "      <th>tensorflow</th>\n",
       "      <td>121369</td>\n",
       "      <td>584.0</td>\n",
       "    </tr>\n",
       "    <tr>\n",
       "      <th>scikit-learn</th>\n",
       "      <td>128110</td>\n",
       "      <td>540.0</td>\n",
       "    </tr>\n",
       "    <tr>\n",
       "      <th>neural-network</th>\n",
       "      <td>185367</td>\n",
       "      <td>1055.0</td>\n",
       "    </tr>\n",
       "    <tr>\n",
       "      <th>pandas</th>\n",
       "      <td>201787</td>\n",
       "      <td>354.0</td>\n",
       "    </tr>\n",
       "    <tr>\n",
       "      <th>deep-learning</th>\n",
       "      <td>233628</td>\n",
       "      <td>1220.0</td>\n",
       "    </tr>\n",
       "    <tr>\n",
       "      <th>keras</th>\n",
       "      <td>268608</td>\n",
       "      <td>935.0</td>\n",
       "    </tr>\n",
       "    <tr>\n",
       "      <th>machine-learning</th>\n",
       "      <td>388499</td>\n",
       "      <td>2693.0</td>\n",
       "    </tr>\n",
       "    <tr>\n",
       "      <th>python</th>\n",
       "      <td>537585</td>\n",
       "      <td>1814.0</td>\n",
       "    </tr>\n",
       "  </tbody>\n",
       "</table>\n",
       "</div>"
      ],
      "text/plain": [
       "                  ViewCount   Count\n",
       "clustering            33928   257.0\n",
       "csv                   38654     NaN\n",
       "pytorch               40240     NaN\n",
       "dataset               43151   340.0\n",
       "regression            49451   347.0\n",
       "numpy                 49767     NaN\n",
       "time-series           64134   466.0\n",
       "cnn                   70349   489.0\n",
       "nlp                   71382   493.0\n",
       "lstm                  74458   402.0\n",
       "dataframe             89352     NaN\n",
       "classification       104457   685.0\n",
       "tensorflow           121369   584.0\n",
       "scikit-learn         128110   540.0\n",
       "neural-network       185367  1055.0\n",
       "pandas               201787   354.0\n",
       "deep-learning        233628  1220.0\n",
       "keras                268608   935.0\n",
       "machine-learning     388499  2693.0\n",
       "python               537585  1814.0"
      ]
     },
     "execution_count": 87,
     "metadata": {},
     "output_type": "execute_result"
    }
   ],
   "source": [
    "in_viewed.head(40)"
   ]
  },
  {
   "cell_type": "markdown",
   "metadata": {},
   "source": [
    "The tags present in ```most_popular``` and not present in ```most_viewed``` are\n",
    "- machine-learning-model\n",
    "- statistics\n",
    "- predictive-modeling\n",
    "- r\n",
    "\n",
    "The tage present in ```most_viewed``` and not present in ```most_popular``` are\n",
    "- csv\n",
    "- pytorch\n",
    "- dataframe\n"
   ]
  },
  {
   "cell_type": "markdown",
   "metadata": {
    "collapsed": true
   },
   "source": [
    "## Is Deep Learning a Fad?\n",
    "\n",
    "We saw above that deep learning appeared on both ```most_viewed``` and ```most_popular```. We will spend some time investigating how interest in deep learning has changed over time. This will help us understand whether or not deep learning is a fad. \n",
    "\n",
    "We will start by important a dataset that contains all questions asked on Data Science Stack Exchange since 2014. "
   ]
  },
  {
   "cell_type": "code",
   "execution_count": 88,
   "metadata": {},
   "outputs": [
    {
     "data": {
      "text/html": [
       "<div>\n",
       "<style scoped>\n",
       "    .dataframe tbody tr th:only-of-type {\n",
       "        vertical-align: middle;\n",
       "    }\n",
       "\n",
       "    .dataframe tbody tr th {\n",
       "        vertical-align: top;\n",
       "    }\n",
       "\n",
       "    .dataframe thead th {\n",
       "        text-align: right;\n",
       "    }\n",
       "</style>\n",
       "<table border=\"1\" class=\"dataframe\">\n",
       "  <thead>\n",
       "    <tr style=\"text-align: right;\">\n",
       "      <th></th>\n",
       "      <th>Id</th>\n",
       "      <th>CreationDate</th>\n",
       "      <th>Tags</th>\n",
       "    </tr>\n",
       "  </thead>\n",
       "  <tbody>\n",
       "    <tr>\n",
       "      <th>0</th>\n",
       "      <td>45416</td>\n",
       "      <td>2019-02-12 00:36:29</td>\n",
       "      <td>&lt;python&gt;&lt;keras&gt;&lt;tensorflow&gt;&lt;cnn&gt;&lt;probability&gt;</td>\n",
       "    </tr>\n",
       "    <tr>\n",
       "      <th>1</th>\n",
       "      <td>45418</td>\n",
       "      <td>2019-02-12 00:50:39</td>\n",
       "      <td>&lt;neural-network&gt;</td>\n",
       "    </tr>\n",
       "    <tr>\n",
       "      <th>2</th>\n",
       "      <td>45422</td>\n",
       "      <td>2019-02-12 04:40:51</td>\n",
       "      <td>&lt;python&gt;&lt;ibm-watson&gt;&lt;chatbot&gt;</td>\n",
       "    </tr>\n",
       "    <tr>\n",
       "      <th>3</th>\n",
       "      <td>45426</td>\n",
       "      <td>2019-02-12 04:51:49</td>\n",
       "      <td>&lt;keras&gt;</td>\n",
       "    </tr>\n",
       "    <tr>\n",
       "      <th>4</th>\n",
       "      <td>45427</td>\n",
       "      <td>2019-02-12 05:08:24</td>\n",
       "      <td>&lt;r&gt;&lt;predictive-modeling&gt;&lt;machine-learning-mode...</td>\n",
       "    </tr>\n",
       "  </tbody>\n",
       "</table>\n",
       "</div>"
      ],
      "text/plain": [
       "      Id         CreationDate  \\\n",
       "0  45416  2019-02-12 00:36:29   \n",
       "1  45418  2019-02-12 00:50:39   \n",
       "2  45422  2019-02-12 04:40:51   \n",
       "3  45426  2019-02-12 04:51:49   \n",
       "4  45427  2019-02-12 05:08:24   \n",
       "\n",
       "                                                Tags  \n",
       "0      <python><keras><tensorflow><cnn><probability>  \n",
       "1                                   <neural-network>  \n",
       "2                      <python><ibm-watson><chatbot>  \n",
       "3                                            <keras>  \n",
       "4  <r><predictive-modeling><machine-learning-mode...  "
      ]
     },
     "execution_count": 88,
     "metadata": {},
     "output_type": "execute_result"
    }
   ],
   "source": [
    "all_questions = pd.read_csv('all_questions.csv')\n",
    "all_questions.head()"
   ]
  },
  {
   "cell_type": "code",
   "execution_count": 89,
   "metadata": {},
   "outputs": [
    {
     "data": {
      "text/html": [
       "<div>\n",
       "<style scoped>\n",
       "    .dataframe tbody tr th:only-of-type {\n",
       "        vertical-align: middle;\n",
       "    }\n",
       "\n",
       "    .dataframe tbody tr th {\n",
       "        vertical-align: top;\n",
       "    }\n",
       "\n",
       "    .dataframe thead th {\n",
       "        text-align: right;\n",
       "    }\n",
       "</style>\n",
       "<table border=\"1\" class=\"dataframe\">\n",
       "  <thead>\n",
       "    <tr style=\"text-align: right;\">\n",
       "      <th></th>\n",
       "      <th>Id</th>\n",
       "      <th>CreationDate</th>\n",
       "      <th>Tags</th>\n",
       "    </tr>\n",
       "  </thead>\n",
       "  <tbody>\n",
       "    <tr>\n",
       "      <th>21571</th>\n",
       "      <td>36971</td>\n",
       "      <td>2018-08-15 14:19:01</td>\n",
       "      <td>&lt;statistics&gt;&lt;data&gt;</td>\n",
       "    </tr>\n",
       "    <tr>\n",
       "      <th>21572</th>\n",
       "      <td>36974</td>\n",
       "      <td>2018-08-15 14:40:27</td>\n",
       "      <td>&lt;machine-learning&gt;&lt;neural-network&gt;&lt;classifier&gt;</td>\n",
       "    </tr>\n",
       "    <tr>\n",
       "      <th>21573</th>\n",
       "      <td>36975</td>\n",
       "      <td>2018-08-15 14:53:43</td>\n",
       "      <td>&lt;machine-learning&gt;&lt;classification&gt;</td>\n",
       "    </tr>\n",
       "    <tr>\n",
       "      <th>21574</th>\n",
       "      <td>36979</td>\n",
       "      <td>2018-08-14 19:31:43</td>\n",
       "      <td>&lt;tensorflow&gt;&lt;python&gt;</td>\n",
       "    </tr>\n",
       "    <tr>\n",
       "      <th>21575</th>\n",
       "      <td>36985</td>\n",
       "      <td>2018-08-15 17:01:29</td>\n",
       "      <td>&lt;python&gt;&lt;deep-learning&gt;&lt;tensorflow&gt;</td>\n",
       "    </tr>\n",
       "  </tbody>\n",
       "</table>\n",
       "</div>"
      ],
      "text/plain": [
       "          Id         CreationDate  \\\n",
       "21571  36971  2018-08-15 14:19:01   \n",
       "21572  36974  2018-08-15 14:40:27   \n",
       "21573  36975  2018-08-15 14:53:43   \n",
       "21574  36979  2018-08-14 19:31:43   \n",
       "21575  36985  2018-08-15 17:01:29   \n",
       "\n",
       "                                                 Tags  \n",
       "21571                              <statistics><data>  \n",
       "21572  <machine-learning><neural-network><classifier>  \n",
       "21573              <machine-learning><classification>  \n",
       "21574                            <tensorflow><python>  \n",
       "21575             <python><deep-learning><tensorflow>  "
      ]
     },
     "execution_count": 89,
     "metadata": {},
     "output_type": "execute_result"
    }
   ],
   "source": [
    "all_questions.tail()"
   ]
  },
  {
   "cell_type": "code",
   "execution_count": null,
   "metadata": {},
   "outputs": [],
   "source": []
  },
  {
   "cell_type": "code",
   "execution_count": 90,
   "metadata": {},
   "outputs": [
    {
     "name": "stderr",
     "output_type": "stream",
     "text": [
      "<ipython-input-90-e20fe8a25c35>:3: FutureWarning: The default value of regex will change from True to False in a future version.\n",
      "  all_questions['Tags'] = all_questions['Tags'].str.replace(\"^<|>$\", \"\").str.split(\"><\")\n"
     ]
    }
   ],
   "source": [
    "# change the Tags column to a list, as before\n",
    "\n",
    "all_questions['Tags'] = all_questions['Tags'].str.replace(\"^<|>$\", \"\").str.split(\"><\")"
   ]
  },
  {
   "cell_type": "code",
   "execution_count": 91,
   "metadata": {},
   "outputs": [
    {
     "name": "stdout",
     "output_type": "stream",
     "text": [
      "<class 'pandas.core.frame.DataFrame'>\n",
      "RangeIndex: 21576 entries, 0 to 21575\n",
      "Data columns (total 3 columns):\n",
      " #   Column        Non-Null Count  Dtype         \n",
      "---  ------        --------------  -----         \n",
      " 0   Id            21576 non-null  int64         \n",
      " 1   CreationDate  21576 non-null  datetime64[ns]\n",
      " 2   Tags          21576 non-null  object        \n",
      "dtypes: datetime64[ns](1), int64(1), object(1)\n",
      "memory usage: 505.8+ KB\n"
     ]
    }
   ],
   "source": [
    "all_questions['CreationDate'] = pd.to_datetime(all_questions['CreationDate'])\n",
    "all_questions.info()"
   ]
  },
  {
   "cell_type": "code",
   "execution_count": 92,
   "metadata": {},
   "outputs": [
    {
     "name": "stdout",
     "output_type": "stream",
     "text": [
      "Min:  2014\n",
      "Max:  2020\n"
     ]
    }
   ],
   "source": [
    "# find range of creation dates\n",
    "\n",
    "print('Min: ', all_questions['CreationDate'].dt.year.min())\n",
    "print('Max: ', all_questions['CreationDate'].dt.year.max())"
   ]
  },
  {
   "cell_type": "code",
   "execution_count": 93,
   "metadata": {},
   "outputs": [],
   "source": [
    "# let's start by grouping by year\n",
    "\n",
    "\n",
    "year_popularity = all_questions['CreationDate'].groupby(by=all_questions['CreationDate'].dt.year).size()\n"
   ]
  },
  {
   "cell_type": "code",
   "execution_count": 94,
   "metadata": {},
   "outputs": [
    {
     "data": {
      "text/plain": [
       "CreationDate\n",
       "2014     562\n",
       "2015    1167\n",
       "2016    2146\n",
       "2017    2957\n",
       "2018    5475\n",
       "Name: CreationDate, dtype: int64"
      ]
     },
     "execution_count": 94,
     "metadata": {},
     "output_type": "execute_result"
    }
   ],
   "source": [
    "year_popularity.head()"
   ]
  },
  {
   "cell_type": "code",
   "execution_count": 95,
   "metadata": {},
   "outputs": [
    {
     "data": {
      "image/png": "[encoded data removed]",
      "text/plain": [
       "<Figure size 1152x648 with 1 Axes>"
      ]
     },
     "metadata": {
      "needs_background": "light"
     },
     "output_type": "display_data"
    }
   ],
   "source": [
    "plt.figure(figsize=(16,9))\n",
    "sns.lineplot(x=year_popularity.index,y=year_popularity,color='lightcoral',linewidth=10)\n",
    "plt.scatter(2020,459,marker='x', s=200,c='black',zorder=3)\n",
    "plt.xticks(fontsize=16)\n",
    "plt.yticks(fontsize=16)\n",
    "plt.xlabel('Year',fontsize=16)\n",
    "plt.ylabel('Number of Questions',fontsize=16)\n",
    "plt.title('Number of Questions about Deep Learning Over Time', fontsize=16)\n",
    "\n",
    "plt.show()"
   ]
  },
  {
   "cell_type": "markdown",
   "metadata": {},
   "source": [
    "We see that since 2014 (the first year of this dataset), the number of questions related to deep learning increased quickly through 2019. However, there is a drop in 2020. Before we draw any conclusions from this, let's see how much of the year 2020 is included in the dataset."
   ]
  },
  {
   "cell_type": "code",
   "execution_count": 96,
   "metadata": {},
   "outputs": [
    {
     "data": {
      "text/plain": [
       "CreationDate\n",
       "1    459\n",
       "Name: CreationDate, dtype: int64"
      ]
     },
     "execution_count": 96,
     "metadata": {},
     "output_type": "execute_result"
    }
   ],
   "source": [
    "# select only year 2020 questions\n",
    "year2020 = all_questions[all_questions['CreationDate'].dt.year == 2020]\n",
    "\n",
    "#year2020.shape\n",
    "\n",
    "year2020_bymonth = year2020['CreationDate'].groupby(by=year2020['CreationDate'].dt.month).size()\n",
    "\n",
    "year2020_bymonth.head(12)"
   ]
  },
  {
   "cell_type": "markdown",
   "metadata": {},
   "source": [
    "So we see that that dataset ends in the first month of 2020. So we would not attribute the dip in the above graph to anything."
   ]
  },
  {
   "cell_type": "code",
   "execution_count": null,
   "metadata": {},
   "outputs": [],
   "source": []
  },
  {
   "cell_type": "code",
   "execution_count": null,
   "metadata": {},
   "outputs": [],
   "source": []
  }
 ],
 "metadata": {
  "kernelspec": {
   "display_name": "Python 3",
   "language": "python",
   "name": "python3"
  },
  "language_info": {
   "codemirror_mode": {
    "name": "ipython",
    "version": 3
   },
   "file_extension": ".py",
   "mimetype": "text/x-python",
   "name": "python",
   "nbconvert_exporter": "python",
   "pygments_lexer": "ipython3",
   "version": "3.8.8"
  }
 },
 "nbformat": 4,
 "nbformat_minor": 2
}
